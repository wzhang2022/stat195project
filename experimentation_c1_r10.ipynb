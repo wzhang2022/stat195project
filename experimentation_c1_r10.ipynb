{
 "cells": [
  {
   "cell_type": "code",
   "execution_count": 1,
   "metadata": {
    "colab": {
     "base_uri": "https://localhost:8080/"
    },
    "id": "r2fBipelTEPP",
    "outputId": "a9067adf-077f-4b54-c275-414cbac818ba"
   },
   "outputs": [],
   "source": [
    "# from google.colab import drive\n",
    "# import os\n",
    "# drive.mount('/content/drive')\n",
    "# os.chdir('/content/drive/My Drive/2022/classes/stat195/stat195project')\n",
    "# print(os.getcwd())"
   ]
  },
  {
   "cell_type": "code",
   "execution_count": 2,
   "metadata": {
    "id": "nE1yKZ-ITWyQ"
   },
   "outputs": [],
   "source": [
    "# %%capture\n",
    "# !pip install lassonet\n",
    "# !pip install einops"
   ]
  },
  {
   "cell_type": "code",
   "execution_count": 3,
   "metadata": {
    "id": "D93zr3CVTNZB"
   },
   "outputs": [],
   "source": [
    "import numpy as np\n",
    "import seaborn as sns\n",
    "import matplotlib.pyplot as plt\n",
    "import pandas as pd\n",
    "import sys\n",
    "import torch\n",
    "import matplotlib.pyplot as plt\n",
    "\n",
    "sys.path.append(\"aav/util\")\n",
    "sys.path.append(\"aav/stat195_pytorch_work\")\n",
    "\n",
    "from lassonet import LassoNetClassifier\n",
    "\n",
    "from residue_encoding import ResidueIdentityEncoder\n",
    "from mutation_encoding import MutationSequenceEncoder\n",
    "from torch_cnn_lassonet import *\n",
    "from train import *\n",
    "\n",
    "from sklearn.metrics import accuracy_score\n",
    "from sklearn.linear_model import LogisticRegression\n",
    "from sklearn.model_selection import train_test_split\n",
    "\n",
    "from tqdm.auto import tqdm\n",
    "import pickle"
   ]
  },
  {
   "cell_type": "markdown",
   "metadata": {
    "id": "YKGYShcnVZA7"
   },
   "source": [
    "# Data"
   ]
  },
  {
   "cell_type": "markdown",
   "metadata": {
    "id": "4gqMtLqxZWTC"
   },
   "source": [
    "## Examine Dataset"
   ]
  },
  {
   "cell_type": "code",
   "execution_count": 4,
   "metadata": {
    "colab": {
     "base_uri": "https://localhost:8080/",
     "height": 206
    },
    "id": "feetga7vVYuu",
    "outputId": "2c782e18-f171-47a0-edba-1cbd1a0d79e9"
   },
   "outputs": [
    {
     "data": {
      "text/html": [
       "<div>\n",
       "<style scoped>\n",
       "    .dataframe tbody tr th:only-of-type {\n",
       "        vertical-align: middle;\n",
       "    }\n",
       "\n",
       "    .dataframe tbody tr th {\n",
       "        vertical-align: top;\n",
       "    }\n",
       "\n",
       "    .dataframe thead th {\n",
       "        text-align: right;\n",
       "    }\n",
       "</style>\n",
       "<table border=\"1\" class=\"dataframe\">\n",
       "  <thead>\n",
       "    <tr style=\"text-align: right;\">\n",
       "      <th></th>\n",
       "      <th>sequence</th>\n",
       "      <th>partition</th>\n",
       "      <th>mutation_sequence</th>\n",
       "      <th>num_mutations</th>\n",
       "      <th>num_edits</th>\n",
       "      <th>viral_selection</th>\n",
       "      <th>is_viable</th>\n",
       "    </tr>\n",
       "  </thead>\n",
       "  <tbody>\n",
       "    <tr>\n",
       "      <th>0</th>\n",
       "      <td>ADEEIRATNPIATEMYGSVSTNLQLGNR</td>\n",
       "      <td>designed</td>\n",
       "      <td>AD____A___I___M_________L___</td>\n",
       "      <td>6</td>\n",
       "      <td>6</td>\n",
       "      <td>-2.027259</td>\n",
       "      <td>False</td>\n",
       "    </tr>\n",
       "    <tr>\n",
       "      <th>1</th>\n",
       "      <td>ADEEIRATNPVATEQYGSVSTNQQRQNR</td>\n",
       "      <td>designed</td>\n",
       "      <td>AD____A_______________Q__Q__</td>\n",
       "      <td>5</td>\n",
       "      <td>5</td>\n",
       "      <td>-0.429554</td>\n",
       "      <td>True</td>\n",
       "    </tr>\n",
       "    <tr>\n",
       "      <th>2</th>\n",
       "      <td>ADEEIRTTNPVATEQWGGVSTNLQIGNY</td>\n",
       "      <td>designed</td>\n",
       "      <td>AD_____________W_G______I__Y</td>\n",
       "      <td>6</td>\n",
       "      <td>6</td>\n",
       "      <td>-0.527843</td>\n",
       "      <td>True</td>\n",
       "    </tr>\n",
       "    <tr>\n",
       "      <th>3</th>\n",
       "      <td>ADEEIRTTNPVATEQYGEVSTNLQRGNR</td>\n",
       "      <td>designed</td>\n",
       "      <td>AD_______________E__________</td>\n",
       "      <td>3</td>\n",
       "      <td>3</td>\n",
       "      <td>2.887908</td>\n",
       "      <td>True</td>\n",
       "    </tr>\n",
       "    <tr>\n",
       "      <th>4</th>\n",
       "      <td>ADEEIRTTNPVATEQYGSVSTNLQRGNR</td>\n",
       "      <td>designed</td>\n",
       "      <td>AD__________________________</td>\n",
       "      <td>2</td>\n",
       "      <td>2</td>\n",
       "      <td>0.575730</td>\n",
       "      <td>True</td>\n",
       "    </tr>\n",
       "  </tbody>\n",
       "</table>\n",
       "</div>"
      ],
      "text/plain": [
       "                       sequence partition             mutation_sequence  \\\n",
       "0  ADEEIRATNPIATEMYGSVSTNLQLGNR  designed  AD____A___I___M_________L___   \n",
       "1  ADEEIRATNPVATEQYGSVSTNQQRQNR  designed  AD____A_______________Q__Q__   \n",
       "2  ADEEIRTTNPVATEQWGGVSTNLQIGNY  designed  AD_____________W_G______I__Y   \n",
       "3  ADEEIRTTNPVATEQYGEVSTNLQRGNR  designed  AD_______________E__________   \n",
       "4  ADEEIRTTNPVATEQYGSVSTNLQRGNR  designed  AD__________________________   \n",
       "\n",
       "   num_mutations  num_edits  viral_selection  is_viable  \n",
       "0              6          6        -2.027259      False  \n",
       "1              5          5        -0.429554       True  \n",
       "2              6          6        -0.527843       True  \n",
       "3              3          3         2.887908       True  \n",
       "4              2          2         0.575730       True  "
      ]
     },
     "execution_count": 4,
     "metadata": {},
     "output_type": "execute_result"
    }
   ],
   "source": [
    "df = pd.read_csv(\"stat_195_project_data.csv\")\n",
    "df.head()"
   ]
  },
  {
   "cell_type": "code",
   "execution_count": 5,
   "metadata": {
    "colab": {
     "base_uri": "https://localhost:8080/"
    },
    "id": "aT8UFR5mVcsn",
    "outputId": "3cc68a0d-0510-4cba-bc6b-d55a8b958491"
   },
   "outputs": [
    {
     "data": {
      "text/plain": [
       "['cnn_designed_plus_rand_train_seed',\n",
       " 'cnn_designed_plus_rand_train_walked',\n",
       " 'cnn_rand_doubles_plus_single_seed',\n",
       " 'cnn_rand_doubles_plus_single_walked',\n",
       " 'cnn_standard_seed',\n",
       " 'cnn_standard_walked',\n",
       " 'designed',\n",
       " 'lr_designed_plus_rand_train_seed',\n",
       " 'lr_designed_plus_rand_train_walked',\n",
       " 'lr_rand_doubles_plus_single_seed',\n",
       " 'lr_rand_doubles_plus_single_walked',\n",
       " 'lr_standard_seed',\n",
       " 'lr_standard_walked',\n",
       " 'previous_chip_nonviable',\n",
       " 'previous_chip_viable',\n",
       " 'rand',\n",
       " 'random_doubles',\n",
       " 'rnn_designed_plus_rand_train_seed',\n",
       " 'rnn_designed_plus_rand_train_walked',\n",
       " 'rnn_rand_doubles_plus_singles_seed',\n",
       " 'rnn_rand_doubles_plus_singles_walked',\n",
       " 'rnn_standard_seed',\n",
       " 'rnn_standard_walked',\n",
       " 'single',\n",
       " 'singles',\n",
       " 'stop',\n",
       " 'wild_type']"
      ]
     },
     "execution_count": 5,
     "metadata": {},
     "output_type": "execute_result"
    }
   ],
   "source": [
    "# print unique partitions\n",
    "sorted(df[\"partition\"].unique())"
   ]
  },
  {
   "cell_type": "code",
   "execution_count": 6,
   "metadata": {
    "colab": {
     "base_uri": "https://localhost:8080/"
    },
    "id": "Kp-02iO0VjbR",
    "outputId": "1e47ab60-84ba-4661-97a9-b60785cdc178"
   },
   "outputs": [
    {
     "data": {
      "text/plain": [
       "56372"
      ]
     },
     "execution_count": 6,
     "metadata": {},
     "output_type": "execute_result"
    }
   ],
   "source": [
    "len(df[df[\"partition\"] == \"designed\"]) # additive model A_39 (complete)"
   ]
  },
  {
   "cell_type": "code",
   "execution_count": 7,
   "metadata": {
    "colab": {
     "base_uri": "https://localhost:8080/"
    },
    "id": "HBXn3a5JVqd4",
    "outputId": "30a7077d-1913-4e01-d9db-64aac286b729"
   },
   "outputs": [
    {
     "data": {
      "text/plain": [
       "1112"
      ]
     },
     "execution_count": 7,
     "metadata": {},
     "output_type": "execute_result"
    }
   ],
   "source": [
    "len(df[df[\"partition\"] == \"single\"]) # complete singles C_1 (complete)"
   ]
  },
  {
   "cell_type": "code",
   "execution_count": 8,
   "metadata": {
    "colab": {
     "base_uri": "https://localhost:8080/"
    },
    "id": "JPSWYqS5ZAZM",
    "outputId": "ad29f1a9-3f7f-47c6-fb6d-6a00d71c5efa"
   },
   "outputs": [
    {
     "data": {
      "text/plain": [
       "25040"
      ]
     },
     "execution_count": 8,
     "metadata": {},
     "output_type": "execute_result"
    }
   ],
   "source": [
    "len(df[df[\"partition\"] == \"random_doubles\"]) # superset of R_2, which has n=1756 data points"
   ]
  },
  {
   "cell_type": "code",
   "execution_count": 9,
   "metadata": {
    "colab": {
     "base_uri": "https://localhost:8080/"
    },
    "id": "oIG--OBXV2ac",
    "outputId": "2419a4f9-355f-4b60-9b01-6b1331799289"
   },
   "outputs": [
    {
     "data": {
      "text/plain": [
       "9885"
      ]
     },
     "execution_count": 9,
     "metadata": {},
     "output_type": "execute_result"
    }
   ],
   "source": [
    "len(df[df[\"partition\"] == \"rand\"]) # R_10 + validation dataset \n",
    "# R_10 has 7908 randomly generated mutants (2-10 mutations)\n",
    "# validation dataset has 1977 mutants"
   ]
  },
  {
   "cell_type": "code",
   "execution_count": 10,
   "metadata": {
    "colab": {
     "base_uri": "https://localhost:8080/"
    },
    "id": "Aw7D63NiXhz0",
    "outputId": "99408852-0043-4d96-893c-f2de096ff0c6"
   },
   "outputs": [
    {
     "name": "stdout",
     "output_type": "stream",
     "text": [
      "number of mutations: 2\n",
      "1756\n",
      "number of mutations: 3\n",
      "1751\n",
      "number of mutations: 4\n",
      "1745\n",
      "number of mutations: 5\n",
      "1745\n",
      "number of mutations: 6\n",
      "1732\n",
      "number of mutations: 7\n",
      "288\n",
      "number of mutations: 8\n",
      "289\n",
      "number of mutations: 9\n",
      "290\n",
      "number of mutations: 10\n",
      "289\n"
     ]
    }
   ],
   "source": [
    "for num_mutations in range(2, 11):\n",
    "    print(\"number of mutations:\", num_mutations)\n",
    "    print(len(df[(df[\"partition\"] == \"rand\") & (df[\"num_mutations\"] == num_mutations)]))"
   ]
  },
  {
   "cell_type": "markdown",
   "metadata": {
    "id": "hkAIY2AHTiyH"
   },
   "source": [
    "## Define datasets\n",
    "- $C_1 + R_2$ dataset\n",
    "- $C_1 + R_{10}$ dataset\n",
    "- $R_{10} + A_{39}$ dataset\n",
    "- holdout 1977 random multiples"
   ]
  },
  {
   "cell_type": "code",
   "execution_count": 11,
   "metadata": {
    "colab": {
     "base_uri": "https://localhost:8080/"
    },
    "id": "qS1rUD4_Zpeu",
    "outputId": "6fb47d14-592a-4981-acfa-e2a94e814974"
   },
   "outputs": [
    {
     "name": "stdout",
     "output_type": "stream",
     "text": [
      "number of mutations: 2\n",
      "323\n",
      "number of mutations: 3\n",
      "319\n",
      "number of mutations: 4\n",
      "359\n",
      "number of mutations: 5\n",
      "373\n",
      "number of mutations: 6\n",
      "366\n",
      "number of mutations: 7\n",
      "54\n",
      "number of mutations: 8\n",
      "59\n",
      "number of mutations: 9\n",
      "57\n",
      "number of mutations: 10\n",
      "67\n"
     ]
    }
   ],
   "source": [
    "# create validation dataset and r10 dataset\n",
    "r10_plus_val = df[df[\"partition\"] == \"rand\"]\n",
    "val_df = r10_plus_val.sample(n=1977, replace=False, random_state=195)\n",
    "r10 = r10_plus_val.drop(val_df.index)\n",
    "\n",
    "for num_mutations in range(2, 11):\n",
    "    print(\"number of mutations:\", num_mutations)\n",
    "    print(len(val_df[val_df[\"num_mutations\"] == num_mutations]))"
   ]
  },
  {
   "cell_type": "code",
   "execution_count": 12,
   "metadata": {
    "id": "SMA2BJxwbHIH"
   },
   "outputs": [],
   "source": [
    "# create r2 dataset\n",
    "r2 = df[df[\"partition\"] == \"rand\"].sample(n=1756, replace=False, random_state=195)"
   ]
  },
  {
   "cell_type": "code",
   "execution_count": 13,
   "metadata": {
    "id": "HE1RAGeKbZTI"
   },
   "outputs": [],
   "source": [
    "c1 = df[df[\"partition\"] == \"single\"]"
   ]
  },
  {
   "cell_type": "code",
   "execution_count": 14,
   "metadata": {
    "id": "Div5kvLCbdt8"
   },
   "outputs": [],
   "source": [
    "a39 = df[df[\"partition\"] == \"designed\"]"
   ]
  },
  {
   "cell_type": "code",
   "execution_count": 15,
   "metadata": {
    "colab": {
     "base_uri": "https://localhost:8080/"
    },
    "id": "5QgsvbdJbOX7",
    "outputId": "9866f629-e2fe-465e-bc41-269c9628df1f"
   },
   "outputs": [
    {
     "name": "stdout",
     "output_type": "stream",
     "text": [
      "C1+R2 size: 2868\n",
      "C1+R10 size: 9020\n",
      "R10+A39 size: 64280\n"
     ]
    }
   ],
   "source": [
    "# create train datasets\n",
    "c1_r2 = pd.concat([c1, r2]).reset_index()\n",
    "print(f\"C1+R2 size: {len(c1_r2)}\")\n",
    "\n",
    "c1_r10 = pd.concat([c1, r10]).reset_index()\n",
    "print(f\"C1+R10 size: {len(c1_r10)}\")\n",
    "\n",
    "r10_a39 = pd.concat([r10, a39]).reset_index()\n",
    "print(f\"R10+A39 size: {len(r10_a39)}\")"
   ]
  },
  {
   "cell_type": "code",
   "execution_count": 16,
   "metadata": {
    "id": "MwkbGAi0Ksfg"
   },
   "outputs": [],
   "source": [
    "# 3 different training datasets (to ensure no overlap)\n",
    "df_c1_r2 = df[df['partition'] != 'stop'].drop(c1.index).drop(r2.index).reset_index()\n",
    "df_c1_r10 = df[df['partition'] != 'stop'].drop(c1.index).drop(r10.index).reset_index()\n",
    "df_r10_a39 = df[df['partition'] != 'stop'].drop(r10.index).drop(a39.index).reset_index()"
   ]
  },
  {
   "cell_type": "code",
   "execution_count": 17,
   "metadata": {
    "colab": {
     "base_uri": "https://localhost:8080/"
    },
    "id": "H-OJ_e2rLXrC",
    "outputId": "c3d97c38-b972-40ea-e822-9a6969b58eef"
   },
   "outputs": [
    {
     "name": "stdout",
     "output_type": "stream",
     "text": [
      "Validation size: 1977\n"
     ]
    }
   ],
   "source": [
    "val_df.reset_index(inplace=True)\n",
    "print(f\"Validation size: {len(val_df)}\")"
   ]
  },
  {
   "cell_type": "code",
   "execution_count": 18,
   "metadata": {
    "colab": {
     "base_uri": "https://localhost:8080/"
    },
    "id": "DpZ5wU2mcXRw",
    "outputId": "125a8553-b827-4ea6-a1da-3e66a9a95866"
   },
   "outputs": [
    {
     "name": "stdout",
     "output_type": "stream",
     "text": [
      "(58, 20)\n"
     ]
    }
   ],
   "source": [
    "# The canonical single-letter code residue alphabet.\n",
    "RESIDUES = tuple('ACDEFGHIKLMNPQRSTVWY')\n",
    "\n",
    "# The AAV serotype 2 wild type subsequence corresponding to positions 561 to 588\n",
    "R1_TILE21_WT_SEQ = 'DEEEIRTTNPVATEQYGSVSTNLQRGNR'\n",
    "\n",
    "res_encoder = ResidueIdentityEncoder(alphabet=RESIDUES)\n",
    "mut_encoder = MutationSequenceEncoder(res_encoder, R1_TILE21_WT_SEQ)\n",
    "\n",
    "WT_ENCODED = mut_encoder.encode(R1_TILE21_WT_SEQ).reshape(-1, 20)\n",
    "print(WT_ENCODED.shape)"
   ]
  },
  {
   "cell_type": "markdown",
   "metadata": {
    "id": "CeCnk5lLUGNQ"
   },
   "source": [
    "# Train LassoNet Model"
   ]
  },
  {
   "cell_type": "code",
   "execution_count": 19,
   "metadata": {
    "id": "RGE0HQ38jbV8"
   },
   "outputs": [],
   "source": [
    "NUM_MODELS = 3 # number of models per ensemble"
   ]
  },
  {
   "cell_type": "code",
   "execution_count": 20,
   "metadata": {
    "id": "b1Dkri6bM6xH"
   },
   "outputs": [],
   "source": [
    "# define validation data\n",
    "X_val = []\n",
    "for i in range(len(val_df)):\n",
    "    X_val.append(mut_encoder.encode(val_df[\"sequence\"][i]))\n",
    "X_val = np.array(X_val)\n",
    "X_val = X_val.reshape(len(X_val), -1)\n",
    "y_val = val_df[\"is_viable\"].to_numpy().astype(int)"
   ]
  },
  {
   "cell_type": "code",
   "execution_count": 21,
   "metadata": {
    "id": "skpAoazUc-ad"
   },
   "outputs": [],
   "source": [
    "def plot_metrics(models, paths):\n",
    "    \"\"\"\n",
    "    models - ensemble of LassoNet models\n",
    "    paths - list of path objects, each of which contains model parameters for a single LassoNet model\n",
    "    \"\"\"\n",
    "    n = len(models)\n",
    "\n",
    "    all_n_selected = [[] for _ in range(n)]\n",
    "    all_accuracy = [[] for _ in range(n)]\n",
    "    all_lambda_ = [[] for _ in range(n)]\n",
    "\n",
    "    for i in range(n):\n",
    "        n_selected = []\n",
    "        accuracy = []\n",
    "        lambda_ = []\n",
    "\n",
    "        for save in paths[i]:\n",
    "            models[i].load(save.state_dict)\n",
    "            y_pred = models[i].predict(X_val)\n",
    "            n_selected.append(save.selected.sum())\n",
    "            accuracy.append(accuracy_score(y_val, y_pred))\n",
    "            lambda_.append(save.lambda_)    \n",
    "\n",
    "        all_n_selected[i] = n_selected\n",
    "        all_accuracy[i] = accuracy\n",
    "        all_lambda_[i] = lambda_\n",
    "\n",
    "    fig = plt.figure(figsize=(12, 12))\n",
    "\n",
    "    plt.subplot(311)\n",
    "    plt.grid(True)\n",
    "    for i in range(n):\n",
    "        plt.plot(all_n_selected[i], all_accuracy[i], \".-\")\n",
    "    plt.xlabel(\"number of selected features\")\n",
    "    plt.ylabel(\"classification accuracy\")\n",
    "\n",
    "    plt.subplot(312)\n",
    "    plt.grid(True)\n",
    "    for i in range(n):\n",
    "        plt.plot(all_lambda_[i], all_accuracy[i], \".-\")\n",
    "    plt.xlabel(\"lambda\")\n",
    "    plt.xscale(\"log\")\n",
    "    plt.ylabel(\"classification accuracy\")\n",
    "\n",
    "    plt.subplot(313)\n",
    "    plt.grid(True)\n",
    "    for i in range(n):\n",
    "        plt.plot(all_lambda_[i], all_n_selected[i], \".-\")\n",
    "    plt.xlabel(\"lambda\")\n",
    "    plt.xscale(\"log\")\n",
    "    plt.ylabel(\"number of selected features\")\n",
    "    plt.savefig(\"c1_r10_lassonet.png\")\n",
    "    plt.show()\n",
    "\n",
    "    return all_n_selected, all_accuracy, all_lambda_\n",
    "\n",
    "\n",
    "def train_lassonet(data, name, load_models=True):\n",
    "    X_train = []\n",
    "    for i in range(len(data)):\n",
    "        X_train.append(mut_encoder.encode(data[\"sequence\"][i]))\n",
    "    y_train = data[\"is_viable\"].to_numpy().astype(int)\n",
    "    X_train = np.array(X_train)\n",
    "\n",
    "    X_train = X_train.reshape(len(X_train), -1)\n",
    "\n",
    "    # define ensemble of models\n",
    "    models = [None]*NUM_MODELS\n",
    "\n",
    "    # attempt to load first, skip training if we already have the weights\n",
    "    if load_models:\n",
    "        with open(f\"{name}_paths.pkl\", \"rb\") as file:\n",
    "            paths = pickle.load(file)\n",
    "    else:\n",
    "        paths = [None]*NUM_MODELS\n",
    "\n",
    "    # train models\n",
    "    for i in tqdm(range(NUM_MODELS)):\n",
    "        models[i] = LassoNetClassifier(M=30, hidden_dims=(1,))\n",
    "        if not load_models:\n",
    "            paths[i] = models[i].path(X_train, y_train, X_val=X_val, y_val=y_val)\n",
    "\n",
    "    with open(f\"{name}_paths.pkl\", \"wb\") as file:\n",
    "        pickle.dump(paths, file)\n",
    "\n",
    "    return models, paths"
   ]
  },
  {
   "cell_type": "code",
   "execution_count": 22,
   "metadata": {
    "colab": {
     "base_uri": "https://localhost:8080/",
     "height": 1000,
     "referenced_widgets": [
      "172c16ce433f4f40bee2b9e8c8a0fcca",
      "934d07e2ae6342889f507f44bdc87dd1",
      "e445ca6065dc4fdbbbfb81af14d86823",
      "924aee5763a44fd1a6f0b86d9623158d",
      "97ef6b5012f74b109e3565add7232d5d",
      "8ca8b194806041c5a13897f99c3e536b",
      "a7730f526e71401dab03da601e297c55",
      "69d34e9b7c7340f69efab4dd8d3c312a",
      "6e55d6f800fc4120b0f57aba516d73c2",
      "5a30de4fb9cb40f39541659ae13ddbbd",
      "0ff753a821ae4e72a36c554eb2bb89ac"
     ]
    },
    "id": "RY9CjS-3NVii",
    "outputId": "413df30a-460f-4ba8-a221-eca54970e78e"
   },
   "outputs": [
    {
     "data": {
      "application/vnd.jupyter.widget-view+json": {
       "model_id": "f61954467b004a8e82b92ee2404788e7",
       "version_major": 2,
       "version_minor": 0
      },
      "text/plain": [
       "  0%|          | 0/3 [00:00<?, ?it/s]"
      ]
     },
     "metadata": {},
     "output_type": "display_data"
    },
    {
     "name": "stderr",
     "output_type": "stream",
     "text": [
      "\n",
      "0it [00:00, ?it/s]\u001b[A\n",
      "Iteration 0 - Lambda: 0.12094439566135406, selected_count: 1160: : 0it [00:00, ?it/s]\u001b[A\n",
      "Iteration 1 - Lambda: 0.12336328357458115, selected_count: 1160: : 0it [00:00, ?it/s]\u001b[A\n",
      "Iteration 2 - Lambda: 0.1258305492460728, selected_count: 1160: : 0it [00:00, ?it/s] \u001b[A\n",
      "Iteration 2 - Lambda: 0.1258305492460728, selected_count: 1160: : 3it [00:00, 23.08it/s]\u001b[A\n",
      "Iteration 3 - Lambda: 0.12834716023099424, selected_count: 1160: : 3it [00:00, 23.08it/s]\u001b[A\n",
      "Iteration 4 - Lambda: 0.13091410343561413, selected_count: 1160: : 3it [00:00, 23.08it/s]\u001b[A\n",
      "Iteration 5 - Lambda: 0.13353238550432642, selected_count: 1160: : 3it [00:00, 23.08it/s]\u001b[A\n",
      "Iteration 5 - Lambda: 0.13353238550432642, selected_count: 1160: : 6it [00:00, 22.57it/s]\u001b[A\n",
      "Iteration 6 - Lambda: 0.13620303321441296, selected_count: 1160: : 6it [00:00, 22.57it/s]\u001b[A\n",
      "Iteration 7 - Lambda: 0.13892709387870122, selected_count: 1160: : 6it [00:00, 22.57it/s]\u001b[A\n",
      "Iteration 8 - Lambda: 0.14170563575627526, selected_count: 1160: : 6it [00:00, 22.57it/s]\u001b[A\n",
      "Iteration 8 - Lambda: 0.14170563575627526, selected_count: 1160: : 9it [00:00, 22.80it/s]\u001b[A\n",
      "Iteration 9 - Lambda: 0.14453974847140078, selected_count: 1160: : 9it [00:00, 22.80it/s]\u001b[A\n",
      "Iteration 10 - Lambda: 0.1474305434408288, selected_count: 1160: : 9it [00:00, 22.80it/s]\u001b[A\n",
      "Iteration 11 - Lambda: 0.15037915430964535, selected_count: 1160: : 9it [00:00, 22.80it/s]\u001b[A\n",
      "Iteration 11 - Lambda: 0.15037915430964535, selected_count: 1160: : 12it [00:00, 23.26it/s]\u001b[A\n",
      "Iteration 12 - Lambda: 0.15338673739583827, selected_count: 1160: : 12it [00:00, 23.26it/s]\u001b[A\n",
      "Iteration 13 - Lambda: 0.15645447214375505, selected_count: 1160: : 12it [00:00, 23.26it/s]\u001b[A\n",
      "Iteration 14 - Lambda: 0.15958356158663015, selected_count: 1160: : 12it [00:00, 23.26it/s]\u001b[A\n",
      "Iteration 14 - Lambda: 0.15958356158663015, selected_count: 1160: : 15it [00:00, 22.62it/s]\u001b[A\n",
      "Iteration 15 - Lambda: 0.16277523281836276, selected_count: 1160: : 15it [00:00, 22.62it/s]\u001b[A\n",
      "Iteration 16 - Lambda: 0.16603073747473002, selected_count: 1160: : 15it [00:00, 22.62it/s]\u001b[A\n",
      "Iteration 17 - Lambda: 0.16935135222422462, selected_count: 1160: : 15it [00:00, 22.62it/s]\u001b[A\n",
      "Iteration 17 - Lambda: 0.16935135222422462, selected_count: 1160: : 18it [00:00, 22.84it/s]\u001b[A\n",
      "Iteration 18 - Lambda: 0.1727383792687091, selected_count: 1160: : 18it [00:00, 22.84it/s] \u001b[A\n",
      "Iteration 19 - Lambda: 0.1761931468540833, selected_count: 1160: : 18it [00:00, 22.84it/s]\u001b[A\n",
      "Iteration 20 - Lambda: 0.17971700979116498, selected_count: 1160: : 18it [00:00, 22.84it/s]\u001b[A\n",
      "Iteration 20 - Lambda: 0.17971700979116498, selected_count: 1160: : 21it [00:00, 22.74it/s]\u001b[A\n",
      "Iteration 21 - Lambda: 0.18331134998698828, selected_count: 1160: : 21it [00:00, 22.74it/s]\u001b[A\n",
      "Iteration 22 - Lambda: 0.18697757698672804, selected_count: 1160: : 21it [00:00, 22.74it/s]\u001b[A\n",
      "Iteration 23 - Lambda: 0.1907171285264626, selected_count: 1160: : 21it [00:01, 22.74it/s] \u001b[A\n",
      "Iteration 23 - Lambda: 0.1907171285264626, selected_count: 1160: : 24it [00:01, 22.63it/s]\u001b[A\n",
      "Iteration 24 - Lambda: 0.19453147109699187, selected_count: 1160: : 24it [00:01, 22.63it/s]\u001b[A\n",
      "Iteration 25 - Lambda: 0.19842210051893172, selected_count: 1159: : 24it [00:01, 22.63it/s]\u001b[A\n",
      "Iteration 26 - Lambda: 0.20239054252931035, selected_count: 1159: : 24it [00:01, 22.63it/s]\u001b[A\n",
      "Iteration 26 - Lambda: 0.20239054252931035, selected_count: 1159: : 27it [00:01, 22.66it/s]\u001b[A\n",
      "Iteration 27 - Lambda: 0.20643835337989655, selected_count: 1159: : 27it [00:01, 22.66it/s]\u001b[A\n",
      "Iteration 28 - Lambda: 0.21056712044749448, selected_count: 1159: : 27it [00:01, 22.66it/s]\u001b[A\n",
      "Iteration 29 - Lambda: 0.21477846285644436, selected_count: 1159: : 27it [00:01, 22.66it/s]\u001b[A\n",
      "Iteration 29 - Lambda: 0.21477846285644436, selected_count: 1159: : 30it [00:01, 22.68it/s]\u001b[A\n",
      "Iteration 30 - Lambda: 0.21907403211357326, selected_count: 1159: : 30it [00:01, 22.68it/s]\u001b[A\n",
      "Iteration 31 - Lambda: 0.22345551275584474, selected_count: 1158: : 30it [00:01, 22.68it/s]\u001b[A\n",
      "Iteration 32 - Lambda: 0.22792462301096164, selected_count: 1158: : 30it [00:01, 22.68it/s]\u001b[A\n",
      "Iteration 32 - Lambda: 0.22792462301096164, selected_count: 1158: : 33it [00:01, 23.07it/s]\u001b[A\n",
      "Iteration 33 - Lambda: 0.2324831154711809, selected_count: 1158: : 33it [00:01, 23.07it/s] \u001b[A\n",
      "Iteration 34 - Lambda: 0.23713277778060451, selected_count: 1158: : 33it [00:01, 23.07it/s]\u001b[A\n",
      "Iteration 35 - Lambda: 0.2418754333362166, selected_count: 1158: : 33it [00:01, 23.07it/s] \u001b[A\n",
      "Iteration 35 - Lambda: 0.2418754333362166, selected_count: 1158: : 36it [00:01, 23.23it/s]\u001b[A\n",
      "Iteration 36 - Lambda: 0.24671294200294094, selected_count: 1158: : 36it [00:01, 23.23it/s]\u001b[A\n",
      "Iteration 37 - Lambda: 0.25164720084299974, selected_count: 1158: : 36it [00:01, 23.23it/s]\u001b[A\n",
      "Iteration 38 - Lambda: 0.25668014485985974, selected_count: 1158: : 36it [00:01, 23.23it/s]\u001b[A\n",
      "Iteration 38 - Lambda: 0.25668014485985974, selected_count: 1158: : 39it [00:01, 23.19it/s]\u001b[A\n",
      "Iteration 39 - Lambda: 0.26181374775705696, selected_count: 1158: : 39it [00:01, 23.19it/s]\u001b[A\n",
      "Iteration 40 - Lambda: 0.2670500227121981, selected_count: 1158: : 39it [00:01, 23.19it/s] \u001b[A\n",
      "Iteration 41 - Lambda: 0.27239102316644204, selected_count: 1158: : 39it [00:01, 23.19it/s]\u001b[A\n",
      "Iteration 41 - Lambda: 0.27239102316644204, selected_count: 1158: : 42it [00:01, 22.99it/s]\u001b[A\n",
      "Iteration 42 - Lambda: 0.2778388436297709, selected_count: 1158: : 42it [00:01, 22.99it/s] \u001b[A\n",
      "Iteration 43 - Lambda: 0.28339562050236633, selected_count: 1158: : 42it [00:01, 22.99it/s]\u001b[A\n",
      "Iteration 44 - Lambda: 0.28906353291241366, selected_count: 1158: : 42it [00:01, 22.99it/s]\u001b[A\n",
      "Iteration 44 - Lambda: 0.28906353291241366, selected_count: 1158: : 45it [00:01, 23.12it/s]\u001b[A\n",
      "Iteration 45 - Lambda: 0.29484480357066195, selected_count: 1158: : 45it [00:01, 23.12it/s]\u001b[A\n",
      "Iteration 46 - Lambda: 0.3007416996420752, selected_count: 1157: : 45it [00:02, 23.12it/s] \u001b[A\n",
      "Iteration 47 - Lambda: 0.30675653363491673, selected_count: 1157: : 45it [00:02, 23.12it/s]\u001b[A\n",
      "Iteration 47 - Lambda: 0.30675653363491673, selected_count: 1157: : 48it [00:02, 23.27it/s]\u001b[A\n",
      "Iteration 48 - Lambda: 0.31289166430761506, selected_count: 1156: : 48it [00:02, 23.27it/s]\u001b[A\n",
      "Iteration 49 - Lambda: 0.3191494975937674, selected_count: 1156: : 48it [00:02, 23.27it/s] \u001b[A\n",
      "Iteration 50 - Lambda: 0.32553248754564273, selected_count: 1156: : 48it [00:02, 23.27it/s]\u001b[A\n",
      "Iteration 50 - Lambda: 0.32553248754564273, selected_count: 1156: : 51it [00:02, 23.21it/s]\u001b[A\n",
      "Iteration 51 - Lambda: 0.3320431372965556, selected_count: 1156: : 51it [00:02, 23.21it/s] \u001b[A\n",
      "Iteration 52 - Lambda: 0.3386840000424867, selected_count: 1156: : 51it [00:02, 23.21it/s]\u001b[A\n",
      "Iteration 53 - Lambda: 0.34545768004333643, selected_count: 1156: : 51it [00:02, 23.21it/s]\u001b[A\n",
      "Iteration 53 - Lambda: 0.34545768004333643, selected_count: 1156: : 54it [00:02, 23.23it/s]\u001b[A\n",
      "Iteration 54 - Lambda: 0.3523668336442032, selected_count: 1155: : 54it [00:02, 23.23it/s] \u001b[A\n",
      "Iteration 55 - Lambda: 0.3594141703170873, selected_count: 1155: : 54it [00:02, 23.23it/s]\u001b[A\n",
      "Iteration 56 - Lambda: 0.36660245372342903, selected_count: 1155: : 54it [00:02, 23.23it/s]\u001b[A\n",
      "Iteration 56 - Lambda: 0.36660245372342903, selected_count: 1155: : 57it [00:02, 23.02it/s]\u001b[A\n",
      "Iteration 57 - Lambda: 0.37393450279789764, selected_count: 1155: : 57it [00:02, 23.02it/s]\u001b[A\n",
      "Iteration 58 - Lambda: 0.3814131928538556, selected_count: 1155: : 57it [00:02, 23.02it/s] \u001b[A\n",
      "Iteration 59 - Lambda: 0.3890414567109327, selected_count: 1155: : 57it [00:02, 23.02it/s]\u001b[A\n",
      "Iteration 59 - Lambda: 0.3890414567109327, selected_count: 1155: : 60it [00:02, 22.88it/s]\u001b[A\n",
      "Iteration 60 - Lambda: 0.3968222858451514, selected_count: 1155: : 60it [00:02, 22.88it/s]\u001b[A\n",
      "Iteration 61 - Lambda: 0.40475873156205444, selected_count: 1155: : 60it [00:02, 22.88it/s]\u001b[A\n",
      "Iteration 62 - Lambda: 0.41285390619329554, selected_count: 1155: : 60it [00:02, 22.88it/s]\u001b[A\n",
      "Iteration 62 - Lambda: 0.41285390619329554, selected_count: 1155: : 63it [00:02, 22.99it/s]\u001b[A\n",
      "Iteration 63 - Lambda: 0.42111098431716143, selected_count: 1155: : 63it [00:02, 22.99it/s]\u001b[A\n",
      "Iteration 64 - Lambda: 0.42953320400350464, selected_count: 1155: : 63it [00:02, 22.99it/s]\u001b[A\n",
      "Iteration 65 - Lambda: 0.43812386808357473, selected_count: 1155: : 63it [00:03, 22.99it/s]\u001b[A\n",
      "Iteration 65 - Lambda: 0.43812386808357473, selected_count: 1155: : 66it [00:03,  8.96it/s]\u001b[A\n",
      "Iteration 66 - Lambda: 0.44688634544524625, selected_count: 1154: : 66it [00:03,  8.96it/s]\u001b[A\n",
      "Iteration 67 - Lambda: 0.4558240723541512, selected_count: 1152: : 66it [00:03,  8.96it/s] \u001b[A\n",
      "Iteration 67 - Lambda: 0.4558240723541512, selected_count: 1152: : 68it [00:04,  5.88it/s]\u001b[A\n",
      "Iteration 68 - Lambda: 0.4649405538012342, selected_count: 1150: : 68it [00:04,  5.88it/s]\u001b[A\n",
      "Iteration 69 - Lambda: 0.47423936487725893, selected_count: 1150: : 68it [00:04,  5.88it/s]\u001b[A\n",
      "Iteration 69 - Lambda: 0.47423936487725893, selected_count: 1150: : 70it [00:05,  4.58it/s]\u001b[A\n",
      "Iteration 70 - Lambda: 0.48372415217480413, selected_count: 1148: : 70it [00:05,  4.58it/s]\u001b[A\n",
      "Iteration 70 - Lambda: 0.48372415217480413, selected_count: 1148: : 71it [00:05,  4.17it/s]\u001b[A\n",
      "Iteration 71 - Lambda: 0.49339863521830024, selected_count: 1145: : 71it [00:05,  4.17it/s]\u001b[A\n",
      "Iteration 71 - Lambda: 0.49339863521830024, selected_count: 1145: : 72it [00:05,  3.81it/s]\u001b[A\n",
      "Iteration 72 - Lambda: 0.5032666079226663, selected_count: 1143: : 72it [00:05,  3.81it/s] \u001b[A\n",
      "Iteration 72 - Lambda: 0.5032666079226663, selected_count: 1143: : 73it [00:06,  3.50it/s]\u001b[A\n",
      "Iteration 73 - Lambda: 0.5133319400811196, selected_count: 1141: : 73it [00:06,  3.50it/s]\u001b[A\n",
      "Iteration 73 - Lambda: 0.5133319400811196, selected_count: 1141: : 74it [00:06,  3.25it/s]\u001b[A\n",
      "Iteration 74 - Lambda: 0.523598578882742, selected_count: 1138: : 74it [00:06,  3.25it/s] \u001b[A\n",
      "Iteration 74 - Lambda: 0.523598578882742, selected_count: 1138: : 75it [00:06,  3.10it/s]\u001b[A\n",
      "Iteration 75 - Lambda: 0.5340705504603969, selected_count: 1134: : 75it [00:06,  3.10it/s]\u001b[A\n",
      "Iteration 75 - Lambda: 0.5340705504603969, selected_count: 1134: : 76it [00:07,  2.97it/s]\u001b[A\n",
      "Iteration 76 - Lambda: 0.5447519614696048, selected_count: 1130: : 76it [00:07,  2.97it/s]\u001b[A\n",
      "Iteration 76 - Lambda: 0.5447519614696048, selected_count: 1130: : 77it [00:07,  2.87it/s]\u001b[A\n",
      "Iteration 77 - Lambda: 0.5556470006989969, selected_count: 1127: : 77it [00:07,  2.87it/s]\u001b[A\n",
      "Iteration 77 - Lambda: 0.5556470006989969, selected_count: 1127: : 78it [00:08,  2.81it/s]\u001b[A\n",
      "Iteration 78 - Lambda: 0.5667599407129769, selected_count: 1124: : 78it [00:08,  2.81it/s]\u001b[A\n",
      "Iteration 78 - Lambda: 0.5667599407129769, selected_count: 1124: : 79it [00:08,  2.78it/s]\u001b[A\n",
      "Iteration 79 - Lambda: 0.5780951395272365, selected_count: 1121: : 79it [00:08,  2.78it/s]\u001b[A\n",
      "Iteration 80 - Lambda: 0.5896570423177812, selected_count: 1121: : 79it [00:08,  2.78it/s]\u001b[A\n",
      "Iteration 80 - Lambda: 0.5896570423177812, selected_count: 1121: : 81it [00:08,  4.42it/s]\u001b[A\n",
      "Iteration 81 - Lambda: 0.6014501831641368, selected_count: 1121: : 81it [00:08,  4.42it/s]\u001b[A\n",
      "Iteration 82 - Lambda: 0.6134791868274195, selected_count: 1121: : 81it [00:08,  4.42it/s]\u001b[A\n",
      "Iteration 83 - Lambda: 0.6257487705639679, selected_count: 1121: : 81it [00:08,  4.42it/s]\u001b[A\n",
      "Iteration 83 - Lambda: 0.6257487705639679, selected_count: 1121: : 84it [00:08,  7.34it/s]\u001b[A\n",
      "Iteration 84 - Lambda: 0.6382637459752473, selected_count: 1121: : 84it [00:08,  7.34it/s]\u001b[A\n",
      "Iteration 85 - Lambda: 0.6510290208947522, selected_count: 1120: : 84it [00:08,  7.34it/s]\u001b[A\n",
      "Iteration 86 - Lambda: 0.6640496013126473, selected_count: 1120: : 84it [00:08,  7.34it/s]\u001b[A\n",
      "Iteration 86 - Lambda: 0.6640496013126473, selected_count: 1120: : 87it [00:08, 10.02it/s]\u001b[A\n",
      "Iteration 87 - Lambda: 0.6773305933389003, selected_count: 1120: : 87it [00:08, 10.02it/s]\u001b[A\n",
      "Iteration 88 - Lambda: 0.6908772052056783, selected_count: 1120: : 87it [00:08, 10.02it/s]\u001b[A\n",
      "Iteration 89 - Lambda: 0.7046947493097919, selected_count: 1120: : 87it [00:08, 10.02it/s]\u001b[A\n",
      "Iteration 89 - Lambda: 0.7046947493097919, selected_count: 1120: : 90it [00:08, 12.68it/s]\u001b[A\n",
      "Iteration 90 - Lambda: 0.7187886442959878, selected_count: 1120: : 90it [00:08, 12.68it/s]\u001b[A\n",
      "Iteration 91 - Lambda: 0.7331644171819075, selected_count: 1120: : 90it [00:08, 12.68it/s]\u001b[A\n",
      "Iteration 92 - Lambda: 0.7478277055255457, selected_count: 1120: : 90it [00:09, 12.68it/s]\u001b[A\n",
      "Iteration 92 - Lambda: 0.7478277055255457, selected_count: 1120: : 93it [00:09, 15.04it/s]\u001b[A\n",
      "Iteration 93 - Lambda: 0.7627842596360566, selected_count: 1120: : 93it [00:09, 15.04it/s]\u001b[A\n",
      "Iteration 94 - Lambda: 0.7780399448287777, selected_count: 1119: : 93it [00:09, 15.04it/s]\u001b[A\n",
      "Iteration 95 - Lambda: 0.7936007437253533, selected_count: 1119: : 93it [00:09, 15.04it/s]\u001b[A\n",
      "Iteration 95 - Lambda: 0.7936007437253533, selected_count: 1119: : 96it [00:09, 17.10it/s]\u001b[A\n",
      "Iteration 96 - Lambda: 0.8094727585998603, selected_count: 1119: : 96it [00:09, 17.10it/s]\u001b[A\n",
      "Iteration 97 - Lambda: 0.8256622137718576, selected_count: 1119: : 96it [00:09, 17.10it/s]\u001b[A\n",
      "Iteration 98 - Lambda: 0.8421754580472948, selected_count: 1119: : 96it [00:09, 17.10it/s]\u001b[A\n",
      "Iteration 98 - Lambda: 0.8421754580472948, selected_count: 1119: : 99it [00:09, 18.87it/s]\u001b[A\n",
      "Iteration 99 - Lambda: 0.8590189672082407, selected_count: 1119: : 99it [00:09, 18.87it/s]\u001b[A\n",
      "Iteration 100 - Lambda: 0.8761993465524055, selected_count: 1119: : 99it [00:09, 18.87it/s]\u001b[A\n",
      "Iteration 101 - Lambda: 0.8937233334834537, selected_count: 1119: : 99it [00:09, 18.87it/s]\u001b[A\n",
      "Iteration 101 - Lambda: 0.8937233334834537, selected_count: 1119: : 102it [00:09, 20.15it/s]\u001b[A\n",
      "Iteration 102 - Lambda: 0.9115978001531228, selected_count: 1119: : 102it [00:09, 20.15it/s]\u001b[A\n",
      "Iteration 103 - Lambda: 0.9298297561561852, selected_count: 1119: : 102it [00:09, 20.15it/s]\u001b[A\n",
      "Iteration 104 - Lambda: 0.948426351279309, selected_count: 1119: : 102it [00:09, 20.15it/s] \u001b[A\n",
      "Iteration 104 - Lambda: 0.948426351279309, selected_count: 1119: : 105it [00:09, 20.70it/s]\u001b[A\n",
      "Iteration 105 - Lambda: 0.9673948783048951, selected_count: 1119: : 105it [00:09, 20.70it/s]\u001b[A\n",
      "Iteration 106 - Lambda: 0.986742775870993, selected_count: 1118: : 105it [00:09, 20.70it/s] \u001b[A\n",
      "Iteration 107 - Lambda: 1.006477631388413, selected_count: 1118: : 105it [00:09, 20.70it/s]\u001b[A\n",
      "Iteration 107 - Lambda: 1.006477631388413, selected_count: 1118: : 108it [00:09, 21.42it/s]\u001b[A\n",
      "Iteration 108 - Lambda: 1.0266071840161812, selected_count: 1116: : 108it [00:09, 21.42it/s]\u001b[A\n",
      "Iteration 109 - Lambda: 1.0471393276965049, selected_count: 1113: : 108it [00:09, 21.42it/s]\u001b[A\n",
      "Iteration 110 - Lambda: 1.068082114250435, selected_count: 1113: : 108it [00:09, 21.42it/s] \u001b[A\n",
      "Iteration 110 - Lambda: 1.068082114250435, selected_count: 1113: : 111it [00:09, 21.95it/s]\u001b[A\n",
      "Iteration 111 - Lambda: 1.0894437565354438, selected_count: 1113: : 111it [00:09, 21.95it/s]\u001b[A\n",
      "Iteration 112 - Lambda: 1.1112326316661527, selected_count: 1113: : 111it [00:09, 21.95it/s]\u001b[A\n",
      "Iteration 113 - Lambda: 1.133457284299476, selected_count: 1113: : 111it [00:09, 21.95it/s] \u001b[A\n",
      "Iteration 113 - Lambda: 1.133457284299476, selected_count: 1113: : 114it [00:09, 22.18it/s]\u001b[A\n",
      "Iteration 114 - Lambda: 1.1561264299854654, selected_count: 1113: : 114it [00:09, 22.18it/s]\u001b[A\n",
      "Iteration 115 - Lambda: 1.1792489585851749, selected_count: 1112: : 114it [00:10, 22.18it/s]\u001b[A\n",
      "Iteration 116 - Lambda: 1.2028339377568784, selected_count: 1112: : 114it [00:10, 22.18it/s]\u001b[A\n",
      "Iteration 116 - Lambda: 1.2028339377568784, selected_count: 1112: : 117it [00:10, 22.34it/s]\u001b[A\n",
      "Iteration 117 - Lambda: 1.226890616512016, selected_count: 1112: : 117it [00:10, 22.34it/s] \u001b[A\n",
      "Iteration 118 - Lambda: 1.2514284288422564, selected_count: 1112: : 117it [00:10, 22.34it/s]\u001b[A\n",
      "Iteration 119 - Lambda: 1.2764569974191016, selected_count: 1112: : 117it [00:10, 22.34it/s]\u001b[A\n",
      "Iteration 119 - Lambda: 1.2764569974191016, selected_count: 1112: : 120it [00:10, 22.36it/s]\u001b[A\n",
      "Iteration 120 - Lambda: 1.3019861373674837, selected_count: 1112: : 120it [00:10, 22.36it/s]\u001b[A\n",
      "Iteration 121 - Lambda: 1.3280258601148334, selected_count: 1112: : 120it [00:10, 22.36it/s]\u001b[A\n",
      "Iteration 122 - Lambda: 1.35458637731713, selected_count: 1111: : 120it [00:10, 22.36it/s]  \u001b[A\n",
      "Iteration 122 - Lambda: 1.35458637731713, selected_count: 1111: : 123it [00:10, 22.27it/s]\u001b[A\n",
      "Iteration 123 - Lambda: 1.3816781048634728, selected_count: 1111: : 123it [00:10, 22.27it/s]\u001b[A\n",
      "Iteration 124 - Lambda: 1.4093116669607422, selected_count: 1111: : 123it [00:10, 22.27it/s]\u001b[A\n",
      "Iteration 125 - Lambda: 1.437497900299957, selected_count: 1110: : 123it [00:10, 22.27it/s] \u001b[A\n",
      "Iteration 125 - Lambda: 1.437497900299957, selected_count: 1110: : 126it [00:10, 22.20it/s]\u001b[A\n",
      "Iteration 126 - Lambda: 1.4662478583059562, selected_count: 1110: : 126it [00:10, 22.20it/s]\u001b[A\n",
      "Iteration 127 - Lambda: 1.4955728154720753, selected_count: 1110: : 126it [00:10, 22.20it/s]\u001b[A\n",
      "Iteration 128 - Lambda: 1.525484271781517, selected_count: 1110: : 126it [00:10, 22.20it/s] \u001b[A\n",
      "Iteration 128 - Lambda: 1.525484271781517, selected_count: 1110: : 129it [00:10, 22.31it/s]\u001b[A\n",
      "Iteration 129 - Lambda: 1.5559939572171473, selected_count: 1110: : 129it [00:10, 22.31it/s]\u001b[A\n",
      "Iteration 130 - Lambda: 1.5871138363614903, selected_count: 1109: : 129it [00:10, 22.31it/s]\u001b[A\n",
      "Iteration 131 - Lambda: 1.61885611308872, selected_count: 1109: : 129it [00:10, 22.31it/s]  \u001b[A\n",
      "Iteration 131 - Lambda: 1.61885611308872, selected_count: 1109: : 132it [00:10, 22.48it/s]\u001b[A\n",
      "Iteration 132 - Lambda: 1.6512332353504944, selected_count: 1109: : 132it [00:10, 22.48it/s]\u001b[A\n",
      "Iteration 133 - Lambda: 1.6842579000575042, selected_count: 1109: : 132it [00:10, 22.48it/s]\u001b[A\n",
      "Iteration 134 - Lambda: 1.7179430580586543, selected_count: 1109: : 132it [00:10, 22.48it/s]\u001b[A\n",
      "Iteration 134 - Lambda: 1.7179430580586543, selected_count: 1109: : 135it [00:10, 22.97it/s]\u001b[A\n",
      "Iteration 135 - Lambda: 1.7523019192198275, selected_count: 1109: : 135it [00:10, 22.97it/s]\u001b[A\n",
      "Iteration 136 - Lambda: 1.7873479576042242, selected_count: 1109: : 135it [00:10, 22.97it/s]\u001b[A\n",
      "Iteration 137 - Lambda: 1.8230949167563086, selected_count: 1108: : 135it [00:10, 22.97it/s]\u001b[A\n",
      "Iteration 137 - Lambda: 1.8230949167563086, selected_count: 1108: : 138it [00:11, 23.27it/s]\u001b[A\n",
      "Iteration 138 - Lambda: 1.8595568150914348, selected_count: 1106: : 138it [00:11, 23.27it/s]\u001b[A\n",
      "Iteration 139 - Lambda: 1.8967479513932635, selected_count: 1106: : 138it [00:11, 23.27it/s]\u001b[A\n",
      "Iteration 140 - Lambda: 1.9346829104211287, selected_count: 1106: : 138it [00:11, 23.27it/s]\u001b[A\n",
      "Iteration 140 - Lambda: 1.9346829104211287, selected_count: 1106: : 141it [00:11, 23.60it/s]\u001b[A\n",
      "Iteration 141 - Lambda: 1.9733765686295512, selected_count: 1106: : 141it [00:11, 23.60it/s]\u001b[A\n",
      "Iteration 142 - Lambda: 2.0128441000021424, selected_count: 1105: : 141it [00:11, 23.60it/s]\u001b[A\n",
      "Iteration 143 - Lambda: 2.0531009820021855, selected_count: 1105: : 141it [00:11, 23.60it/s]\u001b[A\n",
      "Iteration 143 - Lambda: 2.0531009820021855, selected_count: 1105: : 144it [00:11, 23.34it/s]\u001b[A\n",
      "Iteration 144 - Lambda: 2.0941630016422295, selected_count: 1104: : 144it [00:11, 23.34it/s]\u001b[A\n",
      "Iteration 145 - Lambda: 2.136046261675074, selected_count: 1104: : 144it [00:11, 23.34it/s] \u001b[A\n",
      "Iteration 146 - Lambda: 2.1787671869085754, selected_count: 1103: : 144it [00:11, 23.34it/s]\u001b[A\n",
      "Iteration 146 - Lambda: 2.1787671869085754, selected_count: 1103: : 147it [00:11, 23.37it/s]\u001b[A\n",
      "Iteration 147 - Lambda: 2.222342530646747, selected_count: 1102: : 147it [00:11, 23.37it/s] \u001b[A\n",
      "Iteration 148 - Lambda: 2.2667893812596818, selected_count: 1102: : 147it [00:11, 23.37it/s]\u001b[A\n",
      "Iteration 149 - Lambda: 2.3121251688848754, selected_count: 1102: : 147it [00:11, 23.37it/s]\u001b[A\n",
      "Iteration 149 - Lambda: 2.3121251688848754, selected_count: 1102: : 150it [00:11, 23.61it/s]\u001b[A\n",
      "Iteration 150 - Lambda: 2.358367672262573, selected_count: 1100: : 150it [00:11, 23.61it/s] \u001b[A\n",
      "Iteration 151 - Lambda: 2.4055350257078247, selected_count: 1100: : 150it [00:11, 23.61it/s]\u001b[A\n",
      "Iteration 152 - Lambda: 2.453645726221981, selected_count: 1099: : 150it [00:11, 23.61it/s] \u001b[A\n",
      "Iteration 152 - Lambda: 2.453645726221981, selected_count: 1099: : 153it [00:11, 23.45it/s]\u001b[A\n",
      "Iteration 153 - Lambda: 2.5027186407464206, selected_count: 1098: : 153it [00:11, 23.45it/s]\u001b[A\n",
      "Iteration 154 - Lambda: 2.552773013561349, selected_count: 1098: : 153it [00:11, 23.45it/s] \u001b[A\n",
      "Iteration 155 - Lambda: 2.6038284738325763, selected_count: 1097: : 153it [00:11, 23.45it/s]\u001b[A\n",
      "Iteration 155 - Lambda: 2.6038284738325763, selected_count: 1097: : 156it [00:11, 23.50it/s]\u001b[A\n",
      "Iteration 156 - Lambda: 2.655905043309228, selected_count: 1097: : 156it [00:11, 23.50it/s] \u001b[A\n",
      "Iteration 157 - Lambda: 2.7090231441754127, selected_count: 1094: : 156it [00:11, 23.50it/s]\u001b[A\n",
      "Iteration 158 - Lambda: 2.7632036070589208, selected_count: 1094: : 156it [00:11, 23.50it/s]\u001b[A\n",
      "Iteration 158 - Lambda: 2.7632036070589208, selected_count: 1094: : 159it [00:11, 23.59it/s]\u001b[A\n",
      "Iteration 159 - Lambda: 2.8184676792000993, selected_count: 1093: : 159it [00:11, 23.59it/s]\u001b[A\n",
      "Iteration 160 - Lambda: 2.8748370327841015, selected_count: 1092: : 159it [00:11, 23.59it/s]\u001b[A\n",
      "Iteration 161 - Lambda: 2.9323337734397836, selected_count: 1092: : 159it [00:11, 23.59it/s]\u001b[A\n",
      "Iteration 161 - Lambda: 2.9323337734397836, selected_count: 1092: : 162it [00:12, 23.60it/s]\u001b[A\n",
      "Iteration 162 - Lambda: 2.990980448908579, selected_count: 1091: : 162it [00:12, 23.60it/s] \u001b[A\n",
      "Iteration 163 - Lambda: 3.0508000578867507, selected_count: 1090: : 162it [00:12, 23.60it/s]\u001b[A\n",
      "Iteration 164 - Lambda: 3.111816059044486, selected_count: 1088: : 162it [00:12, 23.60it/s] \u001b[A\n",
      "Iteration 164 - Lambda: 3.111816059044486, selected_count: 1088: : 165it [00:12, 23.55it/s]\u001b[A\n",
      "Iteration 165 - Lambda: 3.1740523802253757, selected_count: 1087: : 165it [00:12, 23.55it/s]\u001b[A\n",
      "Iteration 166 - Lambda: 3.2375334278298835, selected_count: 1086: : 165it [00:12, 23.55it/s]\u001b[A\n",
      "Iteration 167 - Lambda: 3.3022840963864812, selected_count: 1086: : 165it [00:12, 23.55it/s]\u001b[A\n",
      "Iteration 167 - Lambda: 3.3022840963864812, selected_count: 1086: : 168it [00:12, 23.57it/s]\u001b[A\n",
      "Iteration 168 - Lambda: 3.368329778314211, selected_count: 1086: : 168it [00:12, 23.57it/s] \u001b[A\n",
      "Iteration 169 - Lambda: 3.435696373880495, selected_count: 1086: : 168it [00:12, 23.57it/s]\u001b[A\n",
      "Iteration 170 - Lambda: 3.504410301358105, selected_count: 1086: : 168it [00:12, 23.57it/s]\u001b[A\n",
      "Iteration 170 - Lambda: 3.504410301358105, selected_count: 1086: : 171it [00:12, 23.70it/s]\u001b[A\n",
      "Iteration 171 - Lambda: 3.5744985073852673, selected_count: 1086: : 171it [00:12, 23.70it/s]\u001b[A\n",
      "Iteration 172 - Lambda: 3.6459884775329727, selected_count: 1086: : 171it [00:12, 23.70it/s]\u001b[A\n",
      "Iteration 173 - Lambda: 3.718908247083632, selected_count: 1084: : 171it [00:12, 23.70it/s] \u001b[A\n",
      "Iteration 173 - Lambda: 3.718908247083632, selected_count: 1084: : 174it [00:12, 23.51it/s]\u001b[A\n",
      "Iteration 174 - Lambda: 3.7932864120253047, selected_count: 1083: : 174it [00:12, 23.51it/s]\u001b[A\n",
      "Iteration 175 - Lambda: 3.8691521402658107, selected_count: 1081: : 174it [00:12, 23.51it/s]\u001b[A\n",
      "Iteration 176 - Lambda: 3.946535183071127, selected_count: 1079: : 174it [00:12, 23.51it/s] \u001b[A\n",
      "Iteration 176 - Lambda: 3.946535183071127, selected_count: 1079: : 177it [00:12, 23.49it/s]\u001b[A\n",
      "Iteration 177 - Lambda: 4.025465886732549, selected_count: 1078: : 177it [00:12, 23.49it/s]\u001b[A\n",
      "Iteration 178 - Lambda: 4.1059752044672, selected_count: 1077: : 177it [00:12, 23.49it/s]  \u001b[A\n",
      "Iteration 179 - Lambda: 4.1880947085565445, selected_count: 1076: : 177it [00:12, 23.49it/s]\u001b[A\n",
      "Iteration 179 - Lambda: 4.1880947085565445, selected_count: 1076: : 180it [00:12, 23.39it/s]\u001b[A\n",
      "Iteration 180 - Lambda: 4.271856602727675, selected_count: 1074: : 180it [00:12, 23.39it/s] \u001b[A\n",
      "Iteration 181 - Lambda: 4.357293734782229, selected_count: 1072: : 180it [00:12, 23.39it/s]\u001b[A\n",
      "Iteration 182 - Lambda: 4.4444396094778735, selected_count: 1071: : 180it [00:12, 23.39it/s]\u001b[A\n",
      "Iteration 182 - Lambda: 4.4444396094778735, selected_count: 1071: : 183it [00:12, 23.43it/s]\u001b[A\n",
      "Iteration 183 - Lambda: 4.533328401667431, selected_count: 1069: : 183it [00:12, 23.43it/s] \u001b[A\n",
      "Iteration 184 - Lambda: 4.62399496970078, selected_count: 1069: : 183it [00:12, 23.43it/s] \u001b[A\n",
      "Iteration 185 - Lambda: 4.716474869094795, selected_count: 1068: : 183it [00:13, 23.43it/s]\u001b[A\n",
      "Iteration 185 - Lambda: 4.716474869094795, selected_count: 1068: : 186it [00:13, 23.43it/s]\u001b[A\n",
      "Iteration 186 - Lambda: 4.810804366476691, selected_count: 1068: : 186it [00:13, 23.43it/s]\u001b[A\n",
      "Iteration 187 - Lambda: 4.907020453806225, selected_count: 1068: : 186it [00:13, 23.43it/s]\u001b[A\n",
      "Iteration 188 - Lambda: 5.00516086288235, selected_count: 1067: : 186it [00:13, 23.43it/s] \u001b[A\n",
      "Iteration 188 - Lambda: 5.00516086288235, selected_count: 1067: : 189it [00:13, 23.58it/s]\u001b[A\n",
      "Iteration 189 - Lambda: 5.105264080139997, selected_count: 1066: : 189it [00:13, 23.58it/s]\u001b[A\n",
      "Iteration 190 - Lambda: 5.2073693617427965, selected_count: 1065: : 189it [00:13, 23.58it/s]\u001b[A\n",
      "Iteration 191 - Lambda: 5.3115167489776525, selected_count: 1064: : 189it [00:13, 23.58it/s]\u001b[A\n",
      "Iteration 191 - Lambda: 5.3115167489776525, selected_count: 1064: : 192it [00:13, 23.56it/s]\u001b[A\n",
      "Iteration 192 - Lambda: 5.417747083957206, selected_count: 1064: : 192it [00:13, 23.56it/s] \u001b[A\n",
      "Iteration 193 - Lambda: 5.52610202563635, selected_count: 1064: : 192it [00:13, 23.56it/s] \u001b[A\n",
      "Iteration 194 - Lambda: 5.636624066149077, selected_count: 1063: : 192it [00:13, 23.56it/s]\u001b[A\n",
      "Iteration 194 - Lambda: 5.636624066149077, selected_count: 1063: : 195it [00:13, 23.41it/s]\u001b[A\n",
      "Iteration 195 - Lambda: 5.7493565474720585, selected_count: 1059: : 195it [00:13, 23.41it/s]\u001b[A\n",
      "Iteration 196 - Lambda: 5.8643436784215, selected_count: 1058: : 195it [00:13, 23.41it/s]   \u001b[A\n",
      "Iteration 197 - Lambda: 5.98163055198993, selected_count: 1055: : 195it [00:13, 23.41it/s]\u001b[A\n",
      "Iteration 197 - Lambda: 5.98163055198993, selected_count: 1055: : 198it [00:13, 23.42it/s]\u001b[A\n",
      "Iteration 198 - Lambda: 6.101263163029729, selected_count: 1053: : 198it [00:13, 23.42it/s]\u001b[A\n",
      "Iteration 199 - Lambda: 6.223288426290323, selected_count: 1053: : 198it [00:13, 23.42it/s]\u001b[A\n",
      "Iteration 200 - Lambda: 6.34775419481613, selected_count: 1053: : 198it [00:13, 23.42it/s] \u001b[A\n",
      "Iteration 200 - Lambda: 6.34775419481613, selected_count: 1053: : 201it [00:13, 23.32it/s]\u001b[A\n",
      "Iteration 201 - Lambda: 6.474709278712452, selected_count: 1049: : 201it [00:13, 23.32it/s]\u001b[A\n",
      "Iteration 202 - Lambda: 6.604203464286702, selected_count: 1047: : 201it [00:13, 23.32it/s]\u001b[A\n",
      "Iteration 203 - Lambda: 6.736287533572436, selected_count: 1045: : 201it [00:13, 23.32it/s]\u001b[A\n",
      "Iteration 203 - Lambda: 6.736287533572436, selected_count: 1045: : 204it [00:13, 23.41it/s]\u001b[A\n",
      "Iteration 204 - Lambda: 6.871013284243885, selected_count: 1043: : 204it [00:13, 23.41it/s]\u001b[A\n",
      "Iteration 205 - Lambda: 7.008433549928763, selected_count: 1041: : 204it [00:13, 23.41it/s]\u001b[A\n",
      "Iteration 206 - Lambda: 7.148602220927338, selected_count: 1041: : 204it [00:13, 23.41it/s]\u001b[A\n",
      "Iteration 206 - Lambda: 7.148602220927338, selected_count: 1041: : 207it [00:13, 23.64it/s]\u001b[A\n",
      "Iteration 207 - Lambda: 7.291574265345885, selected_count: 1041: : 207it [00:13, 23.64it/s]\u001b[A\n",
      "Iteration 208 - Lambda: 7.437405750652802, selected_count: 1040: : 207it [00:13, 23.64it/s]\u001b[A\n",
      "Iteration 209 - Lambda: 7.5861538656658585, selected_count: 1038: : 207it [00:14, 23.64it/s]\u001b[A\n",
      "Iteration 209 - Lambda: 7.5861538656658585, selected_count: 1038: : 210it [00:14, 23.58it/s]\u001b[A\n",
      "Iteration 210 - Lambda: 7.737876942979176, selected_count: 1034: : 210it [00:14, 23.58it/s] \u001b[A\n",
      "Iteration 211 - Lambda: 7.892634481838759, selected_count: 1034: : 210it [00:14, 23.58it/s]\u001b[A\n",
      "Iteration 212 - Lambda: 8.050487171475535, selected_count: 1033: : 210it [00:14, 23.58it/s]\u001b[A\n",
      "Iteration 212 - Lambda: 8.050487171475535, selected_count: 1033: : 213it [00:14, 23.48it/s]\u001b[A\n",
      "Iteration 213 - Lambda: 8.211496914905046, selected_count: 1030: : 213it [00:14, 23.48it/s]\u001b[A\n",
      "Iteration 214 - Lambda: 8.375726853203147, selected_count: 1026: : 213it [00:14, 23.48it/s]\u001b[A\n",
      "Iteration 215 - Lambda: 8.54324139026721, selected_count: 1025: : 213it [00:14, 23.48it/s] \u001b[A\n",
      "Iteration 215 - Lambda: 8.54324139026721, selected_count: 1025: : 216it [00:14, 23.47it/s]\u001b[A\n",
      "Iteration 216 - Lambda: 8.714106218072555, selected_count: 1020: : 216it [00:14, 23.47it/s]\u001b[A\n",
      "Iteration 217 - Lambda: 8.888388342434006, selected_count: 1018: : 216it [00:14, 23.47it/s]\u001b[A\n",
      "Iteration 218 - Lambda: 9.066156109282685, selected_count: 1016: : 216it [00:14, 23.47it/s]\u001b[A\n",
      "Iteration 218 - Lambda: 9.066156109282685, selected_count: 1016: : 219it [00:14, 23.46it/s]\u001b[A\n",
      "Iteration 219 - Lambda: 9.24747923146834, selected_count: 1015: : 219it [00:14, 23.46it/s] \u001b[A\n",
      "Iteration 220 - Lambda: 9.432428816097707, selected_count: 1014: : 219it [00:14, 23.46it/s]\u001b[A\n",
      "Iteration 221 - Lambda: 9.62107739241966, selected_count: 1011: : 219it [00:14, 23.46it/s] \u001b[A\n",
      "Iteration 221 - Lambda: 9.62107739241966, selected_count: 1011: : 222it [00:14, 23.67it/s]\u001b[A\n",
      "Iteration 222 - Lambda: 9.813498940268055, selected_count: 1011: : 222it [00:14, 23.67it/s]\u001b[A\n",
      "Iteration 223 - Lambda: 10.009768919073416, selected_count: 1010: : 222it [00:14, 23.67it/s]\u001b[A\n",
      "Iteration 224 - Lambda: 10.209964297454885, selected_count: 1009: : 222it [00:14, 23.67it/s]\u001b[A\n",
      "Iteration 224 - Lambda: 10.209964297454885, selected_count: 1009: : 225it [00:14, 24.00it/s]\u001b[A\n",
      "Iteration 225 - Lambda: 10.414163583403983, selected_count: 1003: : 225it [00:14, 24.00it/s]\u001b[A\n",
      "Iteration 226 - Lambda: 10.622446855072063, selected_count: 1003: : 225it [00:14, 24.00it/s]\u001b[A\n",
      "Iteration 227 - Lambda: 10.834895792173505, selected_count: 1002: : 225it [00:14, 24.00it/s]\u001b[A\n",
      "Iteration 227 - Lambda: 10.834895792173505, selected_count: 1002: : 228it [00:14, 23.94it/s]\u001b[A\n",
      "Iteration 228 - Lambda: 11.051593708016975, selected_count: 1001: : 228it [00:14, 23.94it/s]\u001b[A\n",
      "Iteration 229 - Lambda: 11.272625582177316, selected_count: 998: : 228it [00:14, 23.94it/s] \u001b[A\n",
      "Iteration 230 - Lambda: 11.498078093820862, selected_count: 996: : 228it [00:14, 23.94it/s]\u001b[A\n",
      "Iteration 230 - Lambda: 11.498078093820862, selected_count: 996: : 231it [00:14, 23.73it/s]\u001b[A\n",
      "Iteration 231 - Lambda: 11.728039655697279, selected_count: 995: : 231it [00:14, 23.73it/s]\u001b[A\n",
      "Iteration 232 - Lambda: 11.962600448811225, selected_count: 992: : 231it [00:15, 23.73it/s]\u001b[A\n",
      "Iteration 233 - Lambda: 12.20185245778745, selected_count: 991: : 231it [00:15, 23.73it/s] \u001b[A\n",
      "Iteration 233 - Lambda: 12.20185245778745, selected_count: 991: : 234it [00:15, 23.87it/s]\u001b[A\n",
      "Iteration 234 - Lambda: 12.445889506943198, selected_count: 986: : 234it [00:15, 23.87it/s]\u001b[A\n",
      "Iteration 235 - Lambda: 12.694807297082063, selected_count: 982: : 234it [00:15, 23.87it/s]\u001b[A\n",
      "Iteration 236 - Lambda: 12.948703443023705, selected_count: 976: : 234it [00:15, 23.87it/s]\u001b[A\n",
      "Iteration 236 - Lambda: 12.948703443023705, selected_count: 976: : 237it [00:15, 23.96it/s]\u001b[A\n",
      "Iteration 237 - Lambda: 13.20767751188418, selected_count: 972: : 237it [00:15, 23.96it/s] \u001b[A\n",
      "Iteration 238 - Lambda: 13.471831062121863, selected_count: 971: : 237it [00:15, 23.96it/s]\u001b[A\n",
      "Iteration 239 - Lambda: 13.7412676833643, selected_count: 966: : 237it [00:15, 23.96it/s]  \u001b[A\n",
      "Iteration 239 - Lambda: 13.7412676833643, selected_count: 966: : 240it [00:15, 23.86it/s]\u001b[A\n",
      "Iteration 240 - Lambda: 14.016093037031586, selected_count: 963: : 240it [00:15, 23.86it/s]\u001b[A\n",
      "Iteration 241 - Lambda: 14.296414897772218, selected_count: 958: : 240it [00:15, 23.86it/s]\u001b[A\n",
      "Iteration 242 - Lambda: 14.582343195727663, selected_count: 954: : 240it [00:15, 23.86it/s]\u001b[A\n",
      "Iteration 242 - Lambda: 14.582343195727663, selected_count: 954: : 243it [00:15, 24.02it/s]\u001b[A\n",
      "Iteration 243 - Lambda: 14.873990059642217, selected_count: 950: : 243it [00:15, 24.02it/s]\u001b[A\n",
      "Iteration 244 - Lambda: 15.171469860835062, selected_count: 946: : 243it [00:15, 24.02it/s]\u001b[A\n",
      "Iteration 245 - Lambda: 15.474899258051764, selected_count: 941: : 243it [00:15, 24.02it/s]\u001b[A\n",
      "Iteration 245 - Lambda: 15.474899258051764, selected_count: 941: : 246it [00:15, 24.07it/s]\u001b[A\n",
      "Iteration 246 - Lambda: 15.7843972432128, selected_count: 939: : 246it [00:15, 24.07it/s]  \u001b[A\n",
      "Iteration 247 - Lambda: 16.100085188077056, selected_count: 935: : 246it [00:15, 24.07it/s]\u001b[A\n",
      "Iteration 248 - Lambda: 16.422086891838596, selected_count: 934: : 246it [00:15, 24.07it/s]\u001b[A\n",
      "Iteration 248 - Lambda: 16.422086891838596, selected_count: 934: : 249it [00:15, 24.28it/s]\u001b[A\n",
      "Iteration 249 - Lambda: 16.75052862967537, selected_count: 929: : 249it [00:15, 24.28it/s] \u001b[A\n",
      "Iteration 250 - Lambda: 17.085539202268876, selected_count: 886: : 249it [00:16, 24.28it/s]\u001b[A\n",
      "Iteration 251 - Lambda: 17.427249986314255, selected_count: 822: : 249it [00:16, 24.28it/s]\u001b[A\n",
      "Iteration 251 - Lambda: 17.427249986314255, selected_count: 822: : 252it [00:16,  7.05it/s]\u001b[A\n",
      "Iteration 252 - Lambda: 17.77579498604054, selected_count: 772: : 252it [00:16,  7.05it/s] \u001b[A\n",
      "Iteration 253 - Lambda: 18.13131088576135, selected_count: 724: : 252it [00:17,  7.05it/s]\u001b[A\n",
      "Iteration 253 - Lambda: 18.13131088576135, selected_count: 724: : 254it [00:17,  5.17it/s]\u001b[A\n",
      "Iteration 254 - Lambda: 18.49393710347658, selected_count: 674: : 254it [00:17,  5.17it/s]\u001b[A\n",
      "Iteration 255 - Lambda: 18.86381584554611, selected_count: 630: : 254it [00:17,  5.17it/s]\u001b[A\n",
      "Iteration 255 - Lambda: 18.86381584554611, selected_count: 630: : 256it [00:18,  4.21it/s]\u001b[A\n",
      "Iteration 256 - Lambda: 19.241092162457033, selected_count: 595: : 256it [00:18,  4.21it/s]\u001b[A\n",
      "Iteration 257 - Lambda: 19.625914005706175, selected_count: 555: : 256it [00:18,  4.21it/s]\u001b[A\n",
      "Iteration 257 - Lambda: 19.625914005706175, selected_count: 555: : 258it [00:19,  3.67it/s]\u001b[A\n",
      "Iteration 258 - Lambda: 20.0184322858203, selected_count: 516: : 258it [00:19,  3.67it/s]  \u001b[A\n",
      "Iteration 258 - Lambda: 20.0184322858203, selected_count: 516: : 259it [00:19,  3.45it/s]\u001b[A\n",
      "Iteration 259 - Lambda: 20.418800931536705, selected_count: 477: : 259it [00:19,  3.45it/s]\u001b[A\n",
      "Iteration 259 - Lambda: 20.418800931536705, selected_count: 477: : 260it [00:19,  3.28it/s]\u001b[A\n",
      "Iteration 260 - Lambda: 20.827176950167438, selected_count: 428: : 260it [00:19,  3.28it/s]\u001b[A\n",
      "Iteration 260 - Lambda: 20.827176950167438, selected_count: 428: : 261it [00:20,  3.15it/s]\u001b[A\n",
      "Iteration 261 - Lambda: 21.243720489170787, selected_count: 377: : 261it [00:20,  3.15it/s]\u001b[A\n",
      "Iteration 261 - Lambda: 21.243720489170787, selected_count: 377: : 262it [00:20,  2.99it/s]\u001b[A\n",
      "Iteration 262 - Lambda: 21.668594898954204, selected_count: 307: : 262it [00:20,  2.99it/s]\u001b[A\n",
      "Iteration 262 - Lambda: 21.668594898954204, selected_count: 307: : 263it [00:20,  2.89it/s]\u001b[A\n",
      "Iteration 263 - Lambda: 22.10196679693329, selected_count: 145: : 263it [00:20,  2.89it/s] \u001b[A\n",
      "Iteration 263 - Lambda: 22.10196679693329, selected_count: 145: : 264it [00:21,  2.81it/s]\u001b[A\n",
      "Iteration 264 - Lambda: 22.544006132871957, selected_count: 24: : 264it [00:21,  2.81it/s]\u001b[A\n",
      "Iteration 264 - Lambda: 22.544006132871957, selected_count: 24: : 265it [00:21,  2.78it/s]\u001b[A\n",
      "Iteration 265 - Lambda: 22.994886255529398, selected_count: 2: : 265it [00:21,  2.78it/s] \u001b[A\n",
      "Iteration 266 - Lambda: 23.454783980639988, selected_count: 0: : 266it [00:21, 12.19it/s]\u001b[A\n",
      "\n",
      "0it [00:00, ?it/s]\u001b[A\n",
      "Iteration 0 - Lambda: 0.17871497571468353, selected_count: 1160: : 0it [00:00, ?it/s]\u001b[A\n",
      "Iteration 1 - Lambda: 0.1822892752289772, selected_count: 1160: : 0it [00:00, ?it/s] \u001b[A\n",
      "Iteration 2 - Lambda: 0.18593506073355676, selected_count: 1160: : 0it [00:00, ?it/s]\u001b[A\n",
      "Iteration 2 - Lambda: 0.18593506073355676, selected_count: 1160: : 3it [00:00, 24.59it/s]\u001b[A\n",
      "Iteration 3 - Lambda: 0.1896537619482279, selected_count: 1160: : 3it [00:00, 24.59it/s] \u001b[A\n",
      "Iteration 4 - Lambda: 0.19344683718719244, selected_count: 1160: : 3it [00:00, 24.59it/s]\u001b[A\n",
      "Iteration 5 - Lambda: 0.1973157739309363, selected_count: 1160: : 3it [00:00, 24.59it/s] \u001b[A\n",
      "Iteration 5 - Lambda: 0.1973157739309363, selected_count: 1160: : 6it [00:00, 24.36it/s]\u001b[A\n",
      "Iteration 6 - Lambda: 0.20126208940955503, selected_count: 1160: : 6it [00:00, 24.36it/s]\u001b[A\n",
      "Iteration 7 - Lambda: 0.20528733119774614, selected_count: 1160: : 6it [00:00, 24.36it/s]\u001b[A\n",
      "Iteration 8 - Lambda: 0.20939307782170108, selected_count: 1160: : 6it [00:00, 24.36it/s]\u001b[A\n",
      "Iteration 8 - Lambda: 0.20939307782170108, selected_count: 1160: : 9it [00:00, 24.46it/s]\u001b[A\n",
      "Iteration 9 - Lambda: 0.2135809393781351, selected_count: 1160: : 9it [00:00, 24.46it/s] \u001b[A\n",
      "Iteration 10 - Lambda: 0.21785255816569782, selected_count: 1160: : 9it [00:00, 24.46it/s]\u001b[A\n",
      "Iteration 11 - Lambda: 0.22220960932901176, selected_count: 1160: : 9it [00:00, 24.46it/s]\u001b[A\n",
      "Iteration 11 - Lambda: 0.22220960932901176, selected_count: 1160: : 12it [00:00, 24.59it/s]\u001b[A\n",
      "Iteration 12 - Lambda: 0.226653801515592, selected_count: 1160: : 12it [00:00, 24.59it/s]  \u001b[A\n",
      "Iteration 13 - Lambda: 0.23118687754590383, selected_count: 1160: : 12it [00:00, 24.59it/s]\u001b[A\n",
      "Iteration 14 - Lambda: 0.2358106150968219, selected_count: 1159: : 12it [00:00, 24.59it/s] \u001b[A\n",
      "Iteration 14 - Lambda: 0.2358106150968219, selected_count: 1159: : 15it [00:00, 24.45it/s]\u001b[A\n",
      "Iteration 15 - Lambda: 0.24052682739875836, selected_count: 1159: : 15it [00:00, 24.45it/s]\u001b[A\n",
      "Iteration 16 - Lambda: 0.24533736394673353, selected_count: 1159: : 15it [00:00, 24.45it/s]\u001b[A\n",
      "Iteration 17 - Lambda: 0.2502441112256682, selected_count: 1159: : 15it [00:00, 24.45it/s] \u001b[A\n",
      "Iteration 17 - Lambda: 0.2502441112256682, selected_count: 1159: : 18it [00:00, 24.43it/s]\u001b[A\n",
      "Iteration 18 - Lambda: 0.2552489934501816, selected_count: 1159: : 18it [00:00, 24.43it/s]\u001b[A\n",
      "Iteration 19 - Lambda: 0.26035397331918525, selected_count: 1159: : 18it [00:00, 24.43it/s]\u001b[A\n",
      "Iteration 20 - Lambda: 0.26556105278556896, selected_count: 1158: : 18it [00:00, 24.43it/s]\u001b[A\n",
      "Iteration 20 - Lambda: 0.26556105278556896, selected_count: 1158: : 21it [00:00, 24.09it/s]\u001b[A\n",
      "Iteration 21 - Lambda: 0.2708722738412803, selected_count: 1158: : 21it [00:00, 24.09it/s] \u001b[A\n",
      "Iteration 22 - Lambda: 0.2762897193181059, selected_count: 1158: : 21it [00:00, 24.09it/s]\u001b[A\n",
      "Iteration 23 - Lambda: 0.28181551370446806, selected_count: 1158: : 21it [00:00, 24.09it/s]\u001b[A\n",
      "Iteration 23 - Lambda: 0.28181551370446806, selected_count: 1158: : 24it [00:00, 23.94it/s]\u001b[A\n",
      "Iteration 24 - Lambda: 0.2874518239785574, selected_count: 1158: : 24it [00:00, 23.94it/s] \u001b[A\n",
      "Iteration 25 - Lambda: 0.29320086045812854, selected_count: 1158: : 24it [00:01, 23.94it/s]\u001b[A\n",
      "Iteration 26 - Lambda: 0.2990648776672911, selected_count: 1157: : 24it [00:01, 23.94it/s] \u001b[A\n",
      "Iteration 26 - Lambda: 0.2990648776672911, selected_count: 1157: : 27it [00:01, 24.10it/s]\u001b[A\n",
      "Iteration 27 - Lambda: 0.30504617522063693, selected_count: 1157: : 27it [00:01, 24.10it/s]\u001b[A\n",
      "Iteration 28 - Lambda: 0.3111470987250497, selected_count: 1157: : 27it [00:01, 24.10it/s] \u001b[A\n",
      "Iteration 29 - Lambda: 0.3173700406995507, selected_count: 1157: : 27it [00:01, 24.10it/s]\u001b[A\n",
      "Iteration 29 - Lambda: 0.3173700406995507, selected_count: 1157: : 30it [00:01, 24.07it/s]\u001b[A\n",
      "Iteration 30 - Lambda: 0.32371744151354176, selected_count: 1156: : 30it [00:01, 24.07it/s]\u001b[A\n",
      "Iteration 31 - Lambda: 0.3301917903438126, selected_count: 1153: : 30it [00:01, 24.07it/s] \u001b[A\n",
      "Iteration 32 - Lambda: 0.3367956261506888, selected_count: 1153: : 30it [00:01, 24.07it/s]\u001b[A\n",
      "Iteration 32 - Lambda: 0.3367956261506888, selected_count: 1153: : 33it [00:01, 24.22it/s]\u001b[A\n",
      "Iteration 33 - Lambda: 0.3435315386737026, selected_count: 1153: : 33it [00:01, 24.22it/s]\u001b[A\n",
      "Iteration 34 - Lambda: 0.35040216944717667, selected_count: 1153: : 33it [00:01, 24.22it/s]\u001b[A\n",
      "Iteration 35 - Lambda: 0.35741021283612023, selected_count: 1152: : 33it [00:01, 24.22it/s]\u001b[A\n",
      "Iteration 35 - Lambda: 0.35741021283612023, selected_count: 1152: : 36it [00:01, 24.10it/s]\u001b[A\n",
      "Iteration 36 - Lambda: 0.36455841709284265, selected_count: 1151: : 36it [00:01, 24.10it/s]\u001b[A\n",
      "Iteration 37 - Lambda: 0.3718495854346995, selected_count: 1151: : 36it [00:01, 24.10it/s] \u001b[A\n",
      "Iteration 38 - Lambda: 0.3792865771433935, selected_count: 1151: : 36it [00:01, 24.10it/s]\u001b[A\n",
      "Iteration 38 - Lambda: 0.3792865771433935, selected_count: 1151: : 39it [00:01, 24.18it/s]\u001b[A\n",
      "Iteration 39 - Lambda: 0.3868723086862614, selected_count: 1150: : 39it [00:01, 24.18it/s]\u001b[A\n",
      "Iteration 40 - Lambda: 0.3946097548599866, selected_count: 1150: : 39it [00:01, 24.18it/s]\u001b[A\n",
      "Iteration 41 - Lambda: 0.40250194995718636, selected_count: 1149: : 39it [00:01, 24.18it/s]\u001b[A\n",
      "Iteration 41 - Lambda: 0.40250194995718636, selected_count: 1149: : 42it [00:01, 24.10it/s]\u001b[A\n",
      "Iteration 42 - Lambda: 0.4105519889563301, selected_count: 1149: : 42it [00:01, 24.10it/s] \u001b[A\n",
      "Iteration 43 - Lambda: 0.41876302873545673, selected_count: 1149: : 42it [00:01, 24.10it/s]\u001b[A\n",
      "Iteration 44 - Lambda: 0.4271382893101659, selected_count: 1148: : 42it [00:01, 24.10it/s] \u001b[A\n",
      "Iteration 44 - Lambda: 0.4271382893101659, selected_count: 1148: : 45it [00:01, 24.19it/s]\u001b[A\n",
      "Iteration 45 - Lambda: 0.43568105509636923, selected_count: 1147: : 45it [00:01, 24.19it/s]\u001b[A\n",
      "Iteration 46 - Lambda: 0.44439467619829665, selected_count: 1147: : 45it [00:01, 24.19it/s]\u001b[A\n",
      "Iteration 47 - Lambda: 0.4532825697222626, selected_count: 1146: : 45it [00:01, 24.19it/s] \u001b[A\n",
      "Iteration 47 - Lambda: 0.4532825697222626, selected_count: 1146: : 48it [00:01, 24.19it/s]\u001b[A\n",
      "Iteration 48 - Lambda: 0.46234822111670787, selected_count: 1145: : 48it [00:01, 24.19it/s]\u001b[A\n",
      "Iteration 49 - Lambda: 0.47159518553904206, selected_count: 1144: : 48it [00:02, 24.19it/s]\u001b[A\n",
      "Iteration 50 - Lambda: 0.4810270892498229, selected_count: 1144: : 48it [00:02, 24.19it/s] \u001b[A\n",
      "Iteration 50 - Lambda: 0.4810270892498229, selected_count: 1144: : 51it [00:02, 24.14it/s]\u001b[A\n",
      "Iteration 51 - Lambda: 0.49064763103481934, selected_count: 1144: : 51it [00:02, 24.14it/s]\u001b[A\n",
      "Iteration 52 - Lambda: 0.5004605836555157, selected_count: 1144: : 51it [00:02, 24.14it/s] \u001b[A\n",
      "Iteration 53 - Lambda: 0.510469795328626, selected_count: 1141: : 51it [00:02, 24.14it/s] \u001b[A\n",
      "Iteration 53 - Lambda: 0.510469795328626, selected_count: 1141: : 54it [00:02, 24.10it/s]\u001b[A\n",
      "Iteration 54 - Lambda: 0.5206791912351986, selected_count: 1139: : 54it [00:02, 24.10it/s]\u001b[A\n",
      "Iteration 55 - Lambda: 0.5310927750599026, selected_count: 1139: : 54it [00:02, 24.10it/s]\u001b[A\n",
      "Iteration 56 - Lambda: 0.5417146305611007, selected_count: 1138: : 54it [00:02, 24.10it/s]\u001b[A\n",
      "Iteration 56 - Lambda: 0.5417146305611007, selected_count: 1138: : 57it [00:02, 24.01it/s]\u001b[A\n",
      "Iteration 57 - Lambda: 0.5525489231723227, selected_count: 1137: : 57it [00:02, 24.01it/s]\u001b[A\n",
      "Iteration 58 - Lambda: 0.5635999016357692, selected_count: 1123: : 57it [00:02, 24.01it/s]\u001b[A\n",
      "Iteration 59 - Lambda: 0.5748718996684846, selected_count: 1104: : 57it [00:03, 24.01it/s]\u001b[A\n",
      "Iteration 59 - Lambda: 0.5748718996684846, selected_count: 1104: : 60it [00:03,  7.12it/s]\u001b[A\n",
      "Iteration 60 - Lambda: 0.5863693376618543, selected_count: 1083: : 60it [00:03,  7.12it/s]\u001b[A\n",
      "Iteration 61 - Lambda: 0.5980967244150914, selected_count: 1060: : 60it [00:03,  7.12it/s]\u001b[A\n",
      "Iteration 61 - Lambda: 0.5980967244150914, selected_count: 1060: : 62it [00:04,  5.24it/s]\u001b[A\n",
      "Iteration 62 - Lambda: 0.6100586589033933, selected_count: 1041: : 62it [00:04,  5.24it/s]\u001b[A\n",
      "Iteration 63 - Lambda: 0.6222598320814612, selected_count: 999: : 62it [00:04,  5.24it/s] \u001b[A\n",
      "Iteration 63 - Lambda: 0.6222598320814612, selected_count: 999: : 64it [00:04,  4.30it/s]\u001b[A\n",
      "Iteration 64 - Lambda: 0.6347050287230904, selected_count: 967: : 64it [00:04,  4.30it/s]\u001b[A\n",
      "Iteration 65 - Lambda: 0.6473991292975523, selected_count: 925: : 64it [00:05,  4.30it/s]\u001b[A\n",
      "Iteration 65 - Lambda: 0.6473991292975523, selected_count: 925: : 66it [00:05,  3.76it/s]\u001b[A\n",
      "Iteration 66 - Lambda: 0.6603471118835034, selected_count: 887: : 66it [00:05,  3.76it/s]\u001b[A\n",
      "Iteration 66 - Lambda: 0.6603471118835034, selected_count: 887: : 67it [00:06,  3.54it/s]\u001b[A\n",
      "Iteration 67 - Lambda: 0.6735540541211734, selected_count: 849: : 67it [00:06,  3.54it/s]\u001b[A\n",
      "Iteration 67 - Lambda: 0.6735540541211734, selected_count: 849: : 68it [00:06,  3.37it/s]\u001b[A\n",
      "Iteration 68 - Lambda: 0.6870251352035969, selected_count: 807: : 68it [00:06,  3.37it/s]\u001b[A\n",
      "Iteration 68 - Lambda: 0.6870251352035969, selected_count: 807: : 69it [00:06,  3.22it/s]\u001b[A\n",
      "Iteration 69 - Lambda: 0.7007656379076688, selected_count: 755: : 69it [00:06,  3.22it/s]\u001b[A\n",
      "Iteration 69 - Lambda: 0.7007656379076688, selected_count: 755: : 70it [00:07,  3.10it/s]\u001b[A\n",
      "Iteration 70 - Lambda: 0.7147809506658221, selected_count: 685: : 70it [00:07,  3.10it/s]\u001b[A\n",
      "Iteration 70 - Lambda: 0.7147809506658221, selected_count: 685: : 71it [00:07,  3.00it/s]\u001b[A\n",
      "Iteration 71 - Lambda: 0.7290765696791386, selected_count: 609: : 71it [00:07,  3.00it/s]\u001b[A\n",
      "Iteration 71 - Lambda: 0.7290765696791386, selected_count: 609: : 72it [00:07,  2.93it/s]\u001b[A\n",
      "Iteration 72 - Lambda: 0.7436581010727213, selected_count: 529: : 72it [00:07,  2.93it/s]\u001b[A\n",
      "Iteration 72 - Lambda: 0.7436581010727213, selected_count: 529: : 73it [00:08,  2.87it/s]\u001b[A\n",
      "Iteration 73 - Lambda: 0.7585312630941757, selected_count: 465: : 73it [00:08,  2.87it/s]\u001b[A\n",
      "Iteration 73 - Lambda: 0.7585312630941757, selected_count: 465: : 74it [00:08,  2.83it/s]\u001b[A\n",
      "Iteration 74 - Lambda: 0.7737018883560592, selected_count: 399: : 74it [00:08,  2.83it/s]\u001b[A\n",
      "Iteration 74 - Lambda: 0.7737018883560592, selected_count: 399: : 75it [00:08,  2.85it/s]\u001b[A\n",
      "Iteration 75 - Lambda: 0.7891759261231804, selected_count: 331: : 75it [00:08,  2.85it/s]\u001b[A\n",
      "Iteration 76 - Lambda: 0.8049594446456441, selected_count: 321: : 75it [00:08,  2.85it/s]\u001b[A\n",
      "Iteration 77 - Lambda: 0.8210586335385569, selected_count: 319: : 75it [00:09,  2.85it/s]\u001b[A\n",
      "Iteration 77 - Lambda: 0.8210586335385569, selected_count: 319: : 78it [00:09,  5.56it/s]\u001b[A\n",
      "Iteration 78 - Lambda: 0.837479806209328, selected_count: 310: : 78it [00:09,  5.56it/s] \u001b[A\n",
      "Iteration 79 - Lambda: 0.8542294023335146, selected_count: 304: : 78it [00:09,  5.56it/s]\u001b[A\n",
      "Iteration 80 - Lambda: 0.871313990380185, selected_count: 299: : 78it [00:09,  5.56it/s] \u001b[A\n",
      "Iteration 80 - Lambda: 0.871313990380185, selected_count: 299: : 81it [00:09,  8.42it/s]\u001b[A\n",
      "Iteration 81 - Lambda: 0.8887402701877887, selected_count: 288: : 81it [00:09,  8.42it/s]\u001b[A\n",
      "Iteration 82 - Lambda: 0.9065150755915444, selected_count: 281: : 81it [00:09,  8.42it/s]\u001b[A\n",
      "Iteration 83 - Lambda: 0.9246453771033754, selected_count: 269: : 81it [00:09,  8.42it/s]\u001b[A\n",
      "Iteration 83 - Lambda: 0.9246453771033754, selected_count: 269: : 84it [00:09, 11.22it/s]\u001b[A\n",
      "Iteration 84 - Lambda: 0.9431382846454429, selected_count: 258: : 84it [00:09, 11.22it/s]\u001b[A\n",
      "Iteration 85 - Lambda: 0.9620010503383518, selected_count: 247: : 84it [00:09, 11.22it/s]\u001b[A\n",
      "Iteration 86 - Lambda: 0.9812410713451188, selected_count: 238: : 84it [00:09, 11.22it/s]\u001b[A\n",
      "Iteration 86 - Lambda: 0.9812410713451188, selected_count: 238: : 87it [00:09, 13.68it/s]\u001b[A\n",
      "Iteration 87 - Lambda: 1.0008658927720213, selected_count: 234: : 87it [00:09, 13.68it/s]\u001b[A\n",
      "Iteration 88 - Lambda: 1.0208832106274617, selected_count: 228: : 87it [00:09, 13.68it/s]\u001b[A\n",
      "Iteration 89 - Lambda: 1.041300874840011, selected_count: 224: : 87it [00:09, 13.68it/s] \u001b[A\n",
      "Iteration 89 - Lambda: 1.041300874840011, selected_count: 224: : 90it [00:09, 16.06it/s]\u001b[A\n",
      "Iteration 90 - Lambda: 1.0621268923368112, selected_count: 214: : 90it [00:09, 16.06it/s]\u001b[A\n",
      "Iteration 91 - Lambda: 1.0833694301835475, selected_count: 207: : 90it [00:09, 16.06it/s]\u001b[A\n",
      "Iteration 92 - Lambda: 1.1050368187872184, selected_count: 195: : 90it [00:09, 16.06it/s]\u001b[A\n",
      "Iteration 92 - Lambda: 1.1050368187872184, selected_count: 195: : 93it [00:09, 17.82it/s]\u001b[A\n",
      "Iteration 93 - Lambda: 1.1271375551629628, selected_count: 184: : 93it [00:09, 17.82it/s]\u001b[A\n",
      "Iteration 94 - Lambda: 1.149680306266222, selected_count: 179: : 93it [00:09, 17.82it/s] \u001b[A\n",
      "Iteration 95 - Lambda: 1.1726739123915464, selected_count: 168: : 93it [00:09, 17.82it/s]\u001b[A\n",
      "Iteration 95 - Lambda: 1.1726739123915464, selected_count: 168: : 96it [00:09, 19.56it/s]\u001b[A\n",
      "Iteration 96 - Lambda: 1.1961273906393772, selected_count: 160: : 96it [00:09, 19.56it/s]\u001b[A\n",
      "Iteration 97 - Lambda: 1.2200499384521648, selected_count: 155: : 96it [00:09, 19.56it/s]\u001b[A\n",
      "Iteration 98 - Lambda: 1.244450937221208, selected_count: 148: : 96it [00:09, 19.56it/s] \u001b[A\n",
      "Iteration 98 - Lambda: 1.244450937221208, selected_count: 148: : 99it [00:09, 20.58it/s]\u001b[A\n",
      "Iteration 99 - Lambda: 1.2693399559656322, selected_count: 143: : 99it [00:09, 20.58it/s]\u001b[A\n",
      "Iteration 100 - Lambda: 1.2947267550849448, selected_count: 135: : 99it [00:09, 20.58it/s]\u001b[A\n",
      "Iteration 101 - Lambda: 1.3206212901866436, selected_count: 125: : 99it [00:10, 20.58it/s]\u001b[A\n",
      "Iteration 101 - Lambda: 1.3206212901866436, selected_count: 125: : 102it [00:10, 21.81it/s]\u001b[A\n",
      "Iteration 102 - Lambda: 1.3470337159903765, selected_count: 119: : 102it [00:10, 21.81it/s]\u001b[A\n",
      "Iteration 103 - Lambda: 1.373974390310184, selected_count: 110: : 102it [00:10, 21.81it/s] \u001b[A\n",
      "Iteration 104 - Lambda: 1.4014538781163877, selected_count: 100: : 102it [00:10, 21.81it/s]\u001b[A\n",
      "Iteration 104 - Lambda: 1.4014538781163877, selected_count: 100: : 105it [00:10, 22.70it/s]\u001b[A\n",
      "Iteration 105 - Lambda: 1.4294829556787154, selected_count: 91: : 105it [00:10, 22.70it/s] \u001b[A\n",
      "Iteration 106 - Lambda: 1.4580726147922898, selected_count: 84: : 105it [00:10, 22.70it/s]\u001b[A\n",
      "Iteration 107 - Lambda: 1.4872340670881357, selected_count: 78: : 105it [00:10, 22.70it/s]\u001b[A\n",
      "Iteration 107 - Lambda: 1.4872340670881357, selected_count: 78: : 108it [00:10, 22.86it/s]\u001b[A\n",
      "Iteration 108 - Lambda: 1.5169787484298984, selected_count: 71: : 108it [00:10, 22.86it/s]\u001b[A\n",
      "Iteration 109 - Lambda: 1.5473183233984964, selected_count: 60: : 108it [00:10, 22.86it/s]\u001b[A\n",
      "Iteration 110 - Lambda: 1.5782646898664663, selected_count: 48: : 108it [00:10, 22.86it/s]\u001b[A\n",
      "Iteration 110 - Lambda: 1.5782646898664663, selected_count: 48: : 111it [00:10, 23.25it/s]\u001b[A\n",
      "Iteration 111 - Lambda: 1.6098299836637957, selected_count: 46: : 111it [00:10, 23.25it/s]\u001b[A\n",
      "Iteration 112 - Lambda: 1.6420265833370717, selected_count: 45: : 111it [00:10, 23.25it/s]\u001b[A\n",
      "Iteration 113 - Lambda: 1.6748671150038132, selected_count: 38: : 111it [00:10, 23.25it/s]\u001b[A\n",
      "Iteration 113 - Lambda: 1.6748671150038132, selected_count: 38: : 114it [00:10, 23.47it/s]\u001b[A\n",
      "Iteration 114 - Lambda: 1.7083644573038896, selected_count: 34: : 114it [00:10, 23.47it/s]\u001b[A\n",
      "Iteration 115 - Lambda: 1.7425317464499674, selected_count: 33: : 114it [00:10, 23.47it/s]\u001b[A\n",
      "Iteration 116 - Lambda: 1.7773823813789669, selected_count: 28: : 114it [00:10, 23.47it/s]\u001b[A\n",
      "Iteration 116 - Lambda: 1.7773823813789669, selected_count: 28: : 117it [00:10, 23.69it/s]\u001b[A\n",
      "Iteration 117 - Lambda: 1.8129300290065462, selected_count: 18: : 117it [00:10, 23.69it/s]\u001b[A\n",
      "Iteration 118 - Lambda: 1.849188629586677, selected_count: 15: : 117it [00:10, 23.69it/s] \u001b[A\n",
      "Iteration 119 - Lambda: 1.8861724021784105, selected_count: 12: : 117it [00:10, 23.69it/s]\u001b[A\n",
      "Iteration 119 - Lambda: 1.8861724021784105, selected_count: 12: : 120it [00:10, 23.95it/s]\u001b[A\n",
      "Iteration 120 - Lambda: 1.9238958502219787, selected_count: 11: : 120it [00:10, 23.95it/s]\u001b[A\n",
      "Iteration 121 - Lambda: 1.9623737672264183, selected_count: 9: : 120it [00:10, 23.95it/s] \u001b[A\n",
      "Iteration 122 - Lambda: 2.0016212425709465, selected_count: 6: : 120it [00:10, 23.95it/s]\u001b[A\n",
      "Iteration 122 - Lambda: 2.0016212425709465, selected_count: 6: : 123it [00:10, 24.03it/s]\u001b[A\n",
      "Iteration 123 - Lambda: 2.0416536674223655, selected_count: 4: : 123it [00:10, 24.03it/s]\u001b[A\n",
      "Iteration 124 - Lambda: 2.082486740770813, selected_count: 4: : 123it [00:10, 24.03it/s] \u001b[A\n",
      "Iteration 125 - Lambda: 2.124136475586229, selected_count: 3: : 123it [00:11, 24.03it/s]\u001b[A\n",
      "Iteration 125 - Lambda: 2.124136475586229, selected_count: 3: : 126it [00:11, 24.08it/s]\u001b[A\n",
      "Iteration 126 - Lambda: 2.1666192050979536, selected_count: 2: : 126it [00:11, 24.08it/s]\u001b[A\n",
      "Iteration 127 - Lambda: 2.2099515891999126, selected_count: 2: : 126it [00:11, 24.08it/s]\u001b[A\n",
      "Iteration 128 - Lambda: 2.254150620983911, selected_count: 1: : 128it [00:11, 11.50it/s] \u001b[A\n",
      "\n",
      "0it [00:00, ?it/s]\u001b[A\n",
      "Iteration 0 - Lambda: 0.1906447410583496, selected_count: 1160: : 0it [00:00, ?it/s]\u001b[A\n",
      "Iteration 1 - Lambda: 0.19445763587951662, selected_count: 1160: : 0it [00:00, ?it/s]\u001b[A\n",
      "Iteration 2 - Lambda: 0.19834678859710694, selected_count: 1160: : 0it [00:00, ?it/s]\u001b[A\n",
      "Iteration 2 - Lambda: 0.19834678859710694, selected_count: 1160: : 3it [00:00, 24.39it/s]\u001b[A\n",
      "Iteration 3 - Lambda: 0.2023137243690491, selected_count: 1160: : 3it [00:00, 24.39it/s] \u001b[A\n",
      "Iteration 4 - Lambda: 0.20635999885643008, selected_count: 1160: : 3it [00:00, 24.39it/s]\u001b[A\n",
      "Iteration 5 - Lambda: 0.21048719883355868, selected_count: 1160: : 3it [00:00, 24.39it/s]\u001b[A\n",
      "Iteration 5 - Lambda: 0.21048719883355868, selected_count: 1160: : 6it [00:00, 24.75it/s]\u001b[A\n",
      "Iteration 6 - Lambda: 0.21469694281022986, selected_count: 1160: : 6it [00:00, 24.75it/s]\u001b[A\n",
      "Iteration 7 - Lambda: 0.21899088166643446, selected_count: 1160: : 6it [00:00, 24.75it/s]\u001b[A\n",
      "Iteration 8 - Lambda: 0.22337069929976316, selected_count: 1160: : 6it [00:00, 24.75it/s]\u001b[A\n",
      "Iteration 8 - Lambda: 0.22337069929976316, selected_count: 1160: : 9it [00:00, 24.67it/s]\u001b[A\n",
      "Iteration 9 - Lambda: 0.22783811328575843, selected_count: 1160: : 9it [00:00, 24.67it/s]\u001b[A\n",
      "Iteration 10 - Lambda: 0.2323948755514736, selected_count: 1160: : 9it [00:00, 24.67it/s]\u001b[A\n",
      "Iteration 11 - Lambda: 0.23704277306250307, selected_count: 1160: : 9it [00:00, 24.67it/s]\u001b[A\n",
      "Iteration 11 - Lambda: 0.23704277306250307, selected_count: 1160: : 12it [00:00, 24.25it/s]\u001b[A\n",
      "Iteration 12 - Lambda: 0.24178362852375312, selected_count: 1160: : 12it [00:00, 24.25it/s]\u001b[A\n",
      "Iteration 13 - Lambda: 0.2466193010942282, selected_count: 1160: : 12it [00:00, 24.25it/s] \u001b[A\n",
      "Iteration 14 - Lambda: 0.25155168711611275, selected_count: 1160: : 12it [00:00, 24.25it/s]\u001b[A\n",
      "Iteration 14 - Lambda: 0.25155168711611275, selected_count: 1160: : 15it [00:00, 24.37it/s]\u001b[A\n",
      "Iteration 15 - Lambda: 0.25658272085843503, selected_count: 1160: : 15it [00:00, 24.37it/s]\u001b[A\n",
      "Iteration 16 - Lambda: 0.26171437527560376, selected_count: 1160: : 15it [00:00, 24.37it/s]\u001b[A\n",
      "Iteration 17 - Lambda: 0.26694866278111584, selected_count: 1160: : 15it [00:00, 24.37it/s]\u001b[A\n",
      "Iteration 17 - Lambda: 0.26694866278111584, selected_count: 1160: : 18it [00:00, 24.31it/s]\u001b[A\n",
      "Iteration 18 - Lambda: 0.27228763603673817, selected_count: 1160: : 18it [00:00, 24.31it/s]\u001b[A\n",
      "Iteration 19 - Lambda: 0.27773338875747294, selected_count: 1160: : 18it [00:00, 24.31it/s]\u001b[A\n",
      "Iteration 20 - Lambda: 0.2832880565326224, selected_count: 1160: : 18it [00:00, 24.31it/s] \u001b[A\n",
      "Iteration 20 - Lambda: 0.2832880565326224, selected_count: 1160: : 21it [00:00, 24.40it/s]\u001b[A\n",
      "Iteration 21 - Lambda: 0.2889538176632749, selected_count: 1160: : 21it [00:00, 24.40it/s]\u001b[A\n",
      "Iteration 22 - Lambda: 0.2947328940165404, selected_count: 1157: : 21it [00:00, 24.40it/s]\u001b[A\n",
      "Iteration 23 - Lambda: 0.30062755189687124, selected_count: 1156: : 21it [00:00, 24.40it/s]\u001b[A\n",
      "Iteration 23 - Lambda: 0.30062755189687124, selected_count: 1156: : 24it [00:00, 24.21it/s]\u001b[A\n",
      "Iteration 24 - Lambda: 0.30664010293480864, selected_count: 1156: : 24it [00:00, 24.21it/s]\u001b[A\n",
      "Iteration 25 - Lambda: 0.3127729049935048, selected_count: 1156: : 24it [00:01, 24.21it/s] \u001b[A\n",
      "Iteration 26 - Lambda: 0.3190283630933749, selected_count: 1156: : 24it [00:01, 24.21it/s]\u001b[A\n",
      "Iteration 26 - Lambda: 0.3190283630933749, selected_count: 1156: : 27it [00:01, 24.14it/s]\u001b[A\n",
      "Iteration 27 - Lambda: 0.32540893035524243, selected_count: 1156: : 27it [00:01, 24.14it/s]\u001b[A\n",
      "Iteration 28 - Lambda: 0.3319171089623473, selected_count: 1155: : 27it [00:01, 24.14it/s] \u001b[A\n",
      "Iteration 29 - Lambda: 0.33855545114159424, selected_count: 1155: : 27it [00:01, 24.14it/s]\u001b[A\n",
      "Iteration 29 - Lambda: 0.33855545114159424, selected_count: 1155: : 30it [00:01, 24.22it/s]\u001b[A\n",
      "Iteration 30 - Lambda: 0.34532656016442614, selected_count: 1155: : 30it [00:01, 24.22it/s]\u001b[A\n",
      "Iteration 31 - Lambda: 0.3522330913677147, selected_count: 1155: : 30it [00:01, 24.22it/s] \u001b[A\n",
      "Iteration 32 - Lambda: 0.359277753195069, selected_count: 1154: : 30it [00:01, 24.22it/s] \u001b[A\n",
      "Iteration 32 - Lambda: 0.359277753195069, selected_count: 1154: : 33it [00:01, 24.21it/s]\u001b[A\n",
      "Iteration 33 - Lambda: 0.3664633082589704, selected_count: 1154: : 33it [00:01, 24.21it/s]\u001b[A\n",
      "Iteration 34 - Lambda: 0.3737925744241498, selected_count: 1154: : 33it [00:01, 24.21it/s]\u001b[A\n",
      "Iteration 35 - Lambda: 0.3812684259126328, selected_count: 1154: : 33it [00:01, 24.21it/s]\u001b[A\n",
      "Iteration 35 - Lambda: 0.3812684259126328, selected_count: 1154: : 36it [00:01, 24.27it/s]\u001b[A\n",
      "Iteration 36 - Lambda: 0.3888937944308855, selected_count: 1154: : 36it [00:01, 24.27it/s]\u001b[A\n",
      "Iteration 37 - Lambda: 0.39667167031950323, selected_count: 1153: : 36it [00:01, 24.27it/s]\u001b[A\n",
      "Iteration 38 - Lambda: 0.4046051037258933, selected_count: 1153: : 36it [00:01, 24.27it/s] \u001b[A\n",
      "Iteration 38 - Lambda: 0.4046051037258933, selected_count: 1153: : 39it [00:01, 24.42it/s]\u001b[A\n",
      "Iteration 39 - Lambda: 0.4126972058004112, selected_count: 1153: : 39it [00:01, 24.42it/s]\u001b[A\n",
      "Iteration 40 - Lambda: 0.4209511499164194, selected_count: 1152: : 39it [00:01, 24.42it/s]\u001b[A\n",
      "Iteration 41 - Lambda: 0.4293701729147478, selected_count: 1152: : 39it [00:01, 24.42it/s]\u001b[A\n",
      "Iteration 41 - Lambda: 0.4293701729147478, selected_count: 1152: : 42it [00:01, 24.29it/s]\u001b[A\n",
      "Iteration 42 - Lambda: 0.4379575763730428, selected_count: 1152: : 42it [00:01, 24.29it/s]\u001b[A\n",
      "Iteration 43 - Lambda: 0.44671672790050365, selected_count: 1151: : 42it [00:01, 24.29it/s]\u001b[A\n",
      "Iteration 44 - Lambda: 0.4556510624585137, selected_count: 1150: : 42it [00:01, 24.29it/s] \u001b[A\n",
      "Iteration 44 - Lambda: 0.4556510624585137, selected_count: 1150: : 45it [00:01, 24.44it/s]\u001b[A\n",
      "Iteration 45 - Lambda: 0.464764083707684, selected_count: 1150: : 45it [00:01, 24.44it/s] \u001b[A\n",
      "Iteration 46 - Lambda: 0.4740593653818377, selected_count: 1150: : 45it [00:01, 24.44it/s]\u001b[A\n",
      "Iteration 47 - Lambda: 0.48354055268947443, selected_count: 1149: : 45it [00:01, 24.44it/s]\u001b[A\n",
      "Iteration 47 - Lambda: 0.48354055268947443, selected_count: 1149: : 48it [00:01, 24.37it/s]\u001b[A\n",
      "Iteration 48 - Lambda: 0.4932113637432639, selected_count: 1147: : 48it [00:01, 24.37it/s] \u001b[A\n",
      "Iteration 49 - Lambda: 0.5030755910181292, selected_count: 1147: : 48it [00:02, 24.37it/s]\u001b[A\n",
      "Iteration 50 - Lambda: 0.5131371028384918, selected_count: 1135: : 48it [00:02, 24.37it/s]\u001b[A\n",
      "Iteration 50 - Lambda: 0.5131371028384918, selected_count: 1135: : 51it [00:02,  9.29it/s]\u001b[A\n",
      "Iteration 51 - Lambda: 0.5233998448952616, selected_count: 1128: : 51it [00:02,  9.29it/s]\u001b[A\n",
      "Iteration 52 - Lambda: 0.5338678417931668, selected_count: 1113: : 51it [00:03,  9.29it/s]\u001b[A\n",
      "Iteration 52 - Lambda: 0.5338678417931668, selected_count: 1113: : 53it [00:03,  6.05it/s]\u001b[A\n",
      "Iteration 53 - Lambda: 0.5445451986290302, selected_count: 1093: : 53it [00:03,  6.05it/s]\u001b[A\n",
      "Iteration 54 - Lambda: 0.5554361026016108, selected_count: 1076: : 53it [00:03,  6.05it/s]\u001b[A\n",
      "Iteration 54 - Lambda: 0.5554361026016108, selected_count: 1076: : 55it [00:04,  4.69it/s]\u001b[A\n",
      "Iteration 55 - Lambda: 0.566544824653643, selected_count: 1053: : 55it [00:04,  4.69it/s] \u001b[A\n",
      "Iteration 56 - Lambda: 0.5778757211467158, selected_count: 1031: : 55it [00:04,  4.69it/s]\u001b[A\n",
      "Iteration 56 - Lambda: 0.5778757211467158, selected_count: 1031: : 57it [00:04,  3.98it/s]\u001b[A\n",
      "Iteration 57 - Lambda: 0.5894332355696501, selected_count: 984: : 57it [00:04,  3.98it/s] \u001b[A\n",
      "Iteration 57 - Lambda: 0.5894332355696501, selected_count: 984: : 58it [00:05,  3.72it/s]\u001b[A\n",
      "Iteration 58 - Lambda: 0.6012219002810432, selected_count: 938: : 58it [00:05,  3.72it/s]\u001b[A\n",
      "Iteration 58 - Lambda: 0.6012219002810432, selected_count: 938: : 59it [00:05,  3.50it/s]\u001b[A\n",
      "Iteration 59 - Lambda: 0.6132463382866641, selected_count: 896: : 59it [00:05,  3.50it/s]\u001b[A\n",
      "Iteration 59 - Lambda: 0.6132463382866641, selected_count: 896: : 60it [00:06,  3.32it/s]\u001b[A\n",
      "Iteration 60 - Lambda: 0.6255112650523974, selected_count: 854: : 60it [00:06,  3.32it/s]\u001b[A\n",
      "Iteration 60 - Lambda: 0.6255112650523974, selected_count: 854: : 61it [00:06,  3.16it/s]\u001b[A\n",
      "Iteration 61 - Lambda: 0.6380214903534454, selected_count: 811: : 61it [00:06,  3.16it/s]\u001b[A\n",
      "Iteration 61 - Lambda: 0.6380214903534454, selected_count: 811: : 62it [00:06,  3.05it/s]\u001b[A\n",
      "Iteration 62 - Lambda: 0.6507819201605143, selected_count: 751: : 62it [00:06,  3.05it/s]\u001b[A\n",
      "Iteration 62 - Lambda: 0.6507819201605143, selected_count: 751: : 63it [00:07,  2.96it/s]\u001b[A\n",
      "Iteration 63 - Lambda: 0.6637975585637246, selected_count: 677: : 63it [00:07,  2.96it/s]\u001b[A\n",
      "Iteration 63 - Lambda: 0.6637975585637246, selected_count: 677: : 64it [00:07,  2.89it/s]\u001b[A\n",
      "Iteration 64 - Lambda: 0.6770735097349991, selected_count: 607: : 64it [00:07,  2.89it/s]\u001b[A\n",
      "Iteration 64 - Lambda: 0.6770735097349991, selected_count: 607: : 65it [00:07,  2.85it/s]\u001b[A\n",
      "Iteration 65 - Lambda: 0.6906149799296991, selected_count: 524: : 65it [00:07,  2.85it/s]\u001b[A\n",
      "Iteration 65 - Lambda: 0.6906149799296991, selected_count: 524: : 66it [00:08,  2.80it/s]\u001b[A\n",
      "Iteration 66 - Lambda: 0.7044272795282931, selected_count: 439: : 66it [00:08,  2.80it/s]\u001b[A\n",
      "Iteration 66 - Lambda: 0.7044272795282931, selected_count: 439: : 67it [00:08,  2.78it/s]\u001b[A\n",
      "Iteration 67 - Lambda: 0.7185158251188589, selected_count: 364: : 67it [00:08,  2.78it/s]\u001b[A\n",
      "Iteration 68 - Lambda: 0.7328861416212361, selected_count: 353: : 67it [00:08,  2.78it/s]\u001b[A\n",
      "Iteration 68 - Lambda: 0.7328861416212361, selected_count: 353: : 69it [00:08,  3.79it/s]\u001b[A\n",
      "Iteration 69 - Lambda: 0.7475438644536608, selected_count: 303: : 69it [00:08,  3.79it/s]\u001b[A\n",
      "Iteration 70 - Lambda: 0.762494741742734, selected_count: 298: : 69it [00:08,  3.79it/s] \u001b[A\n",
      "Iteration 71 - Lambda: 0.7777446365775887, selected_count: 292: : 69it [00:08,  3.79it/s]\u001b[A\n",
      "Iteration 71 - Lambda: 0.7777446365775887, selected_count: 292: : 72it [00:09,  6.48it/s]\u001b[A\n",
      "Iteration 72 - Lambda: 0.7932995293091405, selected_count: 287: : 72it [00:09,  6.48it/s]\u001b[A\n",
      "Iteration 73 - Lambda: 0.8091655198953234, selected_count: 280: : 72it [00:09,  6.48it/s]\u001b[A\n",
      "Iteration 74 - Lambda: 0.8253488302932298, selected_count: 273: : 72it [00:09,  6.48it/s]\u001b[A\n",
      "Iteration 74 - Lambda: 0.8253488302932298, selected_count: 273: : 75it [00:09,  9.29it/s]\u001b[A\n",
      "Iteration 75 - Lambda: 0.8418558068990944, selected_count: 268: : 75it [00:09,  9.29it/s]\u001b[A\n",
      "Iteration 76 - Lambda: 0.8586929230370763, selected_count: 263: : 75it [00:09,  9.29it/s]\u001b[A\n",
      "Iteration 77 - Lambda: 0.8758667814978178, selected_count: 257: : 75it [00:09,  9.29it/s]\u001b[A\n",
      "Iteration 77 - Lambda: 0.8758667814978178, selected_count: 257: : 78it [00:09, 12.06it/s]\u001b[A\n",
      "Iteration 78 - Lambda: 0.8933841171277742, selected_count: 249: : 78it [00:09, 12.06it/s]\u001b[A\n",
      "Iteration 79 - Lambda: 0.9112517994703297, selected_count: 244: : 78it [00:09, 12.06it/s]\u001b[A\n",
      "Iteration 80 - Lambda: 0.9294768354597364, selected_count: 239: : 78it [00:09, 12.06it/s]\u001b[A\n",
      "Iteration 80 - Lambda: 0.9294768354597364, selected_count: 239: : 81it [00:09, 14.57it/s]\u001b[A\n",
      "Iteration 81 - Lambda: 0.9480663721689311, selected_count: 229: : 81it [00:09, 14.57it/s]\u001b[A\n",
      "Iteration 82 - Lambda: 0.9670276996123097, selected_count: 224: : 81it [00:09, 14.57it/s]\u001b[A\n",
      "Iteration 83 - Lambda: 0.9863682536045559, selected_count: 220: : 81it [00:09, 14.57it/s]\u001b[A\n",
      "Iteration 83 - Lambda: 0.9863682536045559, selected_count: 220: : 84it [00:09, 16.84it/s]\u001b[A\n",
      "Iteration 84 - Lambda: 1.006095618676647, selected_count: 212: : 84it [00:09, 16.84it/s] \u001b[A\n",
      "Iteration 85 - Lambda: 1.02621753105018, selected_count: 208: : 84it [00:09, 16.84it/s] \u001b[A\n",
      "Iteration 86 - Lambda: 1.0467418816711835, selected_count: 204: : 84it [00:09, 16.84it/s]\u001b[A\n",
      "Iteration 86 - Lambda: 1.0467418816711835, selected_count: 204: : 87it [00:09, 18.62it/s]\u001b[A\n",
      "Iteration 87 - Lambda: 1.0676767193046073, selected_count: 196: : 87it [00:09, 18.62it/s]\u001b[A\n",
      "Iteration 88 - Lambda: 1.0890302536906995, selected_count: 188: : 87it [00:09, 18.62it/s]\u001b[A\n",
      "Iteration 89 - Lambda: 1.1108108587645136, selected_count: 181: : 87it [00:09, 18.62it/s]\u001b[A\n",
      "Iteration 89 - Lambda: 1.1108108587645136, selected_count: 181: : 90it [00:09, 19.99it/s]\u001b[A\n",
      "Iteration 90 - Lambda: 1.1330270759398038, selected_count: 174: : 90it [00:09, 19.99it/s]\u001b[A\n",
      "Iteration 91 - Lambda: 1.1556876174586, selected_count: 170: : 90it [00:09, 19.99it/s]   \u001b[A\n",
      "Iteration 92 - Lambda: 1.178801369807772, selected_count: 160: : 90it [00:09, 19.99it/s]\u001b[A\n",
      "Iteration 92 - Lambda: 1.178801369807772, selected_count: 160: : 93it [00:09, 21.27it/s]\u001b[A\n",
      "Iteration 93 - Lambda: 1.2023773972039273, selected_count: 151: : 93it [00:09, 21.27it/s]\u001b[A\n",
      "Iteration 94 - Lambda: 1.2264249451480058, selected_count: 145: : 93it [00:09, 21.27it/s]\u001b[A\n",
      "Iteration 95 - Lambda: 1.250953444050966, selected_count: 135: : 93it [00:09, 21.27it/s] \u001b[A\n",
      "Iteration 95 - Lambda: 1.250953444050966, selected_count: 135: : 96it [00:10, 21.99it/s]\u001b[A\n",
      "Iteration 96 - Lambda: 1.2759725129319852, selected_count: 128: : 96it [00:10, 21.99it/s]\u001b[A\n",
      "Iteration 97 - Lambda: 1.301491963190625, selected_count: 123: : 96it [00:10, 21.99it/s] \u001b[A\n",
      "Iteration 98 - Lambda: 1.3275218024544375, selected_count: 117: : 96it [00:10, 21.99it/s]\u001b[A\n",
      "Iteration 98 - Lambda: 1.3275218024544375, selected_count: 117: : 99it [00:10, 22.67it/s]\u001b[A\n",
      "Iteration 99 - Lambda: 1.3540722385035262, selected_count: 110: : 99it [00:10, 22.67it/s]\u001b[A\n",
      "Iteration 100 - Lambda: 1.3811536832735967, selected_count: 104: : 99it [00:10, 22.67it/s]\u001b[A\n",
      "Iteration 101 - Lambda: 1.4087767569390686, selected_count: 96: : 99it [00:10, 22.67it/s] \u001b[A\n",
      "Iteration 101 - Lambda: 1.4087767569390686, selected_count: 96: : 102it [00:10, 23.00it/s]\u001b[A\n",
      "Iteration 102 - Lambda: 1.43695229207785, selected_count: 88: : 102it [00:10, 23.00it/s]  \u001b[A\n",
      "Iteration 103 - Lambda: 1.465691337919407, selected_count: 80: : 102it [00:10, 23.00it/s]\u001b[A\n",
      "Iteration 104 - Lambda: 1.495005164677795, selected_count: 75: : 102it [00:10, 23.00it/s]\u001b[A\n",
      "Iteration 104 - Lambda: 1.495005164677795, selected_count: 75: : 105it [00:10, 23.46it/s]\u001b[A\n",
      "Iteration 105 - Lambda: 1.524905267971351, selected_count: 69: : 105it [00:10, 23.46it/s]\u001b[A\n",
      "Iteration 106 - Lambda: 1.5554033733307782, selected_count: 67: : 105it [00:10, 23.46it/s]\u001b[A\n",
      "Iteration 107 - Lambda: 1.5865114407973937, selected_count: 61: : 105it [00:10, 23.46it/s]\u001b[A\n",
      "Iteration 107 - Lambda: 1.5865114407973937, selected_count: 61: : 108it [00:10, 23.62it/s]\u001b[A\n",
      "Iteration 108 - Lambda: 1.6182416696133417, selected_count: 51: : 108it [00:10, 23.62it/s]\u001b[A\n",
      "Iteration 109 - Lambda: 1.6506065030056085, selected_count: 47: : 108it [00:10, 23.62it/s]\u001b[A\n",
      "Iteration 110 - Lambda: 1.6836186330657208, selected_count: 42: : 108it [00:10, 23.62it/s]\u001b[A\n",
      "Iteration 110 - Lambda: 1.6836186330657208, selected_count: 42: : 111it [00:10, 23.96it/s]\u001b[A\n",
      "Iteration 111 - Lambda: 1.7172910057270352, selected_count: 40: : 111it [00:10, 23.96it/s]\u001b[A\n",
      "Iteration 112 - Lambda: 1.751636825841576, selected_count: 34: : 111it [00:10, 23.96it/s] \u001b[A\n",
      "Iteration 113 - Lambda: 1.7866695623584075, selected_count: 29: : 111it [00:10, 23.96it/s]\u001b[A\n",
      "Iteration 113 - Lambda: 1.7866695623584075, selected_count: 29: : 114it [00:10, 24.21it/s]\u001b[A\n",
      "Iteration 114 - Lambda: 1.8224029536055757, selected_count: 21: : 114it [00:10, 24.21it/s]\u001b[A\n",
      "Iteration 115 - Lambda: 1.8588510126776872, selected_count: 17: : 114it [00:10, 24.21it/s]\u001b[A\n",
      "Iteration 116 - Lambda: 1.896028032931241, selected_count: 15: : 114it [00:10, 24.21it/s] \u001b[A\n",
      "Iteration 116 - Lambda: 1.896028032931241, selected_count: 15: : 117it [00:10, 24.32it/s]\u001b[A\n",
      "Iteration 117 - Lambda: 1.9339485935898657, selected_count: 12: : 117it [00:10, 24.32it/s]\u001b[A\n",
      "Iteration 118 - Lambda: 1.972627565461663, selected_count: 9: : 117it [00:10, 24.32it/s]  \u001b[A\n",
      "Iteration 119 - Lambda: 2.012080116770896, selected_count: 6: : 117it [00:10, 24.32it/s]\u001b[A\n",
      "Iteration 119 - Lambda: 2.012080116770896, selected_count: 6: : 120it [00:11, 23.99it/s]\u001b[A\n",
      "Iteration 120 - Lambda: 2.052321719106314, selected_count: 5: : 120it [00:11, 23.99it/s]\u001b[A\n",
      "Iteration 121 - Lambda: 2.0933681534884405, selected_count: 5: : 120it [00:11, 23.99it/s]\u001b[A\n",
      "Iteration 122 - Lambda: 2.1352355165582093, selected_count: 4: : 120it [00:11, 23.99it/s]\u001b[A\n",
      "Iteration 122 - Lambda: 2.1352355165582093, selected_count: 4: : 123it [00:11, 24.17it/s]\u001b[A\n",
      "Iteration 123 - Lambda: 2.1779402268893735, selected_count: 4: : 123it [00:11, 24.17it/s]\u001b[A\n",
      "Iteration 124 - Lambda: 2.221499031427161, selected_count: 4: : 123it [00:11, 24.17it/s] \u001b[A\n",
      "Iteration 125 - Lambda: 2.2659290120557043, selected_count: 3: : 123it [00:11, 24.17it/s]\u001b[A\n",
      "Iteration 125 - Lambda: 2.2659290120557043, selected_count: 3: : 126it [00:11, 23.94it/s]\u001b[A\n",
      "Iteration 126 - Lambda: 2.3112475922968185, selected_count: 3: : 126it [00:11, 23.94it/s]\u001b[A\n",
      "Iteration 127 - Lambda: 2.357472544142755, selected_count: 3: : 126it [00:11, 23.94it/s] \u001b[A\n",
      "Iteration 128 - Lambda: 2.40462199502561, selected_count: 3: : 126it [00:11, 23.94it/s] \u001b[A\n",
      "Iteration 128 - Lambda: 2.40462199502561, selected_count: 3: : 129it [00:11, 23.90it/s]\u001b[A\n",
      "Iteration 129 - Lambda: 2.452714434926122, selected_count: 2: : 129it [00:11, 23.90it/s]\u001b[A\n",
      "Iteration 130 - Lambda: 2.5017687236246444, selected_count: 2: : 129it [00:11, 23.90it/s]\u001b[A\n",
      "Iteration 131 - Lambda: 2.5518040980971373, selected_count: 2: : 129it [00:11, 23.90it/s]\u001b[A\n",
      "Iteration 131 - Lambda: 2.5518040980971373, selected_count: 2: : 132it [00:11, 23.99it/s]\u001b[A\n",
      "Iteration 132 - Lambda: 2.60284018005908, selected_count: 1: : 132it [00:11, 11.47it/s]  \u001b[A\n"
     ]
    },
    {
     "data": {
      "image/png": "[encoded data removed]",
      "text/plain": [
       "<Figure size 864x864 with 3 Axes>"
      ]
     },
     "metadata": {
      "needs_background": "light"
     },
     "output_type": "display_data"
    }
   ],
   "source": [
    "models_lassonet, paths_lassonet = train_lassonet(c1_r10, \"c1_r10\", load_models=False)\n",
    "all_n_selected, all_accuracy, all_lambda_ = plot_metrics(models_lassonet, paths_lassonet)"
   ]
  },
  {
   "cell_type": "markdown",
   "metadata": {
    "id": "dOTDeTn-aGfx"
   },
   "source": [
    "## Examine Sparsity"
   ]
  },
  {
   "cell_type": "code",
   "execution_count": 23,
   "metadata": {
    "colab": {
     "base_uri": "https://localhost:8080/",
     "height": 795
    },
    "id": "Z1UqKn7voJuw",
    "outputId": "43408399-6f03-48ad-c1bf-9466c2cdd809"
   },
   "outputs": [
    {
     "name": "stdout",
     "output_type": "stream",
     "text": [
      "Model number: 252\n"
     ]
    },
    {
     "name": "stderr",
     "output_type": "stream",
     "text": [
      "C:\\Users\\William\\anaconda3\\envs\\stat195project\\lib\\site-packages\\ipykernel_launcher.py:5: VisibleDeprecationWarning: Creating an ndarray from ragged nested sequences (which is a list-or-tuple of lists-or-tuples-or ndarrays with different lengths or shapes) is deprecated. If you meant to do this, you must specify 'dtype=object' when creating the ndarray.\n",
      "  \"\"\"\n"
     ]
    },
    {
     "data": {
      "image/png": "[encoded data removed]",
      "text/plain": [
       "<Figure size 720x360 with 1 Axes>"
      ]
     },
     "metadata": {
      "needs_background": "light"
     },
     "output_type": "display_data"
    },
    {
     "name": "stdout",
     "output_type": "stream",
     "text": [
      "Model number: 69\n"
     ]
    },
    {
     "data": {
      "image/png": "[encoded data removed]",
      "text/plain": [
       "<Figure size 720x360 with 1 Axes>"
      ]
     },
     "metadata": {
      "needs_background": "light"
     },
     "output_type": "display_data"
    },
    {
     "name": "stdout",
     "output_type": "stream",
     "text": [
      "Model number: 62\n"
     ]
    },
    {
     "data": {
      "image/png": "[encoded data removed]",
      "text/plain": [
       "<Figure size 720x360 with 1 Axes>"
      ]
     },
     "metadata": {
      "needs_background": "light"
     },
     "output_type": "display_data"
    }
   ],
   "source": [
    "# view sparse locations on example model\n",
    "\n",
    "N_FEATURES = 800 # determine by inspection\n",
    "\n",
    "all_n_selected = np.array(all_n_selected) # default sorted from greatest to least\n",
    "indices = [] # indices of particular model to choose from path of models, one index for each model in ensemble\n",
    "\n",
    "# examine 3 example\n",
    "for i in range(NUM_MODELS):\n",
    "    n_selected = all_n_selected[i]\n",
    "    idx = list(n_features < N_FEATURES for n_features in n_selected).index(True) # find first index with number of features < N_FEATURES\n",
    "    paths_lassonet[i][idx].selected.reshape(29, 2, 20).numpy()\n",
    "    indices.append(idx)\n",
    "\n",
    "    print(\"Model number:\", idx)\n",
    "    plt.figure(figsize=(10, 5))\n",
    "    plt.imshow(paths_lassonet[i][idx].selected.reshape(29, 2, 20).reshape(58, 20).numpy().T, cmap='hot', interpolation='nearest')\n",
    "    plt.savefig(\"c1_r10_sparsity.png\")\n",
    "    plt.show()\n",
    "\n",
    "    # white pixels are 1 and black pixels are 0\n",
    "    # left: substitution, right: insertion\n",
    "    # looks like insertions have so much effect"
   ]
  },
  {
   "cell_type": "markdown",
   "metadata": {
    "id": "EAclExs4aJuV"
   },
   "source": [
    "# Model-selected Seeds"
   ]
  },
  {
   "cell_type": "code",
   "execution_count": 24,
   "metadata": {
    "id": "rE6p0MXwLxE1"
   },
   "outputs": [],
   "source": [
    "NUM_SAMPLES_PER_MUTATION = int(1000)\n",
    "N_LARGEST_VIABILITIES_SEED = 50\n",
    "mut_dists = np.arange(5, 26)\n",
    "load_samples = False\n",
    "\n",
    "WT_ENCODED = mut_encoder.encode(R1_TILE21_WT_SEQ).reshape(-1, 20)\n",
    "\n",
    "# let's store everything as a (58, 20) object"
   ]
  },
  {
   "cell_type": "markdown",
   "metadata": {
    "id": "U24I-LLmztrX"
   },
   "source": [
    "## Create Samples"
   ]
  },
  {
   "cell_type": "code",
   "execution_count": 25,
   "metadata": {
    "colab": {
     "base_uri": "https://localhost:8080/",
     "height": 49,
     "referenced_widgets": [
      "ed2a422332a04cd7b1f744c853afd596",
      "37eb1689805146898507d10e8f42fa64",
      "e9659d171e804b5b80218c581fcb8452",
      "0b3e89fe1e8a4ecbbe3ccb6925f1680b",
      "2a2d1ad687f641fc9bac97009dedca98",
      "c5fa31cb00754237bbcd7fca376aa9fe",
      "b63123ebba7f47d18364af3c45b0f49a",
      "ac90b586d2884ef7834e0fdd3d9b70ba",
      "6e1b3d0d036141a19ebf36b571461a25",
      "ea07fd8096cd484d9c5962077f77e13f",
      "a825916607134a07abbcf5a4895ef997"
     ]
    },
    "id": "5JA6ARoraMaS",
    "outputId": "ffaa6791-599f-4a04-9223-66c3d9b00589"
   },
   "outputs": [
    {
     "data": {
      "application/vnd.jupyter.widget-view+json": {
       "model_id": "e69ab592e1a54c6f86f964fe3e831d24",
       "version_major": 2,
       "version_minor": 0
      },
      "text/plain": [
       "  0%|          | 0/21 [00:00<?, ?it/s]"
      ]
     },
     "metadata": {},
     "output_type": "display_data"
    }
   ],
   "source": [
    "# create initial samples at every level of mutation\n",
    "\n",
    "if load_samples:\n",
    "    with open(\"samples.pkl\", \"rb\") as file:\n",
    "        samples = pickle.load(file)\n",
    "else:\n",
    "    samples = {mut_dist: [] for mut_dist in mut_dists}\n",
    "\n",
    "    for mut_dist in tqdm(mut_dists):\n",
    "        for i in range(NUM_SAMPLES_PER_MUTATION):\n",
    "            sample_indices = np.random.choice(np.arange(1, 58), size=mut_dist, replace=False) # don't sample prefix substitution\n",
    "            sample = np.copy(WT_ENCODED)\n",
    "            for mut in sample_indices:\n",
    "                if mut % 2 == 0: # if it is a substitution / part of the original sequence\n",
    "                    idx = np.argmax(res_encoder.encode(R1_TILE21_WT_SEQ[(mut-1)//2]))\n",
    "                    residues_excluding_wt = np.setdiff1d(np.arange(20),np.array(idx)) # exclude wildtype from possible choices\n",
    "                    residue_idx = np.random.choice(residues_excluding_wt)\n",
    "                else:\n",
    "                    residue_idx = np.random.choice(np.arange(20))\n",
    "                sample[mut] = np.zeros(20)\n",
    "                sample[mut][residue_idx] = 1\n",
    "            samples[mut_dist].append(sample)\n",
    "\n",
    "if not load_samples:\n",
    "    with open(\"samples.pkl\", \"wb\") as file:\n",
    "        pickle.dump(samples, file)"
   ]
  },
  {
   "cell_type": "code",
   "execution_count": 26,
   "metadata": {
    "id": "Ki2aW3zpgqTI"
   },
   "outputs": [],
   "source": [
    "def calculate_mut_dist(sample):\n",
    "    ans = 0\n",
    "    for mut1, mut2 in zip(sample.reshape(-1, 20), WT_ENCODED.reshape(-1, 20)):\n",
    "        if np.any(mut1 != mut2):\n",
    "            ans += 1\n",
    "    return ans"
   ]
  },
  {
   "cell_type": "code",
   "execution_count": 27,
   "metadata": {
    "id": "su9Y7QQIzacf"
   },
   "outputs": [],
   "source": [
    "# model selected seeds\n",
    "\n",
    "def generate_best_muts(models, paths=None, samples=samples, topk=N_LARGEST_VIABILITIES_SEED):\n",
    "    \"\"\"\n",
    "    Given ensemble of models and samples, generate the top k viable samples for each mutation distance\n",
    "    If paths=None, can be used for logistic regression, etc.\n",
    "    \"\"\"\n",
    "    seeds = {mut_dist: [] for mut_dist in mut_dists}\n",
    "\n",
    "    for mut_dist in mut_dists:\n",
    "        # print(f\"Mutation distance: {mut_dist}\")\n",
    "        ensemble_y_pred_proba = np.zeros((NUM_MODELS, len(samples[mut_dist]), 2))\n",
    "        for i in range(NUM_MODELS):\n",
    "            if paths != None:\n",
    "                save = paths[i][indices[i]] # choose model from path of models\n",
    "                models[i].load(save.state_dict)\n",
    "            ensemble_y_pred_proba[i] = models[i].predict_proba(np.array(samples[mut_dist]).reshape(-1, 1160))\n",
    "        viable_proba = np.mean(ensemble_y_pred_proba, axis=0)[:,1] # probabilities of viabile\n",
    "        top_viable_indices = np.argpartition(viable_proba, -topk)[-topk:]\n",
    "\n",
    "        seeds[mut_dist] = np.array(samples[mut_dist])[top_viable_indices]\n",
    "\n",
    "    return seeds"
   ]
  },
  {
   "cell_type": "markdown",
   "metadata": {
    "id": "ej_aHNLRYrOx"
   },
   "source": [
    "## Train Logistic Regression as Benchmark"
   ]
  },
  {
   "cell_type": "code",
   "execution_count": 28,
   "metadata": {
    "id": "LVMH31u1Yu5z"
   },
   "outputs": [],
   "source": [
    "def train_logistic_regression(data, name):\n",
    "    X_train = []\n",
    "    for i in range(len(data)):\n",
    "        X_train.append(mut_encoder.encode(data[\"sequence\"][i]))\n",
    "    y_train = data[\"is_viable\"].to_numpy().astype(int)\n",
    "    X_train = np.array(X_train)\n",
    "\n",
    "    X_train = X_train.reshape(len(X_train), -1)\n",
    "\n",
    "    # define ensemble of models\n",
    "    models = [None]*NUM_MODELS\n",
    "    paths = [None]*NUM_MODELS\n",
    "\n",
    "    # train models\n",
    "    for i in tqdm(range(NUM_MODELS)):\n",
    "        models[i] = LogisticRegression(random_state=i)\n",
    "        models[i].fit(X_train, y_train)\n",
    "\n",
    "    return models, paths"
   ]
  },
  {
   "cell_type": "code",
   "execution_count": 29,
   "metadata": {
    "colab": {
     "base_uri": "https://localhost:8080/",
     "height": 477,
     "referenced_widgets": [
      "ad6a151f4b5145b5b86df9a32092be32",
      "279441a485b64e6e915efa0d476f7af6",
      "53e6c5b656e84592af0b47248c7449fb",
      "2146841a01a745c58889eb307e4ba6a6",
      "e0f9ae2f81ad4de29c931e091b0d4d37",
      "f5f9a778753c481ba380effdadacb9b4",
      "2d84542e925b497498c55568ec6f4ff6",
      "637d81a5c26b4e52a1ab40a6175f87a5",
      "fbe138603e5344479ab14d0db60b9193",
      "1d254f34d86a4f2894bf69ab286014a0",
      "f9a27affbb844d0dad2bb72d65d1ad69"
     ]
    },
    "id": "kWFY_a8jZg0j",
    "outputId": "29114c9d-c1d3-47bc-b6f4-cfc83456a7e7"
   },
   "outputs": [
    {
     "data": {
      "application/vnd.jupyter.widget-view+json": {
       "model_id": "87608f244e8e474bbdafd9a8016451f1",
       "version_major": 2,
       "version_minor": 0
      },
      "text/plain": [
       "  0%|          | 0/3 [00:00<?, ?it/s]"
      ]
     },
     "metadata": {},
     "output_type": "display_data"
    },
    {
     "name": "stderr",
     "output_type": "stream",
     "text": [
      "C:\\Users\\William\\anaconda3\\envs\\stat195project\\lib\\site-packages\\sklearn\\linear_model\\_logistic.py:818: ConvergenceWarning: lbfgs failed to converge (status=1):\n",
      "STOP: TOTAL NO. of ITERATIONS REACHED LIMIT.\n",
      "\n",
      "Increase the number of iterations (max_iter) or scale the data as shown in:\n",
      "    https://scikit-learn.org/stable/modules/preprocessing.html\n",
      "Please also refer to the documentation for alternative solver options:\n",
      "    https://scikit-learn.org/stable/modules/linear_model.html#logistic-regression\n",
      "  extra_warning_msg=_LOGISTIC_SOLVER_CONVERGENCE_MSG,\n",
      "C:\\Users\\William\\anaconda3\\envs\\stat195project\\lib\\site-packages\\sklearn\\linear_model\\_logistic.py:818: ConvergenceWarning: lbfgs failed to converge (status=1):\n",
      "STOP: TOTAL NO. of ITERATIONS REACHED LIMIT.\n",
      "\n",
      "Increase the number of iterations (max_iter) or scale the data as shown in:\n",
      "    https://scikit-learn.org/stable/modules/preprocessing.html\n",
      "Please also refer to the documentation for alternative solver options:\n",
      "    https://scikit-learn.org/stable/modules/linear_model.html#logistic-regression\n",
      "  extra_warning_msg=_LOGISTIC_SOLVER_CONVERGENCE_MSG,\n",
      "C:\\Users\\William\\anaconda3\\envs\\stat195project\\lib\\site-packages\\sklearn\\linear_model\\_logistic.py:818: ConvergenceWarning: lbfgs failed to converge (status=1):\n",
      "STOP: TOTAL NO. of ITERATIONS REACHED LIMIT.\n",
      "\n",
      "Increase the number of iterations (max_iter) or scale the data as shown in:\n",
      "    https://scikit-learn.org/stable/modules/preprocessing.html\n",
      "Please also refer to the documentation for alternative solver options:\n",
      "    https://scikit-learn.org/stable/modules/linear_model.html#logistic-regression\n",
      "  extra_warning_msg=_LOGISTIC_SOLVER_CONVERGENCE_MSG,\n"
     ]
    }
   ],
   "source": [
    "models_logistic, paths_logistic = train_logistic_regression(c1_r10, \"c1_r10\")"
   ]
  },
  {
   "cell_type": "markdown",
   "metadata": {
    "id": "o4UnV7so7tAF"
   },
   "source": [
    "## Train Synthetic Model as Ground-Truth"
   ]
  },
  {
   "cell_type": "code",
   "execution_count": 30,
   "metadata": {
    "id": "fJvo680k8kbZ"
   },
   "outputs": [],
   "source": [
    "# train cnn model as ground truth\n",
    "\n",
    "def train_synthetic_model(data, name, load_model=True):\n",
    "\n",
    "    # prepare dataset\n",
    "    sequences = []\n",
    "    for i, row in data.iterrows():\n",
    "        seq = row['sequence']\n",
    "        np_seq = mut_encoder.encode(seq).astype(np.float32)\n",
    "        sequences.append(np_seq.reshape(1, -1, np_seq.shape[-1]))\n",
    "    sequences = np.concatenate(sequences, axis=0)\n",
    "\n",
    "    # split dataset\n",
    "    train_set, test_set = train_test_split(data, test_size=0.2)\n",
    "\n",
    "    # train model\n",
    "    device = torch.device('cuda' if torch.cuda.is_available() else 'cpu')\n",
    "    if load_model:\n",
    "        with open(f\"synthetic_{name}\", \"rb\") as file:\n",
    "            model = torch.load(file)\n",
    "    else:\n",
    "        model = CNNModel()\n",
    "        model.path(sequences[train_set.index.values], train_set['is_viable'].values)\n",
    "        \n",
    "        with open(f\"synthetic_{name}\", \"wb\") as file:\n",
    "            torch.save(model, file)\n",
    "\n",
    "    y_pred = model.predict(sequences[test_set.index.values])\n",
    "    print(f\"Accuracy of Synthetic Model on Test Set is {sum(y_pred == test_set['is_viable']) / len(y_pred)}\")\n",
    "\n",
    "    return model\n",
    "\n",
    "def test_synthetic_model(seeds, model, label=\"LassoNet\"):\n",
    "    accuracies = []\n",
    "    for mut_dist in mut_dists:\n",
    "        seeds_mut_dist = np.array(seeds[mut_dist]).reshape(-1, 58, 20)\n",
    "        synthetic_model_pred = model.predict(seeds_mut_dist.astype(np.float32))\n",
    "        accuracy = np.sum(synthetic_model_pred) / len(seeds[mut_dist])\n",
    "        # print(f\"Mutation distance: {mut_dist}, Accuracy according to Synthetic Model: {accuracy}\")\n",
    "        accuracies.append(accuracy)\n",
    "    \n",
    "    # plot accuracies\n",
    "    plt.plot(mut_dists, accuracies, label=label)\n",
    "    plt.scatter(mut_dists, accuracies)\n"
   ]
  },
  {
   "cell_type": "code",
   "execution_count": 31,
   "metadata": {
    "colab": {
     "base_uri": "https://localhost:8080/",
     "height": 335
    },
    "id": "0WIJO0gdbAlp",
    "outputId": "d7bf6df9-a280-4c71-f538-5a8a3f634d9e"
   },
   "outputs": [
    {
     "data": {
      "application/vnd.jupyter.widget-view+json": {
       "model_id": "67e6670ed1434e8f93b25da2039231b6",
       "version_major": 2,
       "version_minor": 0
      },
      "text/plain": [
       "  0%|          | 0/30 [00:00<?, ?it/s]"
      ]
     },
     "metadata": {},
     "output_type": "display_data"
    },
    {
     "name": "stdout",
     "output_type": "stream",
     "text": [
      "Accuracy of Synthetic Model on Test Set is 0.9474982198370934\n"
     ]
    }
   ],
   "source": [
    "model_synthetic = train_synthetic_model(df_c1_r10, \"c1_r10\", load_model=False)"
   ]
  },
  {
   "cell_type": "markdown",
   "metadata": {
    "id": "9ZWPF9ua8-kP"
   },
   "source": [
    "## Test on Model-selected Seeds"
   ]
  },
  {
   "cell_type": "code",
   "execution_count": 32,
   "metadata": {
    "colab": {
     "base_uri": "https://localhost:8080/",
     "height": 407
    },
    "id": "rt2jaTe5ZpcS",
    "outputId": "0a2bcfe2-809c-4613-d72c-e7c2e648939b"
   },
   "outputs": [
    {
     "data": {
      "image/png": "[encoded data removed]",
      "text/plain": [
       "<Figure size 432x288 with 1 Axes>"
      ]
     },
     "metadata": {
      "needs_background": "light"
     },
     "output_type": "display_data"
    }
   ],
   "source": [
    "seeds_logistic = generate_best_muts(models_logistic, paths=None)\n",
    "test_synthetic_model(seeds_logistic, model_synthetic, label=\"logistic\")\n",
    "\n",
    "seeds = generate_best_muts(models_lassonet, paths_lassonet)\n",
    "test_synthetic_model(seeds, model_synthetic, label=\"lassonet\")\n",
    "\n",
    "plt.legend()\n",
    "plt.xlabel(\"number of mutations from wildtype\")\n",
    "plt.ylabel(\"% viability\")\n",
    "plt.title(\"Model-selected sequences, C1+R10\")\n",
    "plt.savefig(\"selected_c1_r10.png\")\n",
    "plt.show()"
   ]
  },
  {
   "cell_type": "markdown",
   "metadata": {
    "id": "jZY70Fu-55Xw"
   },
   "source": [
    "# Model-designed Sequences"
   ]
  },
  {
   "cell_type": "code",
   "execution_count": 33,
   "metadata": {
    "id": "pEtnEHH-56Ul"
   },
   "outputs": [],
   "source": [
    "# change the black (irrelevant) features, and mutate in the design sequences process\n",
    "# we need two design processes, one for features and one imitating the regular one"
   ]
  },
  {
   "cell_type": "code",
   "execution_count": 34,
   "metadata": {
    "id": "lg9XP5-T2Q8p"
   },
   "outputs": [],
   "source": [
    "def mutate_samples_normal(samples):\n",
    "    new_samples_iterative = {mut_dist: [] for mut_dist in mut_dists}\n",
    "\n",
    "    for mut_dist in mut_dists:\n",
    "        samples_mut_dist = np.array(samples[mut_dist]).squeeze()\n",
    "        for sample in samples_mut_dist:\n",
    "            sample = np.copy(sample).reshape(58, 20)\n",
    "            mut = np.random.choice(np.arange(1, 58))\n",
    "            if mut % 2 == 0: # if it is a substitution / part of the original sequence\n",
    "                idx = np.argmax(res_encoder.encode(R1_TILE21_WT_SEQ[(mut-1)//2]))\n",
    "                residues_excluding_wt = np.setdiff1d(np.arange(20),np.array(idx)) # exclude wildtype from possible choices\n",
    "                residue_idx = np.random.choice(residues_excluding_wt)\n",
    "            else:\n",
    "                residue_idx = np.random.choice(np.arange(20))\n",
    "            sample[mut] = np.zeros(20)\n",
    "            sample[mut][residue_idx] = 1\n",
    "\n",
    "            sample_mut_dist = calculate_mut_dist(sample)\n",
    "            if 5 <= sample_mut_dist and sample_mut_dist < 26:\n",
    "                new_samples_iterative[sample_mut_dist].append(sample)\n",
    "    \n",
    "    return new_samples_iterative\n",
    "\n",
    "def mutate_samples_lassonet(samples):\n",
    "    new_samples_iterative = {mut_dist: [] for mut_dist in mut_dists}\n",
    "\n",
    "    for mut_dist in mut_dists:\n",
    "        samples_mut_dist = np.array(samples[mut_dist]).squeeze()\n",
    "        for sample in samples_mut_dist:\n",
    "            sample = np.copy(sample).reshape(58, 20)\n",
    "            mut = np.random.choice(np.arange(30, 58))\n",
    "            if mut % 2 == 0: # if it is a substitution / part of the original sequence\n",
    "                idx = np.argmax(res_encoder.encode(R1_TILE21_WT_SEQ[(mut-1)//2]))\n",
    "                residues_excluding_wt = np.setdiff1d(np.arange(20),np.array(idx)) # exclude wildtype from possible choices\n",
    "                residue_idx = np.random.choice(residues_excluding_wt)\n",
    "            else:\n",
    "                residue_idx = np.random.choice(np.arange(20))\n",
    "            sample[mut] = np.zeros(20)\n",
    "            sample[mut][residue_idx] = 1\n",
    "\n",
    "            sample_mut_dist = calculate_mut_dist(sample)\n",
    "            if 5 <= sample_mut_dist and sample_mut_dist < 26:\n",
    "                new_samples_iterative[sample_mut_dist].append(sample)\n",
    "    \n",
    "    return new_samples_iterative"
   ]
  },
  {
   "cell_type": "code",
   "execution_count": 35,
   "metadata": {
    "id": "2Vr47ZRIXxYa"
   },
   "outputs": [],
   "source": [
    "# random set of 250 single mutations\n",
    "# take the 50 highest scoring candidates, pass forward to next iteration\n",
    "# terminate the process after 20 iterations\n",
    "# aggregate with model-selected seeds, select the top 900 at each distance 5-25, top 500 at distances 26-29\n",
    "\n",
    "import copy\n",
    "NUM_ITERS = 15\n",
    "\n",
    "def iteratively_mutate_normal(models, samples, paths=None, mutate_fn=None):\n",
    "    samples_iterative = copy.deepcopy(samples)\n",
    "    all_candidates = {mut_dist: [] for mut_dist in mut_dists}\n",
    "\n",
    "    for iter in tqdm(range(NUM_ITERS)):\n",
    "        # find best mutants according to model\n",
    "        new_samples_iterative = copy.deepcopy(generate_best_muts(models, paths=paths, samples=samples_iterative, topk=50))\n",
    "        \n",
    "        # append to growing list of total findings mutations\n",
    "        for mut_dist in mut_dists:\n",
    "            all_candidates[mut_dist].append(new_samples_iterative[mut_dist])\n",
    "\n",
    "        # mutate samples\n",
    "        new_samples_iterative = mutate_fn(samples)\n",
    "        \n",
    "        samples_iterative = copy.deepcopy(new_samples_iterative)\n",
    "\n",
    "    # print(all_candidates)\n",
    "\n",
    "    for mut_dist in mut_dists:\n",
    "        # print(f\"MUT DIST: {mut_dist}\")\n",
    "        # for candidate in all_candidates[mut_dist]:\n",
    "            # print(candidate.shape)\n",
    "        all_candidates[mut_dist] = np.concatenate(all_candidates[mut_dist], axis=0)\n",
    "    \n",
    "    best_candidates = generate_best_muts(models, samples=all_candidates, paths=paths, topk=50)\n",
    "    \n",
    "    return best_candidates"
   ]
  },
  {
   "cell_type": "markdown",
   "metadata": {
    "id": "wLxlh9pa-hKm"
   },
   "source": [
    "## Test on Model-designed Seeds"
   ]
  },
  {
   "cell_type": "code",
   "execution_count": 36,
   "metadata": {},
   "outputs": [
    {
     "data": {
      "application/vnd.jupyter.widget-view+json": {
       "model_id": "59431ff5620e4ff2be0de8f9ca0d67d7",
       "version_major": 2,
       "version_minor": 0
      },
      "text/plain": [
       "  0%|          | 0/15 [00:00<?, ?it/s]"
      ]
     },
     "metadata": {},
     "output_type": "display_data"
    },
    {
     "data": {
      "application/vnd.jupyter.widget-view+json": {
       "model_id": "8d30b842c2d9492a823aec53eac0a963",
       "version_major": 2,
       "version_minor": 0
      },
      "text/plain": [
       "  0%|          | 0/15 [00:00<?, ?it/s]"
      ]
     },
     "metadata": {},
     "output_type": "display_data"
    },
    {
     "data": {
      "image/png": "[encoded data removed]",
      "text/plain": [
       "<Figure size 432x288 with 1 Axes>"
      ]
     },
     "metadata": {
      "needs_background": "light"
     },
     "output_type": "display_data"
    }
   ],
   "source": [
    "designed_logistic = iteratively_mutate_normal(models_logistic, samples=samples, paths=None, mutate_fn=mutate_samples_normal)\n",
    "test_synthetic_model(designed_logistic, model_synthetic, label=\"logistic\")\n",
    "\n",
    "designed_lassonet = iteratively_mutate_normal(models_lassonet, samples=samples, paths=None, mutate_fn=mutate_samples_normal)\n",
    "test_synthetic_model(designed_lassonet, model_synthetic, label=\"lassonet\")\n",
    "\n",
    "plt.legend()\n",
    "plt.xlabel(\"number of mutations from wildtype\")\n",
    "plt.ylabel(\"% viability\")\n",
    "plt.title(\"Model-designed sequences, uninformed search, C1+R10\")\n",
    "plt.savefig(\"designed_uninformed_c1_r10.png\")\n",
    "plt.show()"
   ]
  },
  {
   "cell_type": "code",
   "execution_count": 37,
   "metadata": {
    "id": "4smGj_bi-QSq"
   },
   "outputs": [
    {
     "data": {
      "application/vnd.jupyter.widget-view+json": {
       "model_id": "a6f09787df824e5cae0c2b42462efffd",
       "version_major": 2,
       "version_minor": 0
      },
      "text/plain": [
       "  0%|          | 0/15 [00:00<?, ?it/s]"
      ]
     },
     "metadata": {},
     "output_type": "display_data"
    },
    {
     "data": {
      "application/vnd.jupyter.widget-view+json": {
       "model_id": "de73974c2a5b4f5ab398688e9bb168e7",
       "version_major": 2,
       "version_minor": 0
      },
      "text/plain": [
       "  0%|          | 0/15 [00:00<?, ?it/s]"
      ]
     },
     "metadata": {},
     "output_type": "display_data"
    },
    {
     "data": {
      "image/png": "[encoded data removed]",
      "text/plain": [
       "<Figure size 432x288 with 1 Axes>"
      ]
     },
     "metadata": {
      "needs_background": "light"
     },
     "output_type": "display_data"
    }
   ],
   "source": [
    "designed_logistic = iteratively_mutate_normal(models_logistic, samples=samples, paths=None, mutate_fn=mutate_samples_normal)\n",
    "test_synthetic_model(designed_logistic, model_synthetic, label=\"logistic\")\n",
    "\n",
    "designed_lassonet = iteratively_mutate_normal(models_lassonet, samples=samples, paths=None, mutate_fn=mutate_samples_normal)\n",
    "test_synthetic_model(designed_lassonet, model_synthetic, label=\"lassonet\")\n",
    "\n",
    "plt.legend()\n",
    "plt.xlabel(\"number of mutations from wildtype\")\n",
    "plt.ylabel(\"% viability\")\n",
    "plt.title(\"Model-designed sequences, uninformed search, C1+R10\")\n",
    "plt.savefig(\"designed_uninformed_c1_r10.png\")\n",
    "plt.show()"
   ]
  },
  {
   "cell_type": "code",
   "execution_count": 38,
   "metadata": {},
   "outputs": [
    {
     "data": {
      "application/vnd.jupyter.widget-view+json": {
       "model_id": "9660da28ebf7443fb460527c6d56e423",
       "version_major": 2,
       "version_minor": 0
      },
      "text/plain": [
       "  0%|          | 0/15 [00:00<?, ?it/s]"
      ]
     },
     "metadata": {},
     "output_type": "display_data"
    },
    {
     "data": {
      "application/vnd.jupyter.widget-view+json": {
       "model_id": "56efbbfea86a42e6b63d9ea9a1b075f3",
       "version_major": 2,
       "version_minor": 0
      },
      "text/plain": [
       "  0%|          | 0/15 [00:00<?, ?it/s]"
      ]
     },
     "metadata": {},
     "output_type": "display_data"
    },
    {
     "data": {
      "image/png": "[encoded data removed]",
      "text/plain": [
       "<Figure size 432x288 with 1 Axes>"
      ]
     },
     "metadata": {
      "needs_background": "light"
     },
     "output_type": "display_data"
    }
   ],
   "source": [
    "designed_logistic = iteratively_mutate_normal(models_logistic, samples=samples, paths=None, mutate_fn=mutate_samples_lassonet)\n",
    "test_synthetic_model(designed_logistic, model_synthetic, label=\"logistic\")\n",
    "\n",
    "designed_lassonet = iteratively_mutate_normal(models_lassonet, samples=samples, paths=None, mutate_fn=mutate_samples_lassonet)\n",
    "test_synthetic_model(designed_lassonet, model_synthetic, label=\"lassonet\")\n",
    "\n",
    "plt.legend()\n",
    "plt.xlabel(\"number of mutations from wildtype\")\n",
    "plt.ylabel(\"% viability\")\n",
    "plt.title(\"Model-designed sequences, informed search, C1+R10\")\n",
    "plt.savefig(\"designed_informed_c1_r10.png\")\n",
    "plt.show()"
   ]
  }
 ],
 "metadata": {
  "accelerator": "GPU",
  "colab": {
   "collapsed_sections": [],
   "name": "experimentation.ipynb",
   "provenance": []
  },
  "kernelspec": {
   "display_name": "Python 3 (ipykernel)",
   "language": "python",
   "name": "python3"
  },
  "language_info": {
   "codemirror_mode": {
    "name": "ipython",
    "version": 3
   },
   "file_extension": ".py",
   "mimetype": "text/x-python",
   "name": "python",
   "nbconvert_exporter": "python",
   "pygments_lexer": "ipython3",
   "version": "3.7.12"
  },
  "widgets": {
   "application/vnd.jupyter.widget-state+json": {
    "0b3e89fe1e8a4ecbbe3ccb6925f1680b": {
     "model_module": "@jupyter-widgets/controls",
     "model_module_version": "1.5.0",
     "model_name": "HTMLModel",
     "state": {
      "_dom_classes": [],
      "_model_module": "@jupyter-widgets/controls",
      "_model_module_version": "1.5.0",
      "_model_name": "HTMLModel",
      "_view_count": null,
      "_view_module": "@jupyter-widgets/controls",
      "_view_module_version": "1.5.0",
      "_view_name": "HTMLView",
      "description": "",
      "description_tooltip": null,
      "layout": "IPY_MODEL_ea07fd8096cd484d9c5962077f77e13f",
      "placeholder": "​",
      "style": "IPY_MODEL_a825916607134a07abbcf5a4895ef997",
      "value": " 21/21 [00:14&lt;00:00,  1.00s/it]"
     }
    },
    "0ff753a821ae4e72a36c554eb2bb89ac": {
     "model_module": "@jupyter-widgets/controls",
     "model_module_version": "1.5.0",
     "model_name": "DescriptionStyleModel",
     "state": {
      "_model_module": "@jupyter-widgets/controls",
      "_model_module_version": "1.5.0",
      "_model_name": "DescriptionStyleModel",
      "_view_count": null,
      "_view_module": "@jupyter-widgets/base",
      "_view_module_version": "1.2.0",
      "_view_name": "StyleView",
      "description_width": ""
     }
    },
    "172c16ce433f4f40bee2b9e8c8a0fcca": {
     "model_module": "@jupyter-widgets/controls",
     "model_module_version": "1.5.0",
     "model_name": "HBoxModel",
     "state": {
      "_dom_classes": [],
      "_model_module": "@jupyter-widgets/controls",
      "_model_module_version": "1.5.0",
      "_model_name": "HBoxModel",
      "_view_count": null,
      "_view_module": "@jupyter-widgets/controls",
      "_view_module_version": "1.5.0",
      "_view_name": "HBoxView",
      "box_style": "",
      "children": [
       "IPY_MODEL_934d07e2ae6342889f507f44bdc87dd1",
       "IPY_MODEL_e445ca6065dc4fdbbbfb81af14d86823",
       "IPY_MODEL_924aee5763a44fd1a6f0b86d9623158d"
      ],
      "layout": "IPY_MODEL_97ef6b5012f74b109e3565add7232d5d"
     }
    },
    "1d254f34d86a4f2894bf69ab286014a0": {
     "model_module": "@jupyter-widgets/base",
     "model_module_version": "1.2.0",
     "model_name": "LayoutModel",
     "state": {
      "_model_module": "@jupyter-widgets/base",
      "_model_module_version": "1.2.0",
      "_model_name": "LayoutModel",
      "_view_count": null,
      "_view_module": "@jupyter-widgets/base",
      "_view_module_version": "1.2.0",
      "_view_name": "LayoutView",
      "align_content": null,
      "align_items": null,
      "align_self": null,
      "border": null,
      "bottom": null,
      "display": null,
      "flex": null,
      "flex_flow": null,
      "grid_area": null,
      "grid_auto_columns": null,
      "grid_auto_flow": null,
      "grid_auto_rows": null,
      "grid_column": null,
      "grid_gap": null,
      "grid_row": null,
      "grid_template_areas": null,
      "grid_template_columns": null,
      "grid_template_rows": null,
      "height": null,
      "justify_content": null,
      "justify_items": null,
      "left": null,
      "margin": null,
      "max_height": null,
      "max_width": null,
      "min_height": null,
      "min_width": null,
      "object_fit": null,
      "object_position": null,
      "order": null,
      "overflow": null,
      "overflow_x": null,
      "overflow_y": null,
      "padding": null,
      "right": null,
      "top": null,
      "visibility": null,
      "width": null
     }
    },
    "2146841a01a745c58889eb307e4ba6a6": {
     "model_module": "@jupyter-widgets/controls",
     "model_module_version": "1.5.0",
     "model_name": "HTMLModel",
     "state": {
      "_dom_classes": [],
      "_model_module": "@jupyter-widgets/controls",
      "_model_module_version": "1.5.0",
      "_model_name": "HTMLModel",
      "_view_count": null,
      "_view_module": "@jupyter-widgets/controls",
      "_view_module_version": "1.5.0",
      "_view_name": "HTMLView",
      "description": "",
      "description_tooltip": null,
      "layout": "IPY_MODEL_1d254f34d86a4f2894bf69ab286014a0",
      "placeholder": "​",
      "style": "IPY_MODEL_f9a27affbb844d0dad2bb72d65d1ad69",
      "value": " 3/3 [00:01&lt;00:00,  1.67it/s]"
     }
    },
    "279441a485b64e6e915efa0d476f7af6": {
     "model_module": "@jupyter-widgets/controls",
     "model_module_version": "1.5.0",
     "model_name": "HTMLModel",
     "state": {
      "_dom_classes": [],
      "_model_module": "@jupyter-widgets/controls",
      "_model_module_version": "1.5.0",
      "_model_name": "HTMLModel",
      "_view_count": null,
      "_view_module": "@jupyter-widgets/controls",
      "_view_module_version": "1.5.0",
      "_view_name": "HTMLView",
      "description": "",
      "description_tooltip": null,
      "layout": "IPY_MODEL_f5f9a778753c481ba380effdadacb9b4",
      "placeholder": "​",
      "style": "IPY_MODEL_2d84542e925b497498c55568ec6f4ff6",
      "value": "100%"
     }
    },
    "2a2d1ad687f641fc9bac97009dedca98": {
     "model_module": "@jupyter-widgets/base",
     "model_module_version": "1.2.0",
     "model_name": "LayoutModel",
     "state": {
      "_model_module": "@jupyter-widgets/base",
      "_model_module_version": "1.2.0",
      "_model_name": "LayoutModel",
      "_view_count": null,
      "_view_module": "@jupyter-widgets/base",
      "_view_module_version": "1.2.0",
      "_view_name": "LayoutView",
      "align_content": null,
      "align_items": null,
      "align_self": null,
      "border": null,
      "bottom": null,
      "display": null,
      "flex": null,
      "flex_flow": null,
      "grid_area": null,
      "grid_auto_columns": null,
      "grid_auto_flow": null,
      "grid_auto_rows": null,
      "grid_column": null,
      "grid_gap": null,
      "grid_row": null,
      "grid_template_areas": null,
      "grid_template_columns": null,
      "grid_template_rows": null,
      "height": null,
      "justify_content": null,
      "justify_items": null,
      "left": null,
      "margin": null,
      "max_height": null,
      "max_width": null,
      "min_height": null,
      "min_width": null,
      "object_fit": null,
      "object_position": null,
      "order": null,
      "overflow": null,
      "overflow_x": null,
      "overflow_y": null,
      "padding": null,
      "right": null,
      "top": null,
      "visibility": null,
      "width": null
     }
    },
    "2d84542e925b497498c55568ec6f4ff6": {
     "model_module": "@jupyter-widgets/controls",
     "model_module_version": "1.5.0",
     "model_name": "DescriptionStyleModel",
     "state": {
      "_model_module": "@jupyter-widgets/controls",
      "_model_module_version": "1.5.0",
      "_model_name": "DescriptionStyleModel",
      "_view_count": null,
      "_view_module": "@jupyter-widgets/base",
      "_view_module_version": "1.2.0",
      "_view_name": "StyleView",
      "description_width": ""
     }
    },
    "3172196d3ee64b20807ba4c4dc121b4a": {
     "model_module": "@jupyter-widgets/controls",
     "model_module_version": "1.5.0",
     "model_name": "DescriptionStyleModel",
     "state": {
      "_model_module": "@jupyter-widgets/controls",
      "_model_module_version": "1.5.0",
      "_model_name": "DescriptionStyleModel",
      "_view_count": null,
      "_view_module": "@jupyter-widgets/base",
      "_view_module_version": "1.2.0",
      "_view_name": "StyleView",
      "description_width": ""
     }
    },
    "33a8bbd0347a4be4b2e679cf913a79e5": {
     "model_module": "@jupyter-widgets/base",
     "model_module_version": "1.2.0",
     "model_name": "LayoutModel",
     "state": {
      "_model_module": "@jupyter-widgets/base",
      "_model_module_version": "1.2.0",
      "_model_name": "LayoutModel",
      "_view_count": null,
      "_view_module": "@jupyter-widgets/base",
      "_view_module_version": "1.2.0",
      "_view_name": "LayoutView",
      "align_content": null,
      "align_items": null,
      "align_self": null,
      "border": null,
      "bottom": null,
      "display": null,
      "flex": null,
      "flex_flow": null,
      "grid_area": null,
      "grid_auto_columns": null,
      "grid_auto_flow": null,
      "grid_auto_rows": null,
      "grid_column": null,
      "grid_gap": null,
      "grid_row": null,
      "grid_template_areas": null,
      "grid_template_columns": null,
      "grid_template_rows": null,
      "height": null,
      "justify_content": null,
      "justify_items": null,
      "left": null,
      "margin": null,
      "max_height": null,
      "max_width": null,
      "min_height": null,
      "min_width": null,
      "object_fit": null,
      "object_position": null,
      "order": null,
      "overflow": null,
      "overflow_x": null,
      "overflow_y": null,
      "padding": null,
      "right": null,
      "top": null,
      "visibility": null,
      "width": null
     }
    },
    "360e3ecb8e214712b88eae2f61f32d40": {
     "model_module": "@jupyter-widgets/controls",
     "model_module_version": "1.5.0",
     "model_name": "ProgressStyleModel",
     "state": {
      "_model_module": "@jupyter-widgets/controls",
      "_model_module_version": "1.5.0",
      "_model_name": "ProgressStyleModel",
      "_view_count": null,
      "_view_module": "@jupyter-widgets/base",
      "_view_module_version": "1.2.0",
      "_view_name": "StyleView",
      "bar_color": null,
      "description_width": ""
     }
    },
    "37eb1689805146898507d10e8f42fa64": {
     "model_module": "@jupyter-widgets/controls",
     "model_module_version": "1.5.0",
     "model_name": "HTMLModel",
     "state": {
      "_dom_classes": [],
      "_model_module": "@jupyter-widgets/controls",
      "_model_module_version": "1.5.0",
      "_model_name": "HTMLModel",
      "_view_count": null,
      "_view_module": "@jupyter-widgets/controls",
      "_view_module_version": "1.5.0",
      "_view_name": "HTMLView",
      "description": "",
      "description_tooltip": null,
      "layout": "IPY_MODEL_c5fa31cb00754237bbcd7fca376aa9fe",
      "placeholder": "​",
      "style": "IPY_MODEL_b63123ebba7f47d18364af3c45b0f49a",
      "value": "100%"
     }
    },
    "53e6c5b656e84592af0b47248c7449fb": {
     "model_module": "@jupyter-widgets/controls",
     "model_module_version": "1.5.0",
     "model_name": "FloatProgressModel",
     "state": {
      "_dom_classes": [],
      "_model_module": "@jupyter-widgets/controls",
      "_model_module_version": "1.5.0",
      "_model_name": "FloatProgressModel",
      "_view_count": null,
      "_view_module": "@jupyter-widgets/controls",
      "_view_module_version": "1.5.0",
      "_view_name": "ProgressView",
      "bar_style": "success",
      "description": "",
      "description_tooltip": null,
      "layout": "IPY_MODEL_637d81a5c26b4e52a1ab40a6175f87a5",
      "max": 3,
      "min": 0,
      "orientation": "horizontal",
      "style": "IPY_MODEL_fbe138603e5344479ab14d0db60b9193",
      "value": 3
     }
    },
    "5a30de4fb9cb40f39541659ae13ddbbd": {
     "model_module": "@jupyter-widgets/base",
     "model_module_version": "1.2.0",
     "model_name": "LayoutModel",
     "state": {
      "_model_module": "@jupyter-widgets/base",
      "_model_module_version": "1.2.0",
      "_model_name": "LayoutModel",
      "_view_count": null,
      "_view_module": "@jupyter-widgets/base",
      "_view_module_version": "1.2.0",
      "_view_name": "LayoutView",
      "align_content": null,
      "align_items": null,
      "align_self": null,
      "border": null,
      "bottom": null,
      "display": null,
      "flex": null,
      "flex_flow": null,
      "grid_area": null,
      "grid_auto_columns": null,
      "grid_auto_flow": null,
      "grid_auto_rows": null,
      "grid_column": null,
      "grid_gap": null,
      "grid_row": null,
      "grid_template_areas": null,
      "grid_template_columns": null,
      "grid_template_rows": null,
      "height": null,
      "justify_content": null,
      "justify_items": null,
      "left": null,
      "margin": null,
      "max_height": null,
      "max_width": null,
      "min_height": null,
      "min_width": null,
      "object_fit": null,
      "object_position": null,
      "order": null,
      "overflow": null,
      "overflow_x": null,
      "overflow_y": null,
      "padding": null,
      "right": null,
      "top": null,
      "visibility": null,
      "width": null
     }
    },
    "637d81a5c26b4e52a1ab40a6175f87a5": {
     "model_module": "@jupyter-widgets/base",
     "model_module_version": "1.2.0",
     "model_name": "LayoutModel",
     "state": {
      "_model_module": "@jupyter-widgets/base",
      "_model_module_version": "1.2.0",
      "_model_name": "LayoutModel",
      "_view_count": null,
      "_view_module": "@jupyter-widgets/base",
      "_view_module_version": "1.2.0",
      "_view_name": "LayoutView",
      "align_content": null,
      "align_items": null,
      "align_self": null,
      "border": null,
      "bottom": null,
      "display": null,
      "flex": null,
      "flex_flow": null,
      "grid_area": null,
      "grid_auto_columns": null,
      "grid_auto_flow": null,
      "grid_auto_rows": null,
      "grid_column": null,
      "grid_gap": null,
      "grid_row": null,
      "grid_template_areas": null,
      "grid_template_columns": null,
      "grid_template_rows": null,
      "height": null,
      "justify_content": null,
      "justify_items": null,
      "left": null,
      "margin": null,
      "max_height": null,
      "max_width": null,
      "min_height": null,
      "min_width": null,
      "object_fit": null,
      "object_position": null,
      "order": null,
      "overflow": null,
      "overflow_x": null,
      "overflow_y": null,
      "padding": null,
      "right": null,
      "top": null,
      "visibility": null,
      "width": null
     }
    },
    "69d34e9b7c7340f69efab4dd8d3c312a": {
     "model_module": "@jupyter-widgets/base",
     "model_module_version": "1.2.0",
     "model_name": "LayoutModel",
     "state": {
      "_model_module": "@jupyter-widgets/base",
      "_model_module_version": "1.2.0",
      "_model_name": "LayoutModel",
      "_view_count": null,
      "_view_module": "@jupyter-widgets/base",
      "_view_module_version": "1.2.0",
      "_view_name": "LayoutView",
      "align_content": null,
      "align_items": null,
      "align_self": null,
      "border": null,
      "bottom": null,
      "display": null,
      "flex": null,
      "flex_flow": null,
      "grid_area": null,
      "grid_auto_columns": null,
      "grid_auto_flow": null,
      "grid_auto_rows": null,
      "grid_column": null,
      "grid_gap": null,
      "grid_row": null,
      "grid_template_areas": null,
      "grid_template_columns": null,
      "grid_template_rows": null,
      "height": null,
      "justify_content": null,
      "justify_items": null,
      "left": null,
      "margin": null,
      "max_height": null,
      "max_width": null,
      "min_height": null,
      "min_width": null,
      "object_fit": null,
      "object_position": null,
      "order": null,
      "overflow": null,
      "overflow_x": null,
      "overflow_y": null,
      "padding": null,
      "right": null,
      "top": null,
      "visibility": null,
      "width": null
     }
    },
    "6e1b3d0d036141a19ebf36b571461a25": {
     "model_module": "@jupyter-widgets/controls",
     "model_module_version": "1.5.0",
     "model_name": "ProgressStyleModel",
     "state": {
      "_model_module": "@jupyter-widgets/controls",
      "_model_module_version": "1.5.0",
      "_model_name": "ProgressStyleModel",
      "_view_count": null,
      "_view_module": "@jupyter-widgets/base",
      "_view_module_version": "1.2.0",
      "_view_name": "StyleView",
      "bar_color": null,
      "description_width": ""
     }
    },
    "6e55d6f800fc4120b0f57aba516d73c2": {
     "model_module": "@jupyter-widgets/controls",
     "model_module_version": "1.5.0",
     "model_name": "ProgressStyleModel",
     "state": {
      "_model_module": "@jupyter-widgets/controls",
      "_model_module_version": "1.5.0",
      "_model_name": "ProgressStyleModel",
      "_view_count": null,
      "_view_module": "@jupyter-widgets/base",
      "_view_module_version": "1.2.0",
      "_view_name": "StyleView",
      "bar_color": null,
      "description_width": ""
     }
    },
    "6f199fc1fea7491c92ea78b572f67860": {
     "model_module": "@jupyter-widgets/base",
     "model_module_version": "1.2.0",
     "model_name": "LayoutModel",
     "state": {
      "_model_module": "@jupyter-widgets/base",
      "_model_module_version": "1.2.0",
      "_model_name": "LayoutModel",
      "_view_count": null,
      "_view_module": "@jupyter-widgets/base",
      "_view_module_version": "1.2.0",
      "_view_name": "LayoutView",
      "align_content": null,
      "align_items": null,
      "align_self": null,
      "border": null,
      "bottom": null,
      "display": null,
      "flex": null,
      "flex_flow": null,
      "grid_area": null,
      "grid_auto_columns": null,
      "grid_auto_flow": null,
      "grid_auto_rows": null,
      "grid_column": null,
      "grid_gap": null,
      "grid_row": null,
      "grid_template_areas": null,
      "grid_template_columns": null,
      "grid_template_rows": null,
      "height": null,
      "justify_content": null,
      "justify_items": null,
      "left": null,
      "margin": null,
      "max_height": null,
      "max_width": null,
      "min_height": null,
      "min_width": null,
      "object_fit": null,
      "object_position": null,
      "order": null,
      "overflow": null,
      "overflow_x": null,
      "overflow_y": null,
      "padding": null,
      "right": null,
      "top": null,
      "visibility": null,
      "width": null
     }
    },
    "8ca8b194806041c5a13897f99c3e536b": {
     "model_module": "@jupyter-widgets/base",
     "model_module_version": "1.2.0",
     "model_name": "LayoutModel",
     "state": {
      "_model_module": "@jupyter-widgets/base",
      "_model_module_version": "1.2.0",
      "_model_name": "LayoutModel",
      "_view_count": null,
      "_view_module": "@jupyter-widgets/base",
      "_view_module_version": "1.2.0",
      "_view_name": "LayoutView",
      "align_content": null,
      "align_items": null,
      "align_self": null,
      "border": null,
      "bottom": null,
      "display": null,
      "flex": null,
      "flex_flow": null,
      "grid_area": null,
      "grid_auto_columns": null,
      "grid_auto_flow": null,
      "grid_auto_rows": null,
      "grid_column": null,
      "grid_gap": null,
      "grid_row": null,
      "grid_template_areas": null,
      "grid_template_columns": null,
      "grid_template_rows": null,
      "height": null,
      "justify_content": null,
      "justify_items": null,
      "left": null,
      "margin": null,
      "max_height": null,
      "max_width": null,
      "min_height": null,
      "min_width": null,
      "object_fit": null,
      "object_position": null,
      "order": null,
      "overflow": null,
      "overflow_x": null,
      "overflow_y": null,
      "padding": null,
      "right": null,
      "top": null,
      "visibility": null,
      "width": null
     }
    },
    "924aee5763a44fd1a6f0b86d9623158d": {
     "model_module": "@jupyter-widgets/controls",
     "model_module_version": "1.5.0",
     "model_name": "HTMLModel",
     "state": {
      "_dom_classes": [],
      "_model_module": "@jupyter-widgets/controls",
      "_model_module_version": "1.5.0",
      "_model_name": "HTMLModel",
      "_view_count": null,
      "_view_module": "@jupyter-widgets/controls",
      "_view_module_version": "1.5.0",
      "_view_name": "HTMLView",
      "description": "",
      "description_tooltip": null,
      "layout": "IPY_MODEL_5a30de4fb9cb40f39541659ae13ddbbd",
      "placeholder": "​",
      "style": "IPY_MODEL_0ff753a821ae4e72a36c554eb2bb89ac",
      "value": " 3/3 [03:26&lt;00:00, 67.98s/it]"
     }
    },
    "934d07e2ae6342889f507f44bdc87dd1": {
     "model_module": "@jupyter-widgets/controls",
     "model_module_version": "1.5.0",
     "model_name": "HTMLModel",
     "state": {
      "_dom_classes": [],
      "_model_module": "@jupyter-widgets/controls",
      "_model_module_version": "1.5.0",
      "_model_name": "HTMLModel",
      "_view_count": null,
      "_view_module": "@jupyter-widgets/controls",
      "_view_module_version": "1.5.0",
      "_view_name": "HTMLView",
      "description": "",
      "description_tooltip": null,
      "layout": "IPY_MODEL_8ca8b194806041c5a13897f99c3e536b",
      "placeholder": "​",
      "style": "IPY_MODEL_a7730f526e71401dab03da601e297c55",
      "value": "100%"
     }
    },
    "97ef6b5012f74b109e3565add7232d5d": {
     "model_module": "@jupyter-widgets/base",
     "model_module_version": "1.2.0",
     "model_name": "LayoutModel",
     "state": {
      "_model_module": "@jupyter-widgets/base",
      "_model_module_version": "1.2.0",
      "_model_name": "LayoutModel",
      "_view_count": null,
      "_view_module": "@jupyter-widgets/base",
      "_view_module_version": "1.2.0",
      "_view_name": "LayoutView",
      "align_content": null,
      "align_items": null,
      "align_self": null,
      "border": null,
      "bottom": null,
      "display": null,
      "flex": null,
      "flex_flow": null,
      "grid_area": null,
      "grid_auto_columns": null,
      "grid_auto_flow": null,
      "grid_auto_rows": null,
      "grid_column": null,
      "grid_gap": null,
      "grid_row": null,
      "grid_template_areas": null,
      "grid_template_columns": null,
      "grid_template_rows": null,
      "height": null,
      "justify_content": null,
      "justify_items": null,
      "left": null,
      "margin": null,
      "max_height": null,
      "max_width": null,
      "min_height": null,
      "min_width": null,
      "object_fit": null,
      "object_position": null,
      "order": null,
      "overflow": null,
      "overflow_x": null,
      "overflow_y": null,
      "padding": null,
      "right": null,
      "top": null,
      "visibility": null,
      "width": null
     }
    },
    "a71395020e4f417cab0dd8d5a4e20628": {
     "model_module": "@jupyter-widgets/base",
     "model_module_version": "1.2.0",
     "model_name": "LayoutModel",
     "state": {
      "_model_module": "@jupyter-widgets/base",
      "_model_module_version": "1.2.0",
      "_model_name": "LayoutModel",
      "_view_count": null,
      "_view_module": "@jupyter-widgets/base",
      "_view_module_version": "1.2.0",
      "_view_name": "LayoutView",
      "align_content": null,
      "align_items": null,
      "align_self": null,
      "border": null,
      "bottom": null,
      "display": null,
      "flex": null,
      "flex_flow": null,
      "grid_area": null,
      "grid_auto_columns": null,
      "grid_auto_flow": null,
      "grid_auto_rows": null,
      "grid_column": null,
      "grid_gap": null,
      "grid_row": null,
      "grid_template_areas": null,
      "grid_template_columns": null,
      "grid_template_rows": null,
      "height": null,
      "justify_content": null,
      "justify_items": null,
      "left": null,
      "margin": null,
      "max_height": null,
      "max_width": null,
      "min_height": null,
      "min_width": null,
      "object_fit": null,
      "object_position": null,
      "order": null,
      "overflow": null,
      "overflow_x": null,
      "overflow_y": null,
      "padding": null,
      "right": null,
      "top": null,
      "visibility": null,
      "width": null
     }
    },
    "a7730f526e71401dab03da601e297c55": {
     "model_module": "@jupyter-widgets/controls",
     "model_module_version": "1.5.0",
     "model_name": "DescriptionStyleModel",
     "state": {
      "_model_module": "@jupyter-widgets/controls",
      "_model_module_version": "1.5.0",
      "_model_name": "DescriptionStyleModel",
      "_view_count": null,
      "_view_module": "@jupyter-widgets/base",
      "_view_module_version": "1.2.0",
      "_view_name": "StyleView",
      "description_width": ""
     }
    },
    "a825916607134a07abbcf5a4895ef997": {
     "model_module": "@jupyter-widgets/controls",
     "model_module_version": "1.5.0",
     "model_name": "DescriptionStyleModel",
     "state": {
      "_model_module": "@jupyter-widgets/controls",
      "_model_module_version": "1.5.0",
      "_model_name": "DescriptionStyleModel",
      "_view_count": null,
      "_view_module": "@jupyter-widgets/base",
      "_view_module_version": "1.2.0",
      "_view_name": "StyleView",
      "description_width": ""
     }
    },
    "ac90b586d2884ef7834e0fdd3d9b70ba": {
     "model_module": "@jupyter-widgets/base",
     "model_module_version": "1.2.0",
     "model_name": "LayoutModel",
     "state": {
      "_model_module": "@jupyter-widgets/base",
      "_model_module_version": "1.2.0",
      "_model_name": "LayoutModel",
      "_view_count": null,
      "_view_module": "@jupyter-widgets/base",
      "_view_module_version": "1.2.0",
      "_view_name": "LayoutView",
      "align_content": null,
      "align_items": null,
      "align_self": null,
      "border": null,
      "bottom": null,
      "display": null,
      "flex": null,
      "flex_flow": null,
      "grid_area": null,
      "grid_auto_columns": null,
      "grid_auto_flow": null,
      "grid_auto_rows": null,
      "grid_column": null,
      "grid_gap": null,
      "grid_row": null,
      "grid_template_areas": null,
      "grid_template_columns": null,
      "grid_template_rows": null,
      "height": null,
      "justify_content": null,
      "justify_items": null,
      "left": null,
      "margin": null,
      "max_height": null,
      "max_width": null,
      "min_height": null,
      "min_width": null,
      "object_fit": null,
      "object_position": null,
      "order": null,
      "overflow": null,
      "overflow_x": null,
      "overflow_y": null,
      "padding": null,
      "right": null,
      "top": null,
      "visibility": null,
      "width": null
     }
    },
    "ad6a151f4b5145b5b86df9a32092be32": {
     "model_module": "@jupyter-widgets/controls",
     "model_module_version": "1.5.0",
     "model_name": "HBoxModel",
     "state": {
      "_dom_classes": [],
      "_model_module": "@jupyter-widgets/controls",
      "_model_module_version": "1.5.0",
      "_model_name": "HBoxModel",
      "_view_count": null,
      "_view_module": "@jupyter-widgets/controls",
      "_view_module_version": "1.5.0",
      "_view_name": "HBoxView",
      "box_style": "",
      "children": [
       "IPY_MODEL_279441a485b64e6e915efa0d476f7af6",
       "IPY_MODEL_53e6c5b656e84592af0b47248c7449fb",
       "IPY_MODEL_2146841a01a745c58889eb307e4ba6a6"
      ],
      "layout": "IPY_MODEL_e0f9ae2f81ad4de29c931e091b0d4d37"
     }
    },
    "b1cd9d3807e14547bef99f188bffe85b": {
     "model_module": "@jupyter-widgets/controls",
     "model_module_version": "1.5.0",
     "model_name": "HBoxModel",
     "state": {
      "_dom_classes": [],
      "_model_module": "@jupyter-widgets/controls",
      "_model_module_version": "1.5.0",
      "_model_name": "HBoxModel",
      "_view_count": null,
      "_view_module": "@jupyter-widgets/controls",
      "_view_module_version": "1.5.0",
      "_view_name": "HBoxView",
      "box_style": "",
      "children": [
       "IPY_MODEL_b722daae0a6a45ba88de1890fa0ba292",
       "IPY_MODEL_e7c76eada452412aacfbe6a8a2f651a7",
       "IPY_MODEL_e500c2f227f843a4966ffcb022993c44"
      ],
      "layout": "IPY_MODEL_c5b2eade9f164b8a9293eff455810574"
     }
    },
    "b63123ebba7f47d18364af3c45b0f49a": {
     "model_module": "@jupyter-widgets/controls",
     "model_module_version": "1.5.0",
     "model_name": "DescriptionStyleModel",
     "state": {
      "_model_module": "@jupyter-widgets/controls",
      "_model_module_version": "1.5.0",
      "_model_name": "DescriptionStyleModel",
      "_view_count": null,
      "_view_module": "@jupyter-widgets/base",
      "_view_module_version": "1.2.0",
      "_view_name": "StyleView",
      "description_width": ""
     }
    },
    "b722daae0a6a45ba88de1890fa0ba292": {
     "model_module": "@jupyter-widgets/controls",
     "model_module_version": "1.5.0",
     "model_name": "HTMLModel",
     "state": {
      "_dom_classes": [],
      "_model_module": "@jupyter-widgets/controls",
      "_model_module_version": "1.5.0",
      "_model_name": "HTMLModel",
      "_view_count": null,
      "_view_module": "@jupyter-widgets/controls",
      "_view_module_version": "1.5.0",
      "_view_name": "HTMLView",
      "description": "",
      "description_tooltip": null,
      "layout": "IPY_MODEL_a71395020e4f417cab0dd8d5a4e20628",
      "placeholder": "​",
      "style": "IPY_MODEL_ddba94158574422bbc8152483e099207",
      "value": "100%"
     }
    },
    "c5b2eade9f164b8a9293eff455810574": {
     "model_module": "@jupyter-widgets/base",
     "model_module_version": "1.2.0",
     "model_name": "LayoutModel",
     "state": {
      "_model_module": "@jupyter-widgets/base",
      "_model_module_version": "1.2.0",
      "_model_name": "LayoutModel",
      "_view_count": null,
      "_view_module": "@jupyter-widgets/base",
      "_view_module_version": "1.2.0",
      "_view_name": "LayoutView",
      "align_content": null,
      "align_items": null,
      "align_self": null,
      "border": null,
      "bottom": null,
      "display": null,
      "flex": null,
      "flex_flow": null,
      "grid_area": null,
      "grid_auto_columns": null,
      "grid_auto_flow": null,
      "grid_auto_rows": null,
      "grid_column": null,
      "grid_gap": null,
      "grid_row": null,
      "grid_template_areas": null,
      "grid_template_columns": null,
      "grid_template_rows": null,
      "height": null,
      "justify_content": null,
      "justify_items": null,
      "left": null,
      "margin": null,
      "max_height": null,
      "max_width": null,
      "min_height": null,
      "min_width": null,
      "object_fit": null,
      "object_position": null,
      "order": null,
      "overflow": null,
      "overflow_x": null,
      "overflow_y": null,
      "padding": null,
      "right": null,
      "top": null,
      "visibility": null,
      "width": null
     }
    },
    "c5fa31cb00754237bbcd7fca376aa9fe": {
     "model_module": "@jupyter-widgets/base",
     "model_module_version": "1.2.0",
     "model_name": "LayoutModel",
     "state": {
      "_model_module": "@jupyter-widgets/base",
      "_model_module_version": "1.2.0",
      "_model_name": "LayoutModel",
      "_view_count": null,
      "_view_module": "@jupyter-widgets/base",
      "_view_module_version": "1.2.0",
      "_view_name": "LayoutView",
      "align_content": null,
      "align_items": null,
      "align_self": null,
      "border": null,
      "bottom": null,
      "display": null,
      "flex": null,
      "flex_flow": null,
      "grid_area": null,
      "grid_auto_columns": null,
      "grid_auto_flow": null,
      "grid_auto_rows": null,
      "grid_column": null,
      "grid_gap": null,
      "grid_row": null,
      "grid_template_areas": null,
      "grid_template_columns": null,
      "grid_template_rows": null,
      "height": null,
      "justify_content": null,
      "justify_items": null,
      "left": null,
      "margin": null,
      "max_height": null,
      "max_width": null,
      "min_height": null,
      "min_width": null,
      "object_fit": null,
      "object_position": null,
      "order": null,
      "overflow": null,
      "overflow_x": null,
      "overflow_y": null,
      "padding": null,
      "right": null,
      "top": null,
      "visibility": null,
      "width": null
     }
    },
    "ddba94158574422bbc8152483e099207": {
     "model_module": "@jupyter-widgets/controls",
     "model_module_version": "1.5.0",
     "model_name": "DescriptionStyleModel",
     "state": {
      "_model_module": "@jupyter-widgets/controls",
      "_model_module_version": "1.5.0",
      "_model_name": "DescriptionStyleModel",
      "_view_count": null,
      "_view_module": "@jupyter-widgets/base",
      "_view_module_version": "1.2.0",
      "_view_name": "StyleView",
      "description_width": ""
     }
    },
    "e0f9ae2f81ad4de29c931e091b0d4d37": {
     "model_module": "@jupyter-widgets/base",
     "model_module_version": "1.2.0",
     "model_name": "LayoutModel",
     "state": {
      "_model_module": "@jupyter-widgets/base",
      "_model_module_version": "1.2.0",
      "_model_name": "LayoutModel",
      "_view_count": null,
      "_view_module": "@jupyter-widgets/base",
      "_view_module_version": "1.2.0",
      "_view_name": "LayoutView",
      "align_content": null,
      "align_items": null,
      "align_self": null,
      "border": null,
      "bottom": null,
      "display": null,
      "flex": null,
      "flex_flow": null,
      "grid_area": null,
      "grid_auto_columns": null,
      "grid_auto_flow": null,
      "grid_auto_rows": null,
      "grid_column": null,
      "grid_gap": null,
      "grid_row": null,
      "grid_template_areas": null,
      "grid_template_columns": null,
      "grid_template_rows": null,
      "height": null,
      "justify_content": null,
      "justify_items": null,
      "left": null,
      "margin": null,
      "max_height": null,
      "max_width": null,
      "min_height": null,
      "min_width": null,
      "object_fit": null,
      "object_position": null,
      "order": null,
      "overflow": null,
      "overflow_x": null,
      "overflow_y": null,
      "padding": null,
      "right": null,
      "top": null,
      "visibility": null,
      "width": null
     }
    },
    "e445ca6065dc4fdbbbfb81af14d86823": {
     "model_module": "@jupyter-widgets/controls",
     "model_module_version": "1.5.0",
     "model_name": "FloatProgressModel",
     "state": {
      "_dom_classes": [],
      "_model_module": "@jupyter-widgets/controls",
      "_model_module_version": "1.5.0",
      "_model_name": "FloatProgressModel",
      "_view_count": null,
      "_view_module": "@jupyter-widgets/controls",
      "_view_module_version": "1.5.0",
      "_view_name": "ProgressView",
      "bar_style": "success",
      "description": "",
      "description_tooltip": null,
      "layout": "IPY_MODEL_69d34e9b7c7340f69efab4dd8d3c312a",
      "max": 3,
      "min": 0,
      "orientation": "horizontal",
      "style": "IPY_MODEL_6e55d6f800fc4120b0f57aba516d73c2",
      "value": 3
     }
    },
    "e500c2f227f843a4966ffcb022993c44": {
     "model_module": "@jupyter-widgets/controls",
     "model_module_version": "1.5.0",
     "model_name": "HTMLModel",
     "state": {
      "_dom_classes": [],
      "_model_module": "@jupyter-widgets/controls",
      "_model_module_version": "1.5.0",
      "_model_name": "HTMLModel",
      "_view_count": null,
      "_view_module": "@jupyter-widgets/controls",
      "_view_module_version": "1.5.0",
      "_view_name": "HTMLView",
      "description": "",
      "description_tooltip": null,
      "layout": "IPY_MODEL_6f199fc1fea7491c92ea78b572f67860",
      "placeholder": "​",
      "style": "IPY_MODEL_3172196d3ee64b20807ba4c4dc121b4a",
      "value": " 2/2 [00:17&lt;00:00,  8.80s/it]"
     }
    },
    "e7c76eada452412aacfbe6a8a2f651a7": {
     "model_module": "@jupyter-widgets/controls",
     "model_module_version": "1.5.0",
     "model_name": "FloatProgressModel",
     "state": {
      "_dom_classes": [],
      "_model_module": "@jupyter-widgets/controls",
      "_model_module_version": "1.5.0",
      "_model_name": "FloatProgressModel",
      "_view_count": null,
      "_view_module": "@jupyter-widgets/controls",
      "_view_module_version": "1.5.0",
      "_view_name": "ProgressView",
      "bar_style": "success",
      "description": "",
      "description_tooltip": null,
      "layout": "IPY_MODEL_33a8bbd0347a4be4b2e679cf913a79e5",
      "max": 2,
      "min": 0,
      "orientation": "horizontal",
      "style": "IPY_MODEL_360e3ecb8e214712b88eae2f61f32d40",
      "value": 2
     }
    },
    "e9659d171e804b5b80218c581fcb8452": {
     "model_module": "@jupyter-widgets/controls",
     "model_module_version": "1.5.0",
     "model_name": "FloatProgressModel",
     "state": {
      "_dom_classes": [],
      "_model_module": "@jupyter-widgets/controls",
      "_model_module_version": "1.5.0",
      "_model_name": "FloatProgressModel",
      "_view_count": null,
      "_view_module": "@jupyter-widgets/controls",
      "_view_module_version": "1.5.0",
      "_view_name": "ProgressView",
      "bar_style": "success",
      "description": "",
      "description_tooltip": null,
      "layout": "IPY_MODEL_ac90b586d2884ef7834e0fdd3d9b70ba",
      "max": 21,
      "min": 0,
      "orientation": "horizontal",
      "style": "IPY_MODEL_6e1b3d0d036141a19ebf36b571461a25",
      "value": 21
     }
    },
    "ea07fd8096cd484d9c5962077f77e13f": {
     "model_module": "@jupyter-widgets/base",
     "model_module_version": "1.2.0",
     "model_name": "LayoutModel",
     "state": {
      "_model_module": "@jupyter-widgets/base",
      "_model_module_version": "1.2.0",
      "_model_name": "LayoutModel",
      "_view_count": null,
      "_view_module": "@jupyter-widgets/base",
      "_view_module_version": "1.2.0",
      "_view_name": "LayoutView",
      "align_content": null,
      "align_items": null,
      "align_self": null,
      "border": null,
      "bottom": null,
      "display": null,
      "flex": null,
      "flex_flow": null,
      "grid_area": null,
      "grid_auto_columns": null,
      "grid_auto_flow": null,
      "grid_auto_rows": null,
      "grid_column": null,
      "grid_gap": null,
      "grid_row": null,
      "grid_template_areas": null,
      "grid_template_columns": null,
      "grid_template_rows": null,
      "height": null,
      "justify_content": null,
      "justify_items": null,
      "left": null,
      "margin": null,
      "max_height": null,
      "max_width": null,
      "min_height": null,
      "min_width": null,
      "object_fit": null,
      "object_position": null,
      "order": null,
      "overflow": null,
      "overflow_x": null,
      "overflow_y": null,
      "padding": null,
      "right": null,
      "top": null,
      "visibility": null,
      "width": null
     }
    },
    "ed2a422332a04cd7b1f744c853afd596": {
     "model_module": "@jupyter-widgets/controls",
     "model_module_version": "1.5.0",
     "model_name": "HBoxModel",
     "state": {
      "_dom_classes": [],
      "_model_module": "@jupyter-widgets/controls",
      "_model_module_version": "1.5.0",
      "_model_name": "HBoxModel",
      "_view_count": null,
      "_view_module": "@jupyter-widgets/controls",
      "_view_module_version": "1.5.0",
      "_view_name": "HBoxView",
      "box_style": "",
      "children": [
       "IPY_MODEL_37eb1689805146898507d10e8f42fa64",
       "IPY_MODEL_e9659d171e804b5b80218c581fcb8452",
       "IPY_MODEL_0b3e89fe1e8a4ecbbe3ccb6925f1680b"
      ],
      "layout": "IPY_MODEL_2a2d1ad687f641fc9bac97009dedca98"
     }
    },
    "f5f9a778753c481ba380effdadacb9b4": {
     "model_module": "@jupyter-widgets/base",
     "model_module_version": "1.2.0",
     "model_name": "LayoutModel",
     "state": {
      "_model_module": "@jupyter-widgets/base",
      "_model_module_version": "1.2.0",
      "_model_name": "LayoutModel",
      "_view_count": null,
      "_view_module": "@jupyter-widgets/base",
      "_view_module_version": "1.2.0",
      "_view_name": "LayoutView",
      "align_content": null,
      "align_items": null,
      "align_self": null,
      "border": null,
      "bottom": null,
      "display": null,
      "flex": null,
      "flex_flow": null,
      "grid_area": null,
      "grid_auto_columns": null,
      "grid_auto_flow": null,
      "grid_auto_rows": null,
      "grid_column": null,
      "grid_gap": null,
      "grid_row": null,
      "grid_template_areas": null,
      "grid_template_columns": null,
      "grid_template_rows": null,
      "height": null,
      "justify_content": null,
      "justify_items": null,
      "left": null,
      "margin": null,
      "max_height": null,
      "max_width": null,
      "min_height": null,
      "min_width": null,
      "object_fit": null,
      "object_position": null,
      "order": null,
      "overflow": null,
      "overflow_x": null,
      "overflow_y": null,
      "padding": null,
      "right": null,
      "top": null,
      "visibility": null,
      "width": null
     }
    },
    "f9a27affbb844d0dad2bb72d65d1ad69": {
     "model_module": "@jupyter-widgets/controls",
     "model_module_version": "1.5.0",
     "model_name": "DescriptionStyleModel",
     "state": {
      "_model_module": "@jupyter-widgets/controls",
      "_model_module_version": "1.5.0",
      "_model_name": "DescriptionStyleModel",
      "_view_count": null,
      "_view_module": "@jupyter-widgets/base",
      "_view_module_version": "1.2.0",
      "_view_name": "StyleView",
      "description_width": ""
     }
    },
    "fbe138603e5344479ab14d0db60b9193": {
     "model_module": "@jupyter-widgets/controls",
     "model_module_version": "1.5.0",
     "model_name": "ProgressStyleModel",
     "state": {
      "_model_module": "@jupyter-widgets/controls",
      "_model_module_version": "1.5.0",
      "_model_name": "ProgressStyleModel",
      "_view_count": null,
      "_view_module": "@jupyter-widgets/base",
      "_view_module_version": "1.2.0",
      "_view_name": "StyleView",
      "bar_color": null,
      "description_width": ""
     }
    }
   }
  }
 },
 "nbformat": 4,
 "nbformat_minor": 4
}
