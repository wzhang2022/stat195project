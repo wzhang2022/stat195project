{
 "cells": [
  {
   "cell_type": "markdown",
   "metadata": {
    "id": "JCG15IOGm-cY"
   },
   "source": [
    "##### Copyright 2020 Google LLC.\n",
    "\n",
    "\n",
    "Licensed under the Apache License, Version 2.0 (the \"License\");\n",
    "you may not use this file except in compliance with the License.\n",
    "You may obtain a copy of the License at\n",
    "\n",
    "    https://www.apache.org/licenses/LICENSE-2.0\n",
    "\n",
    "Unless required by applicable law or agreed to in writing, software\n",
    "distributed under the License is distributed on an \"AS IS\" BASIS,\n",
    "WITHOUT WARRANTIES OR CONDITIONS OF ANY KIND, either express or implied.\n",
    "See the License for the specific language governing permissions and\n",
    "limitations under the License."
   ]
  },
  {
   "cell_type": "code",
   "execution_count": null,
   "metadata": {
    "colab": {
     "base_uri": "https://localhost:8080/",
     "height": 50
    },
    "executionInfo": {
     "elapsed": 2819,
     "status": "ok",
     "timestamp": 1593126151058,
     "user": {
      "displayName": "Lucy Colwell",
      "photoUrl": "https://lh3.googleusercontent.com/a-/AOh14GhDVS9VL55nJ_BMyjGqE4RYboOf4i5N9LaE148oGg=s64",
      "userId": "17590064334699832966"
     },
     "user_tz": 240
    },
    "id": "6n1hColO-89V",
    "outputId": "df661a62-ad35-42e5-9d0b-2f5cee6bde04"
   },
   "outputs": [
    {
     "name": "stdout",
     "output_type": "stream",
     "text": [
      "Requirement already satisfied: python-Levenshtein in /usr/local/lib/python3.6/dist-packages (0.12.0)\n",
      "Requirement already satisfied: setuptools in /usr/local/lib/python3.6/dist-packages (from python-Levenshtein) (47.3.1)\n"
     ]
    }
   ],
   "source": [
    "import os\n",
    "import numpy\n",
    "import pandas\n",
    "from six.moves import zip\n",
    "from sklearn import mixture\n",
    "import gzip\n",
    "\n",
    "!pip install python-Levenshtein\n",
    "\n",
    "import Levenshtein"
   ]
  },
  {
   "cell_type": "markdown",
   "metadata": {
    "id": "Vnv4BxyUsMz7"
   },
   "source": [
    "## Code to fit GMM"
   ]
  },
  {
   "cell_type": "code",
   "execution_count": null,
   "metadata": {
    "id": "KXnqP29_sAXj"
   },
   "outputs": [],
   "source": [
    "R1_TILE21_WT_SEQ = 'DEEEIRTTNPVATEQYGSVSTNLQRGNR'\n",
    "\n",
    "# Covariance type to use in Gaussian Mixture Model.\n",
    "_COVAR_TYPE = 'full'\n",
    "# Number of components to use in Gaussian Mixture Model.\n",
    "_NUM_COMPONENTS = 2\n",
    "\n",
    "class BinningLabeler(object):\n",
    "  \"\"\"Emits class labels from provided cutoff values.\n",
    "\n",
    "  Input cutoffs are encoded as 1-D arrays.  Given a cutoffs array of\n",
    "  size n, creates n+1 labels for cutoffs, where the first bin is\n",
    "  [-inf, cutoffs[0]], and last bin is (cutoffs[-1], inf].\n",
    "  \"\"\"\n",
    "\n",
    "  def __init__(self, cutoffs):\n",
    "    \"\"\"Constructor.\n",
    "\n",
    "    Args:\n",
    "      cutoffs: (numpy.ndarray or list or numeric) values to bin data at.  First bin\n",
    "        is [-inf, cutoffs[0]], and last bin is (cutoffs[-1], inf].\n",
    "\n",
    "    Raises:\n",
    "      ValueError: If no cutoff(s) (i.e. an empty list) is provided.\n",
    "    \"\"\"\n",
    "    cutoffs = numpy.atleast_1d(cutoffs)\n",
    "    if cutoffs.size:\n",
    "      self._cutoffs = numpy.sort(cutoffs)\n",
    "    else:\n",
    "      raise ValueError('Invalid cutoffs. At least one cutoff value required.')\n",
    "\n",
    "  def predict(self, values):\n",
    "    \"\"\"Provides model labels for input value(s) using the cutoff bins.\n",
    "\n",
    "    Args:\n",
    "      values: (numpy.ndarray or numeric) Value(s) to infer a label on.\n",
    "\n",
    "    Returns:\n",
    "      A numpy array with length len(values) and labels corresponding to\n",
    "      categories defined by the cutoffs array intervals.  The labels are\n",
    "      [0, 1, . . ., n], where n = len(cutoffs).  Note, labels correspond to bins\n",
    "      in sorted order from smallest to largest cutoff value.\n",
    "    \"\"\"\n",
    "    return numpy.digitize(values, self._cutoffs)\n",
    "\n",
    "\n",
    "class TwoGaussianMixtureModelLabeler(object):\n",
    "  \"\"\"Emits class labels from Gaussian Mixture given input data.\n",
    "\n",
    "  Input data is encoded as 1-D arrays.  Allows for an optional ambiguous label\n",
    "  between the two modelled Gaussian distributions. Without the optional\n",
    "  ambigouous category, the two labels are:\n",
    "     0 - For values more likely derived from the Gaussian with smaller mean\n",
    "     2 - For values more likely derived from the Gaussian with larger mean\n",
    "\n",
    "  When allowing for an ambiguous category the three labels are:\n",
    "     0 - For values more likely derived from the Gaussian with smaller mean\n",
    "     1 - For values which fall within an ambiguous probability cutoff.\n",
    "     2 - For values more likely derived from the Gaussian with larger mean\n",
    "  \"\"\"\n",
    "\n",
    "  def __init__(self, data):\n",
    "    \"\"\"Constructor.\n",
    "\n",
    "    Args:\n",
    "      data: (numpy.ndarray or list) Input data to model with Gaussian Mixture.\n",
    "      Input data is presumed to be in the form [x1, x2, ...., xn].\n",
    "    \"\"\"\n",
    "    self._data = numpy.array([data]).T\n",
    "    self._gmm = mixture.GaussianMixture(\n",
    "        n_components=_NUM_COMPONENTS,\n",
    "        covariance_type=_COVAR_TYPE).fit(self._data)\n",
    "\n",
    "    # Re-map the gaussian with smaller mean to the \"0\" label.\n",
    "    self._label_by_index = dict(\n",
    "        list(zip([0, 1],\n",
    "                 numpy.argsort(self._gmm.means_[:, 0]).tolist())))\n",
    "    self._label_by_index_fn = numpy.vectorize(lambda x: self._label_by_index[x])\n",
    "\n",
    "  def predict(self, values, probability_cutoff=0.):\n",
    "    \"\"\"Provides model labels for input value(s) using the GMM.\n",
    "\n",
    "    Args:\n",
    "      values: (array or single float value) Value(s) to infer a label on.\n",
    "        When values=None, predictions are run on self._data.\n",
    "      probability_cutoff: (float) Proability between 0 and 1 to identify which\n",
    "        values correspond to ambiguous labels.  At probablity_cutoff=0 (default)\n",
    "        it only returns the original two state predictions.\n",
    "\n",
    "    Returns:\n",
    "      A numpy array with length len(values) and labels corresponding to 0,1 if\n",
    "      probability_cutoff = 0 and 0, 1, 2 otherwise.  In the latter, 0\n",
    "      corresponds to the gaussian with smaller mean, 1 corresponds to the\n",
    "      ambiguous label, and 2 corresponds to the gaussian with larger mean.\n",
    "    \"\"\"\n",
    "    values = numpy.atleast_1d(values)\n",
    "    values = numpy.array([values]).T\n",
    "    predictions = self._label_by_index_fn(self._gmm.predict(values))\n",
    "    # Re-map the initial 0,1 predictions to 0,2.\n",
    "    predictions *= 2\n",
    "    if probability_cutoff > 0:\n",
    "      probas = self._gmm.predict_proba(values)\n",
    "      max_probas = numpy.max(probas, axis=1)\n",
    "      ambiguous_values = max_probas < probability_cutoff\n",
    "\n",
    "      # Set ambiguous label as 1.\n",
    "      predictions[ambiguous_values] = 1\n",
    "    return predictions"
   ]
  },
  {
   "cell_type": "markdown",
   "metadata": {
    "id": "wqRjTF3mWJK7"
   },
   "source": [
    "## Load validation experiment dataframe"
   ]
  },
  {
   "cell_type": "code",
   "execution_count": null,
   "metadata": {
    "colab": {
     "base_uri": "https://localhost:8080/",
     "height": 232
    },
    "executionInfo": {
     "elapsed": 533,
     "status": "ok",
     "timestamp": 1593126523588,
     "user": {
      "displayName": "Lucy Colwell",
      "photoUrl": "https://lh3.googleusercontent.com/a-/AOh14GhDVS9VL55nJ_BMyjGqE4RYboOf4i5N9LaE148oGg=s64",
      "userId": "17590064334699832966"
     },
     "user_tz": 240
    },
    "id": "am0nFjW9_F25",
    "outputId": "840fda97-2a86-4ced-d1f2-ed6d9e3d020a"
   },
   "outputs": [
    {
     "data": {
      "text/html": [
       "<div>\n",
       "<style scoped>\n",
       "    .dataframe tbody tr th:only-of-type {\n",
       "        vertical-align: middle;\n",
       "    }\n",
       "\n",
       "    .dataframe tbody tr th {\n",
       "        vertical-align: top;\n",
       "    }\n",
       "\n",
       "    .dataframe thead th {\n",
       "        text-align: right;\n",
       "    }\n",
       "</style>\n",
       "<table border=\"1\" class=\"dataframe\">\n",
       "  <thead>\n",
       "    <tr style=\"text-align: right;\">\n",
       "      <th></th>\n",
       "      <th>Unnamed: 0</th>\n",
       "      <th>Unnamed: 0.1</th>\n",
       "      <th>sequence</th>\n",
       "      <th>partition</th>\n",
       "      <th>chip</th>\n",
       "      <th>control</th>\n",
       "      <th>is_wt_aa</th>\n",
       "      <th>is_wt_nt</th>\n",
       "      <th>mutation_sequence</th>\n",
       "      <th>num_mutations</th>\n",
       "      <th>rep_i</th>\n",
       "      <th>rep_original</th>\n",
       "      <th>rep_total</th>\n",
       "      <th>EK269_GAS1_p1_rep1a_plasmid_x</th>\n",
       "      <th>EK269_GAS1_p1_rep1b_plasmid_x</th>\n",
       "      <th>EK269_GAS1_p1_rep1c_plasmid_x</th>\n",
       "      <th>EK269_GAS1_p1_rep1d_plasmid_x</th>\n",
       "      <th>EK269_GAS1_v3_rep1a_virus</th>\n",
       "      <th>EK269_GAS1_v3_rep1b_virus</th>\n",
       "      <th>EK269_GAS1_v3_rep1c_virus</th>\n",
       "      <th>EK269_GAS1_v3_rep1d_virus</th>\n",
       "      <th>EK269_GAS1_v4_rep2a_virus</th>\n",
       "      <th>EK269_GAS1_v4_rep2b_virus</th>\n",
       "      <th>EK269_GAS1_v4_rep2c_virus</th>\n",
       "      <th>EK269_GAS1_v4_rep2d_virus</th>\n",
       "      <th>EK269_GAS1_v5_rep3a_virus</th>\n",
       "      <th>EK269_GAS1_v5_rep3b_virus</th>\n",
       "      <th>EK269_GAS1_p1_rep1a_plasmid_y</th>\n",
       "      <th>EK269_GAS1_p1_rep1b_plasmid_y</th>\n",
       "      <th>EK269_GAS1_p1_rep1c_plasmid_y</th>\n",
       "      <th>EK269_GAS1_p1_rep1d_plasmid_y</th>\n",
       "      <th>old_EK269_GAS1_v3_rep1a_virus</th>\n",
       "      <th>old_EK269_GAS1_v3_rep1b_virus</th>\n",
       "      <th>old_EK269_GAS1_v3_rep1c_virus</th>\n",
       "      <th>old_EK269_GAS1_v3_rep1d_virus</th>\n",
       "      <th>old_EK269_GAS1_v4_rep2a_virus</th>\n",
       "      <th>old_EK269_GAS1_v4_rep2b_virus</th>\n",
       "      <th>old_EK269_GAS1_v4_rep2c_virus</th>\n",
       "      <th>old_EK269_GAS1_v4_rep2d_virus</th>\n",
       "      <th>old_EK269_GAS1_v5_rep3a_virus</th>\n",
       "      <th>old_EK269_GAS1_v5_rep3b_virus</th>\n",
       "      <th>old_EK269_GAS1_v5_rep3c_virus</th>\n",
       "      <th>old_EK269_GAS1_v5_rep3d_virus</th>\n",
       "      <th>GAS1_plasmid_N</th>\n",
       "      <th>v0_GAS1_plasmid_N</th>\n",
       "      <th>v1_GAS1_plasmid_N</th>\n",
       "      <th>v0_GAS1_virus_N</th>\n",
       "      <th>v1_GAS1_virus_N</th>\n",
       "      <th>GAS1_virus_N</th>\n",
       "      <th>v0_GAS1_plasmid_F</th>\n",
       "      <th>v1_GAS1_plasmid_F</th>\n",
       "      <th>GAS1_plasmid_F</th>\n",
       "      <th>v0_GAS1_virus_F</th>\n",
       "      <th>v1_GAS1_virus_F</th>\n",
       "      <th>GAS1_virus_F</th>\n",
       "      <th>v0_GAS1_virus_S</th>\n",
       "      <th>v1_GAS1_virus_S</th>\n",
       "      <th>GAS1_virus_S</th>\n",
       "    </tr>\n",
       "  </thead>\n",
       "  <tbody>\n",
       "    <tr>\n",
       "      <th>0</th>\n",
       "      <td>0</td>\n",
       "      <td>GACGAGGACGAAATCAGGACAACCAATCCCGTGGCTACGGAGCAGT...</td>\n",
       "      <td>DEDEIRTTNPVATEQYGSVSTNLQDnGnNdR</td>\n",
       "      <td>rnn_designed_plus_rand_train_walked</td>\n",
       "      <td>1</td>\n",
       "      <td>0</td>\n",
       "      <td>0</td>\n",
       "      <td>0</td>\n",
       "      <td>__D_____________________Dn_n_d_</td>\n",
       "      <td>5</td>\n",
       "      <td>1</td>\n",
       "      <td>1</td>\n",
       "      <td>1</td>\n",
       "      <td>13</td>\n",
       "      <td>89</td>\n",
       "      <td>51</td>\n",
       "      <td>47</td>\n",
       "      <td>176</td>\n",
       "      <td>47</td>\n",
       "      <td>53</td>\n",
       "      <td>211</td>\n",
       "      <td>78</td>\n",
       "      <td>188</td>\n",
       "      <td>84</td>\n",
       "      <td>29</td>\n",
       "      <td>45</td>\n",
       "      <td>42</td>\n",
       "      <td>6.0</td>\n",
       "      <td>8.0</td>\n",
       "      <td>8.0</td>\n",
       "      <td>8.0</td>\n",
       "      <td>16.0</td>\n",
       "      <td>17.0</td>\n",
       "      <td>16.0</td>\n",
       "      <td>12.0</td>\n",
       "      <td>17.0</td>\n",
       "      <td>18.0</td>\n",
       "      <td>19.0</td>\n",
       "      <td>8.0</td>\n",
       "      <td>21.0</td>\n",
       "      <td>16.0</td>\n",
       "      <td>10.0</td>\n",
       "      <td>20.0</td>\n",
       "      <td>230.0</td>\n",
       "      <td>30.0</td>\n",
       "      <td>200</td>\n",
       "      <td>190.0</td>\n",
       "      <td>953</td>\n",
       "      <td>1143.0</td>\n",
       "      <td>0.000004</td>\n",
       "      <td>0.000003</td>\n",
       "      <td>0.000003</td>\n",
       "      <td>0.000006</td>\n",
       "      <td>0.000005</td>\n",
       "      <td>0.000005</td>\n",
       "      <td>0.579811</td>\n",
       "      <td>0.561301</td>\n",
       "      <td>0.572274</td>\n",
       "    </tr>\n",
       "    <tr>\n",
       "      <th>1</th>\n",
       "      <td>1</td>\n",
       "      <td>GACGAGGACGAAATCAGGACAACCAATCCCGTGGCTACGGAGCAGT...</td>\n",
       "      <td>DEDEIRTTNPVATEQYGAVSTNLQGdGNdR</td>\n",
       "      <td>rnn_designed_plus_rand_train_walked</td>\n",
       "      <td>1</td>\n",
       "      <td>0</td>\n",
       "      <td>0</td>\n",
       "      <td>0</td>\n",
       "      <td>__D______________A______Gd__d_</td>\n",
       "      <td>5</td>\n",
       "      <td>1</td>\n",
       "      <td>1</td>\n",
       "      <td>1</td>\n",
       "      <td>29</td>\n",
       "      <td>129</td>\n",
       "      <td>100</td>\n",
       "      <td>63</td>\n",
       "      <td>439</td>\n",
       "      <td>131</td>\n",
       "      <td>130</td>\n",
       "      <td>563</td>\n",
       "      <td>269</td>\n",
       "      <td>513</td>\n",
       "      <td>270</td>\n",
       "      <td>98</td>\n",
       "      <td>88</td>\n",
       "      <td>85</td>\n",
       "      <td>11.0</td>\n",
       "      <td>12.0</td>\n",
       "      <td>13.0</td>\n",
       "      <td>13.0</td>\n",
       "      <td>36.0</td>\n",
       "      <td>47.0</td>\n",
       "      <td>34.0</td>\n",
       "      <td>50.0</td>\n",
       "      <td>41.0</td>\n",
       "      <td>51.0</td>\n",
       "      <td>25.0</td>\n",
       "      <td>20.0</td>\n",
       "      <td>27.0</td>\n",
       "      <td>36.0</td>\n",
       "      <td>42.0</td>\n",
       "      <td>47.0</td>\n",
       "      <td>370.0</td>\n",
       "      <td>49.0</td>\n",
       "      <td>321</td>\n",
       "      <td>456.0</td>\n",
       "      <td>2586</td>\n",
       "      <td>3042.0</td>\n",
       "      <td>0.000007</td>\n",
       "      <td>0.000005</td>\n",
       "      <td>0.000006</td>\n",
       "      <td>0.000014</td>\n",
       "      <td>0.000014</td>\n",
       "      <td>0.000014</td>\n",
       "      <td>1.135026</td>\n",
       "      <td>1.318902</td>\n",
       "      <td>1.298578</td>\n",
       "    </tr>\n",
       "    <tr>\n",
       "      <th>2</th>\n",
       "      <td>2</td>\n",
       "      <td>GACGAAGAGGAAATCGCTACAACCAATCCCGTGGCTACGGAGCAGT...</td>\n",
       "      <td>DEEEIATTNPVATEQYGSVSTNLQHdGDeR</td>\n",
       "      <td>rnn_designed_plus_rand_train_walked</td>\n",
       "      <td>1</td>\n",
       "      <td>0</td>\n",
       "      <td>0</td>\n",
       "      <td>0</td>\n",
       "      <td>_____A__________________Hd_De_</td>\n",
       "      <td>5</td>\n",
       "      <td>1</td>\n",
       "      <td>1</td>\n",
       "      <td>1</td>\n",
       "      <td>27</td>\n",
       "      <td>121</td>\n",
       "      <td>91</td>\n",
       "      <td>65</td>\n",
       "      <td>171</td>\n",
       "      <td>66</td>\n",
       "      <td>50</td>\n",
       "      <td>176</td>\n",
       "      <td>356</td>\n",
       "      <td>648</td>\n",
       "      <td>338</td>\n",
       "      <td>128</td>\n",
       "      <td>46</td>\n",
       "      <td>42</td>\n",
       "      <td>12.0</td>\n",
       "      <td>9.0</td>\n",
       "      <td>14.0</td>\n",
       "      <td>11.0</td>\n",
       "      <td>14.0</td>\n",
       "      <td>12.0</td>\n",
       "      <td>8.0</td>\n",
       "      <td>12.0</td>\n",
       "      <td>44.0</td>\n",
       "      <td>53.0</td>\n",
       "      <td>36.0</td>\n",
       "      <td>42.0</td>\n",
       "      <td>13.0</td>\n",
       "      <td>14.0</td>\n",
       "      <td>18.0</td>\n",
       "      <td>20.0</td>\n",
       "      <td>350.0</td>\n",
       "      <td>46.0</td>\n",
       "      <td>304</td>\n",
       "      <td>286.0</td>\n",
       "      <td>2021</td>\n",
       "      <td>2307.0</td>\n",
       "      <td>0.000006</td>\n",
       "      <td>0.000005</td>\n",
       "      <td>0.000005</td>\n",
       "      <td>0.000009</td>\n",
       "      <td>0.000011</td>\n",
       "      <td>0.000010</td>\n",
       "      <td>0.553155</td>\n",
       "      <td>1.041751</td>\n",
       "      <td>0.979746</td>\n",
       "    </tr>\n",
       "    <tr>\n",
       "      <th>3</th>\n",
       "      <td>3</td>\n",
       "      <td>GACGAACACGAAATCAGGACAACCAATCCCGTGGCTACGGAGCAGT...</td>\n",
       "      <td>DEHEIRTTNPVATEQYGNVSTNLQGgGdNR</td>\n",
       "      <td>rnn_designed_plus_rand_train_walked</td>\n",
       "      <td>1</td>\n",
       "      <td>0</td>\n",
       "      <td>0</td>\n",
       "      <td>0</td>\n",
       "      <td>__H______________N______Gg_d__</td>\n",
       "      <td>5</td>\n",
       "      <td>1</td>\n",
       "      <td>1</td>\n",
       "      <td>1</td>\n",
       "      <td>66</td>\n",
       "      <td>288</td>\n",
       "      <td>243</td>\n",
       "      <td>190</td>\n",
       "      <td>830</td>\n",
       "      <td>244</td>\n",
       "      <td>238</td>\n",
       "      <td>979</td>\n",
       "      <td>651</td>\n",
       "      <td>1158</td>\n",
       "      <td>588</td>\n",
       "      <td>185</td>\n",
       "      <td>241</td>\n",
       "      <td>229</td>\n",
       "      <td>12.0</td>\n",
       "      <td>11.0</td>\n",
       "      <td>37.0</td>\n",
       "      <td>32.0</td>\n",
       "      <td>76.0</td>\n",
       "      <td>64.0</td>\n",
       "      <td>63.0</td>\n",
       "      <td>50.0</td>\n",
       "      <td>88.0</td>\n",
       "      <td>89.0</td>\n",
       "      <td>86.0</td>\n",
       "      <td>52.0</td>\n",
       "      <td>73.0</td>\n",
       "      <td>81.0</td>\n",
       "      <td>87.0</td>\n",
       "      <td>91.0</td>\n",
       "      <td>879.0</td>\n",
       "      <td>92.0</td>\n",
       "      <td>787</td>\n",
       "      <td>900.0</td>\n",
       "      <td>5343</td>\n",
       "      <td>6243.0</td>\n",
       "      <td>0.000012</td>\n",
       "      <td>0.000013</td>\n",
       "      <td>0.000013</td>\n",
       "      <td>0.000029</td>\n",
       "      <td>0.000028</td>\n",
       "      <td>0.000028</td>\n",
       "      <td>1.207065</td>\n",
       "      <td>1.072039</td>\n",
       "      <td>1.087459</td>\n",
       "    </tr>\n",
       "    <tr>\n",
       "      <th>4</th>\n",
       "      <td>4</td>\n",
       "      <td>GACGAACATGAAATCAGGACAACCAATCCCGTGGCTACGGAGCAGT...</td>\n",
       "      <td>DEHEIRTTNPVATEQYGSVSTNLQpGGNDg</td>\n",
       "      <td>rnn_designed_plus_rand_train_walked</td>\n",
       "      <td>1</td>\n",
       "      <td>0</td>\n",
       "      <td>0</td>\n",
       "      <td>0</td>\n",
       "      <td>__H_____________________pG__Dg</td>\n",
       "      <td>5</td>\n",
       "      <td>1</td>\n",
       "      <td>1</td>\n",
       "      <td>1</td>\n",
       "      <td>36</td>\n",
       "      <td>172</td>\n",
       "      <td>122</td>\n",
       "      <td>97</td>\n",
       "      <td>552</td>\n",
       "      <td>188</td>\n",
       "      <td>157</td>\n",
       "      <td>616</td>\n",
       "      <td>487</td>\n",
       "      <td>845</td>\n",
       "      <td>457</td>\n",
       "      <td>146</td>\n",
       "      <td>75</td>\n",
       "      <td>76</td>\n",
       "      <td>15.0</td>\n",
       "      <td>17.0</td>\n",
       "      <td>10.0</td>\n",
       "      <td>10.0</td>\n",
       "      <td>50.0</td>\n",
       "      <td>59.0</td>\n",
       "      <td>22.0</td>\n",
       "      <td>29.0</td>\n",
       "      <td>63.0</td>\n",
       "      <td>65.0</td>\n",
       "      <td>77.0</td>\n",
       "      <td>57.0</td>\n",
       "      <td>18.0</td>\n",
       "      <td>26.0</td>\n",
       "      <td>37.0</td>\n",
       "      <td>24.0</td>\n",
       "      <td>479.0</td>\n",
       "      <td>52.0</td>\n",
       "      <td>427</td>\n",
       "      <td>527.0</td>\n",
       "      <td>3599</td>\n",
       "      <td>4126.0</td>\n",
       "      <td>0.000007</td>\n",
       "      <td>0.000007</td>\n",
       "      <td>0.000007</td>\n",
       "      <td>0.000017</td>\n",
       "      <td>0.000019</td>\n",
       "      <td>0.000019</td>\n",
       "      <td>1.258065</td>\n",
       "      <td>1.384113</td>\n",
       "      <td>1.365801</td>\n",
       "    </tr>\n",
       "  </tbody>\n",
       "</table>\n",
       "</div>"
      ],
      "text/plain": [
       "   Unnamed: 0  ... GAS1_virus_S\n",
       "0           0  ...     0.572274\n",
       "1           1  ...     1.298578\n",
       "2           2  ...     0.979746\n",
       "3           3  ...     1.087459\n",
       "4           4  ...     1.365801\n",
       "\n",
       "[5 rows x 58 columns]"
      ]
     },
     "execution_count": 11,
     "metadata": {
      "tags": []
     },
     "output_type": "execute_result"
    }
   ],
   "source": [
    "with gzip.open('GAS1_target_20190516.csv.gz', 'rb') as f:\n",
    "    gas1 = pandas.read_csv(f, index_col=None)\n",
    "\n",
    "gas1 = gas1.rename({\n",
    "    'aa': 'sequence',\n",
    "    'mask': 'mutation_sequence',\n",
    "    'mut': 'num_mutations',\n",
    "    'category': 'partition',\n",
    "}, axis=1)\n",
    "\n",
    "gas1_orig = gas1.copy() ## for comparison below if needed\n",
    "\n",
    "gas1.head()"
   ]
  },
  {
   "cell_type": "markdown",
   "metadata": {
    "id": "dOY5xHMsAJy3"
   },
   "source": [
    "#### Validate that N->F columns computed as expected"
   ]
  },
  {
   "cell_type": "code",
   "execution_count": null,
   "metadata": {
    "id": "EplSrzWA_V_0"
   },
   "outputs": [],
   "source": [
    "numpy.testing.assert_allclose(\n",
    "    gas1.GAS1_plasmid_F, \n",
    "    gas1.GAS1_plasmid_N / gas1.GAS1_plasmid_N.sum())\n",
    "\n",
    "numpy.testing.assert_allclose(\n",
    "    gas1.GAS1_virus_F,\n",
    "    gas1.GAS1_virus_N / gas1.GAS1_virus_N.sum())"
   ]
  },
  {
   "cell_type": "markdown",
   "metadata": {
    "id": "cQM1yfpZBKoL"
   },
   "source": [
    "### Filter sequences with insufficient plasmids"
   ]
  },
  {
   "cell_type": "markdown",
   "metadata": {
    "id": "ID0Uzv53AOzU"
   },
   "source": [
    "#### Find zero-plasmid sequences"
   ]
  },
  {
   "cell_type": "code",
   "execution_count": null,
   "metadata": {
    "colab": {
     "base_uri": "https://localhost:8080/",
     "height": 34
    },
    "executionInfo": {
     "elapsed": 337,
     "status": "ok",
     "timestamp": 1593126569792,
     "user": {
      "displayName": "Lucy Colwell",
      "photoUrl": "https://lh3.googleusercontent.com/a-/AOh14GhDVS9VL55nJ_BMyjGqE4RYboOf4i5N9LaE148oGg=s64",
      "userId": "17590064334699832966"
     },
     "user_tz": 240
    },
    "id": "hVLg7uAJAbmc",
    "outputId": "86f7acb7-9037-4d91-8ad8-d54d270710d4"
   },
   "outputs": [
    {
     "data": {
      "text/plain": [
       "446"
      ]
     },
     "execution_count": 13,
     "metadata": {
      "tags": []
     },
     "output_type": "execute_result"
    }
   ],
   "source": [
    "zero_plasmids_mask = gas1.GAS1_plasmid_N == 0\n",
    "zero_plasmids_mask.sum()"
   ]
  },
  {
   "cell_type": "markdown",
   "metadata": {
    "id": "hiUGQzH_AnOM"
   },
   "source": [
    "#### Find low-plasmid count sequences\n",
    "These selection values are unreliable, more noisy"
   ]
  },
  {
   "cell_type": "code",
   "execution_count": null,
   "metadata": {
    "colab": {
     "base_uri": "https://localhost:8080/",
     "height": 34
    },
    "executionInfo": {
     "elapsed": 340,
     "status": "ok",
     "timestamp": 1593126571756,
     "user": {
      "displayName": "Lucy Colwell",
      "photoUrl": "https://lh3.googleusercontent.com/a-/AOh14GhDVS9VL55nJ_BMyjGqE4RYboOf4i5N9LaE148oGg=s64",
      "userId": "17590064334699832966"
     },
     "user_tz": 240
    },
    "id": "8kB9qFH7Ats9",
    "outputId": "fee7db53-36a8-4594-9d70-2e736eb05c22"
   },
   "outputs": [
    {
     "data": {
      "text/plain": [
       "1887"
      ]
     },
     "execution_count": 14,
     "metadata": {
      "tags": []
     },
     "output_type": "execute_result"
    }
   ],
   "source": [
    "low_plasmids_mask = (gas1.GAS1_plasmid_N < 10) & ~zero_plasmids_mask\n",
    "low_plasmids_mask.sum()"
   ]
  },
  {
   "cell_type": "markdown",
   "metadata": {
    "id": "TGkyGMlLBBGE"
   },
   "source": [
    "#### Drop sequences that don't meet the plasmid count bars"
   ]
  },
  {
   "cell_type": "code",
   "execution_count": null,
   "metadata": {
    "colab": {
     "base_uri": "https://localhost:8080/",
     "height": 34
    },
    "executionInfo": {
     "elapsed": 348,
     "status": "ok",
     "timestamp": 1593126572873,
     "user": {
      "displayName": "Lucy Colwell",
      "photoUrl": "https://lh3.googleusercontent.com/a-/AOh14GhDVS9VL55nJ_BMyjGqE4RYboOf4i5N9LaE148oGg=s64",
      "userId": "17590064334699832966"
     },
     "user_tz": 240
    },
    "id": "iCXmHqKAA8Sd",
    "outputId": "ab91b828-0519-4218-ad6f-84bf98ff0b7c"
   },
   "outputs": [
    {
     "data": {
      "text/plain": [
       "2333"
      ]
     },
     "execution_count": 15,
     "metadata": {
      "tags": []
     },
     "output_type": "execute_result"
    }
   ],
   "source": [
    "seqs_to_remove = (low_plasmids_mask | zero_plasmids_mask)\n",
    "seqs_to_remove.sum()"
   ]
  },
  {
   "cell_type": "code",
   "execution_count": null,
   "metadata": {
    "colab": {
     "base_uri": "https://localhost:8080/",
     "height": 34
    },
    "executionInfo": {
     "elapsed": 328,
     "status": "ok",
     "timestamp": 1593126573929,
     "user": {
      "displayName": "Lucy Colwell",
      "photoUrl": "https://lh3.googleusercontent.com/a-/AOh14GhDVS9VL55nJ_BMyjGqE4RYboOf4i5N9LaE148oGg=s64",
      "userId": "17590064334699832966"
     },
     "user_tz": 240
    },
    "id": "krsWbYNaBVv9",
    "outputId": "f510f9a6-d17c-4159-be5a-697f41a5a020"
   },
   "outputs": [
    {
     "data": {
      "text/plain": [
       "243481"
      ]
     },
     "execution_count": 16,
     "metadata": {
      "tags": []
     },
     "output_type": "execute_result"
    }
   ],
   "source": [
    "num_seqs_before_plasmid_filter = len(gas1)\n",
    "num_seqs_before_plasmid_filter"
   ]
  },
  {
   "cell_type": "code",
   "execution_count": null,
   "metadata": {
    "id": "E3r35Jh8BGQ_"
   },
   "outputs": [],
   "source": [
    "gas1 = gas1[~seqs_to_remove].copy()"
   ]
  },
  {
   "cell_type": "code",
   "execution_count": null,
   "metadata": {
    "colab": {
     "base_uri": "https://localhost:8080/",
     "height": 34
    },
    "executionInfo": {
     "elapsed": 318,
     "status": "ok",
     "timestamp": 1593126577014,
     "user": {
      "displayName": "Lucy Colwell",
      "photoUrl": "https://lh3.googleusercontent.com/a-/AOh14GhDVS9VL55nJ_BMyjGqE4RYboOf4i5N9LaE148oGg=s64",
      "userId": "17590064334699832966"
     },
     "user_tz": 240
    },
    "id": "krMEp-FYBoj9",
    "outputId": "d146319d-e535-4e99-ac2e-46fcf22e2e1a"
   },
   "outputs": [
    {
     "data": {
      "text/plain": [
       "2333"
      ]
     },
     "execution_count": 18,
     "metadata": {
      "tags": []
     },
     "output_type": "execute_result"
    }
   ],
   "source": [
    "num_seqs_before_plasmid_filter - len(gas1)"
   ]
  },
  {
   "cell_type": "code",
   "execution_count": null,
   "metadata": {
    "colab": {
     "base_uri": "https://localhost:8080/",
     "height": 34
    },
    "executionInfo": {
     "elapsed": 317,
     "status": "ok",
     "timestamp": 1593126578145,
     "user": {
      "displayName": "Lucy Colwell",
      "photoUrl": "https://lh3.googleusercontent.com/a-/AOh14GhDVS9VL55nJ_BMyjGqE4RYboOf4i5N9LaE148oGg=s64",
      "userId": "17590064334699832966"
     },
     "user_tz": 240
    },
    "id": "wpazOmBdKx4Y",
    "outputId": "78788390-55a8-47f0-fe65-6b4b324c95c2"
   },
   "outputs": [
    {
     "data": {
      "text/plain": [
       "241148"
      ]
     },
     "execution_count": 19,
     "metadata": {
      "tags": []
     },
     "output_type": "execute_result"
    }
   ],
   "source": [
    "len(gas1)"
   ]
  },
  {
   "cell_type": "markdown",
   "metadata": {
    "id": "uPI3xpmAwPvV"
   },
   "source": [
    "###  Add pseudocounts"
   ]
  },
  {
   "cell_type": "code",
   "execution_count": null,
   "metadata": {
    "id": "7eZarz4gwPgf"
   },
   "outputs": [],
   "source": [
    "PSEUDOCOUNT = 1\n",
    "\n",
    "def counts_to_frequency(counts):\n",
    "  return counts / counts.sum()\n",
    "\n",
    "\n",
    "gas1['virus_N'] = gas1.GAS1_virus_N + PSEUDOCOUNT\n",
    "gas1['plasmid_N'] = gas1.GAS1_plasmid_N + PSEUDOCOUNT\n",
    "\n",
    "gas1['virus_F'] = counts_to_frequency(gas1.virus_N)\n",
    "gas1['plasmid_F'] = counts_to_frequency(gas1.plasmid_N)"
   ]
  },
  {
   "cell_type": "markdown",
   "metadata": {
    "id": "GedLhfwzCngt"
   },
   "source": [
    "### Compute viral selection "
   ]
  },
  {
   "cell_type": "code",
   "execution_count": null,
   "metadata": {
    "colab": {
     "base_uri": "https://localhost:8080/",
     "height": 168
    },
    "executionInfo": {
     "elapsed": 308,
     "status": "ok",
     "timestamp": 1593126582996,
     "user": {
      "displayName": "Lucy Colwell",
      "photoUrl": "https://lh3.googleusercontent.com/a-/AOh14GhDVS9VL55nJ_BMyjGqE4RYboOf4i5N9LaE148oGg=s64",
      "userId": "17590064334699832966"
     },
     "user_tz": 240
    },
    "id": "khDxPsIWzhM7",
    "outputId": "de52006c-a480-44b7-ec55-af0b35e4a59f"
   },
   "outputs": [
    {
     "data": {
      "text/plain": [
       "count    241148.000000\n",
       "mean         -2.601064\n",
       "std           3.393798\n",
       "min         -11.176109\n",
       "25%          -5.814133\n",
       "50%          -2.479348\n",
       "75%           0.761311\n",
       "max           5.935761\n",
       "Name: viral_selection, dtype: float64"
      ]
     },
     "execution_count": 21,
     "metadata": {
      "tags": []
     },
     "output_type": "execute_result"
    }
   ],
   "source": [
    "gas1['viral_selection'] = numpy.log2(gas1.virus_F / gas1.plasmid_F)\n",
    "assert 0 == gas1.viral_selection.isna().sum()\n",
    "assert not numpy.any(numpy.isinf(gas1.viral_selection))\n",
    "gas1.viral_selection.describe()"
   ]
  },
  {
   "cell_type": "markdown",
   "metadata": {
    "id": "qlVxyU9eHwsD"
   },
   "source": [
    "### Compute GMM threshold"
   ]
  },
  {
   "cell_type": "code",
   "execution_count": null,
   "metadata": {
    "colab": {
     "base_uri": "https://localhost:8080/",
     "height": 50
    },
    "executionInfo": {
     "elapsed": 4782,
     "status": "ok",
     "timestamp": 1593126599459,
     "user": {
      "displayName": "Lucy Colwell",
      "photoUrl": "https://lh3.googleusercontent.com/a-/AOh14GhDVS9VL55nJ_BMyjGqE4RYboOf4i5N9LaE148oGg=s64",
      "userId": "17590064334699832966"
     },
     "user_tz": 240
    },
    "id": "we0lrh3OIrXx",
    "outputId": "98de5bba-8766-4b1e-d81b-fac833b4cece"
   },
   "outputs": [
    {
     "name": "stdout",
     "output_type": "stream",
     "text": [
      "selection coeff cutoff = -2.811\n",
      "0.5094091595202946\n"
     ]
    }
   ],
   "source": [
    "# Classify the selection coeff series after fitting to a GMM\n",
    "gmm_model = TwoGaussianMixtureModelLabeler(\n",
    "    gas1[gas1.partition.isin(['stop', 'wild_type'])].viral_selection)\n",
    "gas1['viral_selection_gmm'] = gmm_model.predict(gas1.viral_selection)\n",
    "\n",
    "# Compute the threshold for the viable class from the GMM labels\n",
    "selection_coeff_threshold = gas1.loc[gas1.viral_selection_gmm == 2, 'viral_selection'].min()\n",
    "print('selection coeff cutoff = %.3f' % selection_coeff_threshold)\n",
    "\n",
    "# Add a label column\n",
    "def is_viable_mutant(mutant_data):\n",
    "  return mutant_data['viral_selection'] > selection_coeff_threshold\n",
    "gas1['is_viable'] = gas1.apply(is_viable_mutant, axis=1)\n",
    "\n",
    "print(gas1.is_viable.mean())"
   ]
  },
  {
   "cell_type": "markdown",
   "metadata": {
    "id": "crcRQniSbCod"
   },
   "source": [
    "----"
   ]
  },
  {
   "cell_type": "markdown",
   "metadata": {
    "id": "jZ_aMJuDyS-N"
   },
   "source": [
    "### De-dupe model-designed sequences"
   ]
  },
  {
   "cell_type": "markdown",
   "metadata": {
    "id": "YK8Hr6QTcEUT"
   },
   "source": [
    "#### Partition the sequences that should not be de-deduped\n",
    "\n",
    "Split off the partitions for which we want to retain replicates, such as controls/etc.\n",
    "\n"
   ]
  },
  {
   "cell_type": "code",
   "execution_count": null,
   "metadata": {
    "colab": {
     "base_uri": "https://localhost:8080/",
     "height": 336
    },
    "executionInfo": {
     "elapsed": 414,
     "status": "ok",
     "timestamp": 1593126604927,
     "user": {
      "displayName": "Lucy Colwell",
      "photoUrl": "https://lh3.googleusercontent.com/a-/AOh14GhDVS9VL55nJ_BMyjGqE4RYboOf4i5N9LaE148oGg=s64",
      "userId": "17590064334699832966"
     },
     "user_tz": 240
    },
    "id": "MmYz3pKSyXTS",
    "outputId": "1e6f384f-3c10-4f42-d823-5a69acd1e428"
   },
   "outputs": [
    {
     "data": {
      "text/plain": [
       "rnn_standard_walked                     21337\n",
       "cnn_designed_plus_rand_train_walked     21251\n",
       "rnn_designed_plus_rand_train_walked     21218\n",
       "lr_standard_walked                      20951\n",
       "cnn_rand_doubles_plus_single_walked     20936\n",
       "cnn_standard_walked                     20878\n",
       "rnn_rand_doubles_plus_singles_walked    20623\n",
       "lr_rand_doubles_plus_single_walked      20473\n",
       "lr_designed_plus_rand_train_walked      20164\n",
       "lr_rand_doubles_plus_single_seed         2071\n",
       "rnn_designed_plus_rand_train_seed        2065\n",
       "rnn_rand_doubles_plus_singles_seed       2045\n",
       "lr_designed_plus_rand_train_seed         2030\n",
       "cnn_rand_doubles_plus_single_seed        2022\n",
       "lr_standard_seed                         1989\n",
       "cnn_standard_seed                        1924\n",
       "rnn_standard_seed                        1916\n",
       "cnn_designed_plus_rand_train_seed        1898\n",
       "Name: partition, dtype: int64"
      ]
     },
     "execution_count": 24,
     "metadata": {
      "tags": []
     },
     "output_type": "execute_result"
    }
   ],
   "source": [
    "ml_generated_seqs = [\n",
    "    'cnn_designed_plus_rand_train_seed',\n",
    "    'cnn_designed_plus_rand_train_walked',\n",
    "    'cnn_rand_doubles_plus_single_seed',\n",
    "    'cnn_rand_doubles_plus_single_walked',\n",
    "    'cnn_standard_seed',\n",
    "    'cnn_standard_walked',\n",
    "    'lr_designed_plus_rand_train_seed',\n",
    "    'lr_designed_plus_rand_train_walked',\n",
    "    'lr_rand_doubles_plus_single_seed',\n",
    "    'lr_rand_doubles_plus_single_walked',\n",
    "    'lr_standard_seed',\n",
    "    'lr_standard_walked',\n",
    "    'rnn_designed_plus_rand_train_seed',\n",
    "    'rnn_designed_plus_rand_train_walked',\n",
    "    'rnn_rand_doubles_plus_singles_seed',\n",
    "    'rnn_rand_doubles_plus_singles_walked',\n",
    "    'rnn_standard_seed',\n",
    "    'rnn_standard_walked',\n",
    "]\n",
    "\n",
    "is_ml_generated_mask = gas1.partition.isin(ml_generated_seqs)\n",
    "ml_gen_df = gas1[is_ml_generated_mask].copy()\n",
    "non_ml_gen_df = gas1[~is_ml_generated_mask].copy()\n",
    "\n",
    "ml_gen_df.partition.value_counts()"
   ]
  },
  {
   "cell_type": "code",
   "execution_count": null,
   "metadata": {
    "id": "xELIUhWR6ysl"
   },
   "outputs": [],
   "source": [
    "ml_gen_deduped = ml_gen_df.groupby('sequence').apply(\n",
    "    lambda dupes: dupes.loc[dupes.plasmid_N.idxmax()]).copy()"
   ]
  },
  {
   "cell_type": "code",
   "execution_count": null,
   "metadata": {
    "colab": {
     "base_uri": "https://localhost:8080/",
     "height": 362
    },
    "executionInfo": {
     "elapsed": 362,
     "status": "ok",
     "timestamp": 1593126768681,
     "user": {
      "displayName": "Lucy Colwell",
      "photoUrl": "https://lh3.googleusercontent.com/a-/AOh14GhDVS9VL55nJ_BMyjGqE4RYboOf4i5N9LaE148oGg=s64",
      "userId": "17590064334699832966"
     },
     "user_tz": 240
    },
    "id": "n6yS2gEZGa8U",
    "outputId": "3b972a1d-b54e-4857-ae52-f65e1d4d904f"
   },
   "outputs": [
    {
     "data": {
      "text/plain": [
       "(201426, 65)"
      ]
     },
     "metadata": {
      "tags": []
     },
     "output_type": "display_data"
    },
    {
     "data": {
      "text/html": [
       "<div>\n",
       "<style scoped>\n",
       "    .dataframe tbody tr th:only-of-type {\n",
       "        vertical-align: middle;\n",
       "    }\n",
       "\n",
       "    .dataframe tbody tr th {\n",
       "        vertical-align: top;\n",
       "    }\n",
       "\n",
       "    .dataframe thead th {\n",
       "        text-align: right;\n",
       "    }\n",
       "</style>\n",
       "<table border=\"1\" class=\"dataframe\">\n",
       "  <thead>\n",
       "    <tr style=\"text-align: right;\">\n",
       "      <th></th>\n",
       "      <th>Unnamed: 0</th>\n",
       "      <th>Unnamed: 0.1</th>\n",
       "      <th>sequence</th>\n",
       "      <th>partition</th>\n",
       "      <th>chip</th>\n",
       "      <th>control</th>\n",
       "      <th>is_wt_aa</th>\n",
       "      <th>is_wt_nt</th>\n",
       "      <th>mutation_sequence</th>\n",
       "      <th>num_mutations</th>\n",
       "      <th>rep_i</th>\n",
       "      <th>rep_original</th>\n",
       "      <th>rep_total</th>\n",
       "      <th>EK269_GAS1_p1_rep1a_plasmid_x</th>\n",
       "      <th>EK269_GAS1_p1_rep1b_plasmid_x</th>\n",
       "      <th>EK269_GAS1_p1_rep1c_plasmid_x</th>\n",
       "      <th>EK269_GAS1_p1_rep1d_plasmid_x</th>\n",
       "      <th>EK269_GAS1_v3_rep1a_virus</th>\n",
       "      <th>EK269_GAS1_v3_rep1b_virus</th>\n",
       "      <th>EK269_GAS1_v3_rep1c_virus</th>\n",
       "      <th>EK269_GAS1_v3_rep1d_virus</th>\n",
       "      <th>EK269_GAS1_v4_rep2a_virus</th>\n",
       "      <th>EK269_GAS1_v4_rep2b_virus</th>\n",
       "      <th>EK269_GAS1_v4_rep2c_virus</th>\n",
       "      <th>EK269_GAS1_v4_rep2d_virus</th>\n",
       "      <th>EK269_GAS1_v5_rep3a_virus</th>\n",
       "      <th>EK269_GAS1_v5_rep3b_virus</th>\n",
       "      <th>EK269_GAS1_p1_rep1a_plasmid_y</th>\n",
       "      <th>EK269_GAS1_p1_rep1b_plasmid_y</th>\n",
       "      <th>EK269_GAS1_p1_rep1c_plasmid_y</th>\n",
       "      <th>EK269_GAS1_p1_rep1d_plasmid_y</th>\n",
       "      <th>old_EK269_GAS1_v3_rep1a_virus</th>\n",
       "      <th>old_EK269_GAS1_v3_rep1b_virus</th>\n",
       "      <th>old_EK269_GAS1_v3_rep1c_virus</th>\n",
       "      <th>old_EK269_GAS1_v3_rep1d_virus</th>\n",
       "      <th>old_EK269_GAS1_v4_rep2a_virus</th>\n",
       "      <th>old_EK269_GAS1_v4_rep2b_virus</th>\n",
       "      <th>old_EK269_GAS1_v4_rep2c_virus</th>\n",
       "      <th>old_EK269_GAS1_v4_rep2d_virus</th>\n",
       "      <th>old_EK269_GAS1_v5_rep3a_virus</th>\n",
       "      <th>old_EK269_GAS1_v5_rep3b_virus</th>\n",
       "      <th>old_EK269_GAS1_v5_rep3c_virus</th>\n",
       "      <th>old_EK269_GAS1_v5_rep3d_virus</th>\n",
       "      <th>GAS1_plasmid_N</th>\n",
       "      <th>v0_GAS1_plasmid_N</th>\n",
       "      <th>v1_GAS1_plasmid_N</th>\n",
       "      <th>v0_GAS1_virus_N</th>\n",
       "      <th>v1_GAS1_virus_N</th>\n",
       "      <th>GAS1_virus_N</th>\n",
       "      <th>v0_GAS1_plasmid_F</th>\n",
       "      <th>v1_GAS1_plasmid_F</th>\n",
       "      <th>GAS1_plasmid_F</th>\n",
       "      <th>v0_GAS1_virus_F</th>\n",
       "      <th>v1_GAS1_virus_F</th>\n",
       "      <th>GAS1_virus_F</th>\n",
       "      <th>v0_GAS1_virus_S</th>\n",
       "      <th>v1_GAS1_virus_S</th>\n",
       "      <th>GAS1_virus_S</th>\n",
       "      <th>virus_N</th>\n",
       "      <th>plasmid_N</th>\n",
       "      <th>virus_F</th>\n",
       "      <th>plasmid_F</th>\n",
       "      <th>viral_selection</th>\n",
       "      <th>viral_selection_gmm</th>\n",
       "      <th>is_viable</th>\n",
       "    </tr>\n",
       "    <tr>\n",
       "      <th>sequence</th>\n",
       "      <th></th>\n",
       "      <th></th>\n",
       "      <th></th>\n",
       "      <th></th>\n",
       "      <th></th>\n",
       "      <th></th>\n",
       "      <th></th>\n",
       "      <th></th>\n",
       "      <th></th>\n",
       "      <th></th>\n",
       "      <th></th>\n",
       "      <th></th>\n",
       "      <th></th>\n",
       "      <th></th>\n",
       "      <th></th>\n",
       "      <th></th>\n",
       "      <th></th>\n",
       "      <th></th>\n",
       "      <th></th>\n",
       "      <th></th>\n",
       "      <th></th>\n",
       "      <th></th>\n",
       "      <th></th>\n",
       "      <th></th>\n",
       "      <th></th>\n",
       "      <th></th>\n",
       "      <th></th>\n",
       "      <th></th>\n",
       "      <th></th>\n",
       "      <th></th>\n",
       "      <th></th>\n",
       "      <th></th>\n",
       "      <th></th>\n",
       "      <th></th>\n",
       "      <th></th>\n",
       "      <th></th>\n",
       "      <th></th>\n",
       "      <th></th>\n",
       "      <th></th>\n",
       "      <th></th>\n",
       "      <th></th>\n",
       "      <th></th>\n",
       "      <th></th>\n",
       "      <th></th>\n",
       "      <th></th>\n",
       "      <th></th>\n",
       "      <th></th>\n",
       "      <th></th>\n",
       "      <th></th>\n",
       "      <th></th>\n",
       "      <th></th>\n",
       "      <th></th>\n",
       "      <th></th>\n",
       "      <th></th>\n",
       "      <th></th>\n",
       "      <th></th>\n",
       "      <th></th>\n",
       "      <th></th>\n",
       "      <th></th>\n",
       "      <th></th>\n",
       "      <th></th>\n",
       "      <th></th>\n",
       "      <th></th>\n",
       "      <th></th>\n",
       "      <th></th>\n",
       "    </tr>\n",
       "  </thead>\n",
       "  <tbody>\n",
       "    <tr>\n",
       "      <th>AAEEIATTNPVATEQYGSVcAaNmGEeApDaQaEgGd</th>\n",
       "      <td>82181</td>\n",
       "      <td>GCAGCCGAGGAAATCGCTACAACCAATCCCGTGGCTACGGAGCAGT...</td>\n",
       "      <td>AAEEIATTNPVATEQYGSVcAaNmGEeApDaQaEgGd</td>\n",
       "      <td>cnn_designed_plus_rand_train_walked</td>\n",
       "      <td>1</td>\n",
       "      <td>0</td>\n",
       "      <td>0</td>\n",
       "      <td>0</td>\n",
       "      <td>AA___A_____________cAaNmGEeApDaQaEgGd</td>\n",
       "      <td>21</td>\n",
       "      <td>1</td>\n",
       "      <td>1</td>\n",
       "      <td>1</td>\n",
       "      <td>36</td>\n",
       "      <td>129</td>\n",
       "      <td>94</td>\n",
       "      <td>91</td>\n",
       "      <td>322</td>\n",
       "      <td>94</td>\n",
       "      <td>94</td>\n",
       "      <td>378</td>\n",
       "      <td>277</td>\n",
       "      <td>557</td>\n",
       "      <td>277</td>\n",
       "      <td>87</td>\n",
       "      <td>61</td>\n",
       "      <td>63</td>\n",
       "      <td>14.0</td>\n",
       "      <td>15.0</td>\n",
       "      <td>15.0</td>\n",
       "      <td>12.0</td>\n",
       "      <td>19.0</td>\n",
       "      <td>35.0</td>\n",
       "      <td>23.0</td>\n",
       "      <td>26.0</td>\n",
       "      <td>43.0</td>\n",
       "      <td>35.0</td>\n",
       "      <td>31.0</td>\n",
       "      <td>11.0</td>\n",
       "      <td>21.0</td>\n",
       "      <td>29.0</td>\n",
       "      <td>32.0</td>\n",
       "      <td>18.0</td>\n",
       "      <td>406.0</td>\n",
       "      <td>56.0</td>\n",
       "      <td>350</td>\n",
       "      <td>323.0</td>\n",
       "      <td>2210</td>\n",
       "      <td>2533.0</td>\n",
       "      <td>0.000008</td>\n",
       "      <td>0.000006</td>\n",
       "      <td>0.000006</td>\n",
       "      <td>1.025716e-05</td>\n",
       "      <td>1.163842e-05</td>\n",
       "      <td>1.144194e-05</td>\n",
       "      <td>0.444881</td>\n",
       "      <td>0.967444</td>\n",
       "      <td>0.900450</td>\n",
       "      <td>2534.0</td>\n",
       "      <td>407.0</td>\n",
       "      <td>1.143470e-05</td>\n",
       "      <td>0.000006</td>\n",
       "      <td>0.900998</td>\n",
       "      <td>2</td>\n",
       "      <td>True</td>\n",
       "    </tr>\n",
       "    <tr>\n",
       "      <th>AAEEIATTNPVAtYAQWGCnTAgNnGLTtAeTgNlDs</th>\n",
       "      <td>85396</td>\n",
       "      <td>GCGGCTGAGGAAATCGCGACAACCAATCCCGTGGCTACCTATGCTC...</td>\n",
       "      <td>AAEEIATTNPVAtYAQWGCnTAgNnGLTtAeTgNlDs</td>\n",
       "      <td>cnn_designed_plus_rand_train_walked</td>\n",
       "      <td>1</td>\n",
       "      <td>0</td>\n",
       "      <td>0</td>\n",
       "      <td>0</td>\n",
       "      <td>AA___A______tYA_W_CnTAgNnG_TtAeTg_lDs</td>\n",
       "      <td>24</td>\n",
       "      <td>1</td>\n",
       "      <td>1</td>\n",
       "      <td>1</td>\n",
       "      <td>20</td>\n",
       "      <td>118</td>\n",
       "      <td>79</td>\n",
       "      <td>68</td>\n",
       "      <td>4</td>\n",
       "      <td>1</td>\n",
       "      <td>0</td>\n",
       "      <td>6</td>\n",
       "      <td>8</td>\n",
       "      <td>5</td>\n",
       "      <td>5</td>\n",
       "      <td>3</td>\n",
       "      <td>1</td>\n",
       "      <td>0</td>\n",
       "      <td>6.0</td>\n",
       "      <td>4.0</td>\n",
       "      <td>8.0</td>\n",
       "      <td>6.0</td>\n",
       "      <td>0.0</td>\n",
       "      <td>0.0</td>\n",
       "      <td>0.0</td>\n",
       "      <td>0.0</td>\n",
       "      <td>0.0</td>\n",
       "      <td>0.0</td>\n",
       "      <td>0.0</td>\n",
       "      <td>0.0</td>\n",
       "      <td>1.0</td>\n",
       "      <td>1.0</td>\n",
       "      <td>0.0</td>\n",
       "      <td>0.0</td>\n",
       "      <td>309.0</td>\n",
       "      <td>24.0</td>\n",
       "      <td>285</td>\n",
       "      <td>2.0</td>\n",
       "      <td>33</td>\n",
       "      <td>35.0</td>\n",
       "      <td>0.000003</td>\n",
       "      <td>0.000005</td>\n",
       "      <td>0.000005</td>\n",
       "      <td>6.351180e-08</td>\n",
       "      <td>1.737864e-07</td>\n",
       "      <td>1.581002e-07</td>\n",
       "      <td>-5.668117</td>\n",
       "      <td>-4.801599</td>\n",
       "      <td>-4.883025</td>\n",
       "      <td>36.0</td>\n",
       "      <td>310.0</td>\n",
       "      <td>1.624504e-07</td>\n",
       "      <td>0.000005</td>\n",
       "      <td>-4.843517</td>\n",
       "      <td>0</td>\n",
       "      <td>False</td>\n",
       "    </tr>\n",
       "    <tr>\n",
       "      <th>AAEEIFTTNPEALEQVwASCSeRnPfQhLGsPEI</th>\n",
       "      <td>172406</td>\n",
       "      <td>GCTGCGGAGGAAATCTTTACAACCAATCCCGAGGCTCTCGAGCAGG...</td>\n",
       "      <td>AAEEIFTTNPEALEQVwASCSeRnPfQhLGsPEI</td>\n",
       "      <td>lr_rand_doubles_plus_single_walked</td>\n",
       "      <td>1</td>\n",
       "      <td>0</td>\n",
       "      <td>0</td>\n",
       "      <td>0</td>\n",
       "      <td>AA___F____E_L__VwA_C_eRnPfQhLGsPEI</td>\n",
       "      <td>22</td>\n",
       "      <td>1</td>\n",
       "      <td>1</td>\n",
       "      <td>1</td>\n",
       "      <td>17</td>\n",
       "      <td>67</td>\n",
       "      <td>44</td>\n",
       "      <td>51</td>\n",
       "      <td>0</td>\n",
       "      <td>0</td>\n",
       "      <td>1</td>\n",
       "      <td>1</td>\n",
       "      <td>0</td>\n",
       "      <td>3</td>\n",
       "      <td>0</td>\n",
       "      <td>0</td>\n",
       "      <td>0</td>\n",
       "      <td>0</td>\n",
       "      <td>6.0</td>\n",
       "      <td>2.0</td>\n",
       "      <td>6.0</td>\n",
       "      <td>5.0</td>\n",
       "      <td>0.0</td>\n",
       "      <td>0.0</td>\n",
       "      <td>0.0</td>\n",
       "      <td>0.0</td>\n",
       "      <td>1.0</td>\n",
       "      <td>0.0</td>\n",
       "      <td>0.0</td>\n",
       "      <td>0.0</td>\n",
       "      <td>0.0</td>\n",
       "      <td>0.0</td>\n",
       "      <td>0.0</td>\n",
       "      <td>0.0</td>\n",
       "      <td>198.0</td>\n",
       "      <td>19.0</td>\n",
       "      <td>179</td>\n",
       "      <td>1.0</td>\n",
       "      <td>5</td>\n",
       "      <td>6.0</td>\n",
       "      <td>0.000003</td>\n",
       "      <td>0.000003</td>\n",
       "      <td>0.000003</td>\n",
       "      <td>3.175590e-08</td>\n",
       "      <td>2.633127e-08</td>\n",
       "      <td>2.710290e-08</td>\n",
       "      <td>-6.331082</td>\n",
       "      <td>-6.853063</td>\n",
       "      <td>-6.785239</td>\n",
       "      <td>7.0</td>\n",
       "      <td>199.0</td>\n",
       "      <td>3.158758e-08</td>\n",
       "      <td>0.000003</td>\n",
       "      <td>-6.566587</td>\n",
       "      <td>0</td>\n",
       "      <td>False</td>\n",
       "    </tr>\n",
       "    <tr>\n",
       "      <th>AAEEIHPTNPEALEQViASCSeRnPfQhLGGEaH</th>\n",
       "      <td>172429</td>\n",
       "      <td>GCCGCGGAGGAAATCCACCCGACCAATCCCGAAGCTCTTGAGCAGG...</td>\n",
       "      <td>AAEEIHPTNPEALEQViASCSeRnPfQhLGGEaH</td>\n",
       "      <td>lr_rand_doubles_plus_single_walked</td>\n",
       "      <td>1</td>\n",
       "      <td>0</td>\n",
       "      <td>0</td>\n",
       "      <td>0</td>\n",
       "      <td>AA___HP___E_L__ViA_C_eRnPfQhLG_EaH</td>\n",
       "      <td>22</td>\n",
       "      <td>1</td>\n",
       "      <td>1</td>\n",
       "      <td>1</td>\n",
       "      <td>35</td>\n",
       "      <td>245</td>\n",
       "      <td>181</td>\n",
       "      <td>150</td>\n",
       "      <td>2</td>\n",
       "      <td>1</td>\n",
       "      <td>2</td>\n",
       "      <td>2</td>\n",
       "      <td>2</td>\n",
       "      <td>3</td>\n",
       "      <td>3</td>\n",
       "      <td>2</td>\n",
       "      <td>1</td>\n",
       "      <td>0</td>\n",
       "      <td>19.0</td>\n",
       "      <td>23.0</td>\n",
       "      <td>27.0</td>\n",
       "      <td>11.0</td>\n",
       "      <td>0.0</td>\n",
       "      <td>0.0</td>\n",
       "      <td>0.0</td>\n",
       "      <td>0.0</td>\n",
       "      <td>0.0</td>\n",
       "      <td>1.0</td>\n",
       "      <td>0.0</td>\n",
       "      <td>0.0</td>\n",
       "      <td>0.0</td>\n",
       "      <td>0.0</td>\n",
       "      <td>1.0</td>\n",
       "      <td>2.0</td>\n",
       "      <td>691.0</td>\n",
       "      <td>80.0</td>\n",
       "      <td>611</td>\n",
       "      <td>4.0</td>\n",
       "      <td>18</td>\n",
       "      <td>22.0</td>\n",
       "      <td>0.000011</td>\n",
       "      <td>0.000010</td>\n",
       "      <td>0.000010</td>\n",
       "      <td>1.270236e-07</td>\n",
       "      <td>9.479256e-08</td>\n",
       "      <td>9.937730e-08</td>\n",
       "      <td>-6.405082</td>\n",
       "      <td>-6.776279</td>\n",
       "      <td>-6.713956</td>\n",
       "      <td>23.0</td>\n",
       "      <td>692.0</td>\n",
       "      <td>1.037878e-07</td>\n",
       "      <td>0.000010</td>\n",
       "      <td>-6.648384</td>\n",
       "      <td>0</td>\n",
       "      <td>False</td>\n",
       "    </tr>\n",
       "    <tr>\n",
       "      <th>AAEEIHPTNPEALEQVwASCAeRnPfQhLGGEI</th>\n",
       "      <td>172420</td>\n",
       "      <td>GCGGCTGAGGAAATCCATCCAACCAATCCCGAAGCGCTAGAGCAGG...</td>\n",
       "      <td>AAEEIHPTNPEALEQVwASCAeRnPfQhLGGEI</td>\n",
       "      <td>lr_rand_doubles_plus_single_walked</td>\n",
       "      <td>1</td>\n",
       "      <td>0</td>\n",
       "      <td>0</td>\n",
       "      <td>0</td>\n",
       "      <td>AA___HP___E_L__VwA_CAeRnPfQhLG_EI</td>\n",
       "      <td>22</td>\n",
       "      <td>1</td>\n",
       "      <td>1</td>\n",
       "      <td>1</td>\n",
       "      <td>42</td>\n",
       "      <td>204</td>\n",
       "      <td>143</td>\n",
       "      <td>130</td>\n",
       "      <td>5</td>\n",
       "      <td>1</td>\n",
       "      <td>1</td>\n",
       "      <td>3</td>\n",
       "      <td>5</td>\n",
       "      <td>5</td>\n",
       "      <td>3</td>\n",
       "      <td>2</td>\n",
       "      <td>2</td>\n",
       "      <td>1</td>\n",
       "      <td>17.0</td>\n",
       "      <td>19.0</td>\n",
       "      <td>16.0</td>\n",
       "      <td>10.0</td>\n",
       "      <td>0.0</td>\n",
       "      <td>0.0</td>\n",
       "      <td>0.0</td>\n",
       "      <td>0.0</td>\n",
       "      <td>0.0</td>\n",
       "      <td>0.0</td>\n",
       "      <td>0.0</td>\n",
       "      <td>0.0</td>\n",
       "      <td>1.0</td>\n",
       "      <td>1.0</td>\n",
       "      <td>0.0</td>\n",
       "      <td>0.0</td>\n",
       "      <td>581.0</td>\n",
       "      <td>62.0</td>\n",
       "      <td>519</td>\n",
       "      <td>2.0</td>\n",
       "      <td>28</td>\n",
       "      <td>30.0</td>\n",
       "      <td>0.000008</td>\n",
       "      <td>0.000009</td>\n",
       "      <td>0.000009</td>\n",
       "      <td>6.351180e-08</td>\n",
       "      <td>1.474551e-07</td>\n",
       "      <td>1.355145e-07</td>\n",
       "      <td>-7.037351</td>\n",
       "      <td>-5.903411</td>\n",
       "      <td>-6.016349</td>\n",
       "      <td>31.0</td>\n",
       "      <td>582.0</td>\n",
       "      <td>1.398879e-07</td>\n",
       "      <td>0.000009</td>\n",
       "      <td>-5.967996</td>\n",
       "      <td>0</td>\n",
       "      <td>False</td>\n",
       "    </tr>\n",
       "  </tbody>\n",
       "</table>\n",
       "</div>"
      ],
      "text/plain": [
       "                                       Unnamed: 0  ... is_viable\n",
       "sequence                                           ...          \n",
       "AAEEIATTNPVATEQYGSVcAaNmGEeApDaQaEgGd       82181  ...      True\n",
       "AAEEIATTNPVAtYAQWGCnTAgNnGLTtAeTgNlDs       85396  ...     False\n",
       "AAEEIFTTNPEALEQVwASCSeRnPfQhLGsPEI         172406  ...     False\n",
       "AAEEIHPTNPEALEQViASCSeRnPfQhLGGEaH         172429  ...     False\n",
       "AAEEIHPTNPEALEQVwASCAeRnPfQhLGGEI          172420  ...     False\n",
       "\n",
       "[5 rows x 65 columns]"
      ]
     },
     "execution_count": 26,
     "metadata": {
      "tags": []
     },
     "output_type": "execute_result"
    }
   ],
   "source": [
    "display(ml_gen_deduped.shape)\n",
    "ml_gen_deduped.head()"
   ]
  },
  {
   "cell_type": "markdown",
   "metadata": {
    "id": "oZGKy5r0dg7D"
   },
   "source": [
    "#### Concatenate de-deduped ML-generated seqs with rest"
   ]
  },
  {
   "cell_type": "code",
   "execution_count": null,
   "metadata": {
    "colab": {
     "base_uri": "https://localhost:8080/",
     "height": 454
    },
    "executionInfo": {
     "elapsed": 628,
     "status": "ok",
     "timestamp": 1593126768958,
     "user": {
      "displayName": "Lucy Colwell",
      "photoUrl": "https://lh3.googleusercontent.com/a-/AOh14GhDVS9VL55nJ_BMyjGqE4RYboOf4i5N9LaE148oGg=s64",
      "userId": "17590064334699832966"
     },
     "user_tz": 240
    },
    "id": "s-dC1aT-dgd_",
    "outputId": "ff66f635-4a39-41d7-d911-32197e49e965"
   },
   "outputs": [
    {
     "name": "stdout",
     "output_type": "stream",
     "text": [
      "(236783, 65)\n"
     ]
    },
    {
     "data": {
      "text/plain": [
       "random_doubles                          25040\n",
       "rnn_standard_walked                     20838\n",
       "cnn_designed_plus_rand_train_walked     20759\n",
       "rnn_designed_plus_rand_train_walked     20731\n",
       "lr_standard_walked                      20456\n",
       "cnn_rand_doubles_plus_single_walked     20454\n",
       "cnn_standard_walked                     20395\n",
       "rnn_rand_doubles_plus_singles_walked    20154\n",
       "lr_rand_doubles_plus_single_walked      19999\n",
       "lr_designed_plus_rand_train_walked      19680\n",
       "singles                                  3952\n",
       "previous_chip_viable                     2997\n",
       "previous_chip_nonviable                  2997\n",
       "lr_rand_doubles_plus_single_seed         2071\n",
       "rnn_designed_plus_rand_train_seed        2065\n",
       "rnn_rand_doubles_plus_singles_seed       2045\n",
       "lr_designed_plus_rand_train_seed         2030\n",
       "cnn_rand_doubles_plus_single_seed        2022\n",
       "lr_standard_seed                         1989\n",
       "cnn_standard_seed                        1924\n",
       "rnn_standard_seed                        1916\n",
       "cnn_designed_plus_rand_train_seed        1898\n",
       "wild_type                                 200\n",
       "stop                                      171\n",
       "Name: partition, dtype: int64"
      ]
     },
     "execution_count": 27,
     "metadata": {
      "tags": []
     },
     "output_type": "execute_result"
    }
   ],
   "source": [
    "gas1_deduped = pandas.concat([ml_gen_deduped, non_ml_gen_df], axis=0)\n",
    "print(gas1_deduped.shape)\n",
    "gas1_deduped.partition.value_counts()"
   ]
  },
  {
   "cell_type": "markdown",
   "metadata": {
    "id": "3ACPVRHCV1sq"
   },
   "source": [
    "## Compute edit distance for chip"
   ]
  },
  {
   "cell_type": "code",
   "execution_count": null,
   "metadata": {
    "id": "xg2CYqXDIKqy"
   },
   "outputs": [],
   "source": [
    "gas1 = gas1_deduped"
   ]
  },
  {
   "cell_type": "code",
   "execution_count": null,
   "metadata": {
    "colab": {
     "base_uri": "https://localhost:8080/",
     "height": 168
    },
    "executionInfo": {
     "elapsed": 917,
     "status": "ok",
     "timestamp": 1593126819825,
     "user": {
      "displayName": "Lucy Colwell",
      "photoUrl": "https://lh3.googleusercontent.com/a-/AOh14GhDVS9VL55nJ_BMyjGqE4RYboOf4i5N9LaE148oGg=s64",
      "userId": "17590064334699832966"
     },
     "user_tz": 240
    },
    "id": "0VmmyNdVV4Fp",
    "outputId": "a647f198-67ab-4b5a-8d31-49bd4b122620"
   },
   "outputs": [
    {
     "data": {
      "text/plain": [
       "count    236783.000000\n",
       "mean         13.563174\n",
       "std           7.489709\n",
       "min           0.000000\n",
       "25%           7.000000\n",
       "50%          14.000000\n",
       "75%          20.000000\n",
       "max          33.000000\n",
       "Name: num_edits, dtype: float64"
      ]
     },
     "execution_count": 31,
     "metadata": {
      "tags": []
     },
     "output_type": "execute_result"
    }
   ],
   "source": [
    "gas1['num_edits'] = gas1.sequence.apply(\n",
    "    lambda s: Levenshtein.distance(R1_TILE21_WT_SEQ, s))\n",
    "gas1.num_edits.describe()"
   ]
  },
  {
   "cell_type": "code",
   "execution_count": null,
   "metadata": {
    "id": "_tvwnyvQHppW"
   },
   "outputs": [],
   "source": [
    "COLUMN_SCHEMA = [ \n",
    "    'sequence',\n",
    "    'partition',\n",
    "    'mutation_sequence',\n",
    "    'num_mutations',\n",
    "    'num_edits',    \n",
    "    'viral_selection',\n",
    "    'is_viable',\n",
    "]\n",
    "\n",
    "gas1a = gas1[COLUMN_SCHEMA].copy()"
   ]
  },
  {
   "cell_type": "markdown",
   "metadata": {
    "id": "W7bF-d67Y5E1"
   },
   "source": [
    "#### Concat with training data chip"
   ]
  },
  {
   "cell_type": "code",
   "execution_count": null,
   "metadata": {
    "colab": {
     "base_uri": "https://localhost:8080/",
     "height": 136
    },
    "executionInfo": {
     "elapsed": 929,
     "status": "ok",
     "timestamp": 1593126937032,
     "user": {
      "displayName": "Lucy Colwell",
      "photoUrl": "https://lh3.googleusercontent.com/a-/AOh14GhDVS9VL55nJ_BMyjGqE4RYboOf4i5N9LaE148oGg=s64",
      "userId": "17590064334699832966"
     },
     "user_tz": 240
    },
    "id": "qE6NK7fKtwp4",
    "outputId": "5922be09-4734-450c-b5b1-d3d5c8ca6b05"
   },
   "outputs": [
    {
     "data": {
      "text/html": [
       "<div>\n",
       "<style scoped>\n",
       "    .dataframe tbody tr th:only-of-type {\n",
       "        vertical-align: middle;\n",
       "    }\n",
       "\n",
       "    .dataframe tbody tr th {\n",
       "        vertical-align: top;\n",
       "    }\n",
       "\n",
       "    .dataframe thead th {\n",
       "        text-align: right;\n",
       "    }\n",
       "</style>\n",
       "<table border=\"1\" class=\"dataframe\">\n",
       "  <thead>\n",
       "    <tr style=\"text-align: right;\">\n",
       "      <th></th>\n",
       "      <th>sequence</th>\n",
       "      <th>partition</th>\n",
       "      <th>mutation_sequence</th>\n",
       "      <th>num_mutations</th>\n",
       "      <th>num_edits</th>\n",
       "      <th>viral_selection</th>\n",
       "      <th>is_viable</th>\n",
       "    </tr>\n",
       "  </thead>\n",
       "  <tbody>\n",
       "    <tr>\n",
       "      <th>0</th>\n",
       "      <td>ADEEIRATNPIATEMYGSVSTNLQLGNR</td>\n",
       "      <td>designed</td>\n",
       "      <td>AD____A___I___M_________L___</td>\n",
       "      <td>6</td>\n",
       "      <td>6</td>\n",
       "      <td>-2.027259</td>\n",
       "      <td>False</td>\n",
       "    </tr>\n",
       "    <tr>\n",
       "      <th>1</th>\n",
       "      <td>ADEEIRATNPVATEQYGSVSTNQQRQNR</td>\n",
       "      <td>designed</td>\n",
       "      <td>AD____A_______________Q__Q__</td>\n",
       "      <td>5</td>\n",
       "      <td>5</td>\n",
       "      <td>-0.429554</td>\n",
       "      <td>True</td>\n",
       "    </tr>\n",
       "    <tr>\n",
       "      <th>2</th>\n",
       "      <td>ADEEIRTTNPVATEQWGGVSTNLQIGNY</td>\n",
       "      <td>designed</td>\n",
       "      <td>AD_____________W_G______I__Y</td>\n",
       "      <td>6</td>\n",
       "      <td>6</td>\n",
       "      <td>-0.527843</td>\n",
       "      <td>True</td>\n",
       "    </tr>\n",
       "  </tbody>\n",
       "</table>\n",
       "</div>"
      ],
      "text/plain": [
       "                       sequence partition  ... viral_selection  is_viable\n",
       "0  ADEEIRATNPIATEMYGSVSTNLQLGNR  designed  ...       -2.027259      False\n",
       "1  ADEEIRATNPVATEQYGSVSTNQQRQNR  designed  ...       -0.429554       True\n",
       "2  ADEEIRTTNPVATEQWGGVSTNLQIGNY  designed  ...       -0.527843       True\n",
       "\n",
       "[3 rows x 7 columns]"
      ]
     },
     "execution_count": 37,
     "metadata": {
      "tags": []
     },
     "output_type": "execute_result"
    }
   ],
   "source": [
    "harvard = pandas.read_csv('r0r1_with_partitions_and_labels.csv', index_col=None)\n",
    "\n",
    "harvard = harvard.rename({\n",
    "    'S': 'viral_selection',\n",
    "    'aa_seq': 'sequence',\n",
    "    'mask': 'mutation_sequence',\n",
    "    'mut': 'num_mutations',\n",
    "}, axis=1)\n",
    "\n",
    "designed_mask = harvard.partition.isin(['min_fit', 'thresh', 'temp'])\n",
    "harvard.loc[designed_mask, ['partition']] = 'designed'\n",
    "\n",
    "harvard['num_edits'] = harvard.sequence.apply(\n",
    "    lambda s: Levenshtein.distance(R1_TILE21_WT_SEQ, s))\n",
    "harvard.num_edits.describe()\n",
    "\n",
    "harvard1 = harvard[COLUMN_SCHEMA].copy()\n",
    "\n",
    "harvard1.head(3)"
   ]
  },
  {
   "cell_type": "code",
   "execution_count": null,
   "metadata": {
    "colab": {
     "base_uri": "https://localhost:8080/",
     "height": 504
    },
    "executionInfo": {
     "elapsed": 445,
     "status": "ok",
     "timestamp": 1593126945342,
     "user": {
      "displayName": "Lucy Colwell",
      "photoUrl": "https://lh3.googleusercontent.com/a-/AOh14GhDVS9VL55nJ_BMyjGqE4RYboOf4i5N9LaE148oGg=s64",
      "userId": "17590064334699832966"
     },
     "user_tz": 240
    },
    "id": "09Cw43etY4Vo",
    "outputId": "89c210fc-30ca-47c9-f854-da221929eb28"
   },
   "outputs": [
    {
     "name": "stdout",
     "output_type": "stream",
     "text": [
      "(304152, 8)\n"
     ]
    },
    {
     "data": {
      "text/plain": [
       "designed                                56372\n",
       "random_doubles                          25040\n",
       "rnn_standard_walked                     20838\n",
       "cnn_designed_plus_rand_train_walked     20759\n",
       "rnn_designed_plus_rand_train_walked     20731\n",
       "lr_standard_walked                      20456\n",
       "cnn_rand_doubles_plus_single_walked     20454\n",
       "cnn_standard_walked                     20395\n",
       "rnn_rand_doubles_plus_singles_walked    20154\n",
       "lr_rand_doubles_plus_single_walked      19999\n",
       "lr_designed_plus_rand_train_walked      19680\n",
       "rand                                     9885\n",
       "singles                                  3952\n",
       "previous_chip_viable                     2997\n",
       "previous_chip_nonviable                  2997\n",
       "lr_rand_doubles_plus_single_seed         2071\n",
       "rnn_designed_plus_rand_train_seed        2065\n",
       "rnn_rand_doubles_plus_singles_seed       2045\n",
       "lr_designed_plus_rand_train_seed         2030\n",
       "cnn_rand_doubles_plus_single_seed        2022\n",
       "lr_standard_seed                         1989\n",
       "cnn_standard_seed                        1924\n",
       "rnn_standard_seed                        1916\n",
       "cnn_designed_plus_rand_train_seed        1898\n",
       "single                                   1112\n",
       "wild_type                                 200\n",
       "stop                                      171\n",
       "Name: partition, dtype: int64"
      ]
     },
     "execution_count": 38,
     "metadata": {
      "tags": []
     },
     "output_type": "execute_result"
    }
   ],
   "source": [
    "harvard1['chip'] = 'harvard'\n",
    "gas1a['chip'] = 'gas1'\n",
    "\n",
    "combined = pandas.concat([\n",
    "    harvard1, \n",
    "    gas1a,\n",
    "], axis=0, sort=False)\n",
    "print(combined.shape)\n",
    "combined.partition.value_counts()"
   ]
  },
  {
   "cell_type": "code",
   "execution_count": null,
   "metadata": {
    "colab": {
     "base_uri": "https://localhost:8080/",
     "height": 195
    },
    "executionInfo": {
     "elapsed": 378,
     "status": "ok",
     "timestamp": 1593126948316,
     "user": {
      "displayName": "Lucy Colwell",
      "photoUrl": "https://lh3.googleusercontent.com/a-/AOh14GhDVS9VL55nJ_BMyjGqE4RYboOf4i5N9LaE148oGg=s64",
      "userId": "17590064334699832966"
     },
     "user_tz": 240
    },
    "id": "sDi7oEM2nsL7",
    "outputId": "3be1645b-44a8-40c6-b60a-861bedf2a995"
   },
   "outputs": [
    {
     "data": {
      "text/html": [
       "<div>\n",
       "<style scoped>\n",
       "    .dataframe tbody tr th:only-of-type {\n",
       "        vertical-align: middle;\n",
       "    }\n",
       "\n",
       "    .dataframe tbody tr th {\n",
       "        vertical-align: top;\n",
       "    }\n",
       "\n",
       "    .dataframe thead th {\n",
       "        text-align: right;\n",
       "    }\n",
       "</style>\n",
       "<table border=\"1\" class=\"dataframe\">\n",
       "  <thead>\n",
       "    <tr style=\"text-align: right;\">\n",
       "      <th></th>\n",
       "      <th>sequence</th>\n",
       "      <th>partition</th>\n",
       "      <th>mutation_sequence</th>\n",
       "      <th>num_mutations</th>\n",
       "      <th>num_edits</th>\n",
       "      <th>viral_selection</th>\n",
       "      <th>is_viable</th>\n",
       "      <th>chip</th>\n",
       "    </tr>\n",
       "  </thead>\n",
       "  <tbody>\n",
       "    <tr>\n",
       "      <th>0</th>\n",
       "      <td>ADEEIRATNPIATEMYGSVSTNLQLGNR</td>\n",
       "      <td>designed</td>\n",
       "      <td>AD____A___I___M_________L___</td>\n",
       "      <td>6</td>\n",
       "      <td>6</td>\n",
       "      <td>-2.027259</td>\n",
       "      <td>False</td>\n",
       "      <td>harvard</td>\n",
       "    </tr>\n",
       "    <tr>\n",
       "      <th>1</th>\n",
       "      <td>ADEEIRATNPVATEQYGSVSTNQQRQNR</td>\n",
       "      <td>designed</td>\n",
       "      <td>AD____A_______________Q__Q__</td>\n",
       "      <td>5</td>\n",
       "      <td>5</td>\n",
       "      <td>-0.429554</td>\n",
       "      <td>True</td>\n",
       "      <td>harvard</td>\n",
       "    </tr>\n",
       "    <tr>\n",
       "      <th>2</th>\n",
       "      <td>ADEEIRTTNPVATEQWGGVSTNLQIGNY</td>\n",
       "      <td>designed</td>\n",
       "      <td>AD_____________W_G______I__Y</td>\n",
       "      <td>6</td>\n",
       "      <td>6</td>\n",
       "      <td>-0.527843</td>\n",
       "      <td>True</td>\n",
       "      <td>harvard</td>\n",
       "    </tr>\n",
       "    <tr>\n",
       "      <th>3</th>\n",
       "      <td>ADEEIRTTNPVATEQYGEVSTNLQRGNR</td>\n",
       "      <td>designed</td>\n",
       "      <td>AD_______________E__________</td>\n",
       "      <td>3</td>\n",
       "      <td>3</td>\n",
       "      <td>2.887908</td>\n",
       "      <td>True</td>\n",
       "      <td>harvard</td>\n",
       "    </tr>\n",
       "    <tr>\n",
       "      <th>4</th>\n",
       "      <td>ADEEIRTTNPVATEQYGSVSTNLQRGNR</td>\n",
       "      <td>designed</td>\n",
       "      <td>AD__________________________</td>\n",
       "      <td>2</td>\n",
       "      <td>2</td>\n",
       "      <td>0.575730</td>\n",
       "      <td>True</td>\n",
       "      <td>harvard</td>\n",
       "    </tr>\n",
       "  </tbody>\n",
       "</table>\n",
       "</div>"
      ],
      "text/plain": [
       "                       sequence partition  ... is_viable     chip\n",
       "0  ADEEIRATNPIATEMYGSVSTNLQLGNR  designed  ...     False  harvard\n",
       "1  ADEEIRATNPVATEQYGSVSTNQQRQNR  designed  ...      True  harvard\n",
       "2  ADEEIRTTNPVATEQWGGVSTNLQIGNY  designed  ...      True  harvard\n",
       "3  ADEEIRTTNPVATEQYGEVSTNLQRGNR  designed  ...      True  harvard\n",
       "4  ADEEIRTTNPVATEQYGSVSTNLQRGNR  designed  ...      True  harvard\n",
       "\n",
       "[5 rows x 8 columns]"
      ]
     },
     "execution_count": 39,
     "metadata": {
      "tags": []
     },
     "output_type": "execute_result"
    }
   ],
   "source": [
    "combined.head()"
   ]
  }
 ],
 "metadata": {
  "colab": {
   "collapsed_sections": [],
   "last_runtime": {
    "build_target": "//research/biology/collaborations/aptamers:notebook",
    "kind": "shared"
   },
   "name": "data_prep.ipynb",
   "provenance": [
    {
     "file_id": "12Apk6W8VE6b1uJeDeE8zMDxIQoy7PmXb",
     "timestamp": 1593127225338
    },
    {
     "file_id": "1EQIf7CtSDR2_9XbbaVWWflGed3iv7_qp",
     "timestamp": 1593104311501
    },
    {
     "file_id": "1IzF054h5ytTwlJCu3jrM4m37IjpAfoq6",
     "timestamp": 1592708284079
    },
    {
     "file_id": "1PRds7BGpQ3VGGE3u69vIRK394IY0G08I",
     "timestamp": 1592703091207
    },
    {
     "file_id": "1M4_0I28I2vX17fhmjAgHOKWVtipblro-",
     "timestamp": 1592700744798
    },
    {
     "file_id": "1O4rVgAnAqZn8L91yriSwfucLYbUbsDut",
     "timestamp": 1592694353477
    },
    {
     "file_id": "1BMtY6RP5-wmWWnlUahAL6tNp_9Tsxv0f",
     "timestamp": 1592690804400
    }
   ],
   "toc_visible": true
  },
  "kernelspec": {
   "display_name": "Python 3 (ipykernel)",
   "language": "python",
   "name": "python3"
  },
  "language_info": {
   "codemirror_mode": {
    "name": "ipython",
    "version": 3
   },
   "file_extension": ".py",
   "mimetype": "text/x-python",
   "name": "python",
   "nbconvert_exporter": "python",
   "pygments_lexer": "ipython3",
   "version": "3.9.7"
  }
 },
 "nbformat": 4,
 "nbformat_minor": 4
}
