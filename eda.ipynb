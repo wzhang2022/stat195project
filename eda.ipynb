{
 "cells": [
  {
   "cell_type": "code",
   "execution_count": 94,
   "id": "bc29596b-d288-476b-a58f-92e9e2f41d90",
   "metadata": {},
   "outputs": [],
   "source": [
    "import numpy as np\n",
    "import seaborn as sns\n",
    "import matplotlib.pyplot as plt\n",
    "import pandas as pd\n",
    "from lassonet import LassoNetClassifier"
   ]
  },
  {
   "cell_type": "code",
   "execution_count": 12,
   "id": "4bbbc1a4-8b2f-41b7-a824-ee0237734bb0",
   "metadata": {},
   "outputs": [],
   "source": [
    "df = pd.read_csv(\"stat_195_project_data.csv\")"
   ]
  },
  {
   "cell_type": "code",
   "execution_count": 13,
   "id": "25b6a789-84a6-4ff1-aad6-ece8aa76ff6c",
   "metadata": {},
   "outputs": [
    {
     "data": {
      "text/html": [
       "<div>\n",
       "<style scoped>\n",
       "    .dataframe tbody tr th:only-of-type {\n",
       "        vertical-align: middle;\n",
       "    }\n",
       "\n",
       "    .dataframe tbody tr th {\n",
       "        vertical-align: top;\n",
       "    }\n",
       "\n",
       "    .dataframe thead th {\n",
       "        text-align: right;\n",
       "    }\n",
       "</style>\n",
       "<table border=\"1\" class=\"dataframe\">\n",
       "  <thead>\n",
       "    <tr style=\"text-align: right;\">\n",
       "      <th></th>\n",
       "      <th>sequence</th>\n",
       "      <th>partition</th>\n",
       "      <th>mutation_sequence</th>\n",
       "      <th>num_mutations</th>\n",
       "      <th>num_edits</th>\n",
       "      <th>viral_selection</th>\n",
       "      <th>is_viable</th>\n",
       "    </tr>\n",
       "  </thead>\n",
       "  <tbody>\n",
       "    <tr>\n",
       "      <th>0</th>\n",
       "      <td>ADEEIRATNPIATEMYGSVSTNLQLGNR</td>\n",
       "      <td>designed</td>\n",
       "      <td>AD____A___I___M_________L___</td>\n",
       "      <td>6</td>\n",
       "      <td>6</td>\n",
       "      <td>-2.027259</td>\n",
       "      <td>False</td>\n",
       "    </tr>\n",
       "    <tr>\n",
       "      <th>1</th>\n",
       "      <td>ADEEIRATNPVATEQYGSVSTNQQRQNR</td>\n",
       "      <td>designed</td>\n",
       "      <td>AD____A_______________Q__Q__</td>\n",
       "      <td>5</td>\n",
       "      <td>5</td>\n",
       "      <td>-0.429554</td>\n",
       "      <td>True</td>\n",
       "    </tr>\n",
       "    <tr>\n",
       "      <th>2</th>\n",
       "      <td>ADEEIRTTNPVATEQWGGVSTNLQIGNY</td>\n",
       "      <td>designed</td>\n",
       "      <td>AD_____________W_G______I__Y</td>\n",
       "      <td>6</td>\n",
       "      <td>6</td>\n",
       "      <td>-0.527843</td>\n",
       "      <td>True</td>\n",
       "    </tr>\n",
       "    <tr>\n",
       "      <th>3</th>\n",
       "      <td>ADEEIRTTNPVATEQYGEVSTNLQRGNR</td>\n",
       "      <td>designed</td>\n",
       "      <td>AD_______________E__________</td>\n",
       "      <td>3</td>\n",
       "      <td>3</td>\n",
       "      <td>2.887908</td>\n",
       "      <td>True</td>\n",
       "    </tr>\n",
       "    <tr>\n",
       "      <th>4</th>\n",
       "      <td>ADEEIRTTNPVATEQYGSVSTNLQRGNR</td>\n",
       "      <td>designed</td>\n",
       "      <td>AD__________________________</td>\n",
       "      <td>2</td>\n",
       "      <td>2</td>\n",
       "      <td>0.575730</td>\n",
       "      <td>True</td>\n",
       "    </tr>\n",
       "  </tbody>\n",
       "</table>\n",
       "</div>"
      ],
      "text/plain": [
       "                       sequence partition             mutation_sequence  \\\n",
       "0  ADEEIRATNPIATEMYGSVSTNLQLGNR  designed  AD____A___I___M_________L___   \n",
       "1  ADEEIRATNPVATEQYGSVSTNQQRQNR  designed  AD____A_______________Q__Q__   \n",
       "2  ADEEIRTTNPVATEQWGGVSTNLQIGNY  designed  AD_____________W_G______I__Y   \n",
       "3  ADEEIRTTNPVATEQYGEVSTNLQRGNR  designed  AD_______________E__________   \n",
       "4  ADEEIRTTNPVATEQYGSVSTNLQRGNR  designed  AD__________________________   \n",
       "\n",
       "   num_mutations  num_edits  viral_selection  is_viable  \n",
       "0              6          6        -2.027259      False  \n",
       "1              5          5        -0.429554       True  \n",
       "2              6          6        -0.527843       True  \n",
       "3              3          3         2.887908       True  \n",
       "4              2          2         0.575730       True  "
      ]
     },
     "execution_count": 13,
     "metadata": {},
     "output_type": "execute_result"
    }
   ],
   "source": [
    "df.head()"
   ]
  },
  {
   "cell_type": "code",
   "execution_count": 117,
   "id": "2c764b44-155a-46b3-8eb9-b21220ef3427",
   "metadata": {},
   "outputs": [
    {
     "data": {
      "text/plain": [
       "['cnn_designed_plus_rand_train_seed',\n",
       " 'cnn_designed_plus_rand_train_walked',\n",
       " 'cnn_rand_doubles_plus_single_seed',\n",
       " 'cnn_rand_doubles_plus_single_walked',\n",
       " 'cnn_standard_seed',\n",
       " 'cnn_standard_walked',\n",
       " 'designed',\n",
       " 'lr_designed_plus_rand_train_seed',\n",
       " 'lr_designed_plus_rand_train_walked',\n",
       " 'lr_rand_doubles_plus_single_seed',\n",
       " 'lr_rand_doubles_plus_single_walked',\n",
       " 'lr_standard_seed',\n",
       " 'lr_standard_walked',\n",
       " 'previous_chip_nonviable',\n",
       " 'previous_chip_viable',\n",
       " 'rand',\n",
       " 'random_doubles',\n",
       " 'rnn_designed_plus_rand_train_seed',\n",
       " 'rnn_designed_plus_rand_train_walked',\n",
       " 'rnn_rand_doubles_plus_singles_seed',\n",
       " 'rnn_rand_doubles_plus_singles_walked',\n",
       " 'rnn_standard_seed',\n",
       " 'rnn_standard_walked',\n",
       " 'single',\n",
       " 'singles',\n",
       " 'stop',\n",
       " 'wild_type']"
      ]
     },
     "execution_count": 117,
     "metadata": {},
     "output_type": "execute_result"
    }
   ],
   "source": [
    "sorted(df[\"partition\"].unique())"
   ]
  },
  {
   "cell_type": "code",
   "execution_count": 51,
   "id": "83d50616-40c7-464e-8dbe-dbf47950738b",
   "metadata": {},
   "outputs": [
    {
     "data": {
      "text/html": [
       "<div>\n",
       "<style scoped>\n",
       "    .dataframe tbody tr th:only-of-type {\n",
       "        vertical-align: middle;\n",
       "    }\n",
       "\n",
       "    .dataframe tbody tr th {\n",
       "        vertical-align: top;\n",
       "    }\n",
       "\n",
       "    .dataframe thead th {\n",
       "        text-align: right;\n",
       "    }\n",
       "</style>\n",
       "<table border=\"1\" class=\"dataframe\">\n",
       "  <thead>\n",
       "    <tr style=\"text-align: right;\">\n",
       "      <th></th>\n",
       "      <th>sequence</th>\n",
       "      <th>partition</th>\n",
       "      <th>mutation_sequence</th>\n",
       "      <th>num_mutations</th>\n",
       "      <th>num_edits</th>\n",
       "      <th>viral_selection</th>\n",
       "      <th>is_viable</th>\n",
       "    </tr>\n",
       "  </thead>\n",
       "  <tbody>\n",
       "    <tr>\n",
       "      <th>68075</th>\n",
       "      <td>AEAEIRTTNPVATEQYGSVSTNLQRGNR</td>\n",
       "      <td>random_doubles</td>\n",
       "      <td>A_A_________________________</td>\n",
       "      <td>2</td>\n",
       "      <td>2</td>\n",
       "      <td>-1.249723</td>\n",
       "      <td>True</td>\n",
       "    </tr>\n",
       "    <tr>\n",
       "      <th>68760</th>\n",
       "      <td>AEEEERTTNPVATEQYGSVSTNLQRGNR</td>\n",
       "      <td>random_doubles</td>\n",
       "      <td>A___E_______________________</td>\n",
       "      <td>2</td>\n",
       "      <td>2</td>\n",
       "      <td>-5.662130</td>\n",
       "      <td>False</td>\n",
       "    </tr>\n",
       "    <tr>\n",
       "      <th>69182</th>\n",
       "      <td>AEEEIGTTNPVATEQYGSVSTNLQRGNR</td>\n",
       "      <td>random_doubles</td>\n",
       "      <td>A____G______________________</td>\n",
       "      <td>2</td>\n",
       "      <td>2</td>\n",
       "      <td>0.368345</td>\n",
       "      <td>True</td>\n",
       "    </tr>\n",
       "    <tr>\n",
       "      <th>69213</th>\n",
       "      <td>AEEEIPTTNPVATEQYGSVSTNLQRGNR</td>\n",
       "      <td>random_doubles</td>\n",
       "      <td>A____P______________________</td>\n",
       "      <td>2</td>\n",
       "      <td>2</td>\n",
       "      <td>-6.270881</td>\n",
       "      <td>False</td>\n",
       "    </tr>\n",
       "    <tr>\n",
       "      <th>69255</th>\n",
       "      <td>AEEEIRSTNPVATEQYGSVSTNLQRGNR</td>\n",
       "      <td>random_doubles</td>\n",
       "      <td>A_____S_____________________</td>\n",
       "      <td>2</td>\n",
       "      <td>2</td>\n",
       "      <td>-0.480637</td>\n",
       "      <td>True</td>\n",
       "    </tr>\n",
       "    <tr>\n",
       "      <th>...</th>\n",
       "      <td>...</td>\n",
       "      <td>...</td>\n",
       "      <td>...</td>\n",
       "      <td>...</td>\n",
       "      <td>...</td>\n",
       "      <td>...</td>\n",
       "      <td>...</td>\n",
       "    </tr>\n",
       "    <tr>\n",
       "      <th>294210</th>\n",
       "      <td>YEEfEIRTTNPVATEQYGSVSTNLQRGNR</td>\n",
       "      <td>random_doubles</td>\n",
       "      <td>Y__f_________________________</td>\n",
       "      <td>2</td>\n",
       "      <td>2</td>\n",
       "      <td>-6.595298</td>\n",
       "      <td>False</td>\n",
       "    </tr>\n",
       "    <tr>\n",
       "      <th>294815</th>\n",
       "      <td>YEMEIRTTNPVATEQYGSVSTNLQRGNR</td>\n",
       "      <td>random_doubles</td>\n",
       "      <td>Y_M_________________________</td>\n",
       "      <td>2</td>\n",
       "      <td>2</td>\n",
       "      <td>-6.691514</td>\n",
       "      <td>False</td>\n",
       "    </tr>\n",
       "    <tr>\n",
       "      <th>296018</th>\n",
       "      <td>YEhEEIRTTNPVATEQYGSVSTNLQRGNR</td>\n",
       "      <td>random_doubles</td>\n",
       "      <td>Y_h__________________________</td>\n",
       "      <td>2</td>\n",
       "      <td>2</td>\n",
       "      <td>-5.071218</td>\n",
       "      <td>False</td>\n",
       "    </tr>\n",
       "    <tr>\n",
       "      <th>296331</th>\n",
       "      <td>YIEEIRTTNPVATEQYGSVSTNLQRGNR</td>\n",
       "      <td>random_doubles</td>\n",
       "      <td>YI__________________________</td>\n",
       "      <td>2</td>\n",
       "      <td>2</td>\n",
       "      <td>-2.658708</td>\n",
       "      <td>True</td>\n",
       "    </tr>\n",
       "    <tr>\n",
       "      <th>296913</th>\n",
       "      <td>YvEEEIRTTNPVATEQYGSVSTNLQRGNR</td>\n",
       "      <td>random_doubles</td>\n",
       "      <td>Yv___________________________</td>\n",
       "      <td>2</td>\n",
       "      <td>2</td>\n",
       "      <td>-5.419141</td>\n",
       "      <td>False</td>\n",
       "    </tr>\n",
       "  </tbody>\n",
       "</table>\n",
       "<p>25040 rows × 7 columns</p>\n",
       "</div>"
      ],
      "text/plain": [
       "                             sequence       partition  \\\n",
       "68075    AEAEIRTTNPVATEQYGSVSTNLQRGNR  random_doubles   \n",
       "68760    AEEEERTTNPVATEQYGSVSTNLQRGNR  random_doubles   \n",
       "69182    AEEEIGTTNPVATEQYGSVSTNLQRGNR  random_doubles   \n",
       "69213    AEEEIPTTNPVATEQYGSVSTNLQRGNR  random_doubles   \n",
       "69255    AEEEIRSTNPVATEQYGSVSTNLQRGNR  random_doubles   \n",
       "...                               ...             ...   \n",
       "294210  YEEfEIRTTNPVATEQYGSVSTNLQRGNR  random_doubles   \n",
       "294815   YEMEIRTTNPVATEQYGSVSTNLQRGNR  random_doubles   \n",
       "296018  YEhEEIRTTNPVATEQYGSVSTNLQRGNR  random_doubles   \n",
       "296331   YIEEIRTTNPVATEQYGSVSTNLQRGNR  random_doubles   \n",
       "296913  YvEEEIRTTNPVATEQYGSVSTNLQRGNR  random_doubles   \n",
       "\n",
       "                    mutation_sequence  num_mutations  num_edits  \\\n",
       "68075    A_A_________________________              2          2   \n",
       "68760    A___E_______________________              2          2   \n",
       "69182    A____G______________________              2          2   \n",
       "69213    A____P______________________              2          2   \n",
       "69255    A_____S_____________________              2          2   \n",
       "...                               ...            ...        ...   \n",
       "294210  Y__f_________________________              2          2   \n",
       "294815   Y_M_________________________              2          2   \n",
       "296018  Y_h__________________________              2          2   \n",
       "296331   YI__________________________              2          2   \n",
       "296913  Yv___________________________              2          2   \n",
       "\n",
       "        viral_selection  is_viable  \n",
       "68075         -1.249723       True  \n",
       "68760         -5.662130      False  \n",
       "69182          0.368345       True  \n",
       "69213         -6.270881      False  \n",
       "69255         -0.480637       True  \n",
       "...                 ...        ...  \n",
       "294210        -6.595298      False  \n",
       "294815        -6.691514      False  \n",
       "296018        -5.071218      False  \n",
       "296331        -2.658708       True  \n",
       "296913        -5.419141      False  \n",
       "\n",
       "[25040 rows x 7 columns]"
      ]
     },
     "execution_count": 51,
     "metadata": {},
     "output_type": "execute_result"
    }
   ],
   "source": [
    "df[df[\"partition\"] == \"random_doubles\"]"
   ]
  },
  {
   "cell_type": "code",
   "execution_count": 6,
   "id": "4ddf8755-5e10-41c8-b4b5-b6809cf485f8",
   "metadata": {},
   "outputs": [],
   "source": [
    "import sys\n",
    "sys.path.append(\"aav/util\")"
   ]
  },
  {
   "cell_type": "code",
   "execution_count": 7,
   "id": "46743456-53bb-4741-be2c-f18c447869cb",
   "metadata": {},
   "outputs": [],
   "source": [
    "RESIDUES = tuple('ACDEFGHIKLMNPQRSTVWY')\n",
    "R1_TILE21_WT_SEQ = 'DEEEIRTTNPVATEQYGSVSTNLQRGNR'"
   ]
  },
  {
   "cell_type": "code",
   "execution_count": 104,
   "id": "f4c9c5c8-46a3-44f6-b5c7-7db19eaf9af9",
   "metadata": {},
   "outputs": [],
   "source": [
    "from residue_encoding import ResidueIdentityEncoder\n",
    "from mutation_encoding import MutationSequenceEncoder\n",
    "\n",
    "res_encoder = ResidueIdentityEncoder(alphabet=\"ABC\")\n",
    "mut_encoder = MutationSequenceEncoder(res_encoder, \"CCBBAA\")"
   ]
  },
  {
   "cell_type": "code",
   "execution_count": 115,
   "id": "8ef2fcea-ecc2-415f-967a-c56b054d4d12",
   "metadata": {},
   "outputs": [
    {
     "ename": "ValueError",
     "evalue": "Mutation sequence dimension mismatch: 8 mutation positions vs 7 in reference sequence",
     "output_type": "error",
     "traceback": [
      "\u001b[0;31m---------------------------------------------------------------------------\u001b[0m",
      "\u001b[0;31mValueError\u001b[0m                                Traceback (most recent call last)",
      "\u001b[0;32m/var/folders/wh/2dh5bcw1749_kc2t28q7c70h0000gn/T/ipykernel_31797/1885469382.py\u001b[0m in \u001b[0;36m<module>\u001b[0;34m\u001b[0m\n\u001b[0;32m----> 1\u001b[0;31m \u001b[0mmut_encoder\u001b[0m\u001b[0;34m.\u001b[0m\u001b[0mencode\u001b[0m\u001b[0;34m(\u001b[0m\u001b[0;34m\"CCcCBBaAA\"\u001b[0m\u001b[0;34m)\u001b[0m\u001b[0;34m\u001b[0m\u001b[0;34m\u001b[0m\u001b[0m\n\u001b[0m",
      "\u001b[0;32m~/Library/CloudStorage/GoogleDrive-mguo@college.harvard.edu/My Drive/2022/classes/stat195/stat195project/aav/util/mutation_encoding.py\u001b[0m in \u001b[0;36mencode\u001b[0;34m(self, seq)\u001b[0m\n\u001b[1;32m    170\u001b[0m     \u001b[0msub_ins_tokens\u001b[0m \u001b[0;34m=\u001b[0m \u001b[0mtokenize_mutation_seq\u001b[0m\u001b[0;34m(\u001b[0m\u001b[0mseq\u001b[0m\u001b[0;34m,\u001b[0m \u001b[0m_PLACEHOLDER_TOKEN\u001b[0m\u001b[0;34m)\u001b[0m\u001b[0;34m\u001b[0m\u001b[0;34m\u001b[0m\u001b[0m\n\u001b[1;32m    171\u001b[0m     \u001b[0;32mif\u001b[0m \u001b[0mlen\u001b[0m\u001b[0;34m(\u001b[0m\u001b[0msub_ins_tokens\u001b[0m\u001b[0;34m)\u001b[0m \u001b[0;34m!=\u001b[0m \u001b[0mlen\u001b[0m\u001b[0;34m(\u001b[0m\u001b[0mself\u001b[0m\u001b[0;34m.\u001b[0m\u001b[0m_ref_seq\u001b[0m\u001b[0;34m)\u001b[0m \u001b[0;34m+\u001b[0m \u001b[0;36m1\u001b[0m\u001b[0;34m:\u001b[0m\u001b[0;34m\u001b[0m\u001b[0;34m\u001b[0m\u001b[0m\n\u001b[0;32m--> 172\u001b[0;31m       raise ValueError('Mutation sequence dimension mismatch: '\n\u001b[0m\u001b[1;32m    173\u001b[0m                        \u001b[0;34m'%d mutation positions vs %d in reference sequence'\u001b[0m\u001b[0;34m\u001b[0m\u001b[0;34m\u001b[0m\u001b[0m\n\u001b[1;32m    174\u001b[0m                        % (len(sub_ins_tokens), len(self._ref_seq) + 1))\n",
      "\u001b[0;31mValueError\u001b[0m: Mutation sequence dimension mismatch: 8 mutation positions vs 7 in reference sequence"
     ]
    }
   ],
   "source": [
    "mut_encoder.encode(\"CCcCBBaAA\")"
   ]
  },
  {
   "cell_type": "code",
   "execution_count": 52,
   "id": "ec39d24b-4159-4b4c-b533-324cbf9b85fe",
   "metadata": {},
   "outputs": [],
   "source": [
    "clf = LassoNetClassifier(hidden_dims=(50, 50))"
   ]
  },
  {
   "cell_type": "code",
   "execution_count": 53,
   "id": "f84ddf25-f649-4dd4-8349-d89678b02a1e",
   "metadata": {},
   "outputs": [],
   "source": [
    "df_r2 = df[df[\"partition\"] == \"random_doubles\"]"
   ]
  },
  {
   "cell_type": "code",
   "execution_count": 89,
   "id": "2aa9cabc-896a-4aff-8300-1c4dd6eecc19",
   "metadata": {},
   "outputs": [],
   "source": [
    "X = df_r2[\"sequence\"]\n",
    "X = np.array([mut_encoder.encode(X.iloc[i]).flatten() for i in range(5,10)])\n",
    "y = df_r2[\"is_viable\"][5:10].to_numpy().astype(int)"
   ]
  },
  {
   "cell_type": "code",
   "execution_count": 90,
   "id": "f8c8de8b-73c9-4313-a08e-59ccd378dd45",
   "metadata": {},
   "outputs": [],
   "source": [
    "y[-1] = 2"
   ]
  },
  {
   "cell_type": "code",
   "execution_count": 91,
   "id": "9eb39e2a-6d7a-46f7-b7a5-465abfe4eea1",
   "metadata": {},
   "outputs": [
    {
     "data": {
      "text/plain": [
       "array([0, 1, 1, 1, 2])"
      ]
     },
     "execution_count": 91,
     "metadata": {},
     "output_type": "execute_result"
    }
   ],
   "source": [
    "y"
   ]
  },
  {
   "cell_type": "code",
   "execution_count": 92,
   "id": "d8fad377-19ad-4915-8b4c-990553a95d9c",
   "metadata": {
    "tags": []
   },
   "outputs": [
    {
     "ename": "IndexError",
     "evalue": "Target 2 is out of bounds.",
     "output_type": "error",
     "traceback": [
      "\u001b[0;31m---------------------------------------------------------------------------\u001b[0m",
      "\u001b[0;31mIndexError\u001b[0m                                Traceback (most recent call last)",
      "\u001b[0;32m/var/folders/wh/2dh5bcw1749_kc2t28q7c70h0000gn/T/ipykernel_31797/804616002.py\u001b[0m in \u001b[0;36m<module>\u001b[0;34m\u001b[0m\n\u001b[0;32m----> 1\u001b[0;31m \u001b[0mclf\u001b[0m\u001b[0;34m.\u001b[0m\u001b[0mfit\u001b[0m\u001b[0;34m(\u001b[0m\u001b[0mX\u001b[0m\u001b[0;34m,\u001b[0m \u001b[0my\u001b[0m\u001b[0;34m)\u001b[0m\u001b[0;34m\u001b[0m\u001b[0;34m\u001b[0m\u001b[0m\n\u001b[0m",
      "\u001b[0;32m~/opt/anaconda3/lib/python3.9/site-packages/lassonet/interfaces.py\u001b[0m in \u001b[0;36mfit\u001b[0;34m(self, X, y, X_val, y_val)\u001b[0m\n\u001b[1;32m    179\u001b[0m         \u001b[0mwill\u001b[0m \u001b[0mmost\u001b[0m \u001b[0mlikely\u001b[0m \u001b[0;32mnot\u001b[0m \u001b[0muse\u001b[0m \u001b[0many\u001b[0m \u001b[0mfeature\u001b[0m\u001b[0;34m.\u001b[0m\u001b[0;34m\u001b[0m\u001b[0;34m\u001b[0m\u001b[0m\n\u001b[1;32m    180\u001b[0m         \"\"\"\n\u001b[0;32m--> 181\u001b[0;31m         \u001b[0mself\u001b[0m\u001b[0;34m.\u001b[0m\u001b[0mpath\u001b[0m\u001b[0;34m(\u001b[0m\u001b[0mX\u001b[0m\u001b[0;34m,\u001b[0m \u001b[0my\u001b[0m\u001b[0;34m,\u001b[0m \u001b[0mX_val\u001b[0m\u001b[0;34m=\u001b[0m\u001b[0mX_val\u001b[0m\u001b[0;34m,\u001b[0m \u001b[0my_val\u001b[0m\u001b[0;34m=\u001b[0m\u001b[0my_val\u001b[0m\u001b[0;34m)\u001b[0m\u001b[0;34m\u001b[0m\u001b[0;34m\u001b[0m\u001b[0m\n\u001b[0m\u001b[1;32m    182\u001b[0m         \u001b[0;32mreturn\u001b[0m \u001b[0mself\u001b[0m\u001b[0;34m\u001b[0m\u001b[0;34m\u001b[0m\u001b[0m\n\u001b[1;32m    183\u001b[0m \u001b[0;34m\u001b[0m\u001b[0m\n",
      "\u001b[0;32m~/opt/anaconda3/lib/python3.9/site-packages/lassonet/interfaces.py\u001b[0m in \u001b[0;36mpath\u001b[0;34m(self, X, y, X_val, y_val, lambda_)\u001b[0m\n\u001b[1;32m    317\u001b[0m \u001b[0;34m\u001b[0m\u001b[0m\n\u001b[1;32m    318\u001b[0m         hist.append(\n\u001b[0;32m--> 319\u001b[0;31m             self._train(\n\u001b[0m\u001b[1;32m    320\u001b[0m                 \u001b[0mX_train\u001b[0m\u001b[0;34m,\u001b[0m\u001b[0;34m\u001b[0m\u001b[0;34m\u001b[0m\u001b[0m\n\u001b[1;32m    321\u001b[0m                 \u001b[0my_train\u001b[0m\u001b[0;34m,\u001b[0m\u001b[0;34m\u001b[0m\u001b[0;34m\u001b[0m\u001b[0m\n",
      "\u001b[0;32m~/opt/anaconda3/lib/python3.9/site-packages/lassonet/interfaces.py\u001b[0m in \u001b[0;36m_train\u001b[0;34m(self, X_train, y_train, X_val, y_val, batch_size, epochs, lambda_, optimizer, patience)\u001b[0m\n\u001b[1;32m    205\u001b[0m                 )\n\u001b[1;32m    206\u001b[0m \u001b[0;34m\u001b[0m\u001b[0m\n\u001b[0;32m--> 207\u001b[0;31m         \u001b[0mbest_val_obj\u001b[0m \u001b[0;34m=\u001b[0m \u001b[0mvalidation_obj\u001b[0m\u001b[0;34m(\u001b[0m\u001b[0;34m)\u001b[0m\u001b[0;34m\u001b[0m\u001b[0;34m\u001b[0m\u001b[0m\n\u001b[0m\u001b[1;32m    208\u001b[0m         \u001b[0mepochs_since_best_val_obj\u001b[0m \u001b[0;34m=\u001b[0m \u001b[0;36m0\u001b[0m\u001b[0;34m\u001b[0m\u001b[0;34m\u001b[0m\u001b[0m\n\u001b[1;32m    209\u001b[0m         \u001b[0;32mif\u001b[0m \u001b[0mself\u001b[0m\u001b[0;34m.\u001b[0m\u001b[0mbacktrack\u001b[0m\u001b[0;34m:\u001b[0m\u001b[0;34m\u001b[0m\u001b[0;34m\u001b[0m\u001b[0m\n",
      "\u001b[0;32m~/opt/anaconda3/lib/python3.9/site-packages/lassonet/interfaces.py\u001b[0m in \u001b[0;36mvalidation_obj\u001b[0;34m()\u001b[0m\n\u001b[1;32m    201\u001b[0m                 \u001b[0mmodel\u001b[0m\u001b[0;34m.\u001b[0m\u001b[0meval\u001b[0m\u001b[0;34m(\u001b[0m\u001b[0;34m)\u001b[0m\u001b[0;34m\u001b[0m\u001b[0;34m\u001b[0m\u001b[0m\n\u001b[1;32m    202\u001b[0m                 return (\n\u001b[0;32m--> 203\u001b[0;31m                     \u001b[0mself\u001b[0m\u001b[0;34m.\u001b[0m\u001b[0mcriterion\u001b[0m\u001b[0;34m(\u001b[0m\u001b[0mmodel\u001b[0m\u001b[0;34m(\u001b[0m\u001b[0mX_val\u001b[0m\u001b[0;34m)\u001b[0m\u001b[0;34m,\u001b[0m \u001b[0my_val\u001b[0m\u001b[0;34m)\u001b[0m\u001b[0;34m.\u001b[0m\u001b[0mitem\u001b[0m\u001b[0;34m(\u001b[0m\u001b[0;34m)\u001b[0m\u001b[0;34m\u001b[0m\u001b[0;34m\u001b[0m\u001b[0m\n\u001b[0m\u001b[1;32m    204\u001b[0m                     \u001b[0;34m+\u001b[0m \u001b[0mlambda_\u001b[0m \u001b[0;34m*\u001b[0m \u001b[0mmodel\u001b[0m\u001b[0;34m.\u001b[0m\u001b[0mregularization\u001b[0m\u001b[0;34m(\u001b[0m\u001b[0;34m)\u001b[0m\u001b[0;34m.\u001b[0m\u001b[0mitem\u001b[0m\u001b[0;34m(\u001b[0m\u001b[0;34m)\u001b[0m\u001b[0;34m\u001b[0m\u001b[0;34m\u001b[0m\u001b[0m\n\u001b[1;32m    205\u001b[0m                 )\n",
      "\u001b[0;32m~/opt/anaconda3/lib/python3.9/site-packages/torch/nn/modules/module.py\u001b[0m in \u001b[0;36m_call_impl\u001b[0;34m(self, *input, **kwargs)\u001b[0m\n\u001b[1;32m   1108\u001b[0m         if not (self._backward_hooks or self._forward_hooks or self._forward_pre_hooks or _global_backward_hooks\n\u001b[1;32m   1109\u001b[0m                 or _global_forward_hooks or _global_forward_pre_hooks):\n\u001b[0;32m-> 1110\u001b[0;31m             \u001b[0;32mreturn\u001b[0m \u001b[0mforward_call\u001b[0m\u001b[0;34m(\u001b[0m\u001b[0;34m*\u001b[0m\u001b[0minput\u001b[0m\u001b[0;34m,\u001b[0m \u001b[0;34m**\u001b[0m\u001b[0mkwargs\u001b[0m\u001b[0;34m)\u001b[0m\u001b[0;34m\u001b[0m\u001b[0;34m\u001b[0m\u001b[0m\n\u001b[0m\u001b[1;32m   1111\u001b[0m         \u001b[0;31m# Do not call functions when jit is used\u001b[0m\u001b[0;34m\u001b[0m\u001b[0;34m\u001b[0m\u001b[0m\n\u001b[1;32m   1112\u001b[0m         \u001b[0mfull_backward_hooks\u001b[0m\u001b[0;34m,\u001b[0m \u001b[0mnon_full_backward_hooks\u001b[0m \u001b[0;34m=\u001b[0m \u001b[0;34m[\u001b[0m\u001b[0;34m]\u001b[0m\u001b[0;34m,\u001b[0m \u001b[0;34m[\u001b[0m\u001b[0;34m]\u001b[0m\u001b[0;34m\u001b[0m\u001b[0;34m\u001b[0m\u001b[0m\n",
      "\u001b[0;32m~/opt/anaconda3/lib/python3.9/site-packages/torch/nn/modules/loss.py\u001b[0m in \u001b[0;36mforward\u001b[0;34m(self, input, target)\u001b[0m\n\u001b[1;32m   1161\u001b[0m \u001b[0;34m\u001b[0m\u001b[0m\n\u001b[1;32m   1162\u001b[0m     \u001b[0;32mdef\u001b[0m \u001b[0mforward\u001b[0m\u001b[0;34m(\u001b[0m\u001b[0mself\u001b[0m\u001b[0;34m,\u001b[0m \u001b[0minput\u001b[0m\u001b[0;34m:\u001b[0m \u001b[0mTensor\u001b[0m\u001b[0;34m,\u001b[0m \u001b[0mtarget\u001b[0m\u001b[0;34m:\u001b[0m \u001b[0mTensor\u001b[0m\u001b[0;34m)\u001b[0m \u001b[0;34m->\u001b[0m \u001b[0mTensor\u001b[0m\u001b[0;34m:\u001b[0m\u001b[0;34m\u001b[0m\u001b[0;34m\u001b[0m\u001b[0m\n\u001b[0;32m-> 1163\u001b[0;31m         return F.cross_entropy(input, target, weight=self.weight,\n\u001b[0m\u001b[1;32m   1164\u001b[0m                                \u001b[0mignore_index\u001b[0m\u001b[0;34m=\u001b[0m\u001b[0mself\u001b[0m\u001b[0;34m.\u001b[0m\u001b[0mignore_index\u001b[0m\u001b[0;34m,\u001b[0m \u001b[0mreduction\u001b[0m\u001b[0;34m=\u001b[0m\u001b[0mself\u001b[0m\u001b[0;34m.\u001b[0m\u001b[0mreduction\u001b[0m\u001b[0;34m,\u001b[0m\u001b[0;34m\u001b[0m\u001b[0;34m\u001b[0m\u001b[0m\n\u001b[1;32m   1165\u001b[0m                                label_smoothing=self.label_smoothing)\n",
      "\u001b[0;32m~/opt/anaconda3/lib/python3.9/site-packages/torch/nn/functional.py\u001b[0m in \u001b[0;36mcross_entropy\u001b[0;34m(input, target, weight, size_average, ignore_index, reduce, reduction, label_smoothing)\u001b[0m\n\u001b[1;32m   2994\u001b[0m     \u001b[0;32mif\u001b[0m \u001b[0msize_average\u001b[0m \u001b[0;32mis\u001b[0m \u001b[0;32mnot\u001b[0m \u001b[0;32mNone\u001b[0m \u001b[0;32mor\u001b[0m \u001b[0mreduce\u001b[0m \u001b[0;32mis\u001b[0m \u001b[0;32mnot\u001b[0m \u001b[0;32mNone\u001b[0m\u001b[0;34m:\u001b[0m\u001b[0;34m\u001b[0m\u001b[0;34m\u001b[0m\u001b[0m\n\u001b[1;32m   2995\u001b[0m         \u001b[0mreduction\u001b[0m \u001b[0;34m=\u001b[0m \u001b[0m_Reduction\u001b[0m\u001b[0;34m.\u001b[0m\u001b[0mlegacy_get_string\u001b[0m\u001b[0;34m(\u001b[0m\u001b[0msize_average\u001b[0m\u001b[0;34m,\u001b[0m \u001b[0mreduce\u001b[0m\u001b[0;34m)\u001b[0m\u001b[0;34m\u001b[0m\u001b[0;34m\u001b[0m\u001b[0m\n\u001b[0;32m-> 2996\u001b[0;31m     \u001b[0;32mreturn\u001b[0m \u001b[0mtorch\u001b[0m\u001b[0;34m.\u001b[0m\u001b[0m_C\u001b[0m\u001b[0;34m.\u001b[0m\u001b[0m_nn\u001b[0m\u001b[0;34m.\u001b[0m\u001b[0mcross_entropy_loss\u001b[0m\u001b[0;34m(\u001b[0m\u001b[0minput\u001b[0m\u001b[0;34m,\u001b[0m \u001b[0mtarget\u001b[0m\u001b[0;34m,\u001b[0m \u001b[0mweight\u001b[0m\u001b[0;34m,\u001b[0m \u001b[0m_Reduction\u001b[0m\u001b[0;34m.\u001b[0m\u001b[0mget_enum\u001b[0m\u001b[0;34m(\u001b[0m\u001b[0mreduction\u001b[0m\u001b[0;34m)\u001b[0m\u001b[0;34m,\u001b[0m \u001b[0mignore_index\u001b[0m\u001b[0;34m,\u001b[0m \u001b[0mlabel_smoothing\u001b[0m\u001b[0;34m)\u001b[0m\u001b[0;34m\u001b[0m\u001b[0;34m\u001b[0m\u001b[0m\n\u001b[0m\u001b[1;32m   2997\u001b[0m \u001b[0;34m\u001b[0m\u001b[0m\n\u001b[1;32m   2998\u001b[0m \u001b[0;34m\u001b[0m\u001b[0m\n",
      "\u001b[0;31mIndexError\u001b[0m: Target 2 is out of bounds."
     ]
    }
   ],
   "source": [
    "clf.fit(X, y)"
   ]
  },
  {
   "cell_type": "code",
   "execution_count": 93,
   "id": "6c16dcc0-895c-4b74-aba9-30d2e657a7f6",
   "metadata": {},
   "outputs": [
    {
     "data": {
      "text/plain": [
       "array([1, 1, 1, 1, 1])"
      ]
     },
     "execution_count": 93,
     "metadata": {},
     "output_type": "execute_result"
    }
   ],
   "source": [
    "clf.predict(X)"
   ]
  },
  {
   "cell_type": "code",
   "execution_count": 84,
   "id": "20842de1-ec2e-4d63-b98b-9326a3dbf935",
   "metadata": {},
   "outputs": [
    {
     "data": {
      "text/plain": [
       "torch.Size([2, 1160])"
      ]
     },
     "execution_count": 84,
     "metadata": {},
     "output_type": "execute_result"
    }
   ],
   "source": [
    "clf.model.skip.weight.shape"
   ]
  },
  {
   "cell_type": "code",
   "execution_count": null,
   "id": "3292105f-4830-4a6d-8d46-37c5ad38f18c",
   "metadata": {},
   "outputs": [],
   "source": []
  }
 ],
 "metadata": {
  "kernelspec": {
   "display_name": "Python 3 (ipykernel)",
   "language": "python",
   "name": "python3"
  },
  "language_info": {
   "codemirror_mode": {
    "name": "ipython",
    "version": 3
   },
   "file_extension": ".py",
   "mimetype": "text/x-python",
   "name": "python",
   "nbconvert_exporter": "python",
   "pygments_lexer": "ipython3",
   "version": "3.9.7"
  }
 },
 "nbformat": 4,
 "nbformat_minor": 5
}
