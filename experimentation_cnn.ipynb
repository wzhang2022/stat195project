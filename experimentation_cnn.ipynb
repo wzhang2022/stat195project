{
 "cells": [
  {
   "cell_type": "code",
   "execution_count": 1,
   "metadata": {
    "colab": {
     "base_uri": "https://localhost:8080/"
    },
    "executionInfo": {
     "elapsed": 948,
     "status": "ok",
     "timestamp": 1651707004445,
     "user": {
      "displayName": "Max Guo",
      "userId": "02058253857407761531"
     },
     "user_tz": 240
    },
    "id": "r2fBipelTEPP",
    "outputId": "4df0233a-7e2a-432c-d3ae-b1d215187bd2"
   },
   "outputs": [],
   "source": [
    "# from google.colab import drive\n",
    "# import os\n",
    "# drive.mount('/content/drive')\n",
    "# os.chdir('/content/drive/My Drive/2022/classes/stat195/stat195project')\n",
    "# print(os.getcwd())"
   ]
  },
  {
   "cell_type": "code",
   "execution_count": 2,
   "metadata": {
    "executionInfo": {
     "elapsed": 5962,
     "status": "ok",
     "timestamp": 1651707010395,
     "user": {
      "displayName": "Max Guo",
      "userId": "02058253857407761531"
     },
     "user_tz": 240
    },
    "id": "nE1yKZ-ITWyQ"
   },
   "outputs": [],
   "source": [
    "# %%capture\n",
    "# !pip install lassonet\n",
    "# !pip install einops"
   ]
  },
  {
   "cell_type": "code",
   "execution_count": 3,
   "metadata": {
    "executionInfo": {
     "elapsed": 11,
     "status": "ok",
     "timestamp": 1651707010395,
     "user": {
      "displayName": "Max Guo",
      "userId": "02058253857407761531"
     },
     "user_tz": 240
    },
    "id": "D93zr3CVTNZB"
   },
   "outputs": [],
   "source": [
    "import numpy as np\n",
    "import seaborn as sns\n",
    "import matplotlib.pyplot as plt\n",
    "import pandas as pd\n",
    "import sys\n",
    "import torch\n",
    "import matplotlib.pyplot as plt\n",
    "\n",
    "sys.path.append(\"aav/util\")\n",
    "sys.path.append(\"aav/stat195_pytorch_work\")\n",
    "\n",
    "from lassonet import LassoNetClassifier\n",
    "\n",
    "from residue_encoding import ResidueIdentityEncoder\n",
    "from mutation_encoding import MutationSequenceEncoder\n",
    "from torch_cnn_lassonet import *\n",
    "from train import *\n",
    "\n",
    "from sklearn.metrics import accuracy_score\n",
    "from sklearn.linear_model import LogisticRegression\n",
    "from sklearn.model_selection import train_test_split\n",
    "\n",
    "from tqdm.auto import tqdm\n",
    "import pickle"
   ]
  },
  {
   "cell_type": "markdown",
   "metadata": {
    "id": "YKGYShcnVZA7"
   },
   "source": [
    "# Data"
   ]
  },
  {
   "cell_type": "markdown",
   "metadata": {
    "id": "4gqMtLqxZWTC"
   },
   "source": [
    "## Examine Dataset"
   ]
  },
  {
   "cell_type": "code",
   "execution_count": 4,
   "metadata": {
    "colab": {
     "base_uri": "https://localhost:8080/",
     "height": 206
    },
    "executionInfo": {
     "elapsed": 1396,
     "status": "ok",
     "timestamp": 1651707011781,
     "user": {
      "displayName": "Max Guo",
      "userId": "02058253857407761531"
     },
     "user_tz": 240
    },
    "id": "feetga7vVYuu",
    "outputId": "ba481417-80b8-4b93-879d-71227423ea28"
   },
   "outputs": [
    {
     "data": {
      "text/html": [
       "<div>\n",
       "<style scoped>\n",
       "    .dataframe tbody tr th:only-of-type {\n",
       "        vertical-align: middle;\n",
       "    }\n",
       "\n",
       "    .dataframe tbody tr th {\n",
       "        vertical-align: top;\n",
       "    }\n",
       "\n",
       "    .dataframe thead th {\n",
       "        text-align: right;\n",
       "    }\n",
       "</style>\n",
       "<table border=\"1\" class=\"dataframe\">\n",
       "  <thead>\n",
       "    <tr style=\"text-align: right;\">\n",
       "      <th></th>\n",
       "      <th>sequence</th>\n",
       "      <th>partition</th>\n",
       "      <th>mutation_sequence</th>\n",
       "      <th>num_mutations</th>\n",
       "      <th>num_edits</th>\n",
       "      <th>viral_selection</th>\n",
       "      <th>is_viable</th>\n",
       "    </tr>\n",
       "  </thead>\n",
       "  <tbody>\n",
       "    <tr>\n",
       "      <th>0</th>\n",
       "      <td>ADEEIRATNPIATEMYGSVSTNLQLGNR</td>\n",
       "      <td>designed</td>\n",
       "      <td>AD____A___I___M_________L___</td>\n",
       "      <td>6</td>\n",
       "      <td>6</td>\n",
       "      <td>-2.027259</td>\n",
       "      <td>False</td>\n",
       "    </tr>\n",
       "    <tr>\n",
       "      <th>1</th>\n",
       "      <td>ADEEIRATNPVATEQYGSVSTNQQRQNR</td>\n",
       "      <td>designed</td>\n",
       "      <td>AD____A_______________Q__Q__</td>\n",
       "      <td>5</td>\n",
       "      <td>5</td>\n",
       "      <td>-0.429554</td>\n",
       "      <td>True</td>\n",
       "    </tr>\n",
       "    <tr>\n",
       "      <th>2</th>\n",
       "      <td>ADEEIRTTNPVATEQWGGVSTNLQIGNY</td>\n",
       "      <td>designed</td>\n",
       "      <td>AD_____________W_G______I__Y</td>\n",
       "      <td>6</td>\n",
       "      <td>6</td>\n",
       "      <td>-0.527843</td>\n",
       "      <td>True</td>\n",
       "    </tr>\n",
       "    <tr>\n",
       "      <th>3</th>\n",
       "      <td>ADEEIRTTNPVATEQYGEVSTNLQRGNR</td>\n",
       "      <td>designed</td>\n",
       "      <td>AD_______________E__________</td>\n",
       "      <td>3</td>\n",
       "      <td>3</td>\n",
       "      <td>2.887908</td>\n",
       "      <td>True</td>\n",
       "    </tr>\n",
       "    <tr>\n",
       "      <th>4</th>\n",
       "      <td>ADEEIRTTNPVATEQYGSVSTNLQRGNR</td>\n",
       "      <td>designed</td>\n",
       "      <td>AD__________________________</td>\n",
       "      <td>2</td>\n",
       "      <td>2</td>\n",
       "      <td>0.575730</td>\n",
       "      <td>True</td>\n",
       "    </tr>\n",
       "  </tbody>\n",
       "</table>\n",
       "</div>"
      ],
      "text/plain": [
       "                       sequence partition             mutation_sequence  \\\n",
       "0  ADEEIRATNPIATEMYGSVSTNLQLGNR  designed  AD____A___I___M_________L___   \n",
       "1  ADEEIRATNPVATEQYGSVSTNQQRQNR  designed  AD____A_______________Q__Q__   \n",
       "2  ADEEIRTTNPVATEQWGGVSTNLQIGNY  designed  AD_____________W_G______I__Y   \n",
       "3  ADEEIRTTNPVATEQYGEVSTNLQRGNR  designed  AD_______________E__________   \n",
       "4  ADEEIRTTNPVATEQYGSVSTNLQRGNR  designed  AD__________________________   \n",
       "\n",
       "   num_mutations  num_edits  viral_selection  is_viable  \n",
       "0              6          6        -2.027259      False  \n",
       "1              5          5        -0.429554       True  \n",
       "2              6          6        -0.527843       True  \n",
       "3              3          3         2.887908       True  \n",
       "4              2          2         0.575730       True  "
      ]
     },
     "execution_count": 4,
     "metadata": {},
     "output_type": "execute_result"
    }
   ],
   "source": [
    "df = pd.read_csv(\"stat_195_project_data.csv\")\n",
    "df.head()"
   ]
  },
  {
   "cell_type": "code",
   "execution_count": 5,
   "metadata": {
    "colab": {
     "base_uri": "https://localhost:8080/"
    },
    "executionInfo": {
     "elapsed": 12,
     "status": "ok",
     "timestamp": 1651707011782,
     "user": {
      "displayName": "Max Guo",
      "userId": "02058253857407761531"
     },
     "user_tz": 240
    },
    "id": "aT8UFR5mVcsn",
    "outputId": "ae9606f7-fb55-4dae-e871-72683fa2081d"
   },
   "outputs": [
    {
     "data": {
      "text/plain": [
       "['cnn_designed_plus_rand_train_seed',\n",
       " 'cnn_designed_plus_rand_train_walked',\n",
       " 'cnn_rand_doubles_plus_single_seed',\n",
       " 'cnn_rand_doubles_plus_single_walked',\n",
       " 'cnn_standard_seed',\n",
       " 'cnn_standard_walked',\n",
       " 'designed',\n",
       " 'lr_designed_plus_rand_train_seed',\n",
       " 'lr_designed_plus_rand_train_walked',\n",
       " 'lr_rand_doubles_plus_single_seed',\n",
       " 'lr_rand_doubles_plus_single_walked',\n",
       " 'lr_standard_seed',\n",
       " 'lr_standard_walked',\n",
       " 'previous_chip_nonviable',\n",
       " 'previous_chip_viable',\n",
       " 'rand',\n",
       " 'random_doubles',\n",
       " 'rnn_designed_plus_rand_train_seed',\n",
       " 'rnn_designed_plus_rand_train_walked',\n",
       " 'rnn_rand_doubles_plus_singles_seed',\n",
       " 'rnn_rand_doubles_plus_singles_walked',\n",
       " 'rnn_standard_seed',\n",
       " 'rnn_standard_walked',\n",
       " 'single',\n",
       " 'singles',\n",
       " 'stop',\n",
       " 'wild_type']"
      ]
     },
     "execution_count": 5,
     "metadata": {},
     "output_type": "execute_result"
    }
   ],
   "source": [
    "# print unique partitions\n",
    "sorted(df[\"partition\"].unique())"
   ]
  },
  {
   "cell_type": "code",
   "execution_count": 6,
   "metadata": {
    "colab": {
     "base_uri": "https://localhost:8080/"
    },
    "executionInfo": {
     "elapsed": 105,
     "status": "ok",
     "timestamp": 1651707011881,
     "user": {
      "displayName": "Max Guo",
      "userId": "02058253857407761531"
     },
     "user_tz": 240
    },
    "id": "Kp-02iO0VjbR",
    "outputId": "53501c79-4fde-470b-89c1-b9674636df5b"
   },
   "outputs": [
    {
     "data": {
      "text/plain": [
       "56372"
      ]
     },
     "execution_count": 6,
     "metadata": {},
     "output_type": "execute_result"
    }
   ],
   "source": [
    "len(df[df[\"partition\"] == \"designed\"]) # additive model A_39 (complete)"
   ]
  },
  {
   "cell_type": "code",
   "execution_count": 7,
   "metadata": {
    "colab": {
     "base_uri": "https://localhost:8080/"
    },
    "executionInfo": {
     "elapsed": 2,
     "status": "ok",
     "timestamp": 1651707011881,
     "user": {
      "displayName": "Max Guo",
      "userId": "02058253857407761531"
     },
     "user_tz": 240
    },
    "id": "HBXn3a5JVqd4",
    "outputId": "a5543a58-2d8f-40de-b8c2-6d834f4f600c"
   },
   "outputs": [
    {
     "data": {
      "text/plain": [
       "1112"
      ]
     },
     "execution_count": 7,
     "metadata": {},
     "output_type": "execute_result"
    }
   ],
   "source": [
    "len(df[df[\"partition\"] == \"single\"]) # complete singles C_1 (complete)"
   ]
  },
  {
   "cell_type": "code",
   "execution_count": 8,
   "metadata": {
    "colab": {
     "base_uri": "https://localhost:8080/"
    },
    "executionInfo": {
     "elapsed": 160,
     "status": "ok",
     "timestamp": 1651707012040,
     "user": {
      "displayName": "Max Guo",
      "userId": "02058253857407761531"
     },
     "user_tz": 240
    },
    "id": "JPSWYqS5ZAZM",
    "outputId": "f61bb495-02ec-4dbb-aec9-0aa586fc3fc8"
   },
   "outputs": [
    {
     "data": {
      "text/plain": [
       "25040"
      ]
     },
     "execution_count": 8,
     "metadata": {},
     "output_type": "execute_result"
    }
   ],
   "source": [
    "len(df[df[\"partition\"] == \"random_doubles\"]) # superset of R_2, which has n=1756 data points"
   ]
  },
  {
   "cell_type": "code",
   "execution_count": 9,
   "metadata": {
    "colab": {
     "base_uri": "https://localhost:8080/"
    },
    "executionInfo": {
     "elapsed": 6,
     "status": "ok",
     "timestamp": 1651707012156,
     "user": {
      "displayName": "Max Guo",
      "userId": "02058253857407761531"
     },
     "user_tz": 240
    },
    "id": "oIG--OBXV2ac",
    "outputId": "38df1b47-9895-43af-dd00-d87a86ece290"
   },
   "outputs": [
    {
     "data": {
      "text/plain": [
       "9885"
      ]
     },
     "execution_count": 9,
     "metadata": {},
     "output_type": "execute_result"
    }
   ],
   "source": [
    "len(df[df[\"partition\"] == \"rand\"]) # R_10 + validation dataset \n",
    "# R_10 has 7908 randomly generated mutants (2-10 mutations)\n",
    "# validation dataset has 1977 mutants"
   ]
  },
  {
   "cell_type": "code",
   "execution_count": 10,
   "metadata": {
    "colab": {
     "base_uri": "https://localhost:8080/"
    },
    "executionInfo": {
     "elapsed": 218,
     "status": "ok",
     "timestamp": 1651707012369,
     "user": {
      "displayName": "Max Guo",
      "userId": "02058253857407761531"
     },
     "user_tz": 240
    },
    "id": "Aw7D63NiXhz0",
    "outputId": "7f956d2e-b290-4226-fb1b-3b8017dd3f25"
   },
   "outputs": [
    {
     "name": "stdout",
     "output_type": "stream",
     "text": [
      "number of mutations: 2\n",
      "1756\n",
      "number of mutations: 3\n",
      "1751\n",
      "number of mutations: 4\n",
      "1745\n",
      "number of mutations: 5\n",
      "1745\n",
      "number of mutations: 6\n",
      "1732\n",
      "number of mutations: 7\n",
      "288\n",
      "number of mutations: 8\n",
      "289\n",
      "number of mutations: 9\n",
      "290\n",
      "number of mutations: 10\n",
      "289\n"
     ]
    }
   ],
   "source": [
    "for num_mutations in range(2, 11):\n",
    "    print(\"number of mutations:\", num_mutations)\n",
    "    print(len(df[(df[\"partition\"] == \"rand\") & (df[\"num_mutations\"] == num_mutations)]))"
   ]
  },
  {
   "cell_type": "markdown",
   "metadata": {
    "id": "hkAIY2AHTiyH"
   },
   "source": [
    "## Define datasets\n",
    "- $C_1 + R_2$ dataset\n",
    "- $C_1 + R_{10}$ dataset\n",
    "- $R_{10} + A_{39}$ dataset\n",
    "- holdout 1977 random multiples"
   ]
  },
  {
   "cell_type": "code",
   "execution_count": 11,
   "metadata": {
    "colab": {
     "base_uri": "https://localhost:8080/"
    },
    "executionInfo": {
     "elapsed": 168,
     "status": "ok",
     "timestamp": 1651707012536,
     "user": {
      "displayName": "Max Guo",
      "userId": "02058253857407761531"
     },
     "user_tz": 240
    },
    "id": "qS1rUD4_Zpeu",
    "outputId": "085abc62-e40b-41a6-f470-0980564526da"
   },
   "outputs": [
    {
     "name": "stdout",
     "output_type": "stream",
     "text": [
      "number of mutations: 2\n",
      "323\n",
      "number of mutations: 3\n",
      "319\n",
      "number of mutations: 4\n",
      "359\n",
      "number of mutations: 5\n",
      "373\n",
      "number of mutations: 6\n",
      "366\n",
      "number of mutations: 7\n",
      "54\n",
      "number of mutations: 8\n",
      "59\n",
      "number of mutations: 9\n",
      "57\n",
      "number of mutations: 10\n",
      "67\n"
     ]
    }
   ],
   "source": [
    "# create validation dataset and r10 dataset\n",
    "r10_plus_val = df[df[\"partition\"] == \"rand\"]\n",
    "val_df = r10_plus_val.sample(n=1977, replace=False, random_state=195)\n",
    "r10 = r10_plus_val.drop(val_df.index)\n",
    "\n",
    "for num_mutations in range(2, 11):\n",
    "    print(\"number of mutations:\", num_mutations)\n",
    "    print(len(val_df[val_df[\"num_mutations\"] == num_mutations]))"
   ]
  },
  {
   "cell_type": "code",
   "execution_count": 12,
   "metadata": {
    "executionInfo": {
     "elapsed": 7,
     "status": "ok",
     "timestamp": 1651707012536,
     "user": {
      "displayName": "Max Guo",
      "userId": "02058253857407761531"
     },
     "user_tz": 240
    },
    "id": "SMA2BJxwbHIH"
   },
   "outputs": [],
   "source": [
    "# create r2 dataset\n",
    "r2 = df[df[\"partition\"] == \"rand\"].sample(n=1756, replace=False, random_state=195)"
   ]
  },
  {
   "cell_type": "code",
   "execution_count": 13,
   "metadata": {
    "executionInfo": {
     "elapsed": 7,
     "status": "ok",
     "timestamp": 1651707012536,
     "user": {
      "displayName": "Max Guo",
      "userId": "02058253857407761531"
     },
     "user_tz": 240
    },
    "id": "HE1RAGeKbZTI"
   },
   "outputs": [],
   "source": [
    "c1 = df[df[\"partition\"] == \"single\"]"
   ]
  },
  {
   "cell_type": "code",
   "execution_count": 14,
   "metadata": {
    "executionInfo": {
     "elapsed": 8,
     "status": "ok",
     "timestamp": 1651707012537,
     "user": {
      "displayName": "Max Guo",
      "userId": "02058253857407761531"
     },
     "user_tz": 240
    },
    "id": "Div5kvLCbdt8"
   },
   "outputs": [],
   "source": [
    "a39 = df[df[\"partition\"] == \"designed\"]"
   ]
  },
  {
   "cell_type": "code",
   "execution_count": 15,
   "metadata": {
    "colab": {
     "base_uri": "https://localhost:8080/"
    },
    "executionInfo": {
     "elapsed": 345,
     "status": "ok",
     "timestamp": 1651707012874,
     "user": {
      "displayName": "Max Guo",
      "userId": "02058253857407761531"
     },
     "user_tz": 240
    },
    "id": "5QgsvbdJbOX7",
    "outputId": "949a617b-d6fd-4769-e164-7a5da8093dfd"
   },
   "outputs": [
    {
     "name": "stdout",
     "output_type": "stream",
     "text": [
      "C1+R2 size: 2868\n",
      "C1+R10 size: 9020\n",
      "R10+A39 size: 64280\n"
     ]
    }
   ],
   "source": [
    "# create train datasets\n",
    "c1_r2 = pd.concat([c1, r2]).reset_index()\n",
    "print(f\"C1+R2 size: {len(c1_r2)}\")\n",
    "\n",
    "c1_r10 = pd.concat([c1, r10]).reset_index()\n",
    "print(f\"C1+R10 size: {len(c1_r10)}\")\n",
    "\n",
    "r10_a39 = pd.concat([r10, a39]).reset_index()\n",
    "print(f\"R10+A39 size: {len(r10_a39)}\")"
   ]
  },
  {
   "cell_type": "code",
   "execution_count": 16,
   "metadata": {
    "executionInfo": {
     "elapsed": 551,
     "status": "ok",
     "timestamp": 1651707013417,
     "user": {
      "displayName": "Max Guo",
      "userId": "02058253857407761531"
     },
     "user_tz": 240
    },
    "id": "MwkbGAi0Ksfg"
   },
   "outputs": [],
   "source": [
    "# 3 different training datasets (to ensure no overlap)\n",
    "df_c1_r2 = df[df['partition'] != 'stop'].drop(c1.index).drop(r2.index).reset_index()\n",
    "df_c1_r10 = df[df['partition'] != 'stop'].drop(c1.index).drop(r10.index).reset_index()\n",
    "df_r10_a39 = df[df['partition'] != 'stop'].drop(r10.index).drop(a39.index).reset_index()"
   ]
  },
  {
   "cell_type": "code",
   "execution_count": 17,
   "metadata": {
    "colab": {
     "base_uri": "https://localhost:8080/"
    },
    "executionInfo": {
     "elapsed": 9,
     "status": "ok",
     "timestamp": 1651707013418,
     "user": {
      "displayName": "Max Guo",
      "userId": "02058253857407761531"
     },
     "user_tz": 240
    },
    "id": "H-OJ_e2rLXrC",
    "outputId": "64431794-0473-4fe7-da22-bfad83ae5f6e"
   },
   "outputs": [
    {
     "name": "stdout",
     "output_type": "stream",
     "text": [
      "Validation size: 1977\n"
     ]
    }
   ],
   "source": [
    "val_df.reset_index(inplace=True)\n",
    "print(f\"Validation size: {len(val_df)}\")"
   ]
  },
  {
   "cell_type": "code",
   "execution_count": 18,
   "metadata": {
    "colab": {
     "base_uri": "https://localhost:8080/"
    },
    "executionInfo": {
     "elapsed": 109,
     "status": "ok",
     "timestamp": 1651710036298,
     "user": {
      "displayName": "Max Guo",
      "userId": "02058253857407761531"
     },
     "user_tz": 240
    },
    "id": "DpZ5wU2mcXRw",
    "outputId": "01dcbfb3-5d40-4dae-cda2-5ce1a9231c54"
   },
   "outputs": [
    {
     "name": "stdout",
     "output_type": "stream",
     "text": [
      "(29, 2, 20)\n"
     ]
    }
   ],
   "source": [
    "# The canonical single-letter code residue alphabet.\n",
    "RESIDUES = tuple('ACDEFGHIKLMNPQRSTVWY')\n",
    "\n",
    "# The AAV serotype 2 wild type subsequence corresponding to positions 561 to 588\n",
    "R1_TILE21_WT_SEQ = 'DEEEIRTTNPVATEQYGSVSTNLQRGNR'\n",
    "\n",
    "res_encoder = ResidueIdentityEncoder(alphabet=RESIDUES)\n",
    "mut_encoder = MutationSequenceEncoder(res_encoder, R1_TILE21_WT_SEQ)\n",
    "\n",
    "WT_ENCODED = mut_encoder.encode(R1_TILE21_WT_SEQ)\n",
    "print(WT_ENCODED.shape)"
   ]
  },
  {
   "cell_type": "markdown",
   "metadata": {
    "id": "CeCnk5lLUGNQ"
   },
   "source": [
    "# Train LassoNet Model"
   ]
  },
  {
   "cell_type": "code",
   "execution_count": 19,
   "metadata": {
    "executionInfo": {
     "elapsed": 7,
     "status": "ok",
     "timestamp": 1651707013419,
     "user": {
      "displayName": "Max Guo",
      "userId": "02058253857407761531"
     },
     "user_tz": 240
    },
    "id": "RGE0HQ38jbV8"
   },
   "outputs": [],
   "source": [
    "NUM_MODELS = 11 # number of models per ensemble"
   ]
  },
  {
   "cell_type": "code",
   "execution_count": 20,
   "metadata": {
    "executionInfo": {
     "elapsed": 7,
     "status": "ok",
     "timestamp": 1651707013419,
     "user": {
      "displayName": "Max Guo",
      "userId": "02058253857407761531"
     },
     "user_tz": 240
    },
    "id": "b1Dkri6bM6xH"
   },
   "outputs": [],
   "source": [
    "# define validation data\n",
    "X_val = []\n",
    "for i in range(len(val_df)):\n",
    "    X_val.append(mut_encoder.encode(val_df[\"sequence\"][i]))\n",
    "X_val = np.array(X_val)\n",
    "X_val = X_val.reshape(len(X_val), -1)\n",
    "y_val = val_df[\"is_viable\"].to_numpy().astype(int)"
   ]
  },
  {
   "cell_type": "code",
   "execution_count": 21,
   "metadata": {
    "executionInfo": {
     "elapsed": 7,
     "status": "ok",
     "timestamp": 1651707013570,
     "user": {
      "displayName": "Max Guo",
      "userId": "02058253857407761531"
     },
     "user_tz": 240
    },
    "id": "skpAoazUc-ad"
   },
   "outputs": [],
   "source": [
    "def plot_metrics(models, paths):\n",
    "    \"\"\"\n",
    "    models - ensemble of LassoNet models\n",
    "    paths - list of path objects, each of which contains model parameters for a single LassoNet model\n",
    "    \"\"\"\n",
    "    n = len(models)\n",
    "\n",
    "    all_n_selected = [[] for _ in range(n)]\n",
    "    all_accuracy = [[] for _ in range(n)]\n",
    "    all_lambda_ = [[] for _ in range(n)]\n",
    "\n",
    "    for i in range(n):\n",
    "        n_selected = []\n",
    "        accuracy = []\n",
    "        lambda_ = []\n",
    "\n",
    "        for save in paths[i]:\n",
    "            models[i].load(save.state_dict)\n",
    "            y_pred = models[i].predict(X_val)\n",
    "            n_selected.append(save.selected.sum())\n",
    "            accuracy.append(accuracy_score(y_val, y_pred))\n",
    "            lambda_.append(save.lambda_)    \n",
    "\n",
    "        all_n_selected[i] = n_selected\n",
    "        all_accuracy[i] = accuracy\n",
    "        all_lambda_[i] = lambda_\n",
    "\n",
    "    fig = plt.figure(figsize=(12, 12))\n",
    "\n",
    "    plt.subplot(311)\n",
    "    plt.grid(True)\n",
    "    for i in range(n):\n",
    "        plt.plot(all_n_selected[i], all_accuracy[i], \".-\")\n",
    "    plt.xlabel(\"number of selected features\")\n",
    "    plt.ylabel(\"classification accuracy\")\n",
    "\n",
    "    plt.subplot(312)\n",
    "    plt.grid(True)\n",
    "    for i in range(n):\n",
    "        plt.plot(all_lambda_[i], all_accuracy[i], \".-\")\n",
    "    plt.xlabel(\"lambda\")\n",
    "    plt.xscale(\"log\")\n",
    "    plt.ylabel(\"classification accuracy\")\n",
    "\n",
    "    plt.subplot(313)\n",
    "    plt.grid(True)\n",
    "    for i in range(n):\n",
    "        plt.plot(all_lambda_[i], all_n_selected[i], \".-\")\n",
    "    plt.xlabel(\"lambda\")\n",
    "    plt.xscale(\"log\")\n",
    "    plt.ylabel(\"number of selected features\")\n",
    "\n",
    "    plt.show()\n",
    "\n",
    "    return all_n_selected, all_accuracy, all_lambda_\n",
    "\n",
    "\n",
    "def train_lassonet(data, name, load_models=True):\n",
    "    X_train = []\n",
    "    for i in range(len(data)):\n",
    "        X_train.append(mut_encoder.encode(data[\"sequence\"][i]))\n",
    "    y_train = data[\"is_viable\"].to_numpy().astype(int)\n",
    "    X_train = np.array(X_train)\n",
    "\n",
    "    X_train = X_train.reshape(len(X_train), -1)\n",
    "\n",
    "    # define ensemble of models\n",
    "    models = [None]*NUM_MODELS\n",
    "\n",
    "    # attempt to load first, skip training if we already have the weights\n",
    "    if load_models:\n",
    "        with open(f\"{name}_paths.pkl\", \"rb\") as file:\n",
    "            paths = pickle.load(file)\n",
    "    else:\n",
    "        paths = [None]*NUM_MODELS\n",
    "\n",
    "    # train models\n",
    "    for i in tqdm(range(NUM_MODELS)):\n",
    "        models[i] = LassoNetClassifier(M=30, hidden_dims=(1,))\n",
    "        if not load_models:\n",
    "            paths[i] = models[i].path(X_train, y_train, X_val=X_val, y_val=y_val)\n",
    "\n",
    "    with open(f\"{name}_paths.pkl\", \"wb\") as file:\n",
    "        pickle.dump(paths, file)\n",
    "\n",
    "    return models, paths"
   ]
  },
  {
   "cell_type": "code",
   "execution_count": 22,
   "metadata": {
    "colab": {
     "base_uri": "https://localhost:8080/",
     "height": 750,
     "referenced_widgets": [
      "b4aaaee7d32843589a3f080725db4514",
      "3c6fde9acf3e4bd1bba4ea29bdb9e8f8",
      "e899fc8be9cc46a590c76c0da7b60662",
      "06ef01c5464146b2bb248412921e43d6",
      "6236ef9633934ba9b3a685a30391dba2",
      "2359cdafa61249bcade3657be3410531",
      "040c2fdc92034054af25d7c4a3a8e940",
      "1327be682971476db07e99e5cb22e61b",
      "1d777f70b88545a897ced3f2b0f3f001",
      "04b7e83a09904302af947caa0cc07e7c",
      "4e3dafe635fb438fbcbcdc9d513add5f"
     ]
    },
    "executionInfo": {
     "elapsed": 70292,
     "status": "ok",
     "timestamp": 1651707083855,
     "user": {
      "displayName": "Max Guo",
      "userId": "02058253857407761531"
     },
     "user_tz": 240
    },
    "id": "RY9CjS-3NVii",
    "outputId": "29f16dea-e489-4dfa-873e-e182838c3fc8"
   },
   "outputs": [
    {
     "data": {
      "application/vnd.jupyter.widget-view+json": {
       "model_id": "39408abfd8094dfaab727e76c1568544",
       "version_major": 2,
       "version_minor": 0
      },
      "text/plain": [
       "  0%|          | 0/11 [00:00<?, ?it/s]"
      ]
     },
     "metadata": {},
     "output_type": "display_data"
    },
    {
     "data": {
      "image/png": "[encoded data removed]",
      "text/plain": [
       "<Figure size 864x864 with 3 Axes>"
      ]
     },
     "metadata": {
      "needs_background": "light"
     },
     "output_type": "display_data"
    }
   ],
   "source": [
    "models, paths = train_lassonet(c1_r2, \"c1_r2\")\n",
    "all_n_selected, all_accuracy, all_lambda_ = plot_metrics(models, paths)"
   ]
  },
  {
   "cell_type": "markdown",
   "metadata": {
    "id": "dOTDeTn-aGfx"
   },
   "source": [
    "## Examine Sparsity"
   ]
  },
  {
   "cell_type": "code",
   "execution_count": 23,
   "metadata": {
    "colab": {
     "base_uri": "https://localhost:8080/",
     "height": 1000
    },
    "executionInfo": {
     "elapsed": 2617,
     "status": "ok",
     "timestamp": 1651707086453,
     "user": {
      "displayName": "Max Guo",
      "userId": "02058253857407761531"
     },
     "user_tz": 240
    },
    "id": "Z1UqKn7voJuw",
    "outputId": "b223d9a8-baad-4c03-e5d8-94e06821a825"
   },
   "outputs": [
    {
     "name": "stdout",
     "output_type": "stream",
     "text": [
      "Model number: 85\n"
     ]
    },
    {
     "name": "stderr",
     "output_type": "stream",
     "text": [
      "C:\\Users\\William\\anaconda3\\envs\\stat195project\\lib\\site-packages\\ipykernel_launcher.py:5: VisibleDeprecationWarning: Creating an ndarray from ragged nested sequences (which is a list-or-tuple of lists-or-tuples-or ndarrays with different lengths or shapes) is deprecated. If you meant to do this, you must specify 'dtype=object' when creating the ndarray.\n",
      "  \"\"\"\n"
     ]
    },
    {
     "data": {
      "image/png": "[encoded data removed]",
      "text/plain": [
       "<Figure size 720x360 with 1 Axes>"
      ]
     },
     "metadata": {
      "needs_background": "light"
     },
     "output_type": "display_data"
    },
    {
     "name": "stdout",
     "output_type": "stream",
     "text": [
      "Model number: 282\n"
     ]
    },
    {
     "data": {
      "image/png": "[encoded data removed]",
      "text/plain": [
       "<Figure size 720x360 with 1 Axes>"
      ]
     },
     "metadata": {
      "needs_background": "light"
     },
     "output_type": "display_data"
    },
    {
     "name": "stdout",
     "output_type": "stream",
     "text": [
      "Model number: 271\n"
     ]
    },
    {
     "data": {
      "image/png": "[encoded data removed]",
      "text/plain": [
       "<Figure size 720x360 with 1 Axes>"
      ]
     },
     "metadata": {
      "needs_background": "light"
     },
     "output_type": "display_data"
    },
    {
     "name": "stdout",
     "output_type": "stream",
     "text": [
      "Model number: 264\n"
     ]
    },
    {
     "data": {
      "image/png": "[encoded data removed]",
      "text/plain": [
       "<Figure size 720x360 with 1 Axes>"
      ]
     },
     "metadata": {
      "needs_background": "light"
     },
     "output_type": "display_data"
    },
    {
     "name": "stdout",
     "output_type": "stream",
     "text": [
      "Model number: 277\n"
     ]
    },
    {
     "data": {
      "image/png": "[encoded data removed]",
      "text/plain": [
       "<Figure size 720x360 with 1 Axes>"
      ]
     },
     "metadata": {
      "needs_background": "light"
     },
     "output_type": "display_data"
    },
    {
     "name": "stdout",
     "output_type": "stream",
     "text": [
      "Model number: 89\n"
     ]
    },
    {
     "data": {
      "image/png": "[encoded data removed]",
      "text/plain": [
       "<Figure size 720x360 with 1 Axes>"
      ]
     },
     "metadata": {
      "needs_background": "light"
     },
     "output_type": "display_data"
    },
    {
     "name": "stdout",
     "output_type": "stream",
     "text": [
      "Model number: 243\n"
     ]
    },
    {
     "data": {
      "image/png": "[encoded data removed]",
      "text/plain": [
       "<Figure size 720x360 with 1 Axes>"
      ]
     },
     "metadata": {
      "needs_background": "light"
     },
     "output_type": "display_data"
    },
    {
     "name": "stdout",
     "output_type": "stream",
     "text": [
      "Model number: 269\n"
     ]
    },
    {
     "data": {
      "image/png": "[encoded data removed]",
      "text/plain": [
       "<Figure size 720x360 with 1 Axes>"
      ]
     },
     "metadata": {
      "needs_background": "light"
     },
     "output_type": "display_data"
    },
    {
     "name": "stdout",
     "output_type": "stream",
     "text": [
      "Model number: 257\n"
     ]
    },
    {
     "data": {
      "image/png": "[encoded data removed]",
      "text/plain": [
       "<Figure size 720x360 with 1 Axes>"
      ]
     },
     "metadata": {
      "needs_background": "light"
     },
     "output_type": "display_data"
    },
    {
     "name": "stdout",
     "output_type": "stream",
     "text": [
      "Model number: 76\n"
     ]
    },
    {
     "data": {
      "image/png": "[encoded data removed]",
      "text/plain": [
       "<Figure size 720x360 with 1 Axes>"
      ]
     },
     "metadata": {
      "needs_background": "light"
     },
     "output_type": "display_data"
    },
    {
     "name": "stdout",
     "output_type": "stream",
     "text": [
      "Model number: 90\n"
     ]
    },
    {
     "data": {
      "image/png": "[encoded data removed]",
      "text/plain": [
       "<Figure size 720x360 with 1 Axes>"
      ]
     },
     "metadata": {
      "needs_background": "light"
     },
     "output_type": "display_data"
    }
   ],
   "source": [
    "# view sparse locations on example model\n",
    "\n",
    "N_FEATURES = 800 # determine by inspection\n",
    "\n",
    "all_n_selected = np.array(all_n_selected) # default sorted from greatest to least\n",
    "indices = [] # indices of particular model to choose from path of models, one index for each model in ensemble\n",
    "\n",
    "# examine 3 example\n",
    "for i in range(NUM_MODELS):\n",
    "    n_selected = all_n_selected[i]\n",
    "    idx = list(n_features < N_FEATURES for n_features in n_selected).index(True) # find first index with number of features < N_FEATURES\n",
    "    paths[i][idx].selected.reshape(29, 2, 20).numpy()\n",
    "    indices.append(idx)\n",
    "\n",
    "    print(\"Model number:\", idx)\n",
    "    plt.figure(figsize=(10, 5))\n",
    "    plt.imshow(paths[i][idx].selected.reshape(29, 2, 20).reshape(58, 20).numpy().T, cmap='hot', interpolation='nearest')\n",
    "    plt.show()\n",
    "\n",
    "    # white pixels are 1 and black pixels are 0\n",
    "    # left: substitution, right: insertion\n",
    "    # looks like insertions have so much effect"
   ]
  },
  {
   "cell_type": "markdown",
   "metadata": {},
   "source": [
    "# Train CNNLassoNet Model"
   ]
  },
  {
   "cell_type": "code",
   "execution_count": 24,
   "metadata": {},
   "outputs": [],
   "source": [
    "NUM_MODELS = 11"
   ]
  },
  {
   "cell_type": "code",
   "execution_count": 25,
   "metadata": {},
   "outputs": [],
   "source": [
    "# define validation data\n",
    "X_val = []\n",
    "for i in range(len(val_df)):\n",
    "    X_val.append(mut_encoder.encode(val_df[\"sequence\"][i]))\n",
    "X_val = np.array(X_val)\n",
    "X_val = X_val.reshape(len(X_val), -1)\n",
    "y_val = val_df[\"is_viable\"].to_numpy().astype(int)"
   ]
  },
  {
   "cell_type": "code",
   "execution_count": 29,
   "metadata": {},
   "outputs": [],
   "source": [
    "def plot_metrics(models, paths):\n",
    "    \"\"\"\n",
    "    models - ensemble of LassoNet models\n",
    "    paths - list of path objects, each of which contains model parameters for a single LassoNet model\n",
    "    \"\"\"\n",
    "    n = len(models)\n",
    "\n",
    "    all_n_selected = [[] for _ in range(n)]\n",
    "    all_accuracy = [[] for _ in range(n)]\n",
    "    all_lambda_ = [[] for _ in range(n)]\n",
    "\n",
    "    for i in range(n):\n",
    "        n_selected = []\n",
    "        accuracy = []\n",
    "        lambda_ = []\n",
    "\n",
    "        for save in paths[i]:\n",
    "            models[i].load(save.state_dict)\n",
    "            y_pred = models[i].predict(X_val)\n",
    "            n_selected.append(save.selected.sum())\n",
    "            accuracy.append(accuracy_score(y_val, y_pred))\n",
    "            lambda_.append(save.lambda_)    \n",
    "\n",
    "        all_n_selected[i] = n_selected\n",
    "        all_accuracy[i] = accuracy\n",
    "        all_lambda_[i] = lambda_\n",
    "\n",
    "    fig = plt.figure(figsize=(12, 12))\n",
    "\n",
    "    plt.subplot(311)\n",
    "    plt.grid(True)\n",
    "    for i in range(n):\n",
    "        plt.scatter(all_n_selected[i], all_accuracy[i])\n",
    "    plt.xlabel(\"number of selected features\")\n",
    "    plt.ylabel(\"classification accuracy\")\n",
    "\n",
    "    plt.subplot(312)\n",
    "    plt.grid(True)\n",
    "    for i in range(n):\n",
    "        plt.plot(all_lambda_[i], all_accuracy[i], \".-\")\n",
    "    plt.xlabel(\"lambda\")\n",
    "    plt.xscale(\"log\")\n",
    "    plt.ylabel(\"classification accuracy\")\n",
    "\n",
    "    plt.subplot(313)\n",
    "    plt.grid(True)\n",
    "    for i in range(n):\n",
    "        plt.plot(all_lambda_[i], all_n_selected[i], \".-\")\n",
    "    plt.xlabel(\"lambda\")\n",
    "    plt.xscale(\"log\")\n",
    "    plt.ylabel(\"number of selected features\")\n",
    "\n",
    "    plt.show()\n",
    "\n",
    "    return all_n_selected, all_accuracy, all_lambda_\n",
    "\n",
    "\n",
    "def train_cnn_lassonet(data, name, load_models=True):\n",
    "    from aav.stat195_pytorch_work.torch_cnn_lassonet import CNNLassoNetClassifier\n",
    "    X_train = []\n",
    "    for i in range(len(data)):\n",
    "        X_train.append(mut_encoder.encode(data[\"sequence\"][i]))\n",
    "    y_train = data[\"is_viable\"].to_numpy().astype(int)\n",
    "    X_train = np.array(X_train)\n",
    "\n",
    "    X_train = X_train.reshape(len(X_train), -1)\n",
    "\n",
    "    # define ensemble of models\n",
    "    models = [None]*NUM_MODELS\n",
    "\n",
    "    # attempt to load first, skip training if we already have the weights\n",
    "    if load_models:\n",
    "        with open(f\"{name}_paths.pkl\", \"rb\") as file:\n",
    "            paths = pickle.load(file)\n",
    "    else:\n",
    "        paths = [None]*NUM_MODELS\n",
    "\n",
    "    # train models\n",
    "    for i in tqdm(range(NUM_MODELS)):\n",
    "        models[i] = CNNLassoNetClassifier(\n",
    "            M=1,\n",
    "            batch_size=512,\n",
    "            n_iters=(30, 10),\n",
    "            lambda_start=1,\n",
    "            path_multiplier=1.1\n",
    "        )\n",
    "        if not load_models:\n",
    "            paths[i] = models[i].path(X_train, y_train, X_val=X_val, y_val=y_val)\n",
    "\n",
    "    with open(f\"{name}_paths.pkl\", \"wb\") as file:\n",
    "        pickle.dump(paths, file)\n",
    "\n",
    "    return models, paths"
   ]
  },
  {
   "cell_type": "code",
   "execution_count": 46,
   "metadata": {},
   "outputs": [
    {
     "data": {
      "image/png": "[encoded data removed]",
      "text/plain": [
       "<Figure size 864x864 with 3 Axes>"
      ]
     },
     "metadata": {
      "needs_background": "light"
     },
     "output_type": "display_data"
    }
   ],
   "source": [
    "# models, paths = train_cnn_lassonet(c1_r2, \"c1_r2_cnn\", load_models=False)\n",
    "all_n_selected, all_accuracy, all_lambda_ = plot_metrics(models, paths)"
   ]
  },
  {
   "cell_type": "markdown",
   "metadata": {},
   "source": [
    "## Examine Sparsity"
   ]
  },
  {
   "cell_type": "code",
   "execution_count": 49,
   "metadata": {},
   "outputs": [
    {
     "name": "stdout",
     "output_type": "stream",
     "text": [
      "Model number: 26\n"
     ]
    },
    {
     "data": {
      "image/png": "[encoded data removed]",
      "text/plain": [
       "<Figure size 720x360 with 1 Axes>"
      ]
     },
     "metadata": {
      "needs_background": "light"
     },
     "output_type": "display_data"
    },
    {
     "name": "stdout",
     "output_type": "stream",
     "text": [
      "Model number: 27\n"
     ]
    },
    {
     "data": {
      "image/png": "[encoded data removed]",
      "text/plain": [
       "<Figure size 720x360 with 1 Axes>"
      ]
     },
     "metadata": {
      "needs_background": "light"
     },
     "output_type": "display_data"
    },
    {
     "name": "stdout",
     "output_type": "stream",
     "text": [
      "Model number: 26\n"
     ]
    },
    {
     "data": {
      "image/png": "[encoded data removed]",
      "text/plain": [
       "<Figure size 720x360 with 1 Axes>"
      ]
     },
     "metadata": {
      "needs_background": "light"
     },
     "output_type": "display_data"
    },
    {
     "name": "stdout",
     "output_type": "stream",
     "text": [
      "Model number: 27\n"
     ]
    },
    {
     "data": {
      "image/png": "[encoded data removed]",
      "text/plain": [
       "<Figure size 720x360 with 1 Axes>"
      ]
     },
     "metadata": {
      "needs_background": "light"
     },
     "output_type": "display_data"
    },
    {
     "name": "stdout",
     "output_type": "stream",
     "text": [
      "Model number: 25\n"
     ]
    },
    {
     "data": {
      "image/png": "[encoded data removed]",
      "text/plain": [
       "<Figure size 720x360 with 1 Axes>"
      ]
     },
     "metadata": {
      "needs_background": "light"
     },
     "output_type": "display_data"
    },
    {
     "name": "stdout",
     "output_type": "stream",
     "text": [
      "Model number: 26\n"
     ]
    },
    {
     "data": {
      "image/png": "[encoded data removed]",
      "text/plain": [
       "<Figure size 720x360 with 1 Axes>"
      ]
     },
     "metadata": {
      "needs_background": "light"
     },
     "output_type": "display_data"
    },
    {
     "name": "stdout",
     "output_type": "stream",
     "text": [
      "Model number: 28\n"
     ]
    },
    {
     "data": {
      "image/png": "[encoded data removed]",
      "text/plain": [
       "<Figure size 720x360 with 1 Axes>"
      ]
     },
     "metadata": {
      "needs_background": "light"
     },
     "output_type": "display_data"
    },
    {
     "name": "stdout",
     "output_type": "stream",
     "text": [
      "Model number: 25\n"
     ]
    },
    {
     "data": {
      "image/png": "[encoded data removed]",
      "text/plain": [
       "<Figure size 720x360 with 1 Axes>"
      ]
     },
     "metadata": {
      "needs_background": "light"
     },
     "output_type": "display_data"
    },
    {
     "name": "stdout",
     "output_type": "stream",
     "text": [
      "Model number: 26\n"
     ]
    },
    {
     "data": {
      "image/png": "[encoded data removed]",
      "text/plain": [
       "<Figure size 720x360 with 1 Axes>"
      ]
     },
     "metadata": {
      "needs_background": "light"
     },
     "output_type": "display_data"
    },
    {
     "name": "stdout",
     "output_type": "stream",
     "text": [
      "Model number: 26\n"
     ]
    },
    {
     "data": {
      "image/png": "[encoded data removed]",
      "text/plain": [
       "<Figure size 720x360 with 1 Axes>"
      ]
     },
     "metadata": {
      "needs_background": "light"
     },
     "output_type": "display_data"
    },
    {
     "name": "stdout",
     "output_type": "stream",
     "text": [
      "Model number: 26\n"
     ]
    },
    {
     "data": {
      "image/png": "[encoded data removed]",
      "text/plain": [
       "<Figure size 720x360 with 1 Axes>"
      ]
     },
     "metadata": {
      "needs_background": "light"
     },
     "output_type": "display_data"
    }
   ],
   "source": [
    "# view sparse locations on example model\n",
    "\n",
    "N_FEATURES = 30 # determine by inspection\n",
    "\n",
    "all_n_selected = np.array(all_n_selected) # default sorted from greatest to least\n",
    "indices = [] # indices of particular model to choose from path of models, one index for each model in ensemble\n",
    "\n",
    "# examine 3 example\n",
    "for i in range(NUM_MODELS):\n",
    "    n_selected = all_n_selected[i]\n",
    "    idx = list(n_features < N_FEATURES for n_features in n_selected).index(True) # find first index with number of features < N_FEATURES\n",
    "    paths[i][idx].selected.numpy()\n",
    "    indices.append(idx)\n",
    "\n",
    "    print(\"Model number:\", idx)\n",
    "    plt.figure(figsize=(10, 5))\n",
    "    plt.imshow(paths[i][idx].selected.numpy().reshape(1, 58), cmap='hot', interpolation='nearest')\n",
    "    plt.show()\n",
    "\n",
    "    # white pixels are 1 and black pixels are 0\n",
    "    # left: substitution, right: insertion\n",
    "    # looks like insertions have so much effect"
   ]
  },
  {
   "cell_type": "code",
   "execution_count": 43,
   "metadata": {},
   "outputs": [
    {
     "data": {
      "text/plain": [
       "tensor([False,  True, False,  True,  True,  True, False,  True, False,  True,\n",
       "         True,  True,  True,  True, False,  True,  True,  True,  True,  True,\n",
       "         True,  True, False,  True,  True,  True,  True,  True, False,  True,\n",
       "        False,  True,  True,  True,  True, False, False, False,  True, False,\n",
       "        False, False, False, False, False, False, False, False, False, False,\n",
       "        False, False, False, False, False, False, False, False])"
      ]
     },
     "execution_count": 43,
     "metadata": {},
     "output_type": "execute_result"
    }
   ],
   "source": [
    "paths[0][26].selected"
   ]
  },
  {
   "cell_type": "markdown",
   "metadata": {
    "id": "EAclExs4aJuV"
   },
   "source": [
    "# Model-selected Seeds"
   ]
  },
  {
   "cell_type": "code",
   "execution_count": null,
   "metadata": {
    "executionInfo": {
     "elapsed": 116,
     "status": "ok",
     "timestamp": 1651710124856,
     "user": {
      "displayName": "Max Guo",
      "userId": "02058253857407761531"
     },
     "user_tz": 240
    },
    "id": "rE6p0MXwLxE1"
   },
   "outputs": [],
   "source": [
    "NUM_SAMPLES_PER_MUTATION = int(1000)\n",
    "N_LARGEST_VIABILITIES = 50\n",
    "load_samples = False"
   ]
  },
  {
   "cell_type": "code",
   "execution_count": null,
   "metadata": {
    "colab": {
     "base_uri": "https://localhost:8080/",
     "height": 49,
     "referenced_widgets": [
      "24b635849d4a4e61b14f3d639b0d018c",
      "47659d3572a4465bb252cc53c2064f9d",
      "21804176cc1548b5b4b0a2a5d64646da",
      "5eb2951b9f9f494fb92a0e4dcf4001c7",
      "ae9e91002a264661bbfd5993c12ecf15",
      "41be1716ea5b41d18cef585bee1784a3",
      "ea671dbb4a4d493d9c782f61b19a88dc",
      "edef26d4d68c4ca5a73b5aeab5f4b0b1",
      "955eb0c74bfa4b2faabbd394372e0dc0",
      "f653d94ae4474557a56449faa8f047cd",
      "844287492a5c4371923612720dd0b825"
     ]
    },
    "executionInfo": {
     "elapsed": 19113,
     "status": "ok",
     "timestamp": 1651710146098,
     "user": {
      "displayName": "Max Guo",
      "userId": "02058253857407761531"
     },
     "user_tz": 240
    },
    "id": "5JA6ARoraMaS",
    "outputId": "a93ba893-e3e9-4a8c-f6b6-95187f44d4a5"
   },
   "outputs": [],
   "source": [
    "# create samples at every level of mutation\n",
    "\n",
    "mutation_dists = np.arange(5, 26)\n",
    "\n",
    "if load_samples:\n",
    "    with open(\"samples.pkl\", \"rb\") as file:\n",
    "        samples = pickle.load(file)\n",
    "else:\n",
    "    samples = {mut_dist: np.zeros((NUM_SAMPLES_PER_MUTATION, 29*2*20)) for mut_dist in mutation_dists}\n",
    "\n",
    "    for mut_dist in tqdm(mutation_dists):\n",
    "        for i in range(NUM_SAMPLES_PER_MUTATION):\n",
    "            sample_indices = np.random.choice(np.arange(1, 58), size=mut_dist, replace=False) # don't sample prefix substitution\n",
    "            sample = np.copy(WT_ENCODED.reshape(58, 20))\n",
    "            for mut in sample_indices:\n",
    "                if mut % 2 == 0: # if it is a substitution / part of the original sequence\n",
    "                    idx = np.argmax(res_encoder.encode(R1_TILE21_WT_SEQ[(mut-1)//2]))\n",
    "                    residues_excluding_wt = np.setdiff1d(np.arange(20),np.array(idx)) # exclude wildtype from possible choices\n",
    "                    residue_idx = np.random.choice(residues_excluding_wt)\n",
    "                else:\n",
    "                    residue_idx = np.random.choice(np.arange(20))\n",
    "                sample[mut] = np.zeros(20)\n",
    "                sample[mut][residue_idx] = 1\n",
    "            samples[mut_dist][i] = sample.reshape(29*2*20)\n",
    "\n",
    "if not load_samples:\n",
    "    with open(\"samples.pkl\", \"wb\") as file:\n",
    "        pickle.dump(samples, file)"
   ]
  },
  {
   "cell_type": "code",
   "execution_count": null,
   "metadata": {
    "executionInfo": {
     "elapsed": 5,
     "status": "ok",
     "timestamp": 1651710146098,
     "user": {
      "displayName": "Max Guo",
      "userId": "02058253857407761531"
     },
     "user_tz": 240
    },
    "id": "Ki2aW3zpgqTI"
   },
   "outputs": [],
   "source": [
    "def calculate_mut_dist(sample):\n",
    "    ans = 0\n",
    "    for mut1, mut2 in zip(sample.reshape(-1, 20), WT_ENCODED.reshape(-1, 20)):\n",
    "        if np.any(mut1 != mut2):\n",
    "            ans += 1\n",
    "    return ans"
   ]
  },
  {
   "cell_type": "code",
   "execution_count": null,
   "metadata": {
    "executionInfo": {
     "elapsed": 264,
     "status": "ok",
     "timestamp": 1651710612988,
     "user": {
      "displayName": "Max Guo",
      "userId": "02058253857407761531"
     },
     "user_tz": 240
    },
    "id": "su9Y7QQIzacf"
   },
   "outputs": [],
   "source": [
    "# model selected seeds\n",
    "\n",
    "def generate_seeds(models, samples=samples, paths=None, best=NUM_SAMPLES_PER_MUTATION):\n",
    "    \"\"\"\n",
    "    Given ensemble of models, generate the model-selected seeds\n",
    "    If paths=None, can be used for logistic regression, etc.\n",
    "    \"\"\"\n",
    "    seeds = {mut_dist: [] for mut_dist in mutation_dists}\n",
    "\n",
    "    for mut_dist in mutation_dists:\n",
    "        # print(f\"Mutation distance: {mut_dist}\")\n",
    "        ensemble_y_pred_proba = np.zeros((NUM_MODELS, NUM_SAMPLES_PER_MUTATION, 2))\n",
    "        for i in range(NUM_MODELS):\n",
    "            if paths != None:\n",
    "                save = paths[i][indices[i]] # choose model from path of models\n",
    "                models[i].load(save.state_dict)\n",
    "            ensemble_y_pred_proba[i] = models[i].predict_proba(samples[mut_dist])\n",
    "        viable_proba = np.mean(ensemble_y_pred_proba, axis=0)[:,1] # probabilities of viabile\n",
    "        top_viable_indices = np.argpartition(viable_proba, -N_LARGEST_VIABILITIES)[-N_LARGEST_VIABILITIES:]\n",
    "\n",
    "        seeds[mut_dist] = samples[mut_dist][top_viable_indices]\n",
    "\n",
    "    return seeds"
   ]
  },
  {
   "cell_type": "markdown",
   "metadata": {
    "id": "ej_aHNLRYrOx"
   },
   "source": [
    "## Train Logistic Regression as Benchmark"
   ]
  },
  {
   "cell_type": "code",
   "execution_count": null,
   "metadata": {
    "executionInfo": {
     "elapsed": 4,
     "status": "ok",
     "timestamp": 1651710146098,
     "user": {
      "displayName": "Max Guo",
      "userId": "02058253857407761531"
     },
     "user_tz": 240
    },
    "id": "LVMH31u1Yu5z"
   },
   "outputs": [],
   "source": [
    "def train_logistic_regression(data, name):\n",
    "    X_train = []\n",
    "    for i in range(len(data)):\n",
    "        X_train.append(mut_encoder.encode(data[\"sequence\"][i]))\n",
    "    y_train = data[\"is_viable\"].to_numpy().astype(int)\n",
    "    X_train = np.array(X_train)\n",
    "\n",
    "    X_train = X_train.reshape(len(X_train), -1)\n",
    "\n",
    "    # define ensemble of models\n",
    "    models = [None]*NUM_MODELS\n",
    "    paths = [None]*NUM_MODELS\n",
    "\n",
    "    # train models\n",
    "    for i in tqdm(range(NUM_MODELS)):\n",
    "        models[i] = LogisticRegression(random_state=i)\n",
    "        models[i].fit(X_train, y_train)\n",
    "\n",
    "    return models, paths"
   ]
  },
  {
   "cell_type": "code",
   "execution_count": null,
   "metadata": {
    "colab": {
     "base_uri": "https://localhost:8080/",
     "height": 1000,
     "referenced_widgets": [
      "11dbe5a1b8b6469190b8bcb21b476406",
      "6e4f6814341d4436beb74d7b0760e1ca",
      "53329fe1b2404c44978543b62b7da898",
      "fc1dcbc1d0a245dea7fd999d1b8df7e5",
      "58051bd3b99a46898f080440d9e47fe2",
      "ea16f8c3c9da45b188cbf31086e4479f",
      "fa862d113f3b469d9b59a35bfcc735f7",
      "7e89589a95d24be882a7f4c03aef1da1",
      "92907c5f9546408693b19dde7cf47bfc",
      "1378e0e5578f43a1a1db57a60cecec96",
      "8ba1931172a240919b263f7af84b1829"
     ]
    },
    "executionInfo": {
     "elapsed": 4367,
     "status": "ok",
     "timestamp": 1651710150461,
     "user": {
      "displayName": "Max Guo",
      "userId": "02058253857407761531"
     },
     "user_tz": 240
    },
    "id": "kWFY_a8jZg0j",
    "outputId": "7066373e-819d-4a08-be2d-1fff84bc1950"
   },
   "outputs": [],
   "source": [
    "models_logistic, paths_logistic = train_logistic_regression(c1_r2, \"c1_r2\")"
   ]
  },
  {
   "cell_type": "markdown",
   "metadata": {
    "id": "o4UnV7so7tAF"
   },
   "source": [
    "## Train Synthetic Model as Ground-Truth"
   ]
  },
  {
   "cell_type": "code",
   "execution_count": null,
   "metadata": {
    "executionInfo": {
     "elapsed": 145,
     "status": "ok",
     "timestamp": 1651710150599,
     "user": {
      "displayName": "Max Guo",
      "userId": "02058253857407761531"
     },
     "user_tz": 240
    },
    "id": "fJvo680k8kbZ"
   },
   "outputs": [],
   "source": [
    "# train cnn model as ground truth\n",
    "\n",
    "def train_synthetic_model(data, name, load_model=True):\n",
    "\n",
    "    # prepare dataset\n",
    "    sequences = []\n",
    "    for i, row in data.iterrows():\n",
    "        seq = row['sequence']\n",
    "        np_seq = mut_encoder.encode(seq).astype(np.float32)\n",
    "        sequences.append(np_seq.reshape(1, -1, np_seq.shape[-1]))\n",
    "    sequences = np.concatenate(sequences, axis=0)\n",
    "\n",
    "    # split dataset\n",
    "    train_set, test_set = train_test_split(data, test_size=0.2)\n",
    "\n",
    "    # train model\n",
    "    device = torch.device('cuda' if torch.cuda.is_available() else 'cpu')\n",
    "    if load_model:\n",
    "        with open(f\"synthetic_{name}\", \"rb\") as file:\n",
    "            model = torch.load(file)\n",
    "    else:\n",
    "        model = CNNModel()\n",
    "        model.path(sequences[train_set.index.values], train_set['is_viable'].values)\n",
    "        \n",
    "        with open(f\"synthetic_{name}\", \"wb\") as file:\n",
    "            torch.save(model, file)\n",
    "\n",
    "    y_pred = model.predict(sequences[test_set.index.values])\n",
    "    print(f\"Accuracy of Synthetic Model on Test Set is {sum(y_pred == test_set['is_viable']) / len(y_pred)}\")\n",
    "\n",
    "    return model\n",
    "\n",
    "def test_synthetic_model(seeds, model, label=\"LassoNet\"):\n",
    "    accuracies = []\n",
    "    for mut_dist in mutation_dists:\n",
    "        seeds_mut_dist = np.array(seeds[mut_dist]).reshape(-1, 58, 20)\n",
    "        synthetic_model_pred = model.predict(seeds_mut_dist.astype(np.float32))\n",
    "        accuracy = np.sum(synthetic_model_pred) / N_LARGEST_VIABILITIES\n",
    "        # print(f\"Mutation distance: {mut_dist}, Accuracy according to Synthetic Model: {accuracy}\")\n",
    "        accuracies.append(accuracy)\n",
    "    \n",
    "    # plot accuracies\n",
    "    plt.plot(mutation_dists, accuracies, label=label)\n",
    "    plt.scatter(mutation_dists, accuracies)\n"
   ]
  },
  {
   "cell_type": "code",
   "execution_count": null,
   "metadata": {
    "colab": {
     "base_uri": "https://localhost:8080/"
    },
    "executionInfo": {
     "elapsed": 82224,
     "status": "ok",
     "timestamp": 1651710232821,
     "user": {
      "displayName": "Max Guo",
      "userId": "02058253857407761531"
     },
     "user_tz": 240
    },
    "id": "0WIJO0gdbAlp",
    "outputId": "05786045-117f-49bc-f4aa-2307eeaaa372"
   },
   "outputs": [],
   "source": [
    "model = train_synthetic_model(df_c1_r2, \"c1_r2\", load_model=True)"
   ]
  },
  {
   "cell_type": "markdown",
   "metadata": {
    "id": "9ZWPF9ua8-kP"
   },
   "source": [
    "## Test on Model-selected Seeds"
   ]
  },
  {
   "cell_type": "code",
   "execution_count": null,
   "metadata": {
    "colab": {
     "base_uri": "https://localhost:8080/",
     "height": 295
    },
    "executionInfo": {
     "elapsed": 1416,
     "status": "ok",
     "timestamp": 1651710234225,
     "user": {
      "displayName": "Max Guo",
      "userId": "02058253857407761531"
     },
     "user_tz": 240
    },
    "id": "rt2jaTe5ZpcS",
    "outputId": "39fabe0b-8dda-4956-bb5a-998336b3c729"
   },
   "outputs": [],
   "source": [
    "seeds_logistic = generate_seeds(models_logistic, paths=None)\n",
    "test_synthetic_model(seeds_logistic, model, label=\"logistic\")\n",
    "\n",
    "seeds = generate_seeds(models, paths)\n",
    "test_synthetic_model(seeds, model)\n",
    "\n",
    "plt.legend()\n",
    "plt.xlabel(\"number of mutations from wildtype\")\n",
    "plt.ylabel(\"% viability\")\n",
    "plt.title(\"Model-selected sequences\")\n",
    "plt.show()"
   ]
  },
  {
   "cell_type": "markdown",
   "metadata": {
    "id": "jZY70Fu-55Xw"
   },
   "source": [
    "# Model-designed Sequences"
   ]
  },
  {
   "cell_type": "code",
   "execution_count": null,
   "metadata": {
    "executionInfo": {
     "elapsed": 6,
     "status": "ok",
     "timestamp": 1651707412503,
     "user": {
      "displayName": "Max Guo",
      "userId": "02058253857407761531"
     },
     "user_tz": 240
    },
    "id": "pEtnEHH-56Ul"
   },
   "outputs": [],
   "source": [
    "# change the black (irrelevant) features, and mutate in the design sequences process\n",
    "# we need two design processes, one for features and one imitating the regular one"
   ]
  },
  {
   "cell_type": "code",
   "execution_count": null,
   "metadata": {
    "executionInfo": {
     "elapsed": 109,
     "status": "ok",
     "timestamp": 1651711137087,
     "user": {
      "displayName": "Max Guo",
      "userId": "02058253857407761531"
     },
     "user_tz": 240
    },
    "id": "2Vr47ZRIXxYa"
   },
   "outputs": [],
   "source": [
    "# random set of 250 single mutations\n",
    "# take the 50 highest scoring candidates, pass forward to next iteration\n",
    "# terminate the process after 20 iterations\n",
    "# aggregate with model-selected seeds, select the top 900 at each distance 5-25, top 500 at distances 26-29\n",
    "\n",
    "import copy\n",
    "NUM_ITERS = 1\n",
    "\n",
    "def iteratively_mutate(models, samples, seeds, paths=None):\n",
    "    samples_iterative = copy.deepcopy(seeds)\n",
    "    all_candidates = {mut_dist: [] for mut_dist in mutation_dists}\n",
    "    new_samples_iterative = {mut_dist: [] for mut_dist in mutation_dists}\n",
    "\n",
    "    for iter in range(NUM_ITERS):\n",
    "        for mut_dist in mutation_dists:\n",
    "            for seed in np.array(samples_iterative[mut_dist]).squeeze():\n",
    "                sample = np.copy(seed).reshape(58, 20)\n",
    "                mut = np.random.choice(np.arange(1, 58))\n",
    "                if mut % 2 == 0: # if it is a substitution / part of the original sequence\n",
    "                    idx = np.argmax(res_encoder.encode(R1_TILE21_WT_SEQ[(mut-1)//2]))\n",
    "                    residues_excluding_wt = np.setdiff1d(np.arange(20),np.array(idx)) # exclude wildtype from possible choices\n",
    "                    residue_idx = np.random.choice(residues_excluding_wt)\n",
    "                else:\n",
    "                    residue_idx = np.random.choice(np.arange(20))\n",
    "                sample[mut] = np.zeros(20)\n",
    "                sample[mut][residue_idx] = 1\n",
    "\n",
    "                sample_mut_dist = calculate_mut_dist(sample)\n",
    "                new_samples_iterative[sample_mut_dist].append(sample)\n",
    "        \n",
    "        for mut_dist in mutation_dists:\n",
    "            new_samples_iterative = generate_seeds(models, samples=samples, paths=paths)\n",
    "        \n",
    "        # append to growing list of total findings mutations\n",
    "        for mut_dist in mutation_dists:\n",
    "            all_candidates[mut_dist] += samples_iterative[mut_dist]\n",
    "\n",
    "    return all_candidates"
   ]
  },
  {
   "cell_type": "code",
   "execution_count": null,
   "metadata": {
    "colab": {
     "base_uri": "https://localhost:8080/",
     "height": 293
    },
    "executionInfo": {
     "elapsed": 105,
     "status": "error",
     "timestamp": 1651711137991,
     "user": {
      "displayName": "Max Guo",
      "userId": "02058253857407761531"
     },
     "user_tz": 240
    },
    "id": "lYFW2qlPZpqr",
    "outputId": "eab8ef98-8be7-43fd-ae07-4804fdcbc8c1"
   },
   "outputs": [],
   "source": [
    "best_samples = iteratively_mutate(models, samples, seeds, paths=paths)"
   ]
  },
  {
   "cell_type": "code",
   "execution_count": null,
   "metadata": {
    "id": "Z0SfNqB2p6Uz"
   },
   "outputs": [],
   "source": []
  }
 ],
 "metadata": {
  "accelerator": "GPU",
  "colab": {
   "authorship_tag": "ABX9TyOK0Obs39w2Y24l+dFsIed1",
   "collapsed_sections": [],
   "name": "experimentation.ipynb",
   "provenance": []
  },
  "kernelspec": {
   "display_name": "Python 3 (ipykernel)",
   "language": "python",
   "name": "python3"
  },
  "language_info": {
   "codemirror_mode": {
    "name": "ipython",
    "version": 3
   },
   "file_extension": ".py",
   "mimetype": "text/x-python",
   "name": "python",
   "nbconvert_exporter": "python",
   "pygments_lexer": "ipython3",
   "version": "3.7.12"
  },
  "widgets": {
   "application/vnd.jupyter.widget-state+json": {
    "040c2fdc92034054af25d7c4a3a8e940": {
     "model_module": "@jupyter-widgets/controls",
     "model_module_version": "1.5.0",
     "model_name": "DescriptionStyleModel",
     "state": {
      "_model_module": "@jupyter-widgets/controls",
      "_model_module_version": "1.5.0",
      "_model_name": "DescriptionStyleModel",
      "_view_count": null,
      "_view_module": "@jupyter-widgets/base",
      "_view_module_version": "1.2.0",
      "_view_name": "StyleView",
      "description_width": ""
     }
    },
    "04b7e83a09904302af947caa0cc07e7c": {
     "model_module": "@jupyter-widgets/base",
     "model_module_version": "1.2.0",
     "model_name": "LayoutModel",
     "state": {
      "_model_module": "@jupyter-widgets/base",
      "_model_module_version": "1.2.0",
      "_model_name": "LayoutModel",
      "_view_count": null,
      "_view_module": "@jupyter-widgets/base",
      "_view_module_version": "1.2.0",
      "_view_name": "LayoutView",
      "align_content": null,
      "align_items": null,
      "align_self": null,
      "border": null,
      "bottom": null,
      "display": null,
      "flex": null,
      "flex_flow": null,
      "grid_area": null,
      "grid_auto_columns": null,
      "grid_auto_flow": null,
      "grid_auto_rows": null,
      "grid_column": null,
      "grid_gap": null,
      "grid_row": null,
      "grid_template_areas": null,
      "grid_template_columns": null,
      "grid_template_rows": null,
      "height": null,
      "justify_content": null,
      "justify_items": null,
      "left": null,
      "margin": null,
      "max_height": null,
      "max_width": null,
      "min_height": null,
      "min_width": null,
      "object_fit": null,
      "object_position": null,
      "order": null,
      "overflow": null,
      "overflow_x": null,
      "overflow_y": null,
      "padding": null,
      "right": null,
      "top": null,
      "visibility": null,
      "width": null
     }
    },
    "06ef01c5464146b2bb248412921e43d6": {
     "model_module": "@jupyter-widgets/controls",
     "model_module_version": "1.5.0",
     "model_name": "HTMLModel",
     "state": {
      "_dom_classes": [],
      "_model_module": "@jupyter-widgets/controls",
      "_model_module_version": "1.5.0",
      "_model_name": "HTMLModel",
      "_view_count": null,
      "_view_module": "@jupyter-widgets/controls",
      "_view_module_version": "1.5.0",
      "_view_name": "HTMLView",
      "description": "",
      "description_tooltip": null,
      "layout": "IPY_MODEL_04b7e83a09904302af947caa0cc07e7c",
      "placeholder": "​",
      "style": "IPY_MODEL_4e3dafe635fb438fbcbcdc9d513add5f",
      "value": " 11/11 [00:00&lt;00:00,  6.91it/s]"
     }
    },
    "11dbe5a1b8b6469190b8bcb21b476406": {
     "model_module": "@jupyter-widgets/controls",
     "model_module_version": "1.5.0",
     "model_name": "HBoxModel",
     "state": {
      "_dom_classes": [],
      "_model_module": "@jupyter-widgets/controls",
      "_model_module_version": "1.5.0",
      "_model_name": "HBoxModel",
      "_view_count": null,
      "_view_module": "@jupyter-widgets/controls",
      "_view_module_version": "1.5.0",
      "_view_name": "HBoxView",
      "box_style": "",
      "children": [
       "IPY_MODEL_6e4f6814341d4436beb74d7b0760e1ca",
       "IPY_MODEL_53329fe1b2404c44978543b62b7da898",
       "IPY_MODEL_fc1dcbc1d0a245dea7fd999d1b8df7e5"
      ],
      "layout": "IPY_MODEL_58051bd3b99a46898f080440d9e47fe2"
     }
    },
    "1327be682971476db07e99e5cb22e61b": {
     "model_module": "@jupyter-widgets/base",
     "model_module_version": "1.2.0",
     "model_name": "LayoutModel",
     "state": {
      "_model_module": "@jupyter-widgets/base",
      "_model_module_version": "1.2.0",
      "_model_name": "LayoutModel",
      "_view_count": null,
      "_view_module": "@jupyter-widgets/base",
      "_view_module_version": "1.2.0",
      "_view_name": "LayoutView",
      "align_content": null,
      "align_items": null,
      "align_self": null,
      "border": null,
      "bottom": null,
      "display": null,
      "flex": null,
      "flex_flow": null,
      "grid_area": null,
      "grid_auto_columns": null,
      "grid_auto_flow": null,
      "grid_auto_rows": null,
      "grid_column": null,
      "grid_gap": null,
      "grid_row": null,
      "grid_template_areas": null,
      "grid_template_columns": null,
      "grid_template_rows": null,
      "height": null,
      "justify_content": null,
      "justify_items": null,
      "left": null,
      "margin": null,
      "max_height": null,
      "max_width": null,
      "min_height": null,
      "min_width": null,
      "object_fit": null,
      "object_position": null,
      "order": null,
      "overflow": null,
      "overflow_x": null,
      "overflow_y": null,
      "padding": null,
      "right": null,
      "top": null,
      "visibility": null,
      "width": null
     }
    },
    "1378e0e5578f43a1a1db57a60cecec96": {
     "model_module": "@jupyter-widgets/base",
     "model_module_version": "1.2.0",
     "model_name": "LayoutModel",
     "state": {
      "_model_module": "@jupyter-widgets/base",
      "_model_module_version": "1.2.0",
      "_model_name": "LayoutModel",
      "_view_count": null,
      "_view_module": "@jupyter-widgets/base",
      "_view_module_version": "1.2.0",
      "_view_name": "LayoutView",
      "align_content": null,
      "align_items": null,
      "align_self": null,
      "border": null,
      "bottom": null,
      "display": null,
      "flex": null,
      "flex_flow": null,
      "grid_area": null,
      "grid_auto_columns": null,
      "grid_auto_flow": null,
      "grid_auto_rows": null,
      "grid_column": null,
      "grid_gap": null,
      "grid_row": null,
      "grid_template_areas": null,
      "grid_template_columns": null,
      "grid_template_rows": null,
      "height": null,
      "justify_content": null,
      "justify_items": null,
      "left": null,
      "margin": null,
      "max_height": null,
      "max_width": null,
      "min_height": null,
      "min_width": null,
      "object_fit": null,
      "object_position": null,
      "order": null,
      "overflow": null,
      "overflow_x": null,
      "overflow_y": null,
      "padding": null,
      "right": null,
      "top": null,
      "visibility": null,
      "width": null
     }
    },
    "1d777f70b88545a897ced3f2b0f3f001": {
     "model_module": "@jupyter-widgets/controls",
     "model_module_version": "1.5.0",
     "model_name": "ProgressStyleModel",
     "state": {
      "_model_module": "@jupyter-widgets/controls",
      "_model_module_version": "1.5.0",
      "_model_name": "ProgressStyleModel",
      "_view_count": null,
      "_view_module": "@jupyter-widgets/base",
      "_view_module_version": "1.2.0",
      "_view_name": "StyleView",
      "bar_color": null,
      "description_width": ""
     }
    },
    "21804176cc1548b5b4b0a2a5d64646da": {
     "model_module": "@jupyter-widgets/controls",
     "model_module_version": "1.5.0",
     "model_name": "FloatProgressModel",
     "state": {
      "_dom_classes": [],
      "_model_module": "@jupyter-widgets/controls",
      "_model_module_version": "1.5.0",
      "_model_name": "FloatProgressModel",
      "_view_count": null,
      "_view_module": "@jupyter-widgets/controls",
      "_view_module_version": "1.5.0",
      "_view_name": "ProgressView",
      "bar_style": "success",
      "description": "",
      "description_tooltip": null,
      "layout": "IPY_MODEL_edef26d4d68c4ca5a73b5aeab5f4b0b1",
      "max": 21,
      "min": 0,
      "orientation": "horizontal",
      "style": "IPY_MODEL_955eb0c74bfa4b2faabbd394372e0dc0",
      "value": 21
     }
    },
    "2359cdafa61249bcade3657be3410531": {
     "model_module": "@jupyter-widgets/base",
     "model_module_version": "1.2.0",
     "model_name": "LayoutModel",
     "state": {
      "_model_module": "@jupyter-widgets/base",
      "_model_module_version": "1.2.0",
      "_model_name": "LayoutModel",
      "_view_count": null,
      "_view_module": "@jupyter-widgets/base",
      "_view_module_version": "1.2.0",
      "_view_name": "LayoutView",
      "align_content": null,
      "align_items": null,
      "align_self": null,
      "border": null,
      "bottom": null,
      "display": null,
      "flex": null,
      "flex_flow": null,
      "grid_area": null,
      "grid_auto_columns": null,
      "grid_auto_flow": null,
      "grid_auto_rows": null,
      "grid_column": null,
      "grid_gap": null,
      "grid_row": null,
      "grid_template_areas": null,
      "grid_template_columns": null,
      "grid_template_rows": null,
      "height": null,
      "justify_content": null,
      "justify_items": null,
      "left": null,
      "margin": null,
      "max_height": null,
      "max_width": null,
      "min_height": null,
      "min_width": null,
      "object_fit": null,
      "object_position": null,
      "order": null,
      "overflow": null,
      "overflow_x": null,
      "overflow_y": null,
      "padding": null,
      "right": null,
      "top": null,
      "visibility": null,
      "width": null
     }
    },
    "24b635849d4a4e61b14f3d639b0d018c": {
     "model_module": "@jupyter-widgets/controls",
     "model_module_version": "1.5.0",
     "model_name": "HBoxModel",
     "state": {
      "_dom_classes": [],
      "_model_module": "@jupyter-widgets/controls",
      "_model_module_version": "1.5.0",
      "_model_name": "HBoxModel",
      "_view_count": null,
      "_view_module": "@jupyter-widgets/controls",
      "_view_module_version": "1.5.0",
      "_view_name": "HBoxView",
      "box_style": "",
      "children": [
       "IPY_MODEL_47659d3572a4465bb252cc53c2064f9d",
       "IPY_MODEL_21804176cc1548b5b4b0a2a5d64646da",
       "IPY_MODEL_5eb2951b9f9f494fb92a0e4dcf4001c7"
      ],
      "layout": "IPY_MODEL_ae9e91002a264661bbfd5993c12ecf15"
     }
    },
    "3c6fde9acf3e4bd1bba4ea29bdb9e8f8": {
     "model_module": "@jupyter-widgets/controls",
     "model_module_version": "1.5.0",
     "model_name": "HTMLModel",
     "state": {
      "_dom_classes": [],
      "_model_module": "@jupyter-widgets/controls",
      "_model_module_version": "1.5.0",
      "_model_name": "HTMLModel",
      "_view_count": null,
      "_view_module": "@jupyter-widgets/controls",
      "_view_module_version": "1.5.0",
      "_view_name": "HTMLView",
      "description": "",
      "description_tooltip": null,
      "layout": "IPY_MODEL_2359cdafa61249bcade3657be3410531",
      "placeholder": "​",
      "style": "IPY_MODEL_040c2fdc92034054af25d7c4a3a8e940",
      "value": "100%"
     }
    },
    "41be1716ea5b41d18cef585bee1784a3": {
     "model_module": "@jupyter-widgets/base",
     "model_module_version": "1.2.0",
     "model_name": "LayoutModel",
     "state": {
      "_model_module": "@jupyter-widgets/base",
      "_model_module_version": "1.2.0",
      "_model_name": "LayoutModel",
      "_view_count": null,
      "_view_module": "@jupyter-widgets/base",
      "_view_module_version": "1.2.0",
      "_view_name": "LayoutView",
      "align_content": null,
      "align_items": null,
      "align_self": null,
      "border": null,
      "bottom": null,
      "display": null,
      "flex": null,
      "flex_flow": null,
      "grid_area": null,
      "grid_auto_columns": null,
      "grid_auto_flow": null,
      "grid_auto_rows": null,
      "grid_column": null,
      "grid_gap": null,
      "grid_row": null,
      "grid_template_areas": null,
      "grid_template_columns": null,
      "grid_template_rows": null,
      "height": null,
      "justify_content": null,
      "justify_items": null,
      "left": null,
      "margin": null,
      "max_height": null,
      "max_width": null,
      "min_height": null,
      "min_width": null,
      "object_fit": null,
      "object_position": null,
      "order": null,
      "overflow": null,
      "overflow_x": null,
      "overflow_y": null,
      "padding": null,
      "right": null,
      "top": null,
      "visibility": null,
      "width": null
     }
    },
    "47659d3572a4465bb252cc53c2064f9d": {
     "model_module": "@jupyter-widgets/controls",
     "model_module_version": "1.5.0",
     "model_name": "HTMLModel",
     "state": {
      "_dom_classes": [],
      "_model_module": "@jupyter-widgets/controls",
      "_model_module_version": "1.5.0",
      "_model_name": "HTMLModel",
      "_view_count": null,
      "_view_module": "@jupyter-widgets/controls",
      "_view_module_version": "1.5.0",
      "_view_name": "HTMLView",
      "description": "",
      "description_tooltip": null,
      "layout": "IPY_MODEL_41be1716ea5b41d18cef585bee1784a3",
      "placeholder": "​",
      "style": "IPY_MODEL_ea671dbb4a4d493d9c782f61b19a88dc",
      "value": "100%"
     }
    },
    "4e3dafe635fb438fbcbcdc9d513add5f": {
     "model_module": "@jupyter-widgets/controls",
     "model_module_version": "1.5.0",
     "model_name": "DescriptionStyleModel",
     "state": {
      "_model_module": "@jupyter-widgets/controls",
      "_model_module_version": "1.5.0",
      "_model_name": "DescriptionStyleModel",
      "_view_count": null,
      "_view_module": "@jupyter-widgets/base",
      "_view_module_version": "1.2.0",
      "_view_name": "StyleView",
      "description_width": ""
     }
    },
    "53329fe1b2404c44978543b62b7da898": {
     "model_module": "@jupyter-widgets/controls",
     "model_module_version": "1.5.0",
     "model_name": "FloatProgressModel",
     "state": {
      "_dom_classes": [],
      "_model_module": "@jupyter-widgets/controls",
      "_model_module_version": "1.5.0",
      "_model_name": "FloatProgressModel",
      "_view_count": null,
      "_view_module": "@jupyter-widgets/controls",
      "_view_module_version": "1.5.0",
      "_view_name": "ProgressView",
      "bar_style": "success",
      "description": "",
      "description_tooltip": null,
      "layout": "IPY_MODEL_7e89589a95d24be882a7f4c03aef1da1",
      "max": 11,
      "min": 0,
      "orientation": "horizontal",
      "style": "IPY_MODEL_92907c5f9546408693b19dde7cf47bfc",
      "value": 11
     }
    },
    "58051bd3b99a46898f080440d9e47fe2": {
     "model_module": "@jupyter-widgets/base",
     "model_module_version": "1.2.0",
     "model_name": "LayoutModel",
     "state": {
      "_model_module": "@jupyter-widgets/base",
      "_model_module_version": "1.2.0",
      "_model_name": "LayoutModel",
      "_view_count": null,
      "_view_module": "@jupyter-widgets/base",
      "_view_module_version": "1.2.0",
      "_view_name": "LayoutView",
      "align_content": null,
      "align_items": null,
      "align_self": null,
      "border": null,
      "bottom": null,
      "display": null,
      "flex": null,
      "flex_flow": null,
      "grid_area": null,
      "grid_auto_columns": null,
      "grid_auto_flow": null,
      "grid_auto_rows": null,
      "grid_column": null,
      "grid_gap": null,
      "grid_row": null,
      "grid_template_areas": null,
      "grid_template_columns": null,
      "grid_template_rows": null,
      "height": null,
      "justify_content": null,
      "justify_items": null,
      "left": null,
      "margin": null,
      "max_height": null,
      "max_width": null,
      "min_height": null,
      "min_width": null,
      "object_fit": null,
      "object_position": null,
      "order": null,
      "overflow": null,
      "overflow_x": null,
      "overflow_y": null,
      "padding": null,
      "right": null,
      "top": null,
      "visibility": null,
      "width": null
     }
    },
    "5eb2951b9f9f494fb92a0e4dcf4001c7": {
     "model_module": "@jupyter-widgets/controls",
     "model_module_version": "1.5.0",
     "model_name": "HTMLModel",
     "state": {
      "_dom_classes": [],
      "_model_module": "@jupyter-widgets/controls",
      "_model_module_version": "1.5.0",
      "_model_name": "HTMLModel",
      "_view_count": null,
      "_view_module": "@jupyter-widgets/controls",
      "_view_module_version": "1.5.0",
      "_view_name": "HTMLView",
      "description": "",
      "description_tooltip": null,
      "layout": "IPY_MODEL_f653d94ae4474557a56449faa8f047cd",
      "placeholder": "​",
      "style": "IPY_MODEL_844287492a5c4371923612720dd0b825",
      "value": " 21/21 [00:18&lt;00:00,  1.26s/it]"
     }
    },
    "6236ef9633934ba9b3a685a30391dba2": {
     "model_module": "@jupyter-widgets/base",
     "model_module_version": "1.2.0",
     "model_name": "LayoutModel",
     "state": {
      "_model_module": "@jupyter-widgets/base",
      "_model_module_version": "1.2.0",
      "_model_name": "LayoutModel",
      "_view_count": null,
      "_view_module": "@jupyter-widgets/base",
      "_view_module_version": "1.2.0",
      "_view_name": "LayoutView",
      "align_content": null,
      "align_items": null,
      "align_self": null,
      "border": null,
      "bottom": null,
      "display": null,
      "flex": null,
      "flex_flow": null,
      "grid_area": null,
      "grid_auto_columns": null,
      "grid_auto_flow": null,
      "grid_auto_rows": null,
      "grid_column": null,
      "grid_gap": null,
      "grid_row": null,
      "grid_template_areas": null,
      "grid_template_columns": null,
      "grid_template_rows": null,
      "height": null,
      "justify_content": null,
      "justify_items": null,
      "left": null,
      "margin": null,
      "max_height": null,
      "max_width": null,
      "min_height": null,
      "min_width": null,
      "object_fit": null,
      "object_position": null,
      "order": null,
      "overflow": null,
      "overflow_x": null,
      "overflow_y": null,
      "padding": null,
      "right": null,
      "top": null,
      "visibility": null,
      "width": null
     }
    },
    "6e4f6814341d4436beb74d7b0760e1ca": {
     "model_module": "@jupyter-widgets/controls",
     "model_module_version": "1.5.0",
     "model_name": "HTMLModel",
     "state": {
      "_dom_classes": [],
      "_model_module": "@jupyter-widgets/controls",
      "_model_module_version": "1.5.0",
      "_model_name": "HTMLModel",
      "_view_count": null,
      "_view_module": "@jupyter-widgets/controls",
      "_view_module_version": "1.5.0",
      "_view_name": "HTMLView",
      "description": "",
      "description_tooltip": null,
      "layout": "IPY_MODEL_ea16f8c3c9da45b188cbf31086e4479f",
      "placeholder": "​",
      "style": "IPY_MODEL_fa862d113f3b469d9b59a35bfcc735f7",
      "value": "100%"
     }
    },
    "7e89589a95d24be882a7f4c03aef1da1": {
     "model_module": "@jupyter-widgets/base",
     "model_module_version": "1.2.0",
     "model_name": "LayoutModel",
     "state": {
      "_model_module": "@jupyter-widgets/base",
      "_model_module_version": "1.2.0",
      "_model_name": "LayoutModel",
      "_view_count": null,
      "_view_module": "@jupyter-widgets/base",
      "_view_module_version": "1.2.0",
      "_view_name": "LayoutView",
      "align_content": null,
      "align_items": null,
      "align_self": null,
      "border": null,
      "bottom": null,
      "display": null,
      "flex": null,
      "flex_flow": null,
      "grid_area": null,
      "grid_auto_columns": null,
      "grid_auto_flow": null,
      "grid_auto_rows": null,
      "grid_column": null,
      "grid_gap": null,
      "grid_row": null,
      "grid_template_areas": null,
      "grid_template_columns": null,
      "grid_template_rows": null,
      "height": null,
      "justify_content": null,
      "justify_items": null,
      "left": null,
      "margin": null,
      "max_height": null,
      "max_width": null,
      "min_height": null,
      "min_width": null,
      "object_fit": null,
      "object_position": null,
      "order": null,
      "overflow": null,
      "overflow_x": null,
      "overflow_y": null,
      "padding": null,
      "right": null,
      "top": null,
      "visibility": null,
      "width": null
     }
    },
    "844287492a5c4371923612720dd0b825": {
     "model_module": "@jupyter-widgets/controls",
     "model_module_version": "1.5.0",
     "model_name": "DescriptionStyleModel",
     "state": {
      "_model_module": "@jupyter-widgets/controls",
      "_model_module_version": "1.5.0",
      "_model_name": "DescriptionStyleModel",
      "_view_count": null,
      "_view_module": "@jupyter-widgets/base",
      "_view_module_version": "1.2.0",
      "_view_name": "StyleView",
      "description_width": ""
     }
    },
    "8ba1931172a240919b263f7af84b1829": {
     "model_module": "@jupyter-widgets/controls",
     "model_module_version": "1.5.0",
     "model_name": "DescriptionStyleModel",
     "state": {
      "_model_module": "@jupyter-widgets/controls",
      "_model_module_version": "1.5.0",
      "_model_name": "DescriptionStyleModel",
      "_view_count": null,
      "_view_module": "@jupyter-widgets/base",
      "_view_module_version": "1.2.0",
      "_view_name": "StyleView",
      "description_width": ""
     }
    },
    "92907c5f9546408693b19dde7cf47bfc": {
     "model_module": "@jupyter-widgets/controls",
     "model_module_version": "1.5.0",
     "model_name": "ProgressStyleModel",
     "state": {
      "_model_module": "@jupyter-widgets/controls",
      "_model_module_version": "1.5.0",
      "_model_name": "ProgressStyleModel",
      "_view_count": null,
      "_view_module": "@jupyter-widgets/base",
      "_view_module_version": "1.2.0",
      "_view_name": "StyleView",
      "bar_color": null,
      "description_width": ""
     }
    },
    "955eb0c74bfa4b2faabbd394372e0dc0": {
     "model_module": "@jupyter-widgets/controls",
     "model_module_version": "1.5.0",
     "model_name": "ProgressStyleModel",
     "state": {
      "_model_module": "@jupyter-widgets/controls",
      "_model_module_version": "1.5.0",
      "_model_name": "ProgressStyleModel",
      "_view_count": null,
      "_view_module": "@jupyter-widgets/base",
      "_view_module_version": "1.2.0",
      "_view_name": "StyleView",
      "bar_color": null,
      "description_width": ""
     }
    },
    "ae9e91002a264661bbfd5993c12ecf15": {
     "model_module": "@jupyter-widgets/base",
     "model_module_version": "1.2.0",
     "model_name": "LayoutModel",
     "state": {
      "_model_module": "@jupyter-widgets/base",
      "_model_module_version": "1.2.0",
      "_model_name": "LayoutModel",
      "_view_count": null,
      "_view_module": "@jupyter-widgets/base",
      "_view_module_version": "1.2.0",
      "_view_name": "LayoutView",
      "align_content": null,
      "align_items": null,
      "align_self": null,
      "border": null,
      "bottom": null,
      "display": null,
      "flex": null,
      "flex_flow": null,
      "grid_area": null,
      "grid_auto_columns": null,
      "grid_auto_flow": null,
      "grid_auto_rows": null,
      "grid_column": null,
      "grid_gap": null,
      "grid_row": null,
      "grid_template_areas": null,
      "grid_template_columns": null,
      "grid_template_rows": null,
      "height": null,
      "justify_content": null,
      "justify_items": null,
      "left": null,
      "margin": null,
      "max_height": null,
      "max_width": null,
      "min_height": null,
      "min_width": null,
      "object_fit": null,
      "object_position": null,
      "order": null,
      "overflow": null,
      "overflow_x": null,
      "overflow_y": null,
      "padding": null,
      "right": null,
      "top": null,
      "visibility": null,
      "width": null
     }
    },
    "b4aaaee7d32843589a3f080725db4514": {
     "model_module": "@jupyter-widgets/controls",
     "model_module_version": "1.5.0",
     "model_name": "HBoxModel",
     "state": {
      "_dom_classes": [],
      "_model_module": "@jupyter-widgets/controls",
      "_model_module_version": "1.5.0",
      "_model_name": "HBoxModel",
      "_view_count": null,
      "_view_module": "@jupyter-widgets/controls",
      "_view_module_version": "1.5.0",
      "_view_name": "HBoxView",
      "box_style": "",
      "children": [
       "IPY_MODEL_3c6fde9acf3e4bd1bba4ea29bdb9e8f8",
       "IPY_MODEL_e899fc8be9cc46a590c76c0da7b60662",
       "IPY_MODEL_06ef01c5464146b2bb248412921e43d6"
      ],
      "layout": "IPY_MODEL_6236ef9633934ba9b3a685a30391dba2"
     }
    },
    "e899fc8be9cc46a590c76c0da7b60662": {
     "model_module": "@jupyter-widgets/controls",
     "model_module_version": "1.5.0",
     "model_name": "FloatProgressModel",
     "state": {
      "_dom_classes": [],
      "_model_module": "@jupyter-widgets/controls",
      "_model_module_version": "1.5.0",
      "_model_name": "FloatProgressModel",
      "_view_count": null,
      "_view_module": "@jupyter-widgets/controls",
      "_view_module_version": "1.5.0",
      "_view_name": "ProgressView",
      "bar_style": "success",
      "description": "",
      "description_tooltip": null,
      "layout": "IPY_MODEL_1327be682971476db07e99e5cb22e61b",
      "max": 11,
      "min": 0,
      "orientation": "horizontal",
      "style": "IPY_MODEL_1d777f70b88545a897ced3f2b0f3f001",
      "value": 11
     }
    },
    "ea16f8c3c9da45b188cbf31086e4479f": {
     "model_module": "@jupyter-widgets/base",
     "model_module_version": "1.2.0",
     "model_name": "LayoutModel",
     "state": {
      "_model_module": "@jupyter-widgets/base",
      "_model_module_version": "1.2.0",
      "_model_name": "LayoutModel",
      "_view_count": null,
      "_view_module": "@jupyter-widgets/base",
      "_view_module_version": "1.2.0",
      "_view_name": "LayoutView",
      "align_content": null,
      "align_items": null,
      "align_self": null,
      "border": null,
      "bottom": null,
      "display": null,
      "flex": null,
      "flex_flow": null,
      "grid_area": null,
      "grid_auto_columns": null,
      "grid_auto_flow": null,
      "grid_auto_rows": null,
      "grid_column": null,
      "grid_gap": null,
      "grid_row": null,
      "grid_template_areas": null,
      "grid_template_columns": null,
      "grid_template_rows": null,
      "height": null,
      "justify_content": null,
      "justify_items": null,
      "left": null,
      "margin": null,
      "max_height": null,
      "max_width": null,
      "min_height": null,
      "min_width": null,
      "object_fit": null,
      "object_position": null,
      "order": null,
      "overflow": null,
      "overflow_x": null,
      "overflow_y": null,
      "padding": null,
      "right": null,
      "top": null,
      "visibility": null,
      "width": null
     }
    },
    "ea671dbb4a4d493d9c782f61b19a88dc": {
     "model_module": "@jupyter-widgets/controls",
     "model_module_version": "1.5.0",
     "model_name": "DescriptionStyleModel",
     "state": {
      "_model_module": "@jupyter-widgets/controls",
      "_model_module_version": "1.5.0",
      "_model_name": "DescriptionStyleModel",
      "_view_count": null,
      "_view_module": "@jupyter-widgets/base",
      "_view_module_version": "1.2.0",
      "_view_name": "StyleView",
      "description_width": ""
     }
    },
    "edef26d4d68c4ca5a73b5aeab5f4b0b1": {
     "model_module": "@jupyter-widgets/base",
     "model_module_version": "1.2.0",
     "model_name": "LayoutModel",
     "state": {
      "_model_module": "@jupyter-widgets/base",
      "_model_module_version": "1.2.0",
      "_model_name": "LayoutModel",
      "_view_count": null,
      "_view_module": "@jupyter-widgets/base",
      "_view_module_version": "1.2.0",
      "_view_name": "LayoutView",
      "align_content": null,
      "align_items": null,
      "align_self": null,
      "border": null,
      "bottom": null,
      "display": null,
      "flex": null,
      "flex_flow": null,
      "grid_area": null,
      "grid_auto_columns": null,
      "grid_auto_flow": null,
      "grid_auto_rows": null,
      "grid_column": null,
      "grid_gap": null,
      "grid_row": null,
      "grid_template_areas": null,
      "grid_template_columns": null,
      "grid_template_rows": null,
      "height": null,
      "justify_content": null,
      "justify_items": null,
      "left": null,
      "margin": null,
      "max_height": null,
      "max_width": null,
      "min_height": null,
      "min_width": null,
      "object_fit": null,
      "object_position": null,
      "order": null,
      "overflow": null,
      "overflow_x": null,
      "overflow_y": null,
      "padding": null,
      "right": null,
      "top": null,
      "visibility": null,
      "width": null
     }
    },
    "f653d94ae4474557a56449faa8f047cd": {
     "model_module": "@jupyter-widgets/base",
     "model_module_version": "1.2.0",
     "model_name": "LayoutModel",
     "state": {
      "_model_module": "@jupyter-widgets/base",
      "_model_module_version": "1.2.0",
      "_model_name": "LayoutModel",
      "_view_count": null,
      "_view_module": "@jupyter-widgets/base",
      "_view_module_version": "1.2.0",
      "_view_name": "LayoutView",
      "align_content": null,
      "align_items": null,
      "align_self": null,
      "border": null,
      "bottom": null,
      "display": null,
      "flex": null,
      "flex_flow": null,
      "grid_area": null,
      "grid_auto_columns": null,
      "grid_auto_flow": null,
      "grid_auto_rows": null,
      "grid_column": null,
      "grid_gap": null,
      "grid_row": null,
      "grid_template_areas": null,
      "grid_template_columns": null,
      "grid_template_rows": null,
      "height": null,
      "justify_content": null,
      "justify_items": null,
      "left": null,
      "margin": null,
      "max_height": null,
      "max_width": null,
      "min_height": null,
      "min_width": null,
      "object_fit": null,
      "object_position": null,
      "order": null,
      "overflow": null,
      "overflow_x": null,
      "overflow_y": null,
      "padding": null,
      "right": null,
      "top": null,
      "visibility": null,
      "width": null
     }
    },
    "fa862d113f3b469d9b59a35bfcc735f7": {
     "model_module": "@jupyter-widgets/controls",
     "model_module_version": "1.5.0",
     "model_name": "DescriptionStyleModel",
     "state": {
      "_model_module": "@jupyter-widgets/controls",
      "_model_module_version": "1.5.0",
      "_model_name": "DescriptionStyleModel",
      "_view_count": null,
      "_view_module": "@jupyter-widgets/base",
      "_view_module_version": "1.2.0",
      "_view_name": "StyleView",
      "description_width": ""
     }
    },
    "fc1dcbc1d0a245dea7fd999d1b8df7e5": {
     "model_module": "@jupyter-widgets/controls",
     "model_module_version": "1.5.0",
     "model_name": "HTMLModel",
     "state": {
      "_dom_classes": [],
      "_model_module": "@jupyter-widgets/controls",
      "_model_module_version": "1.5.0",
      "_model_name": "HTMLModel",
      "_view_count": null,
      "_view_module": "@jupyter-widgets/controls",
      "_view_module_version": "1.5.0",
      "_view_name": "HTMLView",
      "description": "",
      "description_tooltip": null,
      "layout": "IPY_MODEL_1378e0e5578f43a1a1db57a60cecec96",
      "placeholder": "​",
      "style": "IPY_MODEL_8ba1931172a240919b263f7af84b1829",
      "value": " 11/11 [00:04&lt;00:00,  2.38it/s]"
     }
    }
   }
  }
 },
 "nbformat": 4,
 "nbformat_minor": 4
}
