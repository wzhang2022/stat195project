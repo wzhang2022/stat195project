{
 "cells": [
  {
   "cell_type": "code",
   "execution_count": 1,
   "metadata": {
    "colab": {
     "base_uri": "https://localhost:8080/"
    },
    "id": "r2fBipelTEPP",
    "outputId": "a9067adf-077f-4b54-c275-414cbac818ba"
   },
   "outputs": [],
   "source": [
    "# from google.colab import drive\n",
    "# import os\n",
    "# drive.mount('/content/drive')\n",
    "# os.chdir('/content/drive/My Drive/2022/classes/stat195/stat195project')\n",
    "# print(os.getcwd())"
   ]
  },
  {
   "cell_type": "code",
   "execution_count": 2,
   "metadata": {
    "id": "nE1yKZ-ITWyQ"
   },
   "outputs": [],
   "source": [
    "# %%capture\n",
    "# !pip install lassonet\n",
    "# !pip install einops"
   ]
  },
  {
   "cell_type": "code",
   "execution_count": 3,
   "metadata": {
    "id": "D93zr3CVTNZB"
   },
   "outputs": [],
   "source": [
    "import numpy as np\n",
    "import seaborn as sns\n",
    "import matplotlib.pyplot as plt\n",
    "import pandas as pd\n",
    "import sys\n",
    "import torch\n",
    "import matplotlib.pyplot as plt\n",
    "\n",
    "sys.path.append(\"aav/util\")\n",
    "sys.path.append(\"aav/stat195_pytorch_work\")\n",
    "\n",
    "from lassonet import LassoNetClassifier\n",
    "\n",
    "from residue_encoding import ResidueIdentityEncoder\n",
    "from mutation_encoding import MutationSequenceEncoder\n",
    "from torch_cnn_lassonet import *\n",
    "from train import *\n",
    "\n",
    "from sklearn.metrics import accuracy_score\n",
    "from sklearn.linear_model import LogisticRegression\n",
    "from sklearn.model_selection import train_test_split\n",
    "\n",
    "from tqdm.auto import tqdm\n",
    "import pickle"
   ]
  },
  {
   "cell_type": "markdown",
   "metadata": {
    "id": "YKGYShcnVZA7"
   },
   "source": [
    "# Data"
   ]
  },
  {
   "cell_type": "markdown",
   "metadata": {
    "id": "4gqMtLqxZWTC"
   },
   "source": [
    "## Examine Dataset"
   ]
  },
  {
   "cell_type": "code",
   "execution_count": 4,
   "metadata": {
    "colab": {
     "base_uri": "https://localhost:8080/",
     "height": 206
    },
    "id": "feetga7vVYuu",
    "outputId": "2c782e18-f171-47a0-edba-1cbd1a0d79e9"
   },
   "outputs": [
    {
     "data": {
      "text/html": [
       "<div>\n",
       "<style scoped>\n",
       "    .dataframe tbody tr th:only-of-type {\n",
       "        vertical-align: middle;\n",
       "    }\n",
       "\n",
       "    .dataframe tbody tr th {\n",
       "        vertical-align: top;\n",
       "    }\n",
       "\n",
       "    .dataframe thead th {\n",
       "        text-align: right;\n",
       "    }\n",
       "</style>\n",
       "<table border=\"1\" class=\"dataframe\">\n",
       "  <thead>\n",
       "    <tr style=\"text-align: right;\">\n",
       "      <th></th>\n",
       "      <th>sequence</th>\n",
       "      <th>partition</th>\n",
       "      <th>mutation_sequence</th>\n",
       "      <th>num_mutations</th>\n",
       "      <th>num_edits</th>\n",
       "      <th>viral_selection</th>\n",
       "      <th>is_viable</th>\n",
       "    </tr>\n",
       "  </thead>\n",
       "  <tbody>\n",
       "    <tr>\n",
       "      <th>0</th>\n",
       "      <td>ADEEIRATNPIATEMYGSVSTNLQLGNR</td>\n",
       "      <td>designed</td>\n",
       "      <td>AD____A___I___M_________L___</td>\n",
       "      <td>6</td>\n",
       "      <td>6</td>\n",
       "      <td>-2.027259</td>\n",
       "      <td>False</td>\n",
       "    </tr>\n",
       "    <tr>\n",
       "      <th>1</th>\n",
       "      <td>ADEEIRATNPVATEQYGSVSTNQQRQNR</td>\n",
       "      <td>designed</td>\n",
       "      <td>AD____A_______________Q__Q__</td>\n",
       "      <td>5</td>\n",
       "      <td>5</td>\n",
       "      <td>-0.429554</td>\n",
       "      <td>True</td>\n",
       "    </tr>\n",
       "    <tr>\n",
       "      <th>2</th>\n",
       "      <td>ADEEIRTTNPVATEQWGGVSTNLQIGNY</td>\n",
       "      <td>designed</td>\n",
       "      <td>AD_____________W_G______I__Y</td>\n",
       "      <td>6</td>\n",
       "      <td>6</td>\n",
       "      <td>-0.527843</td>\n",
       "      <td>True</td>\n",
       "    </tr>\n",
       "    <tr>\n",
       "      <th>3</th>\n",
       "      <td>ADEEIRTTNPVATEQYGEVSTNLQRGNR</td>\n",
       "      <td>designed</td>\n",
       "      <td>AD_______________E__________</td>\n",
       "      <td>3</td>\n",
       "      <td>3</td>\n",
       "      <td>2.887908</td>\n",
       "      <td>True</td>\n",
       "    </tr>\n",
       "    <tr>\n",
       "      <th>4</th>\n",
       "      <td>ADEEIRTTNPVATEQYGSVSTNLQRGNR</td>\n",
       "      <td>designed</td>\n",
       "      <td>AD__________________________</td>\n",
       "      <td>2</td>\n",
       "      <td>2</td>\n",
       "      <td>0.575730</td>\n",
       "      <td>True</td>\n",
       "    </tr>\n",
       "  </tbody>\n",
       "</table>\n",
       "</div>"
      ],
      "text/plain": [
       "                       sequence partition             mutation_sequence  \\\n",
       "0  ADEEIRATNPIATEMYGSVSTNLQLGNR  designed  AD____A___I___M_________L___   \n",
       "1  ADEEIRATNPVATEQYGSVSTNQQRQNR  designed  AD____A_______________Q__Q__   \n",
       "2  ADEEIRTTNPVATEQWGGVSTNLQIGNY  designed  AD_____________W_G______I__Y   \n",
       "3  ADEEIRTTNPVATEQYGEVSTNLQRGNR  designed  AD_______________E__________   \n",
       "4  ADEEIRTTNPVATEQYGSVSTNLQRGNR  designed  AD__________________________   \n",
       "\n",
       "   num_mutations  num_edits  viral_selection  is_viable  \n",
       "0              6          6        -2.027259      False  \n",
       "1              5          5        -0.429554       True  \n",
       "2              6          6        -0.527843       True  \n",
       "3              3          3         2.887908       True  \n",
       "4              2          2         0.575730       True  "
      ]
     },
     "execution_count": 4,
     "metadata": {},
     "output_type": "execute_result"
    }
   ],
   "source": [
    "df = pd.read_csv(\"stat_195_project_data.csv\")\n",
    "df.head()"
   ]
  },
  {
   "cell_type": "code",
   "execution_count": 5,
   "metadata": {
    "colab": {
     "base_uri": "https://localhost:8080/"
    },
    "id": "aT8UFR5mVcsn",
    "outputId": "3cc68a0d-0510-4cba-bc6b-d55a8b958491"
   },
   "outputs": [
    {
     "data": {
      "text/plain": [
       "['cnn_designed_plus_rand_train_seed',\n",
       " 'cnn_designed_plus_rand_train_walked',\n",
       " 'cnn_rand_doubles_plus_single_seed',\n",
       " 'cnn_rand_doubles_plus_single_walked',\n",
       " 'cnn_standard_seed',\n",
       " 'cnn_standard_walked',\n",
       " 'designed',\n",
       " 'lr_designed_plus_rand_train_seed',\n",
       " 'lr_designed_plus_rand_train_walked',\n",
       " 'lr_rand_doubles_plus_single_seed',\n",
       " 'lr_rand_doubles_plus_single_walked',\n",
       " 'lr_standard_seed',\n",
       " 'lr_standard_walked',\n",
       " 'previous_chip_nonviable',\n",
       " 'previous_chip_viable',\n",
       " 'rand',\n",
       " 'random_doubles',\n",
       " 'rnn_designed_plus_rand_train_seed',\n",
       " 'rnn_designed_plus_rand_train_walked',\n",
       " 'rnn_rand_doubles_plus_singles_seed',\n",
       " 'rnn_rand_doubles_plus_singles_walked',\n",
       " 'rnn_standard_seed',\n",
       " 'rnn_standard_walked',\n",
       " 'single',\n",
       " 'singles',\n",
       " 'stop',\n",
       " 'wild_type']"
      ]
     },
     "execution_count": 5,
     "metadata": {},
     "output_type": "execute_result"
    }
   ],
   "source": [
    "# print unique partitions\n",
    "sorted(df[\"partition\"].unique())"
   ]
  },
  {
   "cell_type": "code",
   "execution_count": 6,
   "metadata": {
    "colab": {
     "base_uri": "https://localhost:8080/"
    },
    "id": "Kp-02iO0VjbR",
    "outputId": "1e47ab60-84ba-4661-97a9-b60785cdc178"
   },
   "outputs": [
    {
     "data": {
      "text/plain": [
       "56372"
      ]
     },
     "execution_count": 6,
     "metadata": {},
     "output_type": "execute_result"
    }
   ],
   "source": [
    "len(df[df[\"partition\"] == \"designed\"]) # additive model A_39 (complete)"
   ]
  },
  {
   "cell_type": "code",
   "execution_count": 7,
   "metadata": {
    "colab": {
     "base_uri": "https://localhost:8080/"
    },
    "id": "HBXn3a5JVqd4",
    "outputId": "30a7077d-1913-4e01-d9db-64aac286b729"
   },
   "outputs": [
    {
     "data": {
      "text/plain": [
       "1112"
      ]
     },
     "execution_count": 7,
     "metadata": {},
     "output_type": "execute_result"
    }
   ],
   "source": [
    "len(df[df[\"partition\"] == \"single\"]) # complete singles C_1 (complete)"
   ]
  },
  {
   "cell_type": "code",
   "execution_count": 8,
   "metadata": {
    "colab": {
     "base_uri": "https://localhost:8080/"
    },
    "id": "JPSWYqS5ZAZM",
    "outputId": "ad29f1a9-3f7f-47c6-fb6d-6a00d71c5efa"
   },
   "outputs": [
    {
     "data": {
      "text/plain": [
       "25040"
      ]
     },
     "execution_count": 8,
     "metadata": {},
     "output_type": "execute_result"
    }
   ],
   "source": [
    "len(df[df[\"partition\"] == \"random_doubles\"]) # superset of R_2, which has n=1756 data points"
   ]
  },
  {
   "cell_type": "code",
   "execution_count": 9,
   "metadata": {
    "colab": {
     "base_uri": "https://localhost:8080/"
    },
    "id": "oIG--OBXV2ac",
    "outputId": "2419a4f9-355f-4b60-9b01-6b1331799289"
   },
   "outputs": [
    {
     "data": {
      "text/plain": [
       "9885"
      ]
     },
     "execution_count": 9,
     "metadata": {},
     "output_type": "execute_result"
    }
   ],
   "source": [
    "len(df[df[\"partition\"] == \"rand\"]) # R_10 + validation dataset \n",
    "# R_10 has 7908 randomly generated mutants (2-10 mutations)\n",
    "# validation dataset has 1977 mutants"
   ]
  },
  {
   "cell_type": "code",
   "execution_count": 10,
   "metadata": {
    "colab": {
     "base_uri": "https://localhost:8080/"
    },
    "id": "Aw7D63NiXhz0",
    "outputId": "99408852-0043-4d96-893c-f2de096ff0c6"
   },
   "outputs": [
    {
     "name": "stdout",
     "output_type": "stream",
     "text": [
      "number of mutations: 2\n",
      "1756\n",
      "number of mutations: 3\n",
      "1751\n",
      "number of mutations: 4\n",
      "1745\n",
      "number of mutations: 5\n",
      "1745\n",
      "number of mutations: 6\n",
      "1732\n",
      "number of mutations: 7\n",
      "288\n",
      "number of mutations: 8\n",
      "289\n",
      "number of mutations: 9\n",
      "290\n",
      "number of mutations: 10\n",
      "289\n"
     ]
    }
   ],
   "source": [
    "for num_mutations in range(2, 11):\n",
    "    print(\"number of mutations:\", num_mutations)\n",
    "    print(len(df[(df[\"partition\"] == \"rand\") & (df[\"num_mutations\"] == num_mutations)]))"
   ]
  },
  {
   "cell_type": "markdown",
   "metadata": {
    "id": "hkAIY2AHTiyH"
   },
   "source": [
    "## Define datasets\n",
    "- $C_1 + R_2$ dataset\n",
    "- $C_1 + R_{10}$ dataset\n",
    "- $R_{10} + A_{39}$ dataset\n",
    "- holdout 1977 random multiples"
   ]
  },
  {
   "cell_type": "code",
   "execution_count": 11,
   "metadata": {
    "colab": {
     "base_uri": "https://localhost:8080/"
    },
    "id": "qS1rUD4_Zpeu",
    "outputId": "6fb47d14-592a-4981-acfa-e2a94e814974"
   },
   "outputs": [
    {
     "name": "stdout",
     "output_type": "stream",
     "text": [
      "number of mutations: 2\n",
      "323\n",
      "number of mutations: 3\n",
      "319\n",
      "number of mutations: 4\n",
      "359\n",
      "number of mutations: 5\n",
      "373\n",
      "number of mutations: 6\n",
      "366\n",
      "number of mutations: 7\n",
      "54\n",
      "number of mutations: 8\n",
      "59\n",
      "number of mutations: 9\n",
      "57\n",
      "number of mutations: 10\n",
      "67\n"
     ]
    }
   ],
   "source": [
    "# create validation dataset and r10 dataset\n",
    "r10_plus_val = df[df[\"partition\"] == \"rand\"]\n",
    "val_df = r10_plus_val.sample(n=1977, replace=False, random_state=195)\n",
    "r10 = r10_plus_val.drop(val_df.index)\n",
    "\n",
    "for num_mutations in range(2, 11):\n",
    "    print(\"number of mutations:\", num_mutations)\n",
    "    print(len(val_df[val_df[\"num_mutations\"] == num_mutations]))"
   ]
  },
  {
   "cell_type": "code",
   "execution_count": 12,
   "metadata": {
    "id": "SMA2BJxwbHIH"
   },
   "outputs": [],
   "source": [
    "# create r2 dataset\n",
    "r2 = df[df[\"partition\"] == \"rand\"].sample(n=1756, replace=False, random_state=195)"
   ]
  },
  {
   "cell_type": "code",
   "execution_count": 13,
   "metadata": {
    "id": "HE1RAGeKbZTI"
   },
   "outputs": [],
   "source": [
    "c1 = df[df[\"partition\"] == \"single\"]"
   ]
  },
  {
   "cell_type": "code",
   "execution_count": 14,
   "metadata": {
    "id": "Div5kvLCbdt8"
   },
   "outputs": [],
   "source": [
    "a39 = df[df[\"partition\"] == \"designed\"]"
   ]
  },
  {
   "cell_type": "code",
   "execution_count": 15,
   "metadata": {
    "colab": {
     "base_uri": "https://localhost:8080/"
    },
    "id": "5QgsvbdJbOX7",
    "outputId": "9866f629-e2fe-465e-bc41-269c9628df1f"
   },
   "outputs": [
    {
     "name": "stdout",
     "output_type": "stream",
     "text": [
      "C1+R2 size: 2868\n",
      "C1+R10 size: 9020\n",
      "R10+A39 size: 64280\n"
     ]
    }
   ],
   "source": [
    "# create train datasets\n",
    "c1_r2 = pd.concat([c1, r2]).reset_index()\n",
    "print(f\"C1+R2 size: {len(c1_r2)}\")\n",
    "\n",
    "c1_r10 = pd.concat([c1, r10]).reset_index()\n",
    "print(f\"C1+R10 size: {len(c1_r10)}\")\n",
    "\n",
    "r10_a39 = pd.concat([r10, a39]).reset_index()\n",
    "print(f\"R10+A39 size: {len(r10_a39)}\")"
   ]
  },
  {
   "cell_type": "code",
   "execution_count": 16,
   "metadata": {
    "id": "MwkbGAi0Ksfg"
   },
   "outputs": [],
   "source": [
    "# 3 different training datasets (to ensure no overlap)\n",
    "df_c1_r2 = df[df['partition'] != 'stop'].drop(c1.index).drop(r2.index).reset_index()\n",
    "df_c1_r10 = df[df['partition'] != 'stop'].drop(c1.index).drop(r10.index).reset_index()\n",
    "df_r10_a39 = df[df['partition'] != 'stop'].drop(r10.index).drop(a39.index).reset_index()"
   ]
  },
  {
   "cell_type": "code",
   "execution_count": 17,
   "metadata": {
    "colab": {
     "base_uri": "https://localhost:8080/"
    },
    "id": "H-OJ_e2rLXrC",
    "outputId": "c3d97c38-b972-40ea-e822-9a6969b58eef"
   },
   "outputs": [
    {
     "name": "stdout",
     "output_type": "stream",
     "text": [
      "Validation size: 1977\n"
     ]
    }
   ],
   "source": [
    "val_df.reset_index(inplace=True)\n",
    "print(f\"Validation size: {len(val_df)}\")"
   ]
  },
  {
   "cell_type": "code",
   "execution_count": 18,
   "metadata": {
    "colab": {
     "base_uri": "https://localhost:8080/"
    },
    "id": "DpZ5wU2mcXRw",
    "outputId": "125a8553-b827-4ea6-a1da-3e66a9a95866"
   },
   "outputs": [
    {
     "name": "stdout",
     "output_type": "stream",
     "text": [
      "(58, 20)\n"
     ]
    }
   ],
   "source": [
    "# The canonical single-letter code residue alphabet.\n",
    "RESIDUES = tuple('ACDEFGHIKLMNPQRSTVWY')\n",
    "\n",
    "# The AAV serotype 2 wild type subsequence corresponding to positions 561 to 588\n",
    "R1_TILE21_WT_SEQ = 'DEEEIRTTNPVATEQYGSVSTNLQRGNR'\n",
    "\n",
    "res_encoder = ResidueIdentityEncoder(alphabet=RESIDUES)\n",
    "mut_encoder = MutationSequenceEncoder(res_encoder, R1_TILE21_WT_SEQ)\n",
    "\n",
    "WT_ENCODED = mut_encoder.encode(R1_TILE21_WT_SEQ).reshape(-1, 20)\n",
    "print(WT_ENCODED.shape)"
   ]
  },
  {
   "cell_type": "markdown",
   "metadata": {
    "id": "CeCnk5lLUGNQ"
   },
   "source": [
    "# Train LassoNet Model"
   ]
  },
  {
   "cell_type": "code",
   "execution_count": 19,
   "metadata": {
    "id": "RGE0HQ38jbV8"
   },
   "outputs": [],
   "source": [
    "NUM_MODELS = 3 # number of models per ensemble"
   ]
  },
  {
   "cell_type": "code",
   "execution_count": 20,
   "metadata": {
    "id": "b1Dkri6bM6xH"
   },
   "outputs": [],
   "source": [
    "# define validation data\n",
    "X_val = []\n",
    "for i in range(len(val_df)):\n",
    "    X_val.append(mut_encoder.encode(val_df[\"sequence\"][i]))\n",
    "X_val = np.array(X_val)\n",
    "X_val = X_val.reshape(len(X_val), -1)\n",
    "y_val = val_df[\"is_viable\"].to_numpy().astype(int)"
   ]
  },
  {
   "cell_type": "code",
   "execution_count": 21,
   "metadata": {
    "id": "skpAoazUc-ad"
   },
   "outputs": [],
   "source": [
    "def plot_metrics(models, paths):\n",
    "    \"\"\"\n",
    "    models - ensemble of LassoNet models\n",
    "    paths - list of path objects, each of which contains model parameters for a single LassoNet model\n",
    "    \"\"\"\n",
    "    n = len(models)\n",
    "\n",
    "    all_n_selected = [[] for _ in range(n)]\n",
    "    all_accuracy = [[] for _ in range(n)]\n",
    "    all_lambda_ = [[] for _ in range(n)]\n",
    "\n",
    "    for i in range(n):\n",
    "        n_selected = []\n",
    "        accuracy = []\n",
    "        lambda_ = []\n",
    "\n",
    "        for save in paths[i]:\n",
    "            models[i].load(save.state_dict)\n",
    "            y_pred = models[i].predict(X_val)\n",
    "            n_selected.append(save.selected.sum())\n",
    "            accuracy.append(accuracy_score(y_val, y_pred))\n",
    "            lambda_.append(save.lambda_)    \n",
    "\n",
    "        all_n_selected[i] = n_selected\n",
    "        all_accuracy[i] = accuracy\n",
    "        all_lambda_[i] = lambda_\n",
    "\n",
    "    fig = plt.figure(figsize=(12, 12))\n",
    "\n",
    "    plt.subplot(311)\n",
    "    plt.grid(True)\n",
    "    for i in range(n):\n",
    "        plt.plot(all_n_selected[i], all_accuracy[i], \".-\")\n",
    "    plt.xlabel(\"number of selected features\")\n",
    "    plt.ylabel(\"classification accuracy\")\n",
    "\n",
    "    plt.subplot(312)\n",
    "    plt.grid(True)\n",
    "    for i in range(n):\n",
    "        plt.plot(all_lambda_[i], all_accuracy[i], \".-\")\n",
    "    plt.xlabel(\"lambda\")\n",
    "    plt.xscale(\"log\")\n",
    "    plt.ylabel(\"classification accuracy\")\n",
    "\n",
    "    plt.subplot(313)\n",
    "    plt.grid(True)\n",
    "    for i in range(n):\n",
    "        plt.plot(all_lambda_[i], all_n_selected[i], \".-\")\n",
    "    plt.xlabel(\"lambda\")\n",
    "    plt.xscale(\"log\")\n",
    "    plt.ylabel(\"number of selected features\")\n",
    "\n",
    "    plt.show()\n",
    "\n",
    "    return all_n_selected, all_accuracy, all_lambda_\n",
    "\n",
    "\n",
    "def train_lassonet(data, name, load_models=True):\n",
    "    X_train = []\n",
    "    for i in range(len(data)):\n",
    "        X_train.append(mut_encoder.encode(data[\"sequence\"][i]))\n",
    "    y_train = data[\"is_viable\"].to_numpy().astype(int)\n",
    "    X_train = np.array(X_train)\n",
    "\n",
    "    X_train = X_train.reshape(len(X_train), -1)\n",
    "\n",
    "    # define ensemble of models\n",
    "    models = [None]*NUM_MODELS\n",
    "\n",
    "    # attempt to load first, skip training if we already have the weights\n",
    "    if load_models:\n",
    "        with open(f\"{name}_paths.pkl\", \"rb\") as file:\n",
    "            paths = pickle.load(file)\n",
    "    else:\n",
    "        paths = [None]*NUM_MODELS\n",
    "\n",
    "    # train models\n",
    "    for i in tqdm(range(NUM_MODELS)):\n",
    "        models[i] = LassoNetClassifier(M=30, hidden_dims=(1,))\n",
    "        if not load_models:\n",
    "            paths[i] = models[i].path(X_train, y_train, X_val=X_val, y_val=y_val)\n",
    "\n",
    "    with open(f\"{name}_paths.pkl\", \"wb\") as file:\n",
    "        pickle.dump(paths, file)\n",
    "\n",
    "    return models, paths"
   ]
  },
  {
   "cell_type": "code",
   "execution_count": 22,
   "metadata": {
    "colab": {
     "base_uri": "https://localhost:8080/",
     "height": 1000,
     "referenced_widgets": [
      "172c16ce433f4f40bee2b9e8c8a0fcca",
      "934d07e2ae6342889f507f44bdc87dd1",
      "e445ca6065dc4fdbbbfb81af14d86823",
      "924aee5763a44fd1a6f0b86d9623158d",
      "97ef6b5012f74b109e3565add7232d5d",
      "8ca8b194806041c5a13897f99c3e536b",
      "a7730f526e71401dab03da601e297c55",
      "69d34e9b7c7340f69efab4dd8d3c312a",
      "6e55d6f800fc4120b0f57aba516d73c2",
      "5a30de4fb9cb40f39541659ae13ddbbd",
      "0ff753a821ae4e72a36c554eb2bb89ac"
     ]
    },
    "id": "RY9CjS-3NVii",
    "outputId": "413df30a-460f-4ba8-a221-eca54970e78e"
   },
   "outputs": [
    {
     "data": {
      "application/vnd.jupyter.widget-view+json": {
       "model_id": "1cad6785875c4a8faf17284f552cea76",
       "version_major": 2,
       "version_minor": 0
      },
      "text/plain": [
       "  0%|          | 0/3 [00:00<?, ?it/s]"
      ]
     },
     "metadata": {},
     "output_type": "display_data"
    },
    {
     "name": "stderr",
     "output_type": "stream",
     "text": [
      "\n",
      "0it [00:00, ?it/s]\u001b[A\n",
      "Iteration 0 - Lambda: 0.15201357007026672, selected_count: 1160: : 0it [00:00, ?it/s]\u001b[A\n",
      "Iteration 1 - Lambda: 0.15505384147167206, selected_count: 1160: : 0it [00:00, ?it/s]\u001b[A\n",
      "Iteration 2 - Lambda: 0.1581549183011055, selected_count: 1160: : 0it [00:00, ?it/s] \u001b[A\n",
      "Iteration 2 - Lambda: 0.1581549183011055, selected_count: 1160: : 3it [00:00, 24.39it/s]\u001b[A\n",
      "Iteration 3 - Lambda: 0.1613180166671276, selected_count: 1160: : 3it [00:00, 24.39it/s]\u001b[A\n",
      "Iteration 4 - Lambda: 0.16454437700047017, selected_count: 1160: : 3it [00:00, 24.39it/s]\u001b[A\n",
      "Iteration 5 - Lambda: 0.1678352645404796, selected_count: 1160: : 3it [00:00, 24.39it/s] \u001b[A\n",
      "Iteration 5 - Lambda: 0.1678352645404796, selected_count: 1160: : 6it [00:00, 24.99it/s]\u001b[A\n",
      "Iteration 6 - Lambda: 0.17119196983128918, selected_count: 1160: : 6it [00:00, 24.99it/s]\u001b[A\n",
      "Iteration 7 - Lambda: 0.17461580922791498, selected_count: 1160: : 6it [00:00, 24.99it/s]\u001b[A\n",
      "Iteration 8 - Lambda: 0.17810812541247328, selected_count: 1160: : 6it [00:00, 24.99it/s]\u001b[A\n",
      "Iteration 8 - Lambda: 0.17810812541247328, selected_count: 1160: : 9it [00:00, 25.58it/s]\u001b[A\n",
      "Iteration 9 - Lambda: 0.18167028792072276, selected_count: 1160: : 9it [00:00, 25.58it/s]\u001b[A\n",
      "Iteration 10 - Lambda: 0.1853036936791372, selected_count: 1160: : 9it [00:00, 25.58it/s]\u001b[A\n",
      "Iteration 11 - Lambda: 0.18900976755271995, selected_count: 1160: : 9it [00:00, 25.58it/s]\u001b[A\n",
      "Iteration 11 - Lambda: 0.18900976755271995, selected_count: 1160: : 12it [00:00, 25.78it/s]\u001b[A\n",
      "Iteration 12 - Lambda: 0.19278996290377434, selected_count: 1160: : 12it [00:00, 25.78it/s]\u001b[A\n",
      "Iteration 13 - Lambda: 0.19664576216184984, selected_count: 1159: : 12it [00:00, 25.78it/s]\u001b[A\n",
      "Iteration 14 - Lambda: 0.20057867740508684, selected_count: 1159: : 12it [00:00, 25.78it/s]\u001b[A\n",
      "Iteration 14 - Lambda: 0.20057867740508684, selected_count: 1159: : 15it [00:00, 25.41it/s]\u001b[A\n",
      "Iteration 15 - Lambda: 0.20459025095318858, selected_count: 1159: : 15it [00:00, 25.41it/s]\u001b[A\n",
      "Iteration 16 - Lambda: 0.20868205597225237, selected_count: 1159: : 15it [00:00, 25.41it/s]\u001b[A\n",
      "Iteration 17 - Lambda: 0.2128556970916974, selected_count: 1159: : 15it [00:00, 25.41it/s] \u001b[A\n",
      "Iteration 17 - Lambda: 0.2128556970916974, selected_count: 1159: : 18it [00:00, 25.27it/s]\u001b[A\n",
      "Iteration 18 - Lambda: 0.21711281103353136, selected_count: 1158: : 18it [00:00, 25.27it/s]\u001b[A\n",
      "Iteration 19 - Lambda: 0.221455067254202, selected_count: 1158: : 18it [00:00, 25.27it/s]  \u001b[A\n",
      "Iteration 20 - Lambda: 0.22588416859928603, selected_count: 1158: : 18it [00:00, 25.27it/s]\u001b[A\n",
      "Iteration 20 - Lambda: 0.22588416859928603, selected_count: 1158: : 21it [00:00, 25.39it/s]\u001b[A\n",
      "Iteration 21 - Lambda: 0.23040185197127175, selected_count: 1158: : 21it [00:00, 25.39it/s]\u001b[A\n",
      "Iteration 22 - Lambda: 0.2350098890106972, selected_count: 1158: : 21it [00:00, 25.39it/s] \u001b[A\n",
      "Iteration 23 - Lambda: 0.23971008679091113, selected_count: 1158: : 21it [00:00, 25.39it/s]\u001b[A\n",
      "Iteration 23 - Lambda: 0.23971008679091113, selected_count: 1158: : 24it [00:00, 25.61it/s]\u001b[A\n",
      "Iteration 24 - Lambda: 0.24450428852672937, selected_count: 1158: : 24it [00:00, 25.61it/s]\u001b[A\n",
      "Iteration 25 - Lambda: 0.24939437429726397, selected_count: 1158: : 24it [00:00, 25.61it/s]\u001b[A\n",
      "Iteration 26 - Lambda: 0.2543822617832093, selected_count: 1158: : 24it [00:01, 25.61it/s] \u001b[A\n",
      "Iteration 26 - Lambda: 0.2543822617832093, selected_count: 1158: : 27it [00:01, 25.62it/s]\u001b[A\n",
      "Iteration 27 - Lambda: 0.25946990701887346, selected_count: 1158: : 27it [00:01, 25.62it/s]\u001b[A\n",
      "Iteration 28 - Lambda: 0.26465930515925096, selected_count: 1158: : 27it [00:01, 25.62it/s]\u001b[A\n",
      "Iteration 29 - Lambda: 0.269952491262436, selected_count: 1158: : 27it [00:01, 25.62it/s]  \u001b[A\n",
      "Iteration 29 - Lambda: 0.269952491262436, selected_count: 1158: : 30it [00:01, 25.23it/s]\u001b[A\n",
      "Iteration 30 - Lambda: 0.2753515410876847, selected_count: 1158: : 30it [00:01, 25.23it/s]\u001b[A\n",
      "Iteration 31 - Lambda: 0.2808585719094384, selected_count: 1157: : 30it [00:01, 25.23it/s]\u001b[A\n",
      "Iteration 32 - Lambda: 0.2864757433476272, selected_count: 1157: : 30it [00:01, 25.23it/s]\u001b[A\n",
      "Iteration 32 - Lambda: 0.2864757433476272, selected_count: 1157: : 33it [00:01, 25.03it/s]\u001b[A\n",
      "Iteration 33 - Lambda: 0.29220525821457977, selected_count: 1156: : 33it [00:01, 25.03it/s]\u001b[A\n",
      "Iteration 34 - Lambda: 0.2980493633788714, selected_count: 1156: : 33it [00:01, 25.03it/s] \u001b[A\n",
      "Iteration 35 - Lambda: 0.3040103506464488, selected_count: 1156: : 33it [00:01, 25.03it/s]\u001b[A\n",
      "Iteration 35 - Lambda: 0.3040103506464488, selected_count: 1156: : 36it [00:01, 24.71it/s]\u001b[A\n",
      "Iteration 36 - Lambda: 0.3100905576593778, selected_count: 1156: : 36it [00:01, 24.71it/s]\u001b[A\n",
      "Iteration 37 - Lambda: 0.3162923688125654, selected_count: 1155: : 36it [00:01, 24.71it/s]\u001b[A\n",
      "Iteration 38 - Lambda: 0.3226182161888167, selected_count: 1154: : 36it [00:01, 24.71it/s]\u001b[A\n",
      "Iteration 38 - Lambda: 0.3226182161888167, selected_count: 1154: : 39it [00:01, 24.31it/s]\u001b[A\n",
      "Iteration 39 - Lambda: 0.329070580512593, selected_count: 1154: : 39it [00:01, 24.31it/s] \u001b[A\n",
      "Iteration 40 - Lambda: 0.3356519921228449, selected_count: 1154: : 39it [00:01, 24.31it/s]\u001b[A\n",
      "Iteration 41 - Lambda: 0.3423650319653018, selected_count: 1154: : 39it [00:01, 24.31it/s]\u001b[A\n",
      "Iteration 41 - Lambda: 0.3423650319653018, selected_count: 1154: : 42it [00:01, 24.57it/s]\u001b[A\n",
      "Iteration 42 - Lambda: 0.3492123326046079, selected_count: 1153: : 42it [00:01, 24.57it/s]\u001b[A\n",
      "Iteration 43 - Lambda: 0.35619657925670006, selected_count: 1153: : 42it [00:01, 24.57it/s]\u001b[A\n",
      "Iteration 44 - Lambda: 0.3633205108418341, selected_count: 1152: : 42it [00:01, 24.57it/s] \u001b[A\n",
      "Iteration 44 - Lambda: 0.3633205108418341, selected_count: 1152: : 45it [00:01, 24.70it/s]\u001b[A\n",
      "Iteration 45 - Lambda: 0.37058692105867075, selected_count: 1152: : 45it [00:01, 24.70it/s]\u001b[A\n",
      "Iteration 46 - Lambda: 0.3779986594798442, selected_count: 1151: : 45it [00:01, 24.70it/s] \u001b[A\n",
      "Iteration 47 - Lambda: 0.38555863266944107, selected_count: 1151: : 45it [00:01, 24.70it/s]\u001b[A\n",
      "Iteration 47 - Lambda: 0.38555863266944107, selected_count: 1151: : 48it [00:01, 24.91it/s]\u001b[A\n",
      "Iteration 48 - Lambda: 0.3932698053228299, selected_count: 1150: : 48it [00:01, 24.91it/s] \u001b[A\n",
      "Iteration 49 - Lambda: 0.4011352014292865, selected_count: 1150: : 48it [00:01, 24.91it/s]\u001b[A\n",
      "Iteration 50 - Lambda: 0.40915790545787223, selected_count: 1150: : 48it [00:01, 24.91it/s]\u001b[A\n",
      "Iteration 50 - Lambda: 0.40915790545787223, selected_count: 1150: : 51it [00:02, 25.06it/s]\u001b[A\n",
      "Iteration 51 - Lambda: 0.41734106356702966, selected_count: 1150: : 51it [00:02, 25.06it/s]\u001b[A\n",
      "Iteration 52 - Lambda: 0.4256878848383703, selected_count: 1149: : 51it [00:02, 25.06it/s] \u001b[A\n",
      "Iteration 53 - Lambda: 0.4342016425351377, selected_count: 1149: : 51it [00:02, 25.06it/s]\u001b[A\n",
      "Iteration 53 - Lambda: 0.4342016425351377, selected_count: 1149: : 54it [00:02, 25.05it/s]\u001b[A\n",
      "Iteration 54 - Lambda: 0.44288567538584045, selected_count: 1148: : 54it [00:02, 25.05it/s]\u001b[A\n",
      "Iteration 55 - Lambda: 0.45174338889355725, selected_count: 1147: : 54it [00:02, 25.05it/s]\u001b[A\n",
      "Iteration 56 - Lambda: 0.4607782566714284, selected_count: 1146: : 54it [00:02, 25.05it/s] \u001b[A\n",
      "Iteration 56 - Lambda: 0.4607782566714284, selected_count: 1146: : 57it [00:02, 24.66it/s]\u001b[A\n",
      "Iteration 57 - Lambda: 0.469993821804857, selected_count: 1144: : 57it [00:02, 24.66it/s] \u001b[A\n",
      "Iteration 58 - Lambda: 0.4793936982409541, selected_count: 1144: : 57it [00:02, 24.66it/s]\u001b[A\n",
      "Iteration 59 - Lambda: 0.4889815722057732, selected_count: 1142: : 57it [00:02, 24.66it/s]\u001b[A\n",
      "Iteration 59 - Lambda: 0.4889815722057732, selected_count: 1142: : 60it [00:02, 24.40it/s]\u001b[A\n",
      "Iteration 60 - Lambda: 0.4987612036498887, selected_count: 1142: : 60it [00:02, 24.40it/s]\u001b[A\n",
      "Iteration 61 - Lambda: 0.5087364277228865, selected_count: 1141: : 60it [00:02, 24.40it/s]\u001b[A\n",
      "Iteration 62 - Lambda: 0.5189111562773443, selected_count: 1139: : 60it [00:02, 24.40it/s]\u001b[A\n",
      "Iteration 62 - Lambda: 0.5189111562773443, selected_count: 1139: : 63it [00:02, 24.34it/s]\u001b[A\n",
      "Iteration 63 - Lambda: 0.5292893794028912, selected_count: 1139: : 63it [00:02, 24.34it/s]\u001b[A\n",
      "Iteration 64 - Lambda: 0.5398751669909491, selected_count: 1139: : 63it [00:02, 24.34it/s]\u001b[A\n",
      "Iteration 65 - Lambda: 0.550672670330768, selected_count: 1126: : 63it [00:02, 24.34it/s] \u001b[A\n",
      "Iteration 65 - Lambda: 0.550672670330768, selected_count: 1126: : 66it [00:03,  9.76it/s]\u001b[A\n",
      "Iteration 66 - Lambda: 0.5616861237373835, selected_count: 1110: : 66it [00:03,  9.76it/s]\u001b[A\n",
      "Iteration 67 - Lambda: 0.5729198462121311, selected_count: 1089: : 66it [00:03,  9.76it/s]\u001b[A\n",
      "Iteration 67 - Lambda: 0.5729198462121311, selected_count: 1089: : 68it [00:04,  5.95it/s]\u001b[A\n",
      "Iteration 68 - Lambda: 0.5843782431363738, selected_count: 1062: : 68it [00:04,  5.95it/s]\u001b[A\n",
      "Iteration 69 - Lambda: 0.5960658079991012, selected_count: 1025: : 68it [00:04,  5.95it/s]\u001b[A\n",
      "Iteration 69 - Lambda: 0.5960658079991012, selected_count: 1025: : 70it [00:04,  4.73it/s]\u001b[A\n",
      "Iteration 70 - Lambda: 0.6079871241590833, selected_count: 994: : 70it [00:04,  4.73it/s] \u001b[A\n",
      "Iteration 71 - Lambda: 0.6201468666422649, selected_count: 954: : 70it [00:05,  4.73it/s]\u001b[A\n",
      "Iteration 71 - Lambda: 0.6201468666422649, selected_count: 954: : 72it [00:05,  4.02it/s]\u001b[A\n",
      "Iteration 72 - Lambda: 0.6325498039751102, selected_count: 913: : 72it [00:05,  4.02it/s]\u001b[A\n",
      "Iteration 72 - Lambda: 0.6325498039751102, selected_count: 913: : 73it [00:05,  3.80it/s]\u001b[A\n",
      "Iteration 73 - Lambda: 0.6452008000546124, selected_count: 871: : 73it [00:05,  3.80it/s]\u001b[A\n",
      "Iteration 73 - Lambda: 0.6452008000546124, selected_count: 871: : 74it [00:06,  3.60it/s]\u001b[A\n",
      "Iteration 74 - Lambda: 0.6581048160557047, selected_count: 825: : 74it [00:06,  3.60it/s]\u001b[A\n",
      "Iteration 74 - Lambda: 0.6581048160557047, selected_count: 825: : 75it [00:06,  3.45it/s]\u001b[A\n",
      "Iteration 75 - Lambda: 0.6712669123768188, selected_count: 765: : 75it [00:06,  3.45it/s]\u001b[A\n",
      "Iteration 75 - Lambda: 0.6712669123768188, selected_count: 765: : 76it [00:06,  3.33it/s]\u001b[A\n",
      "Iteration 76 - Lambda: 0.6846922506243551, selected_count: 706: : 76it [00:06,  3.33it/s]\u001b[A\n",
      "Iteration 76 - Lambda: 0.6846922506243551, selected_count: 706: : 77it [00:07,  3.22it/s]\u001b[A\n",
      "Iteration 77 - Lambda: 0.6983860956368423, selected_count: 659: : 77it [00:07,  3.22it/s]\u001b[A\n",
      "Iteration 77 - Lambda: 0.6983860956368423, selected_count: 659: : 78it [00:07,  3.13it/s]\u001b[A\n",
      "Iteration 78 - Lambda: 0.7123538175495792, selected_count: 597: : 78it [00:07,  3.13it/s]\u001b[A\n",
      "Iteration 78 - Lambda: 0.7123538175495792, selected_count: 597: : 79it [00:07,  3.05it/s]\u001b[A\n",
      "Iteration 79 - Lambda: 0.7266008939005708, selected_count: 532: : 79it [00:07,  3.05it/s]\u001b[A\n",
      "Iteration 79 - Lambda: 0.7266008939005708, selected_count: 532: : 80it [00:08,  3.01it/s]\u001b[A\n",
      "Iteration 80 - Lambda: 0.7411329117785822, selected_count: 455: : 80it [00:08,  3.01it/s]\u001b[A\n",
      "Iteration 80 - Lambda: 0.7411329117785822, selected_count: 455: : 81it [00:08,  2.96it/s]\u001b[A\n",
      "Iteration 81 - Lambda: 0.7559555700141538, selected_count: 392: : 81it [00:08,  2.96it/s]\u001b[A\n",
      "Iteration 82 - Lambda: 0.7710746814144369, selected_count: 384: : 81it [00:08,  2.96it/s]\u001b[A\n",
      "Iteration 82 - Lambda: 0.7710746814144369, selected_count: 384: : 83it [00:08,  4.67it/s]\u001b[A\n",
      "Iteration 83 - Lambda: 0.7864961750427256, selected_count: 374: : 83it [00:08,  4.67it/s]\u001b[A\n",
      "Iteration 84 - Lambda: 0.8022260985435802, selected_count: 367: : 83it [00:08,  4.67it/s]\u001b[A\n",
      "Iteration 85 - Lambda: 0.8182706205144518, selected_count: 365: : 83it [00:08,  4.67it/s]\u001b[A\n",
      "Iteration 85 - Lambda: 0.8182706205144518, selected_count: 365: : 86it [00:08,  7.79it/s]\u001b[A\n",
      "Iteration 86 - Lambda: 0.8346360329247409, selected_count: 360: : 86it [00:08,  7.79it/s]\u001b[A\n",
      "Iteration 87 - Lambda: 0.8513287535832357, selected_count: 355: : 86it [00:08,  7.79it/s]\u001b[A\n",
      "Iteration 88 - Lambda: 0.8683553286549004, selected_count: 346: : 86it [00:08,  7.79it/s]\u001b[A\n",
      "Iteration 88 - Lambda: 0.8683553286549004, selected_count: 346: : 89it [00:08, 10.87it/s]\u001b[A\n",
      "Iteration 89 - Lambda: 0.8857224352279984, selected_count: 337: : 89it [00:08, 10.87it/s]\u001b[A\n",
      "Iteration 90 - Lambda: 0.9034368839325584, selected_count: 328: : 89it [00:08, 10.87it/s]\u001b[A\n",
      "Iteration 91 - Lambda: 0.9215056216112095, selected_count: 315: : 89it [00:09, 10.87it/s]\u001b[A\n",
      "Iteration 91 - Lambda: 0.9215056216112095, selected_count: 315: : 92it [00:09, 13.59it/s]\u001b[A\n",
      "Iteration 92 - Lambda: 0.9399357340434338, selected_count: 309: : 92it [00:09, 13.59it/s]\u001b[A\n",
      "Iteration 93 - Lambda: 0.9587344487243025, selected_count: 303: : 92it [00:09, 13.59it/s]\u001b[A\n",
      "Iteration 94 - Lambda: 0.9779091376987885, selected_count: 291: : 92it [00:09, 13.59it/s]\u001b[A\n",
      "Iteration 94 - Lambda: 0.9779091376987885, selected_count: 291: : 95it [00:09, 16.07it/s]\u001b[A\n",
      "Iteration 95 - Lambda: 0.9974673204527643, selected_count: 281: : 95it [00:09, 16.07it/s]\u001b[A\n",
      "Iteration 96 - Lambda: 1.0174166668618196, selected_count: 273: : 95it [00:09, 16.07it/s]\u001b[A\n",
      "Iteration 97 - Lambda: 1.0377650001990562, selected_count: 265: : 95it [00:09, 16.07it/s]\u001b[A\n",
      "Iteration 97 - Lambda: 1.0377650001990562, selected_count: 265: : 98it [00:09, 18.19it/s]\u001b[A\n",
      "Iteration 98 - Lambda: 1.0585203002030372, selected_count: 253: : 98it [00:09, 18.19it/s]\u001b[A\n",
      "Iteration 99 - Lambda: 1.079690706207098, selected_count: 249: : 98it [00:09, 18.19it/s] \u001b[A\n",
      "Iteration 100 - Lambda: 1.10128452033124, selected_count: 243: : 98it [00:09, 18.19it/s]\u001b[A\n",
      "Iteration 100 - Lambda: 1.10128452033124, selected_count: 243: : 101it [00:09, 20.06it/s]\u001b[A\n",
      "Iteration 101 - Lambda: 1.1233102107378647, selected_count: 231: : 101it [00:09, 20.06it/s]\u001b[A\n",
      "Iteration 102 - Lambda: 1.1457764149526222, selected_count: 227: : 101it [00:09, 20.06it/s]\u001b[A\n",
      "Iteration 103 - Lambda: 1.1686919432516747, selected_count: 219: : 101it [00:09, 20.06it/s]\u001b[A\n",
      "Iteration 103 - Lambda: 1.1686919432516747, selected_count: 219: : 104it [00:09, 21.53it/s]\u001b[A\n",
      "Iteration 104 - Lambda: 1.1920657821167082, selected_count: 213: : 104it [00:09, 21.53it/s]\u001b[A\n",
      "Iteration 105 - Lambda: 1.2159070977590425, selected_count: 200: : 104it [00:09, 21.53it/s]\u001b[A\n",
      "Iteration 106 - Lambda: 1.2402252397142233, selected_count: 195: : 104it [00:09, 21.53it/s]\u001b[A\n",
      "Iteration 106 - Lambda: 1.2402252397142233, selected_count: 195: : 107it [00:09, 22.19it/s]\u001b[A\n",
      "Iteration 107 - Lambda: 1.2650297445085077, selected_count: 185: : 107it [00:09, 22.19it/s]\u001b[A\n",
      "Iteration 108 - Lambda: 1.2903303393986778, selected_count: 176: : 107it [00:09, 22.19it/s]\u001b[A\n",
      "Iteration 109 - Lambda: 1.3161369461866514, selected_count: 166: : 107it [00:09, 22.19it/s]\u001b[A\n",
      "Iteration 109 - Lambda: 1.3161369461866514, selected_count: 166: : 110it [00:09, 23.04it/s]\u001b[A\n",
      "Iteration 110 - Lambda: 1.3424596851103845, selected_count: 161: : 110it [00:09, 23.04it/s]\u001b[A\n",
      "Iteration 111 - Lambda: 1.3693088788125922, selected_count: 152: : 110it [00:09, 23.04it/s]\u001b[A\n",
      "Iteration 112 - Lambda: 1.396695056388844, selected_count: 142: : 110it [00:09, 23.04it/s] \u001b[A\n",
      "Iteration 112 - Lambda: 1.396695056388844, selected_count: 142: : 113it [00:09, 23.83it/s]\u001b[A\n",
      "Iteration 113 - Lambda: 1.4246289575166209, selected_count: 136: : 113it [00:09, 23.83it/s]\u001b[A\n",
      "Iteration 114 - Lambda: 1.4531215366669534, selected_count: 126: : 113it [00:09, 23.83it/s]\u001b[A\n",
      "Iteration 115 - Lambda: 1.4821839674002926, selected_count: 123: : 113it [00:09, 23.83it/s]\u001b[A\n",
      "Iteration 115 - Lambda: 1.4821839674002926, selected_count: 123: : 116it [00:10, 24.26it/s]\u001b[A\n",
      "Iteration 116 - Lambda: 1.5118276467482985, selected_count: 114: : 116it [00:10, 24.26it/s]\u001b[A\n",
      "Iteration 117 - Lambda: 1.5420641996832645, selected_count: 101: : 116it [00:10, 24.26it/s]\u001b[A\n",
      "Iteration 118 - Lambda: 1.5729054836769298, selected_count: 91: : 116it [00:10, 24.26it/s] \u001b[A\n",
      "Iteration 118 - Lambda: 1.5729054836769298, selected_count: 91: : 119it [00:10, 24.07it/s]\u001b[A\n",
      "Iteration 119 - Lambda: 1.6043635933504685, selected_count: 80: : 119it [00:10, 24.07it/s]\u001b[A\n",
      "Iteration 120 - Lambda: 1.6364508652174778, selected_count: 75: : 119it [00:10, 24.07it/s]\u001b[A\n",
      "Iteration 121 - Lambda: 1.6691798825218274, selected_count: 68: : 119it [00:10, 24.07it/s]\u001b[A\n",
      "Iteration 121 - Lambda: 1.6691798825218274, selected_count: 68: : 122it [00:10, 24.22it/s]\u001b[A\n",
      "Iteration 122 - Lambda: 1.702563480172264, selected_count: 62: : 122it [00:10, 24.22it/s] \u001b[A\n",
      "Iteration 123 - Lambda: 1.7366147497757094, selected_count: 59: : 122it [00:10, 24.22it/s]\u001b[A\n",
      "Iteration 124 - Lambda: 1.7713470447712236, selected_count: 48: : 122it [00:10, 24.22it/s]\u001b[A\n",
      "Iteration 124 - Lambda: 1.7713470447712236, selected_count: 48: : 125it [00:10, 24.33it/s]\u001b[A\n",
      "Iteration 125 - Lambda: 1.806773985666648, selected_count: 42: : 125it [00:10, 24.33it/s] \u001b[A\n",
      "Iteration 126 - Lambda: 1.8429094653799811, selected_count: 35: : 125it [00:10, 24.33it/s]\u001b[A\n",
      "Iteration 127 - Lambda: 1.8797676546875808, selected_count: 29: : 125it [00:10, 24.33it/s]\u001b[A\n",
      "Iteration 127 - Lambda: 1.8797676546875808, selected_count: 29: : 128it [00:10, 24.53it/s]\u001b[A\n",
      "Iteration 128 - Lambda: 1.9173630077813324, selected_count: 21: : 128it [00:10, 24.53it/s]\u001b[A\n",
      "Iteration 129 - Lambda: 1.9557102679369591, selected_count: 20: : 128it [00:10, 24.53it/s]\u001b[A\n",
      "Iteration 130 - Lambda: 1.9948244732956983, selected_count: 16: : 128it [00:10, 24.53it/s]\u001b[A\n",
      "Iteration 130 - Lambda: 1.9948244732956983, selected_count: 16: : 131it [00:10, 24.98it/s]\u001b[A\n",
      "Iteration 131 - Lambda: 2.0347209627616123, selected_count: 14: : 131it [00:10, 24.98it/s]\u001b[A\n",
      "Iteration 132 - Lambda: 2.0754153820168444, selected_count: 11: : 131it [00:10, 24.98it/s]\u001b[A\n",
      "Iteration 133 - Lambda: 2.1169236896571815, selected_count: 9: : 131it [00:10, 24.98it/s] \u001b[A\n",
      "Iteration 133 - Lambda: 2.1169236896571815, selected_count: 9: : 134it [00:10, 24.89it/s]\u001b[A\n",
      "Iteration 134 - Lambda: 2.1592621634503253, selected_count: 8: : 134it [00:10, 24.89it/s]\u001b[A\n",
      "Iteration 135 - Lambda: 2.202447406719332, selected_count: 5: : 134it [00:10, 24.89it/s] \u001b[A\n",
      "Iteration 136 - Lambda: 2.2464963548537185, selected_count: 3: : 134it [00:10, 24.89it/s]\u001b[A\n",
      "Iteration 136 - Lambda: 2.2464963548537185, selected_count: 3: : 137it [00:10, 25.05it/s]\u001b[A\n",
      "Iteration 137 - Lambda: 2.291426281950793, selected_count: 3: : 137it [00:10, 25.05it/s] \u001b[A\n",
      "Iteration 138 - Lambda: 2.337254807589809, selected_count: 0: : 138it [00:10, 12.67it/s]\u001b[A\n",
      "\n",
      "0it [00:00, ?it/s]\u001b[A\n",
      "Iteration 0 - Lambda: 0.06748050451278687, selected_count: 1160: : 0it [00:00, ?it/s]\u001b[A\n",
      "Iteration 1 - Lambda: 0.0688301146030426, selected_count: 1160: : 0it [00:00, ?it/s] \u001b[A\n",
      "Iteration 2 - Lambda: 0.07020671689510345, selected_count: 1160: : 0it [00:00, ?it/s]\u001b[A\n",
      "Iteration 2 - Lambda: 0.07020671689510345, selected_count: 1160: : 3it [00:00, 25.42it/s]\u001b[A\n",
      "Iteration 3 - Lambda: 0.07161085123300552, selected_count: 1160: : 3it [00:00, 25.42it/s]\u001b[A\n",
      "Iteration 4 - Lambda: 0.07304306825766563, selected_count: 1160: : 3it [00:00, 25.42it/s]\u001b[A\n",
      "Iteration 5 - Lambda: 0.07450392962281895, selected_count: 1160: : 3it [00:00, 25.42it/s]\u001b[A\n",
      "Iteration 5 - Lambda: 0.07450392962281895, selected_count: 1160: : 6it [00:00, 25.17it/s]\u001b[A\n",
      "Iteration 6 - Lambda: 0.07599400821527533, selected_count: 1160: : 6it [00:00, 25.17it/s]\u001b[A\n",
      "Iteration 7 - Lambda: 0.07751388837958083, selected_count: 1160: : 6it [00:00, 25.17it/s]\u001b[A\n",
      "Iteration 8 - Lambda: 0.07906416614717245, selected_count: 1160: : 6it [00:00, 25.17it/s]\u001b[A\n",
      "Iteration 8 - Lambda: 0.07906416614717245, selected_count: 1160: : 9it [00:00, 24.62it/s]\u001b[A\n",
      "Iteration 9 - Lambda: 0.0806454494701159, selected_count: 1160: : 9it [00:00, 24.62it/s] \u001b[A\n",
      "Iteration 10 - Lambda: 0.08225835845951822, selected_count: 1160: : 9it [00:00, 24.62it/s]\u001b[A\n",
      "Iteration 11 - Lambda: 0.08390352562870858, selected_count: 1160: : 9it [00:00, 24.62it/s]\u001b[A\n",
      "Iteration 11 - Lambda: 0.08390352562870858, selected_count: 1160: : 12it [00:00, 25.02it/s]\u001b[A\n",
      "Iteration 12 - Lambda: 0.08558159614128275, selected_count: 1160: : 12it [00:00, 25.02it/s]\u001b[A\n",
      "Iteration 13 - Lambda: 0.0872932280641084, selected_count: 1160: : 12it [00:00, 25.02it/s] \u001b[A\n",
      "Iteration 14 - Lambda: 0.08903909262539057, selected_count: 1160: : 12it [00:00, 25.02it/s]\u001b[A\n",
      "Iteration 14 - Lambda: 0.08903909262539057, selected_count: 1160: : 15it [00:00, 25.24it/s]\u001b[A\n",
      "Iteration 15 - Lambda: 0.09081987447789838, selected_count: 1160: : 15it [00:00, 25.24it/s]\u001b[A\n",
      "Iteration 16 - Lambda: 0.09263627196745636, selected_count: 1160: : 15it [00:00, 25.24it/s]\u001b[A\n",
      "Iteration 17 - Lambda: 0.09448899740680548, selected_count: 1160: : 15it [00:00, 25.24it/s]\u001b[A\n",
      "Iteration 17 - Lambda: 0.09448899740680548, selected_count: 1160: : 18it [00:00, 25.37it/s]\u001b[A\n",
      "Iteration 18 - Lambda: 0.09637877735494159, selected_count: 1160: : 18it [00:00, 25.37it/s]\u001b[A\n",
      "Iteration 19 - Lambda: 0.09830635290204043, selected_count: 1160: : 18it [00:00, 25.37it/s]\u001b[A\n",
      "Iteration 20 - Lambda: 0.10027247996008123, selected_count: 1160: : 18it [00:00, 25.37it/s]\u001b[A\n",
      "Iteration 20 - Lambda: 0.10027247996008123, selected_count: 1160: : 21it [00:00, 25.39it/s]\u001b[A\n",
      "Iteration 21 - Lambda: 0.10227792955928286, selected_count: 1160: : 21it [00:00, 25.39it/s]\u001b[A\n",
      "Iteration 22 - Lambda: 0.10432348815046852, selected_count: 1160: : 21it [00:00, 25.39it/s]\u001b[A\n",
      "Iteration 23 - Lambda: 0.10640995791347789, selected_count: 1160: : 21it [00:00, 25.39it/s]\u001b[A\n",
      "Iteration 23 - Lambda: 0.10640995791347789, selected_count: 1160: : 24it [00:00, 25.61it/s]\u001b[A\n",
      "Iteration 24 - Lambda: 0.10853815707174745, selected_count: 1160: : 24it [00:00, 25.61it/s]\u001b[A\n",
      "Iteration 25 - Lambda: 0.1107089202131824, selected_count: 1160: : 24it [00:00, 25.61it/s] \u001b[A\n",
      "Iteration 26 - Lambda: 0.11292309861744605, selected_count: 1160: : 24it [00:01, 25.61it/s]\u001b[A\n",
      "Iteration 26 - Lambda: 0.11292309861744605, selected_count: 1160: : 27it [00:01, 25.76it/s]\u001b[A\n",
      "Iteration 27 - Lambda: 0.11518156058979498, selected_count: 1160: : 27it [00:01, 25.76it/s]\u001b[A\n",
      "Iteration 28 - Lambda: 0.11748519180159088, selected_count: 1160: : 27it [00:01, 25.76it/s]\u001b[A\n",
      "Iteration 29 - Lambda: 0.1198348956376227, selected_count: 1160: : 27it [00:01, 25.76it/s] \u001b[A\n",
      "Iteration 29 - Lambda: 0.1198348956376227, selected_count: 1160: : 30it [00:01, 25.58it/s]\u001b[A\n",
      "Iteration 30 - Lambda: 0.12223159355037516, selected_count: 1160: : 30it [00:01, 25.58it/s]\u001b[A\n",
      "Iteration 31 - Lambda: 0.12467622542138267, selected_count: 1160: : 30it [00:01, 25.58it/s]\u001b[A\n",
      "Iteration 32 - Lambda: 0.1271697499298103, selected_count: 1160: : 30it [00:01, 25.58it/s] \u001b[A\n",
      "Iteration 32 - Lambda: 0.1271697499298103, selected_count: 1160: : 33it [00:01, 25.74it/s]\u001b[A\n",
      "Iteration 33 - Lambda: 0.12971314492840652, selected_count: 1160: : 33it [00:01, 25.74it/s]\u001b[A\n",
      "Iteration 34 - Lambda: 0.13230740782697464, selected_count: 1160: : 33it [00:01, 25.74it/s]\u001b[A\n",
      "Iteration 35 - Lambda: 0.13495355598351413, selected_count: 1160: : 33it [00:01, 25.74it/s]\u001b[A\n",
      "Iteration 35 - Lambda: 0.13495355598351413, selected_count: 1160: : 36it [00:01, 25.38it/s]\u001b[A\n",
      "Iteration 36 - Lambda: 0.13765262710318443, selected_count: 1160: : 36it [00:01, 25.38it/s]\u001b[A\n",
      "Iteration 37 - Lambda: 0.1404056796452481, selected_count: 1160: : 36it [00:01, 25.38it/s] \u001b[A\n",
      "Iteration 38 - Lambda: 0.1432137932381531, selected_count: 1160: : 36it [00:01, 25.38it/s]\u001b[A\n",
      "Iteration 38 - Lambda: 0.1432137932381531, selected_count: 1160: : 39it [00:01, 25.13it/s]\u001b[A\n",
      "Iteration 39 - Lambda: 0.14607806910291615, selected_count: 1160: : 39it [00:01, 25.13it/s]\u001b[A\n",
      "Iteration 40 - Lambda: 0.14899963048497447, selected_count: 1160: : 39it [00:01, 25.13it/s]\u001b[A\n",
      "Iteration 41 - Lambda: 0.15197962309467397, selected_count: 1160: : 39it [00:01, 25.13it/s]\u001b[A\n",
      "Iteration 41 - Lambda: 0.15197962309467397, selected_count: 1160: : 42it [00:01, 25.35it/s]\u001b[A\n",
      "Iteration 42 - Lambda: 0.15501921555656745, selected_count: 1160: : 42it [00:01, 25.35it/s]\u001b[A\n",
      "Iteration 43 - Lambda: 0.1581195998676988, selected_count: 1160: : 42it [00:01, 25.35it/s] \u001b[A\n",
      "Iteration 44 - Lambda: 0.1612819918650528, selected_count: 1160: : 42it [00:01, 25.35it/s]\u001b[A\n",
      "Iteration 44 - Lambda: 0.1612819918650528, selected_count: 1160: : 45it [00:01, 25.44it/s]\u001b[A\n",
      "Iteration 45 - Lambda: 0.16450763170235386, selected_count: 1160: : 45it [00:01, 25.44it/s]\u001b[A\n",
      "Iteration 46 - Lambda: 0.16779778433640094, selected_count: 1160: : 45it [00:01, 25.44it/s]\u001b[A\n",
      "Iteration 47 - Lambda: 0.17115374002312897, selected_count: 1159: : 45it [00:01, 25.44it/s]\u001b[A\n",
      "Iteration 47 - Lambda: 0.17115374002312897, selected_count: 1159: : 48it [00:01, 25.58it/s]\u001b[A\n",
      "Iteration 48 - Lambda: 0.17457681482359155, selected_count: 1159: : 48it [00:01, 25.58it/s]\u001b[A\n",
      "Iteration 49 - Lambda: 0.1780683511200634, selected_count: 1159: : 48it [00:01, 25.58it/s] \u001b[A\n",
      "Iteration 50 - Lambda: 0.18162971814246465, selected_count: 1159: : 48it [00:01, 25.58it/s]\u001b[A\n",
      "Iteration 50 - Lambda: 0.18162971814246465, selected_count: 1159: : 51it [00:02, 25.34it/s]\u001b[A\n",
      "Iteration 51 - Lambda: 0.18526231250531394, selected_count: 1159: : 51it [00:02, 25.34it/s]\u001b[A\n",
      "Iteration 52 - Lambda: 0.18896755875542023, selected_count: 1159: : 51it [00:02, 25.34it/s]\u001b[A\n",
      "Iteration 53 - Lambda: 0.19274690993052865, selected_count: 1159: : 51it [00:02, 25.34it/s]\u001b[A\n",
      "Iteration 53 - Lambda: 0.19274690993052865, selected_count: 1159: : 54it [00:02, 25.05it/s]\u001b[A\n",
      "Iteration 54 - Lambda: 0.19660184812913922, selected_count: 1159: : 54it [00:02, 25.05it/s]\u001b[A\n",
      "Iteration 55 - Lambda: 0.20053388509172201, selected_count: 1158: : 54it [00:02, 25.05it/s]\u001b[A\n",
      "Iteration 56 - Lambda: 0.20454456279355646, selected_count: 1158: : 54it [00:02, 25.05it/s]\u001b[A\n",
      "Iteration 56 - Lambda: 0.20454456279355646, selected_count: 1158: : 57it [00:02, 25.09it/s]\u001b[A\n",
      "Iteration 57 - Lambda: 0.2086354540494276, selected_count: 1158: : 57it [00:02, 25.09it/s] \u001b[A\n",
      "Iteration 58 - Lambda: 0.21280816313041614, selected_count: 1158: : 57it [00:02, 25.09it/s]\u001b[A\n",
      "Iteration 59 - Lambda: 0.21706432639302448, selected_count: 1158: : 57it [00:02, 25.09it/s]\u001b[A\n",
      "Iteration 59 - Lambda: 0.21706432639302448, selected_count: 1158: : 60it [00:02, 25.26it/s]\u001b[A\n",
      "Iteration 60 - Lambda: 0.22140561292088498, selected_count: 1158: : 60it [00:02, 25.26it/s]\u001b[A\n",
      "Iteration 61 - Lambda: 0.2258337251793027, selected_count: 1158: : 60it [00:02, 25.26it/s] \u001b[A\n",
      "Iteration 62 - Lambda: 0.23035039968288876, selected_count: 1158: : 60it [00:02, 25.26it/s]\u001b[A\n",
      "Iteration 62 - Lambda: 0.23035039968288876, selected_count: 1158: : 63it [00:02, 25.13it/s]\u001b[A\n",
      "Iteration 63 - Lambda: 0.23495740767654655, selected_count: 1158: : 63it [00:02, 25.13it/s]\u001b[A\n",
      "Iteration 64 - Lambda: 0.23965655583007747, selected_count: 1158: : 63it [00:02, 25.13it/s]\u001b[A\n",
      "Iteration 65 - Lambda: 0.244449686946679, selected_count: 1158: : 63it [00:02, 25.13it/s]  \u001b[A\n",
      "Iteration 65 - Lambda: 0.244449686946679, selected_count: 1158: : 66it [00:02, 25.22it/s]\u001b[A\n",
      "Iteration 66 - Lambda: 0.2493386806856126, selected_count: 1157: : 66it [00:02, 25.22it/s]\u001b[A\n",
      "Iteration 67 - Lambda: 0.25432545429932485, selected_count: 1156: : 66it [00:02, 25.22it/s]\u001b[A\n",
      "Iteration 68 - Lambda: 0.25941196338531136, selected_count: 1155: : 66it [00:02, 25.22it/s]\u001b[A\n",
      "Iteration 68 - Lambda: 0.25941196338531136, selected_count: 1155: : 69it [00:02, 24.96it/s]\u001b[A\n",
      "Iteration 69 - Lambda: 0.2646002026530176, selected_count: 1155: : 69it [00:02, 24.96it/s] \u001b[A\n",
      "Iteration 70 - Lambda: 0.26989220670607794, selected_count: 1155: : 69it [00:02, 24.96it/s]\u001b[A\n",
      "Iteration 71 - Lambda: 0.27529005084019953, selected_count: 1155: : 69it [00:02, 24.96it/s]\u001b[A\n",
      "Iteration 71 - Lambda: 0.27529005084019953, selected_count: 1155: : 72it [00:02, 25.10it/s]\u001b[A\n",
      "Iteration 72 - Lambda: 0.2807958518570035, selected_count: 1155: : 72it [00:02, 25.10it/s] \u001b[A\n",
      "Iteration 73 - Lambda: 0.2864117688941436, selected_count: 1155: : 72it [00:02, 25.10it/s]\u001b[A\n",
      "Iteration 74 - Lambda: 0.29214000427202647, selected_count: 1154: : 72it [00:02, 25.10it/s]\u001b[A\n",
      "Iteration 74 - Lambda: 0.29214000427202647, selected_count: 1154: : 75it [00:02, 25.23it/s]\u001b[A\n",
      "Iteration 75 - Lambda: 0.297982804357467, selected_count: 1154: : 75it [00:02, 25.23it/s]  \u001b[A\n",
      "Iteration 76 - Lambda: 0.3039424604446163, selected_count: 1153: : 75it [00:03, 25.23it/s]\u001b[A\n",
      "Iteration 77 - Lambda: 0.31002130965350866, selected_count: 1153: : 75it [00:03, 25.23it/s]\u001b[A\n",
      "Iteration 77 - Lambda: 0.31002130965350866, selected_count: 1153: : 78it [00:03, 25.35it/s]\u001b[A\n",
      "Iteration 78 - Lambda: 0.3162217358465788, selected_count: 1153: : 78it [00:03, 25.35it/s] \u001b[A\n",
      "Iteration 79 - Lambda: 0.32254617056351037, selected_count: 1153: : 78it [00:03, 25.35it/s]\u001b[A\n",
      "Iteration 80 - Lambda: 0.3289970939747806, selected_count: 1152: : 78it [00:03, 25.35it/s] \u001b[A\n",
      "Iteration 80 - Lambda: 0.3289970939747806, selected_count: 1152: : 81it [00:03, 25.28it/s]\u001b[A\n",
      "Iteration 81 - Lambda: 0.33557703585427623, selected_count: 1151: : 81it [00:03, 25.28it/s]\u001b[A\n",
      "Iteration 82 - Lambda: 0.34228857657136175, selected_count: 1151: : 81it [00:03, 25.28it/s]\u001b[A\n",
      "Iteration 83 - Lambda: 0.349134348102789, selected_count: 1150: : 81it [00:03, 25.28it/s]  \u001b[A\n",
      "Iteration 83 - Lambda: 0.349134348102789, selected_count: 1150: : 84it [00:03, 25.46it/s]\u001b[A\n",
      "Iteration 84 - Lambda: 0.35611703506484477, selected_count: 1150: : 84it [00:03, 25.46it/s]\u001b[A\n",
      "Iteration 85 - Lambda: 0.3632393757661417, selected_count: 1150: : 84it [00:03, 25.46it/s] \u001b[A\n",
      "Iteration 86 - Lambda: 0.3705041632814645, selected_count: 1150: : 84it [00:03, 25.46it/s]\u001b[A\n",
      "Iteration 86 - Lambda: 0.3705041632814645, selected_count: 1150: : 87it [00:03, 25.42it/s]\u001b[A\n",
      "Iteration 87 - Lambda: 0.3779142465470938, selected_count: 1150: : 87it [00:03, 25.42it/s]\u001b[A\n",
      "Iteration 88 - Lambda: 0.38547253147803573, selected_count: 1150: : 87it [00:03, 25.42it/s]\u001b[A\n",
      "Iteration 89 - Lambda: 0.3931819821075965, selected_count: 1149: : 87it [00:03, 25.42it/s] \u001b[A\n",
      "Iteration 89 - Lambda: 0.3931819821075965, selected_count: 1149: : 90it [00:03, 25.49it/s]\u001b[A\n",
      "Iteration 90 - Lambda: 0.4010456217497484, selected_count: 1149: : 90it [00:03, 25.49it/s]\u001b[A\n",
      "Iteration 91 - Lambda: 0.40906653418474337, selected_count: 1148: : 90it [00:03, 25.49it/s]\u001b[A\n",
      "Iteration 92 - Lambda: 0.41724786486843823, selected_count: 1148: : 90it [00:03, 25.49it/s]\u001b[A\n",
      "Iteration 92 - Lambda: 0.41724786486843823, selected_count: 1148: : 93it [00:03, 25.53it/s]\u001b[A\n",
      "Iteration 93 - Lambda: 0.425592822165807, selected_count: 1148: : 93it [00:03, 25.53it/s]  \u001b[A\n",
      "Iteration 94 - Lambda: 0.43410467860912316, selected_count: 1148: : 93it [00:03, 25.53it/s]\u001b[A\n",
      "Iteration 95 - Lambda: 0.44278677218130563, selected_count: 1148: : 93it [00:03, 25.53it/s]\u001b[A\n",
      "Iteration 95 - Lambda: 0.44278677218130563, selected_count: 1148: : 96it [00:04, 14.62it/s]\u001b[A\n",
      "Iteration 96 - Lambda: 0.45164250762493174, selected_count: 1147: : 96it [00:04, 14.62it/s]\u001b[A\n",
      "Iteration 97 - Lambda: 0.4606753577774304, selected_count: 1143: : 96it [00:04, 14.62it/s] \u001b[A\n",
      "Iteration 98 - Lambda: 0.46988886493297904, selected_count: 1140: : 96it [00:04, 14.62it/s]\u001b[A\n",
      "Iteration 98 - Lambda: 0.46988886493297904, selected_count: 1140: : 99it [00:05,  6.79it/s]\u001b[A\n",
      "Iteration 99 - Lambda: 0.47928664223163864, selected_count: 1139: : 99it [00:05,  6.79it/s]\u001b[A\n",
      "Iteration 100 - Lambda: 0.4888723750762714, selected_count: 1133: : 99it [00:05,  6.79it/s]\u001b[A\n",
      "Iteration 100 - Lambda: 0.4888723750762714, selected_count: 1133: : 101it [00:05,  5.28it/s]\u001b[A\n",
      "Iteration 101 - Lambda: 0.49864982257779683, selected_count: 1128: : 101it [00:05,  5.28it/s]\u001b[A\n",
      "Iteration 102 - Lambda: 0.5086228190293528, selected_count: 1125: : 101it [00:06,  5.28it/s] \u001b[A\n",
      "Iteration 102 - Lambda: 0.5086228190293528, selected_count: 1125: : 103it [00:06,  4.48it/s]\u001b[A\n",
      "Iteration 103 - Lambda: 0.5187952754099399, selected_count: 1119: : 103it [00:06,  4.48it/s]\u001b[A\n",
      "Iteration 103 - Lambda: 0.5187952754099399, selected_count: 1119: : 104it [00:06,  4.18it/s]\u001b[A\n",
      "Iteration 104 - Lambda: 0.5291711809181386, selected_count: 1118: : 104it [00:06,  4.18it/s]\u001b[A\n",
      "Iteration 104 - Lambda: 0.5291711809181386, selected_count: 1118: : 105it [00:07,  3.92it/s]\u001b[A\n",
      "Iteration 105 - Lambda: 0.5397546045365014, selected_count: 1113: : 105it [00:07,  3.92it/s]\u001b[A\n",
      "Iteration 105 - Lambda: 0.5397546045365014, selected_count: 1113: : 106it [00:07,  3.68it/s]\u001b[A\n",
      "Iteration 106 - Lambda: 0.5505496966272314, selected_count: 1111: : 106it [00:07,  3.68it/s]\u001b[A\n",
      "Iteration 106 - Lambda: 0.5505496966272314, selected_count: 1111: : 107it [00:07,  3.51it/s]\u001b[A\n",
      "Iteration 107 - Lambda: 0.5615606905597761, selected_count: 1107: : 107it [00:07,  3.51it/s]\u001b[A\n",
      "Iteration 107 - Lambda: 0.5615606905597761, selected_count: 1107: : 108it [00:08,  3.37it/s]\u001b[A\n",
      "Iteration 108 - Lambda: 0.5727919043709716, selected_count: 1102: : 108it [00:08,  3.37it/s]\u001b[A\n",
      "Iteration 108 - Lambda: 0.5727919043709716, selected_count: 1102: : 109it [00:08,  3.26it/s]\u001b[A\n",
      "Iteration 109 - Lambda: 0.5842477424583911, selected_count: 1101: : 109it [00:08,  3.26it/s]\u001b[A\n",
      "Iteration 109 - Lambda: 0.5842477424583911, selected_count: 1101: : 110it [00:08,  3.18it/s]\u001b[A\n",
      "Iteration 110 - Lambda: 0.5959326973075589, selected_count: 1098: : 110it [00:08,  3.18it/s]\u001b[A\n",
      "Iteration 110 - Lambda: 0.5959326973075589, selected_count: 1098: : 111it [00:09,  3.11it/s]\u001b[A\n",
      "Iteration 111 - Lambda: 0.6078513512537101, selected_count: 1094: : 111it [00:09,  3.11it/s]\u001b[A\n",
      "Iteration 111 - Lambda: 0.6078513512537101, selected_count: 1094: : 112it [00:09,  3.62it/s]\u001b[A\n",
      "Iteration 112 - Lambda: 0.6200083782787844, selected_count: 1093: : 112it [00:09,  3.62it/s]\u001b[A\n",
      "Iteration 113 - Lambda: 0.6324085458443601, selected_count: 1093: : 112it [00:09,  3.62it/s]\u001b[A\n",
      "Iteration 114 - Lambda: 0.6450567167612473, selected_count: 1093: : 112it [00:09,  3.62it/s]\u001b[A\n",
      "Iteration 114 - Lambda: 0.6450567167612473, selected_count: 1093: : 115it [00:09,  6.83it/s]\u001b[A\n",
      "Iteration 115 - Lambda: 0.6579578510964723, selected_count: 1093: : 115it [00:09,  6.83it/s]\u001b[A\n",
      "Iteration 116 - Lambda: 0.6711170081184018, selected_count: 1093: : 115it [00:09,  6.83it/s]\u001b[A\n",
      "Iteration 117 - Lambda: 0.6845393482807699, selected_count: 1093: : 115it [00:09,  6.83it/s]\u001b[A\n",
      "Iteration 117 - Lambda: 0.6845393482807699, selected_count: 1093: : 118it [00:09, 10.00it/s]\u001b[A\n",
      "Iteration 118 - Lambda: 0.6982301352463853, selected_count: 1093: : 118it [00:09, 10.00it/s]\u001b[A\n",
      "Iteration 119 - Lambda: 0.712194737951313, selected_count: 1093: : 118it [00:09, 10.00it/s] \u001b[A\n",
      "Iteration 120 - Lambda: 0.7264386327103394, selected_count: 1091: : 118it [00:09, 10.00it/s]\u001b[A\n",
      "Iteration 120 - Lambda: 0.7264386327103394, selected_count: 1091: : 121it [00:09, 13.03it/s]\u001b[A\n",
      "Iteration 121 - Lambda: 0.7409674053645462, selected_count: 1091: : 121it [00:09, 13.03it/s]\u001b[A\n",
      "Iteration 122 - Lambda: 0.7557867534718371, selected_count: 1091: : 121it [00:09, 13.03it/s]\u001b[A\n",
      "Iteration 123 - Lambda: 0.7709024885412739, selected_count: 1091: : 121it [00:09, 13.03it/s]\u001b[A\n",
      "Iteration 123 - Lambda: 0.7709024885412739, selected_count: 1091: : 124it [00:09, 15.67it/s]\u001b[A\n",
      "Iteration 124 - Lambda: 0.7863205383120994, selected_count: 1090: : 124it [00:09, 15.67it/s]\u001b[A\n",
      "Iteration 125 - Lambda: 0.8020469490783414, selected_count: 1090: : 124it [00:09, 15.67it/s]\u001b[A\n",
      "Iteration 126 - Lambda: 0.8180878880599083, selected_count: 1089: : 124it [00:09, 15.67it/s]\u001b[A\n",
      "Iteration 126 - Lambda: 0.8180878880599083, selected_count: 1089: : 127it [00:09, 17.96it/s]\u001b[A\n",
      "Iteration 127 - Lambda: 0.8344496458211065, selected_count: 1088: : 127it [00:09, 17.96it/s]\u001b[A\n",
      "Iteration 128 - Lambda: 0.8511386387375286, selected_count: 1088: : 127it [00:09, 17.96it/s]\u001b[A\n",
      "Iteration 129 - Lambda: 0.8681614115122792, selected_count: 1086: : 127it [00:09, 17.96it/s]\u001b[A\n",
      "Iteration 129 - Lambda: 0.8681614115122792, selected_count: 1086: : 130it [00:09, 19.81it/s]\u001b[A\n",
      "Iteration 130 - Lambda: 0.8855246397425248, selected_count: 1086: : 130it [00:09, 19.81it/s]\u001b[A\n",
      "Iteration 131 - Lambda: 0.9032351325373753, selected_count: 1086: : 130it [00:10, 19.81it/s]\u001b[A\n",
      "Iteration 132 - Lambda: 0.9212998351881229, selected_count: 1085: : 130it [00:10, 19.81it/s]\u001b[A\n",
      "Iteration 132 - Lambda: 0.9212998351881229, selected_count: 1085: : 133it [00:10, 21.35it/s]\u001b[A\n",
      "Iteration 133 - Lambda: 0.9397258318918853, selected_count: 1085: : 133it [00:10, 21.35it/s]\u001b[A\n",
      "Iteration 134 - Lambda: 0.958520348529723, selected_count: 1085: : 133it [00:10, 21.35it/s] \u001b[A\n",
      "Iteration 135 - Lambda: 0.9776907555003175, selected_count: 1085: : 133it [00:10, 21.35it/s]\u001b[A\n",
      "Iteration 135 - Lambda: 0.9776907555003175, selected_count: 1085: : 136it [00:10, 22.47it/s]\u001b[A\n",
      "Iteration 136 - Lambda: 0.9972445706103238, selected_count: 1085: : 136it [00:10, 22.47it/s]\u001b[A\n",
      "Iteration 137 - Lambda: 1.0171894620225304, selected_count: 1085: : 136it [00:10, 22.47it/s]\u001b[A\n",
      "Iteration 138 - Lambda: 1.037533251262981, selected_count: 1085: : 136it [00:10, 22.47it/s] \u001b[A\n",
      "Iteration 138 - Lambda: 1.037533251262981, selected_count: 1085: : 139it [00:10, 23.19it/s]\u001b[A\n",
      "Iteration 139 - Lambda: 1.0582839162882405, selected_count: 1083: : 139it [00:10, 23.19it/s]\u001b[A\n",
      "Iteration 140 - Lambda: 1.0794495946140052, selected_count: 1083: : 139it [00:10, 23.19it/s]\u001b[A\n",
      "Iteration 141 - Lambda: 1.1010385865062853, selected_count: 1083: : 139it [00:10, 23.19it/s]\u001b[A\n",
      "Iteration 141 - Lambda: 1.1010385865062853, selected_count: 1083: : 142it [00:10, 23.60it/s]\u001b[A\n",
      "Iteration 142 - Lambda: 1.123059358236411, selected_count: 1082: : 142it [00:10, 23.60it/s] \u001b[A\n",
      "Iteration 143 - Lambda: 1.1455205454011392, selected_count: 1082: : 142it [00:10, 23.60it/s]\u001b[A\n",
      "Iteration 144 - Lambda: 1.168430956309162, selected_count: 1082: : 142it [00:10, 23.60it/s] \u001b[A\n",
      "Iteration 144 - Lambda: 1.168430956309162, selected_count: 1082: : 145it [00:10, 24.19it/s]\u001b[A\n",
      "Iteration 145 - Lambda: 1.1917995754353452, selected_count: 1081: : 145it [00:10, 24.19it/s]\u001b[A\n",
      "Iteration 146 - Lambda: 1.2156355669440522, selected_count: 1081: : 145it [00:10, 24.19it/s]\u001b[A\n",
      "Iteration 147 - Lambda: 1.2399482782829332, selected_count: 1081: : 145it [00:10, 24.19it/s]\u001b[A\n",
      "Iteration 147 - Lambda: 1.2399482782829332, selected_count: 1081: : 148it [00:10, 24.43it/s]\u001b[A\n",
      "Iteration 148 - Lambda: 1.2647472438485918, selected_count: 1079: : 148it [00:10, 24.43it/s]\u001b[A\n",
      "Iteration 149 - Lambda: 1.2900421887255638, selected_count: 1079: : 148it [00:10, 24.43it/s]\u001b[A\n",
      "Iteration 150 - Lambda: 1.315843032500075, selected_count: 1079: : 148it [00:10, 24.43it/s] \u001b[A\n",
      "Iteration 150 - Lambda: 1.315843032500075, selected_count: 1079: : 151it [00:10, 24.60it/s]\u001b[A\n",
      "Iteration 151 - Lambda: 1.3421598931500764, selected_count: 1079: : 151it [00:10, 24.60it/s]\u001b[A\n",
      "Iteration 152 - Lambda: 1.369003091013078, selected_count: 1079: : 151it [00:10, 24.60it/s] \u001b[A\n",
      "Iteration 153 - Lambda: 1.3963831528333395, selected_count: 1079: : 151it [00:10, 24.60it/s]\u001b[A\n",
      "Iteration 153 - Lambda: 1.3963831528333395, selected_count: 1079: : 154it [00:10, 24.18it/s]\u001b[A\n",
      "Iteration 154 - Lambda: 1.4243108158900062, selected_count: 1078: : 154it [00:10, 24.18it/s]\u001b[A\n",
      "Iteration 155 - Lambda: 1.4527970322078063, selected_count: 1075: : 154it [00:10, 24.18it/s]\u001b[A\n",
      "Iteration 156 - Lambda: 1.4818529728519625, selected_count: 1073: : 154it [00:11, 24.18it/s]\u001b[A\n",
      "Iteration 156 - Lambda: 1.4818529728519625, selected_count: 1073: : 157it [00:11, 24.60it/s]\u001b[A\n",
      "Iteration 157 - Lambda: 1.5114900323090017, selected_count: 1072: : 157it [00:11, 24.60it/s]\u001b[A\n",
      "Iteration 158 - Lambda: 1.5417198329551818, selected_count: 1072: : 157it [00:11, 24.60it/s]\u001b[A\n",
      "Iteration 159 - Lambda: 1.5725542296142854, selected_count: 1070: : 157it [00:11, 24.60it/s]\u001b[A\n",
      "Iteration 159 - Lambda: 1.5725542296142854, selected_count: 1070: : 160it [00:11, 24.72it/s]\u001b[A\n",
      "Iteration 160 - Lambda: 1.604005314206571, selected_count: 1069: : 160it [00:11, 24.72it/s] \u001b[A\n",
      "Iteration 161 - Lambda: 1.6360854204907025, selected_count: 1068: : 160it [00:11, 24.72it/s]\u001b[A\n",
      "Iteration 162 - Lambda: 1.6688071289005166, selected_count: 1067: : 160it [00:11, 24.72it/s]\u001b[A\n",
      "Iteration 162 - Lambda: 1.6688071289005166, selected_count: 1067: : 163it [00:11, 24.68it/s]\u001b[A\n",
      "Iteration 163 - Lambda: 1.702183271478527, selected_count: 1066: : 163it [00:11, 24.68it/s] \u001b[A\n",
      "Iteration 164 - Lambda: 1.7362269369080976, selected_count: 1066: : 163it [00:11, 24.68it/s]\u001b[A\n",
      "Iteration 165 - Lambda: 1.7709514756462597, selected_count: 1066: : 163it [00:11, 24.68it/s]\u001b[A\n",
      "Iteration 165 - Lambda: 1.7709514756462597, selected_count: 1066: : 166it [00:11, 24.90it/s]\u001b[A\n",
      "Iteration 166 - Lambda: 1.806370505159185, selected_count: 1065: : 166it [00:11, 24.90it/s] \u001b[A\n",
      "Iteration 167 - Lambda: 1.8424979152623686, selected_count: 1063: : 166it [00:11, 24.90it/s]\u001b[A\n",
      "Iteration 168 - Lambda: 1.8793478735676161, selected_count: 1063: : 166it [00:11, 24.90it/s]\u001b[A\n",
      "Iteration 168 - Lambda: 1.8793478735676161, selected_count: 1063: : 169it [00:11, 24.93it/s]\u001b[A\n",
      "Iteration 169 - Lambda: 1.9169348310389684, selected_count: 1062: : 169it [00:11, 24.93it/s]\u001b[A\n",
      "Iteration 170 - Lambda: 1.955273527659748, selected_count: 1062: : 169it [00:11, 24.93it/s] \u001b[A\n",
      "Iteration 171 - Lambda: 1.994378998212943, selected_count: 1061: : 169it [00:11, 24.93it/s]\u001b[A\n",
      "Iteration 171 - Lambda: 1.994378998212943, selected_count: 1061: : 172it [00:11, 25.01it/s]\u001b[A\n",
      "Iteration 172 - Lambda: 2.034266578177202, selected_count: 1059: : 172it [00:11, 25.01it/s]\u001b[A\n",
      "Iteration 173 - Lambda: 2.074951909740746, selected_count: 1056: : 172it [00:11, 25.01it/s]\u001b[A\n",
      "Iteration 174 - Lambda: 2.1164509479355607, selected_count: 1056: : 172it [00:11, 25.01it/s]\u001b[A\n",
      "Iteration 174 - Lambda: 2.1164509479355607, selected_count: 1056: : 175it [00:11, 25.13it/s]\u001b[A\n",
      "Iteration 175 - Lambda: 2.1587799668942718, selected_count: 1054: : 175it [00:11, 25.13it/s]\u001b[A\n",
      "Iteration 176 - Lambda: 2.201955566232157, selected_count: 1054: : 175it [00:11, 25.13it/s] \u001b[A\n",
      "Iteration 177 - Lambda: 2.2459946775568, selected_count: 1053: : 175it [00:11, 25.13it/s]  \u001b[A\n",
      "Iteration 177 - Lambda: 2.2459946775568, selected_count: 1053: : 178it [00:11, 25.03it/s]\u001b[A\n",
      "Iteration 178 - Lambda: 2.290914571107936, selected_count: 1052: : 178it [00:11, 25.03it/s]\u001b[A\n",
      "Iteration 179 - Lambda: 2.3367328625300945, selected_count: 1050: : 178it [00:11, 25.03it/s]\u001b[A\n",
      "Iteration 180 - Lambda: 2.3834675197806963, selected_count: 1050: : 178it [00:11, 25.03it/s]\u001b[A\n",
      "Iteration 180 - Lambda: 2.3834675197806963, selected_count: 1050: : 181it [00:12, 24.77it/s]\u001b[A\n",
      "Iteration 181 - Lambda: 2.43113687017631, selected_count: 1048: : 181it [00:12, 24.77it/s]  \u001b[A\n",
      "Iteration 182 - Lambda: 2.4797596075798363, selected_count: 1047: : 181it [00:12, 24.77it/s]\u001b[A\n",
      "Iteration 183 - Lambda: 2.529354799731433, selected_count: 1045: : 181it [00:12, 24.77it/s] \u001b[A\n",
      "Iteration 183 - Lambda: 2.529354799731433, selected_count: 1045: : 184it [00:12, 24.84it/s]\u001b[A\n",
      "Iteration 184 - Lambda: 2.579941895726062, selected_count: 1043: : 184it [00:12, 24.84it/s]\u001b[A\n",
      "Iteration 185 - Lambda: 2.631540733640583, selected_count: 1043: : 184it [00:12, 24.84it/s]\u001b[A\n",
      "Iteration 186 - Lambda: 2.6841715483133948, selected_count: 1042: : 184it [00:12, 24.84it/s]\u001b[A\n",
      "Iteration 186 - Lambda: 2.6841715483133948, selected_count: 1042: : 187it [00:12, 25.01it/s]\u001b[A\n",
      "Iteration 187 - Lambda: 2.7378549792796627, selected_count: 1038: : 187it [00:12, 25.01it/s]\u001b[A\n",
      "Iteration 188 - Lambda: 2.792612078865256, selected_count: 1035: : 187it [00:12, 25.01it/s] \u001b[A\n",
      "Iteration 189 - Lambda: 2.8484643204425613, selected_count: 1034: : 187it [00:12, 25.01it/s]\u001b[A\n",
      "Iteration 189 - Lambda: 2.8484643204425613, selected_count: 1034: : 190it [00:12, 25.07it/s]\u001b[A\n",
      "Iteration 190 - Lambda: 2.9054336068514126, selected_count: 1034: : 190it [00:12, 25.07it/s]\u001b[A\n",
      "Iteration 191 - Lambda: 2.9635422789884407, selected_count: 1033: : 190it [00:12, 25.07it/s]\u001b[A\n",
      "Iteration 192 - Lambda: 3.0228131245682097, selected_count: 1032: : 190it [00:12, 25.07it/s]\u001b[A\n",
      "Iteration 192 - Lambda: 3.0228131245682097, selected_count: 1032: : 193it [00:12, 25.05it/s]\u001b[A\n",
      "Iteration 193 - Lambda: 3.0832693870595738, selected_count: 1030: : 193it [00:12, 25.05it/s]\u001b[A\n",
      "Iteration 194 - Lambda: 3.1449347748007654, selected_count: 1030: : 193it [00:12, 25.05it/s]\u001b[A\n",
      "Iteration 195 - Lambda: 3.207833470296781, selected_count: 1030: : 193it [00:12, 25.05it/s] \u001b[A\n",
      "Iteration 195 - Lambda: 3.207833470296781, selected_count: 1030: : 196it [00:12, 25.04it/s]\u001b[A\n",
      "Iteration 196 - Lambda: 3.2719901397027167, selected_count: 1028: : 196it [00:12, 25.04it/s]\u001b[A\n",
      "Iteration 197 - Lambda: 3.337429942496771, selected_count: 1027: : 196it [00:12, 25.04it/s] \u001b[A\n",
      "Iteration 198 - Lambda: 3.4041785413467065, selected_count: 1026: : 196it [00:12, 25.04it/s]\u001b[A\n",
      "Iteration 198 - Lambda: 3.4041785413467065, selected_count: 1026: : 199it [00:12, 24.90it/s]\u001b[A\n",
      "Iteration 199 - Lambda: 3.472262112173641, selected_count: 1026: : 199it [00:12, 24.90it/s] \u001b[A\n",
      "Iteration 200 - Lambda: 3.5417073544171136, selected_count: 1024: : 199it [00:12, 24.90it/s]\u001b[A\n",
      "Iteration 201 - Lambda: 3.612541501505456, selected_count: 1022: : 199it [00:12, 24.90it/s] \u001b[A\n",
      "Iteration 201 - Lambda: 3.612541501505456, selected_count: 1022: : 202it [00:12, 24.99it/s]\u001b[A\n",
      "Iteration 202 - Lambda: 3.684792331535565, selected_count: 1019: : 202it [00:12, 24.99it/s]\u001b[A\n",
      "Iteration 203 - Lambda: 3.7584881781662762, selected_count: 1015: : 202it [00:12, 24.99it/s]\u001b[A\n",
      "Iteration 204 - Lambda: 3.833657941729602, selected_count: 1014: : 202it [00:12, 24.99it/s] \u001b[A\n",
      "Iteration 204 - Lambda: 3.833657941729602, selected_count: 1014: : 205it [00:12, 25.12it/s]\u001b[A\n",
      "Iteration 205 - Lambda: 3.910331100564194, selected_count: 1013: : 205it [00:12, 25.12it/s]\u001b[A\n",
      "Iteration 206 - Lambda: 3.988537722575478, selected_count: 1010: : 205it [00:13, 25.12it/s]\u001b[A\n",
      "Iteration 207 - Lambda: 4.068308477026988, selected_count: 1008: : 205it [00:13, 25.12it/s]\u001b[A\n",
      "Iteration 207 - Lambda: 4.068308477026988, selected_count: 1008: : 208it [00:13, 25.15it/s]\u001b[A\n",
      "Iteration 208 - Lambda: 4.149674646567528, selected_count: 1003: : 208it [00:13, 25.15it/s]\u001b[A\n",
      "Iteration 209 - Lambda: 4.2326681394988785, selected_count: 1002: : 208it [00:13, 25.15it/s]\u001b[A\n",
      "Iteration 210 - Lambda: 4.3173215022888565, selected_count: 998: : 208it [00:13, 25.15it/s] \u001b[A\n",
      "Iteration 210 - Lambda: 4.3173215022888565, selected_count: 998: : 211it [00:13, 25.29it/s]\u001b[A\n",
      "Iteration 211 - Lambda: 4.403667932334634, selected_count: 995: : 211it [00:13, 25.29it/s] \u001b[A\n",
      "Iteration 212 - Lambda: 4.491741290981326, selected_count: 991: : 211it [00:13, 25.29it/s]\u001b[A\n",
      "Iteration 213 - Lambda: 4.581576116800953, selected_count: 990: : 211it [00:13, 25.29it/s]\u001b[A\n",
      "Iteration 213 - Lambda: 4.581576116800953, selected_count: 990: : 214it [00:13, 25.40it/s]\u001b[A\n",
      "Iteration 214 - Lambda: 4.673207639136972, selected_count: 987: : 214it [00:13, 25.40it/s]\u001b[A\n",
      "Iteration 215 - Lambda: 4.766671791919712, selected_count: 986: : 214it [00:13, 25.40it/s]\u001b[A\n",
      "Iteration 216 - Lambda: 4.862005227758106, selected_count: 984: : 214it [00:13, 25.40it/s]\u001b[A\n",
      "Iteration 216 - Lambda: 4.862005227758106, selected_count: 984: : 217it [00:13, 25.47it/s]\u001b[A\n",
      "Iteration 217 - Lambda: 4.959245332313268, selected_count: 981: : 217it [00:13, 25.47it/s]\u001b[A\n",
      "Iteration 218 - Lambda: 5.0584302389595335, selected_count: 978: : 217it [00:13, 25.47it/s]\u001b[A\n",
      "Iteration 219 - Lambda: 5.159598843738724, selected_count: 976: : 217it [00:13, 25.47it/s] \u001b[A\n",
      "Iteration 219 - Lambda: 5.159598843738724, selected_count: 976: : 220it [00:13, 25.33it/s]\u001b[A\n",
      "Iteration 220 - Lambda: 5.262790820613499, selected_count: 972: : 220it [00:13, 25.33it/s]\u001b[A\n",
      "Iteration 221 - Lambda: 5.368046637025769, selected_count: 970: : 220it [00:13, 25.33it/s]\u001b[A\n",
      "Iteration 222 - Lambda: 5.4754075697662845, selected_count: 968: : 220it [00:13, 25.33it/s]\u001b[A\n",
      "Iteration 222 - Lambda: 5.4754075697662845, selected_count: 968: : 223it [00:13, 25.23it/s]\u001b[A\n",
      "Iteration 223 - Lambda: 5.58491572116161, selected_count: 967: : 223it [00:13, 25.23it/s]  \u001b[A\n",
      "Iteration 224 - Lambda: 5.696614035584842, selected_count: 965: : 223it [00:13, 25.23it/s]\u001b[A\n",
      "Iteration 225 - Lambda: 5.810546316296539, selected_count: 964: : 223it [00:13, 25.23it/s]\u001b[A\n",
      "Iteration 225 - Lambda: 5.810546316296539, selected_count: 964: : 226it [00:13, 25.10it/s]\u001b[A\n",
      "Iteration 226 - Lambda: 5.92675724262247, selected_count: 961: : 226it [00:13, 25.10it/s] \u001b[A\n",
      "Iteration 227 - Lambda: 6.04529238747492, selected_count: 954: : 226it [00:13, 25.10it/s]\u001b[A\n",
      "Iteration 228 - Lambda: 6.166198235224418, selected_count: 950: : 226it [00:13, 25.10it/s]\u001b[A\n",
      "Iteration 228 - Lambda: 6.166198235224418, selected_count: 950: : 229it [00:13, 24.94it/s]\u001b[A\n",
      "Iteration 229 - Lambda: 6.289522199928907, selected_count: 948: : 229it [00:13, 24.94it/s]\u001b[A\n",
      "Iteration 230 - Lambda: 6.415312643927486, selected_count: 946: : 229it [00:13, 24.94it/s]\u001b[A\n",
      "Iteration 231 - Lambda: 6.543618896806035, selected_count: 943: : 229it [00:14, 24.94it/s]\u001b[A\n",
      "Iteration 231 - Lambda: 6.543618896806035, selected_count: 943: : 232it [00:14, 24.90it/s]\u001b[A\n",
      "Iteration 232 - Lambda: 6.674491274742156, selected_count: 940: : 232it [00:14, 24.90it/s]\u001b[A\n",
      "Iteration 233 - Lambda: 6.807981100236999, selected_count: 937: : 232it [00:14, 24.90it/s]\u001b[A\n",
      "Iteration 234 - Lambda: 6.944140722241739, selected_count: 935: : 232it [00:14, 24.90it/s]\u001b[A\n",
      "Iteration 234 - Lambda: 6.944140722241739, selected_count: 935: : 235it [00:14, 25.18it/s]\u001b[A\n",
      "Iteration 235 - Lambda: 7.083023536686574, selected_count: 931: : 235it [00:14, 25.18it/s]\u001b[A\n",
      "Iteration 236 - Lambda: 7.224684007420306, selected_count: 929: : 235it [00:14, 25.18it/s]\u001b[A\n",
      "Iteration 237 - Lambda: 7.369177687568713, selected_count: 925: : 235it [00:14, 25.18it/s]\u001b[A\n",
      "Iteration 237 - Lambda: 7.369177687568713, selected_count: 925: : 238it [00:14, 25.25it/s]\u001b[A\n",
      "Iteration 238 - Lambda: 7.516561241320087, selected_count: 923: : 238it [00:14, 25.25it/s]\u001b[A\n",
      "Iteration 239 - Lambda: 7.666892466146488, selected_count: 919: : 238it [00:14, 25.25it/s]\u001b[A\n",
      "Iteration 240 - Lambda: 7.820230315469418, selected_count: 916: : 238it [00:14, 25.25it/s]\u001b[A\n",
      "Iteration 240 - Lambda: 7.820230315469418, selected_count: 916: : 241it [00:14, 25.30it/s]\u001b[A\n",
      "Iteration 241 - Lambda: 7.976634921778807, selected_count: 916: : 241it [00:14, 25.30it/s]\u001b[A\n",
      "Iteration 242 - Lambda: 8.136167620214383, selected_count: 914: : 241it [00:14, 25.30it/s]\u001b[A\n",
      "Iteration 243 - Lambda: 8.298890972618672, selected_count: 913: : 241it [00:14, 25.30it/s]\u001b[A\n",
      "Iteration 243 - Lambda: 8.298890972618672, selected_count: 913: : 244it [00:14, 25.40it/s]\u001b[A\n",
      "Iteration 244 - Lambda: 8.464868792071046, selected_count: 910: : 244it [00:14, 25.40it/s]\u001b[A\n",
      "Iteration 245 - Lambda: 8.634166167912467, selected_count: 905: : 244it [00:14, 25.40it/s]\u001b[A\n",
      "Iteration 246 - Lambda: 8.806849491270716, selected_count: 900: : 244it [00:14, 25.40it/s]\u001b[A\n",
      "Iteration 246 - Lambda: 8.806849491270716, selected_count: 900: : 247it [00:14, 25.35it/s]\u001b[A\n",
      "Iteration 247 - Lambda: 8.98298648109613, selected_count: 897: : 247it [00:14, 25.35it/s] \u001b[A\n",
      "Iteration 248 - Lambda: 9.162646210718053, selected_count: 892: : 247it [00:14, 25.35it/s]\u001b[A\n",
      "Iteration 249 - Lambda: 9.345899134932415, selected_count: 887: : 247it [00:14, 25.35it/s]\u001b[A\n",
      "Iteration 249 - Lambda: 9.345899134932415, selected_count: 887: : 250it [00:14, 25.30it/s]\u001b[A\n",
      "Iteration 250 - Lambda: 9.532817117631064, selected_count: 884: : 250it [00:14, 25.30it/s]\u001b[A\n",
      "Iteration 251 - Lambda: 9.723473459983685, selected_count: 879: : 250it [00:14, 25.30it/s]\u001b[A\n",
      "Iteration 252 - Lambda: 9.91794292918336, selected_count: 874: : 250it [00:14, 25.30it/s] \u001b[A\n",
      "Iteration 252 - Lambda: 9.91794292918336, selected_count: 874: : 253it [00:14, 25.28it/s]\u001b[A\n",
      "Iteration 253 - Lambda: 10.116301787767027, selected_count: 869: : 253it [00:14, 25.28it/s]\u001b[A\n",
      "Iteration 254 - Lambda: 10.318627823522368, selected_count: 863: : 253it [00:14, 25.28it/s]\u001b[A\n",
      "Iteration 255 - Lambda: 10.525000379992816, selected_count: 857: : 253it [00:14, 25.28it/s]\u001b[A\n",
      "Iteration 255 - Lambda: 10.525000379992816, selected_count: 857: : 256it [00:14, 25.32it/s]\u001b[A\n",
      "Iteration 256 - Lambda: 10.735500387592673, selected_count: 851: : 256it [00:14, 25.32it/s]\u001b[A\n",
      "Iteration 257 - Lambda: 10.950210395344527, selected_count: 847: : 256it [00:15, 25.32it/s]\u001b[A\n",
      "Iteration 258 - Lambda: 11.169214603251417, selected_count: 839: : 256it [00:15, 25.32it/s]\u001b[A\n",
      "Iteration 258 - Lambda: 11.169214603251417, selected_count: 839: : 259it [00:15, 25.48it/s]\u001b[A\n",
      "Iteration 259 - Lambda: 11.392598895316446, selected_count: 832: : 259it [00:15, 25.48it/s]\u001b[A\n",
      "Iteration 260 - Lambda: 11.620450873222776, selected_count: 827: : 259it [00:15, 25.48it/s]\u001b[A\n",
      "Iteration 261 - Lambda: 11.852859890687231, selected_count: 823: : 259it [00:15, 25.48it/s]\u001b[A\n",
      "Iteration 261 - Lambda: 11.852859890687231, selected_count: 823: : 262it [00:15, 25.53it/s]\u001b[A\n",
      "Iteration 262 - Lambda: 12.089917088500975, selected_count: 821: : 262it [00:15, 25.53it/s]\u001b[A\n",
      "Iteration 263 - Lambda: 12.331715430270995, selected_count: 817: : 262it [00:15, 25.53it/s]\u001b[A\n",
      "Iteration 264 - Lambda: 12.578349738876415, selected_count: 813: : 262it [00:15, 25.53it/s]\u001b[A\n",
      "Iteration 264 - Lambda: 12.578349738876415, selected_count: 813: : 265it [00:15, 25.43it/s]\u001b[A\n",
      "Iteration 265 - Lambda: 12.829916733653944, selected_count: 809: : 265it [00:15, 25.43it/s]\u001b[A\n",
      "Iteration 266 - Lambda: 13.086515068327023, selected_count: 805: : 265it [00:15, 25.43it/s]\u001b[A\n",
      "Iteration 267 - Lambda: 13.348245369693563, selected_count: 798: : 265it [00:15, 25.43it/s]\u001b[A\n",
      "Iteration 267 - Lambda: 13.348245369693563, selected_count: 798: : 268it [00:15, 14.24it/s]\u001b[A\n",
      "Iteration 268 - Lambda: 13.615210277087435, selected_count: 738: : 268it [00:15, 14.24it/s]\u001b[A\n",
      "Iteration 269 - Lambda: 13.887514482629184, selected_count: 678: : 268it [00:16, 14.24it/s]\u001b[A\n",
      "Iteration 269 - Lambda: 13.887514482629184, selected_count: 678: : 270it [00:16,  7.82it/s]\u001b[A\n",
      "Iteration 270 - Lambda: 14.165264772281768, selected_count: 640: : 270it [00:16,  7.82it/s]\u001b[A\n",
      "Iteration 271 - Lambda: 14.448570067727404, selected_count: 598: : 270it [00:16,  7.82it/s]\u001b[A\n",
      "Iteration 271 - Lambda: 14.448570067727404, selected_count: 598: : 272it [00:17,  5.64it/s]\u001b[A\n",
      "Iteration 272 - Lambda: 14.737541469081952, selected_count: 560: : 272it [00:17,  5.64it/s]\u001b[A\n",
      "Iteration 273 - Lambda: 15.032292298463592, selected_count: 515: : 272it [00:17,  5.64it/s]\u001b[A\n",
      "Iteration 273 - Lambda: 15.032292298463592, selected_count: 515: : 274it [00:17,  4.59it/s]\u001b[A\n",
      "Iteration 274 - Lambda: 15.332938144432864, selected_count: 492: : 274it [00:17,  4.59it/s]\u001b[A\n",
      "Iteration 274 - Lambda: 15.332938144432864, selected_count: 492: : 275it [00:18,  4.23it/s]\u001b[A\n",
      "Iteration 275 - Lambda: 15.639596907321522, selected_count: 472: : 275it [00:18,  4.23it/s]\u001b[A\n",
      "Iteration 275 - Lambda: 15.639596907321522, selected_count: 472: : 276it [00:18,  3.93it/s]\u001b[A\n",
      "Iteration 276 - Lambda: 15.952388845467953, selected_count: 450: : 276it [00:18,  3.93it/s]\u001b[A\n",
      "Iteration 276 - Lambda: 15.952388845467953, selected_count: 450: : 277it [00:18,  3.66it/s]\u001b[A\n",
      "Iteration 277 - Lambda: 16.271436622377312, selected_count: 425: : 277it [00:18,  3.66it/s]\u001b[A\n",
      "Iteration 277 - Lambda: 16.271436622377312, selected_count: 425: : 278it [00:19,  3.48it/s]\u001b[A\n",
      "Iteration 278 - Lambda: 16.596865354824857, selected_count: 400: : 278it [00:19,  3.48it/s]\u001b[A\n",
      "Iteration 278 - Lambda: 16.596865354824857, selected_count: 400: : 279it [00:19,  3.34it/s]\u001b[A\n",
      "Iteration 279 - Lambda: 16.928802661921353, selected_count: 370: : 279it [00:19,  3.34it/s]\u001b[A\n",
      "Iteration 279 - Lambda: 16.928802661921353, selected_count: 370: : 280it [00:19,  3.18it/s]\u001b[A\n",
      "Iteration 280 - Lambda: 17.26737871515978, selected_count: 296: : 280it [00:19,  3.18it/s] \u001b[A\n",
      "Iteration 280 - Lambda: 17.26737871515978, selected_count: 296: : 281it [00:20,  3.07it/s]\u001b[A\n",
      "Iteration 281 - Lambda: 17.612726289462977, selected_count: 133: : 281it [00:20,  3.07it/s]\u001b[A\n",
      "Iteration 281 - Lambda: 17.612726289462977, selected_count: 133: : 282it [00:20,  3.04it/s]\u001b[A\n",
      "Iteration 282 - Lambda: 17.964980815252236, selected_count: 39: : 282it [00:20,  3.04it/s] \u001b[A\n",
      "Iteration 282 - Lambda: 17.964980815252236, selected_count: 39: : 283it [00:20,  3.50it/s]\u001b[A\n",
      "Iteration 283 - Lambda: 18.32428043155728, selected_count: 9: : 283it [00:20,  3.50it/s]  \u001b[A\n",
      "Iteration 284 - Lambda: 18.690766040188425, selected_count: 8: : 283it [00:20,  3.50it/s]\u001b[A\n",
      "Iteration 285 - Lambda: 19.064581360992193, selected_count: 8: : 283it [00:20,  3.50it/s]\u001b[A\n",
      "Iteration 285 - Lambda: 19.064581360992193, selected_count: 8: : 286it [00:20,  6.64it/s]\u001b[A\n",
      "Iteration 286 - Lambda: 19.445872988212038, selected_count: 8: : 286it [00:20,  6.64it/s]\u001b[A\n",
      "Iteration 287 - Lambda: 19.834790447976278, selected_count: 8: : 286it [00:20,  6.64it/s]\u001b[A\n",
      "Iteration 288 - Lambda: 20.231486256935803, selected_count: 8: : 286it [00:20,  6.64it/s]\u001b[A\n",
      "Iteration 288 - Lambda: 20.231486256935803, selected_count: 8: : 289it [00:20,  9.82it/s]\u001b[A\n",
      "Iteration 289 - Lambda: 20.636115982074518, selected_count: 8: : 289it [00:20,  9.82it/s]\u001b[A\n",
      "Iteration 290 - Lambda: 21.04883830171601, selected_count: 8: : 289it [00:20,  9.82it/s] \u001b[A\n",
      "Iteration 291 - Lambda: 21.469815067750332, selected_count: 7: : 289it [00:20,  9.82it/s]\u001b[A\n",
      "Iteration 291 - Lambda: 21.469815067750332, selected_count: 7: : 292it [00:21, 12.91it/s]\u001b[A\n",
      "Iteration 292 - Lambda: 21.899211369105338, selected_count: 7: : 292it [00:21, 12.91it/s]\u001b[A\n",
      "Iteration 293 - Lambda: 22.337195596487444, selected_count: 7: : 292it [00:21, 12.91it/s]\u001b[A\n",
      "Iteration 294 - Lambda: 22.783939508417195, selected_count: 7: : 292it [00:21, 12.91it/s]\u001b[A\n",
      "Iteration 294 - Lambda: 22.783939508417195, selected_count: 7: : 295it [00:21, 15.47it/s]\u001b[A\n",
      "Iteration 295 - Lambda: 23.23961829858554, selected_count: 7: : 295it [00:21, 15.47it/s] \u001b[A\n",
      "Iteration 296 - Lambda: 23.70441066455725, selected_count: 7: : 295it [00:21, 15.47it/s]\u001b[A\n",
      "Iteration 297 - Lambda: 24.178498877848398, selected_count: 7: : 295it [00:21, 15.47it/s]\u001b[A\n",
      "Iteration 297 - Lambda: 24.178498877848398, selected_count: 7: : 298it [00:21, 17.54it/s]\u001b[A\n",
      "Iteration 298 - Lambda: 24.662068855405366, selected_count: 7: : 298it [00:21, 17.54it/s]\u001b[A\n",
      "Iteration 299 - Lambda: 25.155310232513475, selected_count: 7: : 298it [00:21, 17.54it/s]\u001b[A\n",
      "Iteration 300 - Lambda: 25.658416437163744, selected_count: 7: : 298it [00:21, 17.54it/s]\u001b[A\n",
      "Iteration 300 - Lambda: 25.658416437163744, selected_count: 7: : 301it [00:21, 19.38it/s]\u001b[A\n",
      "Iteration 301 - Lambda: 26.17158476590702, selected_count: 7: : 301it [00:21, 19.38it/s] \u001b[A\n",
      "Iteration 302 - Lambda: 26.695016461225162, selected_count: 7: : 301it [00:21, 19.38it/s]\u001b[A\n",
      "Iteration 303 - Lambda: 27.228916790449667, selected_count: 7: : 301it [00:21, 19.38it/s]\u001b[A\n",
      "Iteration 303 - Lambda: 27.228916790449667, selected_count: 7: : 304it [00:21, 21.10it/s]\u001b[A\n",
      "Iteration 304 - Lambda: 27.77349512625866, selected_count: 7: : 304it [00:21, 21.10it/s] \u001b[A\n",
      "Iteration 305 - Lambda: 28.328965028783834, selected_count: 7: : 304it [00:21, 21.10it/s]\u001b[A\n",
      "Iteration 306 - Lambda: 28.895544329359513, selected_count: 7: : 304it [00:21, 21.10it/s]\u001b[A\n",
      "Iteration 306 - Lambda: 28.895544329359513, selected_count: 7: : 307it [00:21, 22.13it/s]\u001b[A\n",
      "Iteration 307 - Lambda: 29.473455215946704, selected_count: 7: : 307it [00:21, 22.13it/s]\u001b[A\n",
      "Iteration 308 - Lambda: 30.062924320265637, selected_count: 7: : 307it [00:21, 22.13it/s]\u001b[A\n",
      "Iteration 309 - Lambda: 30.66418280667095, selected_count: 7: : 307it [00:21, 22.13it/s] \u001b[A\n",
      "Iteration 309 - Lambda: 30.66418280667095, selected_count: 7: : 310it [00:21, 23.05it/s]\u001b[A\n",
      "Iteration 310 - Lambda: 31.27746646280437, selected_count: 7: : 310it [00:21, 23.05it/s]\u001b[A\n",
      "Iteration 311 - Lambda: 31.903015792060458, selected_count: 7: : 310it [00:21, 23.05it/s]\u001b[A\n",
      "Iteration 312 - Lambda: 32.54107610790167, selected_count: 7: : 310it [00:21, 23.05it/s] \u001b[A\n",
      "Iteration 312 - Lambda: 32.54107610790167, selected_count: 7: : 313it [00:21, 23.50it/s]\u001b[A\n",
      "Iteration 313 - Lambda: 33.1918976300597, selected_count: 7: : 313it [00:21, 23.50it/s] \u001b[A\n",
      "Iteration 314 - Lambda: 33.85573558266089, selected_count: 7: : 313it [00:21, 23.50it/s]\u001b[A\n",
      "Iteration 315 - Lambda: 34.53285029431411, selected_count: 7: : 313it [00:21, 23.50it/s]\u001b[A\n",
      "Iteration 315 - Lambda: 34.53285029431411, selected_count: 7: : 316it [00:22, 23.88it/s]\u001b[A\n",
      "Iteration 316 - Lambda: 35.22350730020039, selected_count: 7: : 316it [00:22, 23.88it/s]\u001b[A\n",
      "Iteration 317 - Lambda: 35.927977446204395, selected_count: 7: : 316it [00:22, 23.88it/s]\u001b[A\n",
      "Iteration 318 - Lambda: 36.646536995128486, selected_count: 7: : 316it [00:22, 23.88it/s]\u001b[A\n",
      "Iteration 318 - Lambda: 36.646536995128486, selected_count: 7: : 319it [00:22, 24.09it/s]\u001b[A\n",
      "Iteration 319 - Lambda: 37.37946773503106, selected_count: 7: : 319it [00:22, 24.09it/s] \u001b[A\n",
      "Iteration 320 - Lambda: 38.12705708973168, selected_count: 7: : 319it [00:22, 24.09it/s]\u001b[A\n",
      "Iteration 321 - Lambda: 38.889598231526314, selected_count: 6: : 319it [00:22, 24.09it/s]\u001b[A\n",
      "Iteration 321 - Lambda: 38.889598231526314, selected_count: 6: : 322it [00:22, 24.36it/s]\u001b[A\n",
      "Iteration 322 - Lambda: 39.66739019615684, selected_count: 6: : 322it [00:22, 24.36it/s] \u001b[A\n",
      "Iteration 323 - Lambda: 40.46073800007998, selected_count: 6: : 322it [00:22, 24.36it/s]\u001b[A\n",
      "Iteration 324 - Lambda: 41.26995276008158, selected_count: 6: : 322it [00:22, 24.36it/s]\u001b[A\n",
      "Iteration 324 - Lambda: 41.26995276008158, selected_count: 6: : 325it [00:22, 24.55it/s]\u001b[A\n",
      "Iteration 325 - Lambda: 42.09535181528321, selected_count: 6: : 325it [00:22, 24.55it/s]\u001b[A\n",
      "Iteration 326 - Lambda: 42.93725885158887, selected_count: 6: : 325it [00:22, 24.55it/s]\u001b[A\n",
      "Iteration 327 - Lambda: 43.79600402862065, selected_count: 6: : 325it [00:22, 24.55it/s]\u001b[A\n",
      "Iteration 327 - Lambda: 43.79600402862065, selected_count: 6: : 328it [00:22, 20.23it/s]\u001b[A\n",
      "Iteration 328 - Lambda: 44.671924109193064, selected_count: 5: : 328it [00:22, 20.23it/s]\u001b[A\n",
      "Iteration 329 - Lambda: 45.565362591376925, selected_count: 5: : 328it [00:22, 20.23it/s]\u001b[A\n",
      "Iteration 330 - Lambda: 46.47666984320446, selected_count: 5: : 328it [00:23, 20.23it/s] \u001b[A\n",
      "Iteration 330 - Lambda: 46.47666984320446, selected_count: 5: : 331it [00:23,  7.28it/s]\u001b[A\n",
      "Iteration 331 - Lambda: 47.40620324006855, selected_count: 4: : 331it [00:23,  7.28it/s]\u001b[A\n",
      "Iteration 332 - Lambda: 48.35432730486992, selected_count: 2: : 331it [00:23,  7.28it/s]\u001b[A\n",
      "Iteration 332 - Lambda: 48.35432730486992, selected_count: 2: : 333it [00:24,  5.57it/s]\u001b[A\n",
      "Iteration 333 - Lambda: 49.32141385096732, selected_count: 2: : 333it [00:24,  5.57it/s]\u001b[A\n",
      "Iteration 334 - Lambda: 50.30784212798667, selected_count: 1: : 334it [00:24, 13.69it/s]\u001b[A\n",
      "\n",
      "0it [00:00, ?it/s]\u001b[A\n",
      "Iteration 0 - Lambda: 0.14027824997901917, selected_count: 1160: : 0it [00:00, ?it/s]\u001b[A\n",
      "Iteration 1 - Lambda: 0.14308381497859954, selected_count: 1160: : 0it [00:00, ?it/s]\u001b[A\n",
      "Iteration 2 - Lambda: 0.14594549127817152, selected_count: 1160: : 0it [00:00, ?it/s]\u001b[A\n",
      "Iteration 2 - Lambda: 0.14594549127817152, selected_count: 1160: : 3it [00:00, 25.42it/s]\u001b[A\n",
      "Iteration 3 - Lambda: 0.14886440110373494, selected_count: 1160: : 3it [00:00, 25.42it/s]\u001b[A\n",
      "Iteration 4 - Lambda: 0.15184168912580964, selected_count: 1160: : 3it [00:00, 25.42it/s]\u001b[A\n",
      "Iteration 5 - Lambda: 0.15487852290832585, selected_count: 1160: : 3it [00:00, 25.42it/s]\u001b[A\n",
      "Iteration 5 - Lambda: 0.15487852290832585, selected_count: 1160: : 6it [00:00, 25.30it/s]\u001b[A\n",
      "Iteration 6 - Lambda: 0.15797609336649238, selected_count: 1160: : 6it [00:00, 25.30it/s]\u001b[A\n",
      "Iteration 7 - Lambda: 0.16113561523382222, selected_count: 1159: : 6it [00:00, 25.30it/s]\u001b[A\n",
      "Iteration 8 - Lambda: 0.16435832753849866, selected_count: 1159: : 6it [00:00, 25.30it/s]\u001b[A\n",
      "Iteration 8 - Lambda: 0.16435832753849866, selected_count: 1159: : 9it [00:00, 25.55it/s]\u001b[A\n",
      "Iteration 9 - Lambda: 0.16764549408926863, selected_count: 1159: : 9it [00:00, 25.55it/s]\u001b[A\n",
      "Iteration 10 - Lambda: 0.170998403971054, selected_count: 1159: : 9it [00:00, 25.55it/s] \u001b[A\n",
      "Iteration 11 - Lambda: 0.17441837205047508, selected_count: 1159: : 9it [00:00, 25.55it/s]\u001b[A\n",
      "Iteration 11 - Lambda: 0.17441837205047508, selected_count: 1159: : 12it [00:00, 25.85it/s]\u001b[A\n",
      "Iteration 12 - Lambda: 0.17790673949148458, selected_count: 1159: : 12it [00:00, 25.85it/s]\u001b[A\n",
      "Iteration 13 - Lambda: 0.18146487428131428, selected_count: 1159: : 12it [00:00, 25.85it/s]\u001b[A\n",
      "Iteration 14 - Lambda: 0.18509417176694057, selected_count: 1159: : 12it [00:00, 25.85it/s]\u001b[A\n",
      "Iteration 14 - Lambda: 0.18509417176694057, selected_count: 1159: : 15it [00:00, 25.54it/s]\u001b[A\n",
      "Iteration 15 - Lambda: 0.18879605520227938, selected_count: 1159: : 15it [00:00, 25.54it/s]\u001b[A\n",
      "Iteration 16 - Lambda: 0.19257197630632497, selected_count: 1159: : 15it [00:00, 25.54it/s]\u001b[A\n",
      "Iteration 17 - Lambda: 0.1964234158324515, selected_count: 1159: : 15it [00:00, 25.54it/s] \u001b[A\n",
      "Iteration 17 - Lambda: 0.1964234158324515, selected_count: 1159: : 18it [00:00, 25.65it/s]\u001b[A\n",
      "Iteration 18 - Lambda: 0.20035188414910052, selected_count: 1159: : 18it [00:00, 25.65it/s]\u001b[A\n",
      "Iteration 19 - Lambda: 0.20435892183208254, selected_count: 1159: : 18it [00:00, 25.65it/s]\u001b[A\n",
      "Iteration 20 - Lambda: 0.2084461002687242, selected_count: 1159: : 18it [00:00, 25.65it/s] \u001b[A\n",
      "Iteration 20 - Lambda: 0.2084461002687242, selected_count: 1159: : 21it [00:00, 25.02it/s]\u001b[A\n",
      "Iteration 21 - Lambda: 0.2126150222740987, selected_count: 1159: : 21it [00:00, 25.02it/s]\u001b[A\n",
      "Iteration 22 - Lambda: 0.21686732271958067, selected_count: 1159: : 21it [00:00, 25.02it/s]\u001b[A\n",
      "Iteration 23 - Lambda: 0.2212046691739723, selected_count: 1159: : 21it [00:00, 25.02it/s] \u001b[A\n",
      "Iteration 23 - Lambda: 0.2212046691739723, selected_count: 1159: : 24it [00:00, 25.14it/s]\u001b[A\n",
      "Iteration 24 - Lambda: 0.22562876255745176, selected_count: 1159: : 24it [00:00, 25.14it/s]\u001b[A\n",
      "Iteration 25 - Lambda: 0.2301413378086008, selected_count: 1158: : 24it [00:00, 25.14it/s] \u001b[A\n",
      "Iteration 26 - Lambda: 0.23474416456477282, selected_count: 1158: : 24it [00:01, 25.14it/s]\u001b[A\n",
      "Iteration 26 - Lambda: 0.23474416456477282, selected_count: 1158: : 27it [00:01, 25.43it/s]\u001b[A\n",
      "Iteration 27 - Lambda: 0.2394390478560683, selected_count: 1158: : 27it [00:01, 25.43it/s] \u001b[A\n",
      "Iteration 28 - Lambda: 0.24422782881318966, selected_count: 1156: : 27it [00:01, 25.43it/s]\u001b[A\n",
      "Iteration 29 - Lambda: 0.24911238538945346, selected_count: 1156: : 27it [00:01, 25.43it/s]\u001b[A\n",
      "Iteration 29 - Lambda: 0.24911238538945346, selected_count: 1156: : 30it [00:01, 25.17it/s]\u001b[A\n",
      "Iteration 30 - Lambda: 0.25409463309724256, selected_count: 1156: : 30it [00:01, 25.17it/s]\u001b[A\n",
      "Iteration 31 - Lambda: 0.2591765257591874, selected_count: 1156: : 30it [00:01, 25.17it/s] \u001b[A\n",
      "Iteration 32 - Lambda: 0.2643600562743712, selected_count: 1156: : 30it [00:01, 25.17it/s]\u001b[A\n",
      "Iteration 32 - Lambda: 0.2643600562743712, selected_count: 1156: : 33it [00:01, 25.05it/s]\u001b[A\n",
      "Iteration 33 - Lambda: 0.2696472573998586, selected_count: 1155: : 33it [00:01, 25.05it/s]\u001b[A\n",
      "Iteration 34 - Lambda: 0.27504020254785577, selected_count: 1155: : 33it [00:01, 25.05it/s]\u001b[A\n",
      "Iteration 35 - Lambda: 0.28054100659881287, selected_count: 1155: : 33it [00:01, 25.05it/s]\u001b[A\n",
      "Iteration 35 - Lambda: 0.28054100659881287, selected_count: 1155: : 36it [00:01, 25.23it/s]\u001b[A\n",
      "Iteration 36 - Lambda: 0.28615182673078915, selected_count: 1155: : 36it [00:01, 25.23it/s]\u001b[A\n",
      "Iteration 37 - Lambda: 0.29187486326540496, selected_count: 1155: : 36it [00:01, 25.23it/s]\u001b[A\n",
      "Iteration 38 - Lambda: 0.29771236053071304, selected_count: 1155: : 36it [00:01, 25.23it/s]\u001b[A\n",
      "Iteration 38 - Lambda: 0.29771236053071304, selected_count: 1155: : 39it [00:01, 25.34it/s]\u001b[A\n",
      "Iteration 39 - Lambda: 0.3036666077413273, selected_count: 1155: : 39it [00:01, 25.34it/s] \u001b[A\n",
      "Iteration 40 - Lambda: 0.30973993989615384, selected_count: 1155: : 39it [00:01, 25.34it/s]\u001b[A\n",
      "Iteration 41 - Lambda: 0.3159347386940769, selected_count: 1155: : 39it [00:01, 25.34it/s] \u001b[A\n",
      "Iteration 41 - Lambda: 0.3159347386940769, selected_count: 1155: : 42it [00:01, 25.37it/s]\u001b[A\n",
      "Iteration 42 - Lambda: 0.32225343346795843, selected_count: 1155: : 42it [00:01, 25.37it/s]\u001b[A\n",
      "Iteration 43 - Lambda: 0.3286985021373176, selected_count: 1155: : 42it [00:01, 25.37it/s] \u001b[A\n",
      "Iteration 44 - Lambda: 0.33527247218006395, selected_count: 1155: : 42it [00:01, 25.37it/s]\u001b[A\n",
      "Iteration 44 - Lambda: 0.33527247218006395, selected_count: 1155: : 45it [00:01, 25.26it/s]\u001b[A\n",
      "Iteration 45 - Lambda: 0.34197792162366525, selected_count: 1155: : 45it [00:01, 25.26it/s]\u001b[A\n",
      "Iteration 46 - Lambda: 0.34881748005613855, selected_count: 1155: : 45it [00:01, 25.26it/s]\u001b[A\n",
      "Iteration 47 - Lambda: 0.3557938296572613, selected_count: 1155: : 45it [00:01, 25.26it/s] \u001b[A\n",
      "Iteration 47 - Lambda: 0.3557938296572613, selected_count: 1155: : 48it [00:01, 25.18it/s]\u001b[A\n",
      "Iteration 48 - Lambda: 0.3629097062504065, selected_count: 1155: : 48it [00:01, 25.18it/s]\u001b[A\n",
      "Iteration 49 - Lambda: 0.37016790037541464, selected_count: 1155: : 48it [00:01, 25.18it/s]\u001b[A\n",
      "Iteration 50 - Lambda: 0.37757125838292294, selected_count: 1154: : 48it [00:01, 25.18it/s]\u001b[A\n",
      "Iteration 50 - Lambda: 0.37757125838292294, selected_count: 1154: : 51it [00:02, 25.32it/s]\u001b[A\n",
      "Iteration 51 - Lambda: 0.3851226835505814, selected_count: 1154: : 51it [00:02, 25.32it/s] \u001b[A\n",
      "Iteration 52 - Lambda: 0.392825137221593, selected_count: 1154: : 51it [00:02, 25.32it/s] \u001b[A\n",
      "Iteration 53 - Lambda: 0.4006816399660249, selected_count: 1154: : 51it [00:02, 25.32it/s]\u001b[A\n",
      "Iteration 53 - Lambda: 0.4006816399660249, selected_count: 1154: : 54it [00:02, 25.28it/s]\u001b[A\n",
      "Iteration 54 - Lambda: 0.4086952727653454, selected_count: 1154: : 54it [00:02, 25.28it/s]\u001b[A\n",
      "Iteration 55 - Lambda: 0.41686917822065234, selected_count: 1154: : 54it [00:02, 25.28it/s]\u001b[A\n",
      "Iteration 56 - Lambda: 0.4252065617850654, selected_count: 1154: : 54it [00:02, 25.28it/s] \u001b[A\n",
      "Iteration 56 - Lambda: 0.4252065617850654, selected_count: 1154: : 57it [00:02, 25.26it/s]\u001b[A\n",
      "Iteration 57 - Lambda: 0.4337106930207667, selected_count: 1150: : 57it [00:02, 25.26it/s]\u001b[A\n",
      "Iteration 58 - Lambda: 0.44238490688118204, selected_count: 1150: : 57it [00:02, 25.26it/s]\u001b[A\n",
      "Iteration 59 - Lambda: 0.4512326050188057, selected_count: 1147: : 57it [00:02, 25.26it/s] \u001b[A\n",
      "Iteration 59 - Lambda: 0.4512326050188057, selected_count: 1147: : 60it [00:02, 25.25it/s]\u001b[A\n",
      "Iteration 60 - Lambda: 0.4602572571191818, selected_count: 1147: : 60it [00:02, 25.25it/s]\u001b[A\n",
      "Iteration 61 - Lambda: 0.46946240226156544, selected_count: 1146: : 60it [00:02, 25.25it/s]\u001b[A\n",
      "Iteration 62 - Lambda: 0.47885165030679677, selected_count: 1143: : 60it [00:02, 25.25it/s]\u001b[A\n",
      "Iteration 62 - Lambda: 0.47885165030679677, selected_count: 1143: : 63it [00:02, 25.36it/s]\u001b[A\n",
      "Iteration 63 - Lambda: 0.4884286833129327, selected_count: 1143: : 63it [00:02, 25.36it/s] \u001b[A\n",
      "Iteration 64 - Lambda: 0.49819725697919137, selected_count: 1143: : 63it [00:02, 25.36it/s]\u001b[A\n",
      "Iteration 65 - Lambda: 0.5081612021187752, selected_count: 1141: : 63it [00:02, 25.36it/s] \u001b[A\n",
      "Iteration 65 - Lambda: 0.5081612021187752, selected_count: 1141: : 66it [00:02, 25.32it/s]\u001b[A\n",
      "Iteration 66 - Lambda: 0.5183244261611507, selected_count: 1138: : 66it [00:02, 25.32it/s]\u001b[A\n",
      "Iteration 67 - Lambda: 0.5286909146843737, selected_count: 1138: : 66it [00:02, 25.32it/s]\u001b[A\n",
      "Iteration 68 - Lambda: 0.5392647329780612, selected_count: 1134: : 66it [00:02, 25.32it/s]\u001b[A\n",
      "Iteration 68 - Lambda: 0.5392647329780612, selected_count: 1134: : 69it [00:02, 25.29it/s]\u001b[A\n",
      "Iteration 69 - Lambda: 0.5500500276376225, selected_count: 1133: : 69it [00:02, 25.29it/s]\u001b[A\n",
      "Iteration 70 - Lambda: 0.5610510281903749, selected_count: 1132: : 69it [00:02, 25.29it/s]\u001b[A\n",
      "Iteration 71 - Lambda: 0.5722720487541824, selected_count: 1132: : 69it [00:02, 25.29it/s]\u001b[A\n",
      "Iteration 71 - Lambda: 0.5722720487541824, selected_count: 1132: : 72it [00:03, 14.21it/s]\u001b[A\n",
      "Iteration 72 - Lambda: 0.5837174897292661, selected_count: 1116: : 72it [00:03, 14.21it/s]\u001b[A\n",
      "Iteration 73 - Lambda: 0.5953918395238514, selected_count: 1098: : 72it [00:03, 14.21it/s]\u001b[A\n",
      "Iteration 73 - Lambda: 0.5953918395238514, selected_count: 1098: : 74it [00:03,  7.76it/s]\u001b[A\n",
      "Iteration 74 - Lambda: 0.6072996763143285, selected_count: 1084: : 74it [00:03,  7.76it/s]\u001b[A\n",
      "Iteration 75 - Lambda: 0.619445669840615, selected_count: 1059: : 74it [00:04,  7.76it/s] \u001b[A\n",
      "Iteration 75 - Lambda: 0.619445669840615, selected_count: 1059: : 76it [00:04,  5.59it/s]\u001b[A\n",
      "Iteration 76 - Lambda: 0.6318345832374274, selected_count: 1021: : 76it [00:04,  5.59it/s]\u001b[A\n",
      "Iteration 77 - Lambda: 0.6444712749021759, selected_count: 993: : 76it [00:04,  5.59it/s] \u001b[A\n",
      "Iteration 77 - Lambda: 0.6444712749021759, selected_count: 993: : 78it [00:05,  4.53it/s]\u001b[A\n",
      "Iteration 78 - Lambda: 0.6573607004002194, selected_count: 969: : 78it [00:05,  4.53it/s]\u001b[A\n",
      "Iteration 78 - Lambda: 0.6573607004002194, selected_count: 969: : 79it [00:05,  4.19it/s]\u001b[A\n",
      "Iteration 79 - Lambda: 0.6705079144082239, selected_count: 918: : 79it [00:05,  4.19it/s]\u001b[A\n",
      "Iteration 79 - Lambda: 0.6705079144082239, selected_count: 918: : 80it [00:05,  3.90it/s]\u001b[A\n",
      "Iteration 80 - Lambda: 0.6839180726963884, selected_count: 871: : 80it [00:05,  3.90it/s]\u001b[A\n",
      "Iteration 80 - Lambda: 0.6839180726963884, selected_count: 871: : 81it [00:06,  3.67it/s]\u001b[A\n",
      "Iteration 81 - Lambda: 0.6975964341503161, selected_count: 825: : 81it [00:06,  3.67it/s]\u001b[A\n",
      "Iteration 81 - Lambda: 0.6975964341503161, selected_count: 825: : 82it [00:06,  3.49it/s]\u001b[A\n",
      "Iteration 82 - Lambda: 0.7115483628333225, selected_count: 786: : 82it [00:06,  3.49it/s]\u001b[A\n",
      "Iteration 82 - Lambda: 0.7115483628333225, selected_count: 786: : 83it [00:06,  3.35it/s]\u001b[A\n",
      "Iteration 83 - Lambda: 0.725779330089989, selected_count: 736: : 83it [00:06,  3.35it/s] \u001b[A\n",
      "Iteration 83 - Lambda: 0.725779330089989, selected_count: 736: : 84it [00:07,  3.22it/s]\u001b[A\n",
      "Iteration 84 - Lambda: 0.7402949166917887, selected_count: 690: : 84it [00:07,  3.22it/s]\u001b[A\n",
      "Iteration 84 - Lambda: 0.7402949166917887, selected_count: 690: : 85it [00:07,  2.84it/s]\u001b[A\n",
      "Iteration 85 - Lambda: 0.7551008150256245, selected_count: 636: : 85it [00:07,  2.84it/s]\u001b[A\n",
      "Iteration 85 - Lambda: 0.7551008150256245, selected_count: 636: : 86it [00:08,  2.48it/s]\u001b[A\n",
      "Iteration 86 - Lambda: 0.7702028313261371, selected_count: 571: : 86it [00:08,  2.48it/s]\u001b[A\n",
      "Iteration 86 - Lambda: 0.7702028313261371, selected_count: 571: : 87it [00:08,  2.26it/s]\u001b[A\n",
      "Iteration 87 - Lambda: 0.7856068879526599, selected_count: 494: : 87it [00:08,  2.26it/s]\u001b[A\n",
      "Iteration 87 - Lambda: 0.7856068879526599, selected_count: 494: : 88it [00:09,  2.20it/s]\u001b[A\n",
      "Iteration 88 - Lambda: 0.8013190257117131, selected_count: 426: : 88it [00:09,  2.20it/s]\u001b[A\n",
      "Iteration 89 - Lambda: 0.8173454062259474, selected_count: 421: : 88it [00:09,  2.20it/s]\u001b[A\n",
      "Iteration 90 - Lambda: 0.8336923143504664, selected_count: 412: : 88it [00:09,  2.20it/s]\u001b[A\n",
      "Iteration 90 - Lambda: 0.8336923143504664, selected_count: 412: : 91it [00:09,  4.43it/s]\u001b[A\n",
      "Iteration 91 - Lambda: 0.8503661606374757, selected_count: 409: : 91it [00:09,  4.43it/s]\u001b[A\n",
      "Iteration 92 - Lambda: 0.8673734838502253, selected_count: 401: : 91it [00:09,  4.43it/s]\u001b[A\n",
      "Iteration 93 - Lambda: 0.8847209535272298, selected_count: 392: : 91it [00:09,  4.43it/s]\u001b[A\n",
      "Iteration 93 - Lambda: 0.8847209535272298, selected_count: 392: : 94it [00:09,  6.94it/s]\u001b[A\n",
      "Iteration 94 - Lambda: 0.9024153725977744, selected_count: 390: : 94it [00:09,  6.94it/s]\u001b[A\n",
      "Iteration 95 - Lambda: 0.9204636800497299, selected_count: 384: : 94it [00:09,  6.94it/s]\u001b[A\n",
      "Iteration 96 - Lambda: 0.9388729536507245, selected_count: 373: : 94it [00:09,  6.94it/s]\u001b[A\n",
      "Iteration 96 - Lambda: 0.9388729536507245, selected_count: 373: : 97it [00:09,  9.66it/s]\u001b[A\n",
      "Iteration 97 - Lambda: 0.9576504127237391, selected_count: 365: : 97it [00:09,  9.66it/s]\u001b[A\n",
      "Iteration 98 - Lambda: 0.9768034209782138, selected_count: 359: : 97it [00:09,  9.66it/s]\u001b[A\n",
      "Iteration 99 - Lambda: 0.9963394893977782, selected_count: 348: : 97it [00:09,  9.66it/s]\u001b[A\n",
      "Iteration 99 - Lambda: 0.9963394893977782, selected_count: 348: : 100it [00:09, 12.27it/s]\u001b[A\n",
      "Iteration 100 - Lambda: 1.0162662791857338, selected_count: 340: : 100it [00:09, 12.27it/s]\u001b[A\n",
      "Iteration 101 - Lambda: 1.0365916047694486, selected_count: 336: : 100it [00:09, 12.27it/s]\u001b[A\n",
      "Iteration 102 - Lambda: 1.0573234368648377, selected_count: 330: : 100it [00:09, 12.27it/s]\u001b[A\n",
      "Iteration 102 - Lambda: 1.0573234368648377, selected_count: 330: : 103it [00:09, 14.76it/s]\u001b[A\n",
      "Iteration 103 - Lambda: 1.0784699056021345, selected_count: 328: : 103it [00:09, 14.76it/s]\u001b[A\n",
      "Iteration 104 - Lambda: 1.1000393037141771, selected_count: 324: : 103it [00:09, 14.76it/s]\u001b[A\n",
      "Iteration 105 - Lambda: 1.1220400897884606, selected_count: 315: : 103it [00:09, 14.76it/s]\u001b[A\n",
      "Iteration 105 - Lambda: 1.1220400897884606, selected_count: 315: : 106it [00:09, 16.66it/s]\u001b[A\n",
      "Iteration 106 - Lambda: 1.1444808915842297, selected_count: 311: : 106it [00:09, 16.66it/s]\u001b[A\n",
      "Iteration 107 - Lambda: 1.1673705094159144, selected_count: 302: : 106it [00:10, 16.66it/s]\u001b[A\n",
      "Iteration 108 - Lambda: 1.1907179196042326, selected_count: 296: : 106it [00:10, 16.66it/s]\u001b[A\n",
      "Iteration 108 - Lambda: 1.1907179196042326, selected_count: 296: : 109it [00:10, 18.41it/s]\u001b[A\n",
      "Iteration 109 - Lambda: 1.2145322779963172, selected_count: 291: : 109it [00:10, 18.41it/s]\u001b[A\n",
      "Iteration 110 - Lambda: 1.2388229235562436, selected_count: 283: : 109it [00:10, 18.41it/s]\u001b[A\n",
      "Iteration 111 - Lambda: 1.2635993820273685, selected_count: 278: : 109it [00:10, 18.41it/s]\u001b[A\n",
      "Iteration 111 - Lambda: 1.2635993820273685, selected_count: 278: : 112it [00:10, 19.81it/s]\u001b[A\n",
      "Iteration 112 - Lambda: 1.288871369667916, selected_count: 273: : 112it [00:10, 19.81it/s] \u001b[A\n",
      "Iteration 113 - Lambda: 1.3146487970612744, selected_count: 265: : 112it [00:10, 19.81it/s]\u001b[A\n",
      "Iteration 114 - Lambda: 1.3409417730025, selected_count: 259: : 112it [00:10, 19.81it/s]   \u001b[A\n",
      "Iteration 114 - Lambda: 1.3409417730025, selected_count: 259: : 115it [00:10, 21.12it/s]\u001b[A\n",
      "Iteration 115 - Lambda: 1.36776060846255, selected_count: 252: : 115it [00:10, 21.12it/s]\u001b[A\n",
      "Iteration 116 - Lambda: 1.395115820631801, selected_count: 245: : 115it [00:10, 21.12it/s]\u001b[A\n",
      "Iteration 117 - Lambda: 1.423018137044437, selected_count: 233: : 115it [00:10, 21.12it/s]\u001b[A\n",
      "Iteration 117 - Lambda: 1.423018137044437, selected_count: 233: : 118it [00:10, 22.22it/s]\u001b[A\n",
      "Iteration 118 - Lambda: 1.4514784997853258, selected_count: 222: : 118it [00:10, 22.22it/s]\u001b[A\n",
      "Iteration 119 - Lambda: 1.4805080697810324, selected_count: 217: : 118it [00:10, 22.22it/s]\u001b[A\n",
      "Iteration 120 - Lambda: 1.5101182311766532, selected_count: 206: : 118it [00:10, 22.22it/s]\u001b[A\n",
      "Iteration 120 - Lambda: 1.5101182311766532, selected_count: 206: : 121it [00:10, 20.10it/s]\u001b[A\n",
      "Iteration 121 - Lambda: 1.5403205958001862, selected_count: 192: : 121it [00:10, 20.10it/s]\u001b[A\n",
      "Iteration 122 - Lambda: 1.57112700771619, selected_count: 185: : 121it [00:10, 20.10it/s]  \u001b[A\n",
      "Iteration 123 - Lambda: 1.6025495478705138, selected_count: 174: : 121it [00:10, 20.10it/s]\u001b[A\n",
      "Iteration 123 - Lambda: 1.6025495478705138, selected_count: 174: : 124it [00:10, 20.03it/s]\u001b[A\n",
      "Iteration 124 - Lambda: 1.634600538827924, selected_count: 166: : 124it [00:10, 20.03it/s] \u001b[A\n",
      "Iteration 125 - Lambda: 1.6672925496044826, selected_count: 154: : 124it [00:10, 20.03it/s]\u001b[A\n",
      "Iteration 126 - Lambda: 1.7006384005965722, selected_count: 145: : 124it [00:10, 20.03it/s]\u001b[A\n",
      "Iteration 126 - Lambda: 1.7006384005965722, selected_count: 145: : 127it [00:10, 21.49it/s]\u001b[A\n",
      "Iteration 127 - Lambda: 1.7346511686085038, selected_count: 137: : 127it [00:10, 21.49it/s]\u001b[A\n",
      "Iteration 128 - Lambda: 1.7693441919806738, selected_count: 132: : 127it [00:10, 21.49it/s]\u001b[A\n",
      "Iteration 129 - Lambda: 1.8047310758202872, selected_count: 124: : 127it [00:10, 21.49it/s]\u001b[A\n",
      "Iteration 129 - Lambda: 1.8047310758202872, selected_count: 124: : 130it [00:11, 22.54it/s]\u001b[A\n",
      "Iteration 130 - Lambda: 1.840825697336693, selected_count: 115: : 130it [00:11, 22.54it/s] \u001b[A\n",
      "Iteration 131 - Lambda: 1.8776422112834268, selected_count: 111: : 130it [00:11, 22.54it/s]\u001b[A\n",
      "Iteration 132 - Lambda: 1.9151950555090953, selected_count: 102: : 130it [00:11, 22.54it/s]\u001b[A\n",
      "Iteration 132 - Lambda: 1.9151950555090953, selected_count: 102: : 133it [00:11, 23.45it/s]\u001b[A\n",
      "Iteration 133 - Lambda: 1.9534989566192773, selected_count: 94: : 133it [00:11, 23.45it/s] \u001b[A\n",
      "Iteration 134 - Lambda: 1.992568935751663, selected_count: 88: : 133it [00:11, 23.45it/s] \u001b[A\n",
      "Iteration 135 - Lambda: 2.0324203144666964, selected_count: 80: : 133it [00:11, 23.45it/s]\u001b[A\n",
      "Iteration 135 - Lambda: 2.0324203144666964, selected_count: 80: : 136it [00:11, 24.18it/s]\u001b[A\n",
      "Iteration 136 - Lambda: 2.07306872075603, selected_count: 74: : 136it [00:11, 24.18it/s]  \u001b[A\n",
      "Iteration 137 - Lambda: 2.1145300951711508, selected_count: 68: : 136it [00:11, 24.18it/s]\u001b[A\n",
      "Iteration 138 - Lambda: 2.156820697074574, selected_count: 62: : 136it [00:11, 24.18it/s] \u001b[A\n",
      "Iteration 138 - Lambda: 2.156820697074574, selected_count: 62: : 139it [00:11, 24.36it/s]\u001b[A\n",
      "Iteration 139 - Lambda: 2.199957111016065, selected_count: 56: : 139it [00:11, 24.36it/s]\u001b[A\n",
      "Iteration 140 - Lambda: 2.2439562532363864, selected_count: 48: : 139it [00:11, 24.36it/s]\u001b[A\n",
      "Iteration 141 - Lambda: 2.288835378301114, selected_count: 44: : 139it [00:11, 24.36it/s] \u001b[A\n",
      "Iteration 141 - Lambda: 2.288835378301114, selected_count: 44: : 142it [00:11, 24.79it/s]\u001b[A\n",
      "Iteration 142 - Lambda: 2.3346120858671364, selected_count: 38: : 142it [00:11, 24.79it/s]\u001b[A\n",
      "Iteration 143 - Lambda: 2.381304327584479, selected_count: 34: : 142it [00:11, 24.79it/s] \u001b[A\n",
      "Iteration 144 - Lambda: 2.4289304141361687, selected_count: 30: : 142it [00:11, 24.79it/s]\u001b[A\n",
      "Iteration 144 - Lambda: 2.4289304141361687, selected_count: 30: : 145it [00:11, 25.11it/s]\u001b[A\n",
      "Iteration 145 - Lambda: 2.477509022418892, selected_count: 26: : 145it [00:11, 25.11it/s] \u001b[A\n",
      "Iteration 146 - Lambda: 2.52705920286727, selected_count: 23: : 145it [00:11, 25.11it/s] \u001b[A\n",
      "Iteration 147 - Lambda: 2.5776003869246153, selected_count: 17: : 145it [00:11, 25.11it/s]\u001b[A\n",
      "Iteration 147 - Lambda: 2.5776003869246153, selected_count: 17: : 148it [00:11, 25.20it/s]\u001b[A\n",
      "Iteration 148 - Lambda: 2.629152394663108, selected_count: 13: : 148it [00:11, 25.20it/s] \u001b[A\n",
      "Iteration 149 - Lambda: 2.68173544255637, selected_count: 13: : 148it [00:11, 25.20it/s] \u001b[A\n",
      "Iteration 150 - Lambda: 2.7353701514074973, selected_count: 10: : 148it [00:11, 25.20it/s]\u001b[A\n",
      "Iteration 150 - Lambda: 2.7353701514074973, selected_count: 10: : 151it [00:11, 25.20it/s]\u001b[A\n",
      "Iteration 151 - Lambda: 2.7900775544356473, selected_count: 8: : 151it [00:11, 25.20it/s] \u001b[A\n",
      "Iteration 152 - Lambda: 2.8458791055243604, selected_count: 7: : 151it [00:11, 25.20it/s]\u001b[A\n",
      "Iteration 153 - Lambda: 2.9027966876348477, selected_count: 7: : 151it [00:11, 25.20it/s]\u001b[A\n",
      "Iteration 153 - Lambda: 2.9027966876348477, selected_count: 7: : 154it [00:11, 25.08it/s]\u001b[A\n",
      "Iteration 154 - Lambda: 2.9608526213875446, selected_count: 5: : 154it [00:11, 25.08it/s]\u001b[A\n",
      "Iteration 155 - Lambda: 3.0200696738152955, selected_count: 5: : 154it [00:12, 25.08it/s]\u001b[A\n",
      "Iteration 156 - Lambda: 3.0804710672916014, selected_count: 3: : 154it [00:12, 25.08it/s]\u001b[A\n",
      "Iteration 156 - Lambda: 3.0804710672916014, selected_count: 3: : 157it [00:12, 25.24it/s]\u001b[A\n",
      "Iteration 157 - Lambda: 3.1420804886374336, selected_count: 1: : 157it [00:12, 12.98it/s]\u001b[A\n"
     ]
    },
    {
     "data": {
      "image/png": "[encoded data removed]",
      "text/plain": [
       "<Figure size 864x864 with 3 Axes>"
      ]
     },
     "metadata": {
      "needs_background": "light"
     },
     "output_type": "display_data"
    }
   ],
   "source": [
    "models_lassonet, paths_lassonet = train_lassonet(c1_r2, \"c1_r2\", load_models=False)\n",
    "all_n_selected, all_accuracy, all_lambda_ = plot_metrics(models_lassonet, paths_lassonet)"
   ]
  },
  {
   "cell_type": "markdown",
   "metadata": {
    "id": "dOTDeTn-aGfx"
   },
   "source": [
    "## Examine Sparsity"
   ]
  },
  {
   "cell_type": "code",
   "execution_count": 25,
   "metadata": {
    "colab": {
     "base_uri": "https://localhost:8080/",
     "height": 795
    },
    "id": "Z1UqKn7voJuw",
    "outputId": "43408399-6f03-48ad-c1bf-9466c2cdd809"
   },
   "outputs": [
    {
     "name": "stdout",
     "output_type": "stream",
     "text": [
      "Model number: 75\n"
     ]
    },
    {
     "data": {
      "image/png": "[encoded data removed]",
      "text/plain": [
       "<Figure size 720x360 with 1 Axes>"
      ]
     },
     "metadata": {
      "needs_background": "light"
     },
     "output_type": "display_data"
    },
    {
     "name": "stdout",
     "output_type": "stream",
     "text": [
      "Model number: 267\n"
     ]
    },
    {
     "data": {
      "image/png": "[encoded data removed]",
      "text/plain": [
       "<Figure size 720x360 with 1 Axes>"
      ]
     },
     "metadata": {
      "needs_background": "light"
     },
     "output_type": "display_data"
    },
    {
     "name": "stdout",
     "output_type": "stream",
     "text": [
      "Model number: 82\n"
     ]
    },
    {
     "data": {
      "image/png": "[encoded data removed]",
      "text/plain": [
       "<Figure size 720x360 with 1 Axes>"
      ]
     },
     "metadata": {
      "needs_background": "light"
     },
     "output_type": "display_data"
    }
   ],
   "source": [
    "# view sparse locations on example model\n",
    "\n",
    "N_FEATURES = 800 # determine by inspection\n",
    "\n",
    "all_n_selected = np.array(all_n_selected) # default sorted from greatest to least\n",
    "indices = [] # indices of particular model to choose from path of models, one index for each model in ensemble\n",
    "\n",
    "# examine 3 example\n",
    "for i in range(NUM_MODELS):\n",
    "    n_selected = all_n_selected[i]\n",
    "    idx = list(n_features < N_FEATURES for n_features in n_selected).index(True) # find first index with number of features < N_FEATURES\n",
    "    paths_lassonet[i][idx].selected.reshape(29, 2, 20).numpy()\n",
    "    indices.append(idx)\n",
    "\n",
    "    print(\"Model number:\", idx)\n",
    "    plt.figure(figsize=(10, 5))\n",
    "    plt.imshow(paths_lassonet[i][idx].selected.reshape(29, 2, 20).reshape(58, 20).numpy().T, cmap='hot', interpolation='nearest')\n",
    "    plt.show()\n",
    "\n",
    "    # white pixels are 1 and black pixels are 0\n",
    "    # left: substitution, right: insertion\n",
    "    # looks like insertions have so much effect"
   ]
  },
  {
   "cell_type": "markdown",
   "metadata": {
    "id": "EAclExs4aJuV"
   },
   "source": [
    "# Model-selected Seeds"
   ]
  },
  {
   "cell_type": "code",
   "execution_count": 26,
   "metadata": {
    "id": "rE6p0MXwLxE1"
   },
   "outputs": [],
   "source": [
    "NUM_SAMPLES_PER_MUTATION = int(1000)\n",
    "N_LARGEST_VIABILITIES_SEED = 50\n",
    "mut_dists = np.arange(5, 26)\n",
    "load_samples = False\n",
    "\n",
    "WT_ENCODED = mut_encoder.encode(R1_TILE21_WT_SEQ).reshape(-1, 20)\n",
    "\n",
    "# let's store everything as a (58, 20) object"
   ]
  },
  {
   "cell_type": "markdown",
   "metadata": {
    "id": "U24I-LLmztrX"
   },
   "source": [
    "## Create Samples"
   ]
  },
  {
   "cell_type": "code",
   "execution_count": 27,
   "metadata": {
    "colab": {
     "base_uri": "https://localhost:8080/",
     "height": 49,
     "referenced_widgets": [
      "ed2a422332a04cd7b1f744c853afd596",
      "37eb1689805146898507d10e8f42fa64",
      "e9659d171e804b5b80218c581fcb8452",
      "0b3e89fe1e8a4ecbbe3ccb6925f1680b",
      "2a2d1ad687f641fc9bac97009dedca98",
      "c5fa31cb00754237bbcd7fca376aa9fe",
      "b63123ebba7f47d18364af3c45b0f49a",
      "ac90b586d2884ef7834e0fdd3d9b70ba",
      "6e1b3d0d036141a19ebf36b571461a25",
      "ea07fd8096cd484d9c5962077f77e13f",
      "a825916607134a07abbcf5a4895ef997"
     ]
    },
    "id": "5JA6ARoraMaS",
    "outputId": "ffaa6791-599f-4a04-9223-66c3d9b00589"
   },
   "outputs": [
    {
     "data": {
      "application/vnd.jupyter.widget-view+json": {
       "model_id": "8862c02fe4aa40db8cbc6d949388fcd5",
       "version_major": 2,
       "version_minor": 0
      },
      "text/plain": [
       "  0%|          | 0/21 [00:00<?, ?it/s]"
      ]
     },
     "metadata": {},
     "output_type": "display_data"
    }
   ],
   "source": [
    "# create initial samples at every level of mutation\n",
    "\n",
    "if load_samples:\n",
    "    with open(\"samples.pkl\", \"rb\") as file:\n",
    "        samples = pickle.load(file)\n",
    "else:\n",
    "    samples = {mut_dist: [] for mut_dist in mut_dists}\n",
    "\n",
    "    for mut_dist in tqdm(mut_dists):\n",
    "        for i in range(NUM_SAMPLES_PER_MUTATION):\n",
    "            sample_indices = np.random.choice(np.arange(1, 58), size=mut_dist, replace=False) # don't sample prefix substitution\n",
    "            sample = np.copy(WT_ENCODED)\n",
    "            for mut in sample_indices:\n",
    "                if mut % 2 == 0: # if it is a substitution / part of the original sequence\n",
    "                    idx = np.argmax(res_encoder.encode(R1_TILE21_WT_SEQ[(mut-1)//2]))\n",
    "                    residues_excluding_wt = np.setdiff1d(np.arange(20),np.array(idx)) # exclude wildtype from possible choices\n",
    "                    residue_idx = np.random.choice(residues_excluding_wt)\n",
    "                else:\n",
    "                    residue_idx = np.random.choice(np.arange(20))\n",
    "                sample[mut] = np.zeros(20)\n",
    "                sample[mut][residue_idx] = 1\n",
    "            samples[mut_dist].append(sample)\n",
    "\n",
    "if not load_samples:\n",
    "    with open(\"samples.pkl\", \"wb\") as file:\n",
    "        pickle.dump(samples, file)"
   ]
  },
  {
   "cell_type": "code",
   "execution_count": 28,
   "metadata": {
    "id": "Ki2aW3zpgqTI"
   },
   "outputs": [],
   "source": [
    "def calculate_mut_dist(sample):\n",
    "    ans = 0\n",
    "    for mut1, mut2 in zip(sample.reshape(-1, 20), WT_ENCODED.reshape(-1, 20)):\n",
    "        if np.any(mut1 != mut2):\n",
    "            ans += 1\n",
    "    return ans"
   ]
  },
  {
   "cell_type": "code",
   "execution_count": 29,
   "metadata": {
    "id": "su9Y7QQIzacf"
   },
   "outputs": [],
   "source": [
    "# model selected seeds\n",
    "\n",
    "def generate_best_muts(models, paths=None, samples=samples, topk=N_LARGEST_VIABILITIES_SEED):\n",
    "    \"\"\"\n",
    "    Given ensemble of models and samples, generate the top k viable samples for each mutation distance\n",
    "    If paths=None, can be used for logistic regression, etc.\n",
    "    \"\"\"\n",
    "    seeds = {mut_dist: [] for mut_dist in mut_dists}\n",
    "\n",
    "    for mut_dist in mut_dists:\n",
    "        # print(f\"Mutation distance: {mut_dist}\")\n",
    "        ensemble_y_pred_proba = np.zeros((NUM_MODELS, len(samples[mut_dist]), 2))\n",
    "        for i in range(NUM_MODELS):\n",
    "            if paths != None:\n",
    "                save = paths[i][indices[i]] # choose model from path of models\n",
    "                models[i].load(save.state_dict)\n",
    "            ensemble_y_pred_proba[i] = models[i].predict_proba(np.array(samples[mut_dist]).reshape(-1, 1160))\n",
    "        viable_proba = np.mean(ensemble_y_pred_proba, axis=0)[:,1] # probabilities of viabile\n",
    "        top_viable_indices = np.argpartition(viable_proba, -topk)[-topk:]\n",
    "\n",
    "        seeds[mut_dist] = np.array(samples[mut_dist])[top_viable_indices]\n",
    "\n",
    "    return seeds"
   ]
  },
  {
   "cell_type": "markdown",
   "metadata": {
    "id": "ej_aHNLRYrOx"
   },
   "source": [
    "## Train Logistic Regression as Benchmark"
   ]
  },
  {
   "cell_type": "code",
   "execution_count": 30,
   "metadata": {
    "id": "LVMH31u1Yu5z"
   },
   "outputs": [],
   "source": [
    "def train_logistic_regression(data, name):\n",
    "    X_train = []\n",
    "    for i in range(len(data)):\n",
    "        X_train.append(mut_encoder.encode(data[\"sequence\"][i]))\n",
    "    y_train = data[\"is_viable\"].to_numpy().astype(int)\n",
    "    X_train = np.array(X_train)\n",
    "\n",
    "    X_train = X_train.reshape(len(X_train), -1)\n",
    "\n",
    "    # define ensemble of models\n",
    "    models = [None]*NUM_MODELS\n",
    "    paths = [None]*NUM_MODELS\n",
    "\n",
    "    # train models\n",
    "    for i in tqdm(range(NUM_MODELS)):\n",
    "        models[i] = LogisticRegression(random_state=i)\n",
    "        models[i].fit(X_train, y_train)\n",
    "\n",
    "    return models, paths"
   ]
  },
  {
   "cell_type": "code",
   "execution_count": 31,
   "metadata": {
    "colab": {
     "base_uri": "https://localhost:8080/",
     "height": 477,
     "referenced_widgets": [
      "ad6a151f4b5145b5b86df9a32092be32",
      "279441a485b64e6e915efa0d476f7af6",
      "53e6c5b656e84592af0b47248c7449fb",
      "2146841a01a745c58889eb307e4ba6a6",
      "e0f9ae2f81ad4de29c931e091b0d4d37",
      "f5f9a778753c481ba380effdadacb9b4",
      "2d84542e925b497498c55568ec6f4ff6",
      "637d81a5c26b4e52a1ab40a6175f87a5",
      "fbe138603e5344479ab14d0db60b9193",
      "1d254f34d86a4f2894bf69ab286014a0",
      "f9a27affbb844d0dad2bb72d65d1ad69"
     ]
    },
    "id": "kWFY_a8jZg0j",
    "outputId": "29114c9d-c1d3-47bc-b6f4-cfc83456a7e7"
   },
   "outputs": [
    {
     "data": {
      "application/vnd.jupyter.widget-view+json": {
       "model_id": "28460aca642b4f7dbb990ea98c3c6e3e",
       "version_major": 2,
       "version_minor": 0
      },
      "text/plain": [
       "  0%|          | 0/3 [00:00<?, ?it/s]"
      ]
     },
     "metadata": {},
     "output_type": "display_data"
    },
    {
     "name": "stderr",
     "output_type": "stream",
     "text": [
      "C:\\Users\\William\\anaconda3\\envs\\stat195project\\lib\\site-packages\\sklearn\\linear_model\\_logistic.py:818: ConvergenceWarning: lbfgs failed to converge (status=1):\n",
      "STOP: TOTAL NO. of ITERATIONS REACHED LIMIT.\n",
      "\n",
      "Increase the number of iterations (max_iter) or scale the data as shown in:\n",
      "    https://scikit-learn.org/stable/modules/preprocessing.html\n",
      "Please also refer to the documentation for alternative solver options:\n",
      "    https://scikit-learn.org/stable/modules/linear_model.html#logistic-regression\n",
      "  extra_warning_msg=_LOGISTIC_SOLVER_CONVERGENCE_MSG,\n",
      "C:\\Users\\William\\anaconda3\\envs\\stat195project\\lib\\site-packages\\sklearn\\linear_model\\_logistic.py:818: ConvergenceWarning: lbfgs failed to converge (status=1):\n",
      "STOP: TOTAL NO. of ITERATIONS REACHED LIMIT.\n",
      "\n",
      "Increase the number of iterations (max_iter) or scale the data as shown in:\n",
      "    https://scikit-learn.org/stable/modules/preprocessing.html\n",
      "Please also refer to the documentation for alternative solver options:\n",
      "    https://scikit-learn.org/stable/modules/linear_model.html#logistic-regression\n",
      "  extra_warning_msg=_LOGISTIC_SOLVER_CONVERGENCE_MSG,\n",
      "C:\\Users\\William\\anaconda3\\envs\\stat195project\\lib\\site-packages\\sklearn\\linear_model\\_logistic.py:818: ConvergenceWarning: lbfgs failed to converge (status=1):\n",
      "STOP: TOTAL NO. of ITERATIONS REACHED LIMIT.\n",
      "\n",
      "Increase the number of iterations (max_iter) or scale the data as shown in:\n",
      "    https://scikit-learn.org/stable/modules/preprocessing.html\n",
      "Please also refer to the documentation for alternative solver options:\n",
      "    https://scikit-learn.org/stable/modules/linear_model.html#logistic-regression\n",
      "  extra_warning_msg=_LOGISTIC_SOLVER_CONVERGENCE_MSG,\n"
     ]
    }
   ],
   "source": [
    "models_logistic, paths_logistic = train_logistic_regression(c1_r2, \"c1_r2\")"
   ]
  },
  {
   "cell_type": "markdown",
   "metadata": {
    "id": "o4UnV7so7tAF"
   },
   "source": [
    "## Train Synthetic Model as Ground-Truth"
   ]
  },
  {
   "cell_type": "code",
   "execution_count": 32,
   "metadata": {
    "id": "fJvo680k8kbZ"
   },
   "outputs": [],
   "source": [
    "# train cnn model as ground truth\n",
    "\n",
    "def train_synthetic_model(data, name, load_model=True):\n",
    "\n",
    "    # prepare dataset\n",
    "    sequences = []\n",
    "    for i, row in data.iterrows():\n",
    "        seq = row['sequence']\n",
    "        np_seq = mut_encoder.encode(seq).astype(np.float32)\n",
    "        sequences.append(np_seq.reshape(1, -1, np_seq.shape[-1]))\n",
    "    sequences = np.concatenate(sequences, axis=0)\n",
    "\n",
    "    # split dataset\n",
    "    train_set, test_set = train_test_split(data, test_size=0.2)\n",
    "\n",
    "    # train model\n",
    "    device = torch.device('cuda' if torch.cuda.is_available() else 'cpu')\n",
    "    if load_model:\n",
    "        with open(f\"synthetic_{name}\", \"rb\") as file:\n",
    "            model = torch.load(file)\n",
    "    else:\n",
    "        model = CNNModel()\n",
    "        model.path(sequences[train_set.index.values], train_set['is_viable'].values)\n",
    "        \n",
    "        with open(f\"synthetic_{name}\", \"wb\") as file:\n",
    "            torch.save(model, file)\n",
    "\n",
    "    y_pred = model.predict(sequences[test_set.index.values])\n",
    "    print(f\"Accuracy of Synthetic Model on Test Set is {sum(y_pred == test_set['is_viable']) / len(y_pred)}\")\n",
    "\n",
    "    return model\n",
    "\n",
    "def test_synthetic_model(seeds, model, label=\"LassoNet\"):\n",
    "    accuracies = []\n",
    "    for mut_dist in mut_dists:\n",
    "        seeds_mut_dist = np.array(seeds[mut_dist]).reshape(-1, 58, 20)\n",
    "        synthetic_model_pred = model.predict(seeds_mut_dist.astype(np.float32))\n",
    "        accuracy = np.sum(synthetic_model_pred) / len(seeds[mut_dist])\n",
    "        # print(f\"Mutation distance: {mut_dist}, Accuracy according to Synthetic Model: {accuracy}\")\n",
    "        accuracies.append(accuracy)\n",
    "    \n",
    "    # plot accuracies\n",
    "    plt.plot(mut_dists, accuracies, label=label)\n",
    "    plt.scatter(mut_dists, accuracies)\n"
   ]
  },
  {
   "cell_type": "code",
   "execution_count": 33,
   "metadata": {
    "colab": {
     "base_uri": "https://localhost:8080/",
     "height": 335
    },
    "id": "0WIJO0gdbAlp",
    "outputId": "d7bf6df9-a280-4c71-f538-5a8a3f634d9e"
   },
   "outputs": [
    {
     "data": {
      "application/vnd.jupyter.widget-view+json": {
       "model_id": "9add79658c9548879f9db975897a0dce",
       "version_major": 2,
       "version_minor": 0
      },
      "text/plain": [
       "  0%|          | 0/30 [00:00<?, ?it/s]"
      ]
     },
     "metadata": {},
     "output_type": "display_data"
    },
    {
     "name": "stdout",
     "output_type": "stream",
     "text": [
      "Accuracy of Synthetic Model on Test Set is 0.9410464384703021\n"
     ]
    }
   ],
   "source": [
    "model_synthetic = train_synthetic_model(df_c1_r2, \"c1_r2\", load_model=False)"
   ]
  },
  {
   "cell_type": "markdown",
   "metadata": {
    "id": "9ZWPF9ua8-kP"
   },
   "source": [
    "## Test on Model-selected Seeds"
   ]
  },
  {
   "cell_type": "code",
   "execution_count": 35,
   "metadata": {
    "colab": {
     "base_uri": "https://localhost:8080/",
     "height": 407
    },
    "id": "rt2jaTe5ZpcS",
    "outputId": "0a2bcfe2-809c-4613-d72c-e7c2e648939b"
   },
   "outputs": [
    {
     "data": {
      "image/png": "[encoded data removed]",
      "text/plain": [
       "<Figure size 432x288 with 1 Axes>"
      ]
     },
     "metadata": {
      "needs_background": "light"
     },
     "output_type": "display_data"
    }
   ],
   "source": [
    "seeds_logistic = generate_best_muts(models_logistic, paths=None)\n",
    "test_synthetic_model(seeds_logistic, model_synthetic, label=\"logistic\")\n",
    "\n",
    "seeds = generate_best_muts(models_lassonet, paths_lassonet)\n",
    "test_synthetic_model(seeds, model_synthetic, label=\"lassonet\")\n",
    "\n",
    "plt.legend()\n",
    "plt.xlabel(\"number of mutations from wildtype\")\n",
    "plt.ylabel(\"% viability\")\n",
    "plt.title(\"Model-selected sequences\")\n",
    "plt.show()"
   ]
  },
  {
   "cell_type": "markdown",
   "metadata": {
    "id": "jZY70Fu-55Xw"
   },
   "source": [
    "# Model-designed Sequences"
   ]
  },
  {
   "cell_type": "code",
   "execution_count": 36,
   "metadata": {
    "id": "pEtnEHH-56Ul"
   },
   "outputs": [],
   "source": [
    "# change the black (irrelevant) features, and mutate in the design sequences process\n",
    "# we need two design processes, one for features and one imitating the regular one"
   ]
  },
  {
   "cell_type": "code",
   "execution_count": 37,
   "metadata": {
    "id": "lg9XP5-T2Q8p"
   },
   "outputs": [],
   "source": [
    "def mutate_samples_normal(samples):\n",
    "    new_samples_iterative = {mut_dist: [] for mut_dist in mut_dists}\n",
    "\n",
    "    for mut_dist in mut_dists:\n",
    "        samples_mut_dist = np.array(samples[mut_dist]).squeeze()\n",
    "        for sample in samples_mut_dist:\n",
    "            sample = np.copy(sample).reshape(58, 20)\n",
    "            mut = np.random.choice(np.arange(1, 58))\n",
    "            if mut % 2 == 0: # if it is a substitution / part of the original sequence\n",
    "                idx = np.argmax(res_encoder.encode(R1_TILE21_WT_SEQ[(mut-1)//2]))\n",
    "                residues_excluding_wt = np.setdiff1d(np.arange(20),np.array(idx)) # exclude wildtype from possible choices\n",
    "                residue_idx = np.random.choice(residues_excluding_wt)\n",
    "            else:\n",
    "                residue_idx = np.random.choice(np.arange(20))\n",
    "            sample[mut] = np.zeros(20)\n",
    "            sample[mut][residue_idx] = 1\n",
    "\n",
    "            sample_mut_dist = calculate_mut_dist(sample)\n",
    "            if 5 <= sample_mut_dist and sample_mut_dist < 26:\n",
    "                new_samples_iterative[sample_mut_dist].append(sample)\n",
    "    \n",
    "    return new_samples_iterative\n",
    "\n",
    "def mutate_samples_lasso(samples):\n",
    "    pass"
   ]
  },
  {
   "cell_type": "code",
   "execution_count": 38,
   "metadata": {
    "id": "2Vr47ZRIXxYa"
   },
   "outputs": [],
   "source": [
    "# random set of 250 single mutations\n",
    "# take the 50 highest scoring candidates, pass forward to next iteration\n",
    "# terminate the process after 20 iterations\n",
    "# aggregate with model-selected seeds, select the top 900 at each distance 5-25, top 500 at distances 26-29\n",
    "\n",
    "import copy\n",
    "NUM_ITERS = 2\n",
    "\n",
    "def iteratively_mutate_normal(models, samples, paths=None):\n",
    "    samples_iterative = copy.deepcopy(samples)\n",
    "    all_candidates = {mut_dist: [] for mut_dist in mut_dists}\n",
    "\n",
    "    for iter in tqdm(range(NUM_ITERS)):\n",
    "        # find best mutants according to model\n",
    "        new_samples_iterative = copy.deepcopy(generate_best_muts(models, paths=paths, samples=samples_iterative, topk=50))\n",
    "        \n",
    "        # append to growing list of total findings mutations\n",
    "        for mut_dist in mut_dists:\n",
    "            all_candidates[mut_dist].append(new_samples_iterative[mut_dist])\n",
    "\n",
    "        # mutate samples\n",
    "        new_samples_iterative = mutate_samples_normal(samples)\n",
    "        \n",
    "        samples_iterative = copy.deepcopy(new_samples_iterative)\n",
    "\n",
    "    # print(all_candidates)\n",
    "\n",
    "    for mut_dist in mut_dists:\n",
    "        # print(f\"MUT DIST: {mut_dist}\")\n",
    "        # for candidate in all_candidates[mut_dist]:\n",
    "            # print(candidate.shape)\n",
    "        all_candidates[mut_dist] = np.concatenate(all_candidates[mut_dist], axis=0)\n",
    "\n",
    "    return all_candidates"
   ]
  },
  {
   "cell_type": "code",
   "execution_count": 40,
   "metadata": {
    "colab": {
     "base_uri": "https://localhost:8080/",
     "height": 49,
     "referenced_widgets": [
      "b1cd9d3807e14547bef99f188bffe85b",
      "b722daae0a6a45ba88de1890fa0ba292",
      "e7c76eada452412aacfbe6a8a2f651a7",
      "e500c2f227f843a4966ffcb022993c44",
      "c5b2eade9f164b8a9293eff455810574",
      "a71395020e4f417cab0dd8d5a4e20628",
      "ddba94158574422bbc8152483e099207",
      "33a8bbd0347a4be4b2e679cf913a79e5",
      "360e3ecb8e214712b88eae2f61f32d40",
      "6f199fc1fea7491c92ea78b572f67860",
      "3172196d3ee64b20807ba4c4dc121b4a"
     ]
    },
    "id": "lYFW2qlPZpqr",
    "outputId": "80fff526-79eb-46e8-9201-552043b01501"
   },
   "outputs": [
    {
     "data": {
      "application/vnd.jupyter.widget-view+json": {
       "model_id": "8dcac1f636bb4f2d80c3780e272a73d0",
       "version_major": 2,
       "version_minor": 0
      },
      "text/plain": [
       "  0%|          | 0/2 [00:00<?, ?it/s]"
      ]
     },
     "metadata": {},
     "output_type": "display_data"
    }
   ],
   "source": [
    "best_samples = iteratively_mutate_normal(models_lassonet, samples, paths=paths_lassonet)"
   ]
  },
  {
   "cell_type": "code",
   "execution_count": 41,
   "metadata": {
    "colab": {
     "base_uri": "https://localhost:8080/"
    },
    "id": "doqChNQy6zr9",
    "outputId": "6def3512-3d07-4a5e-8bdc-95938f498264"
   },
   "outputs": [
    {
     "name": "stdout",
     "output_type": "stream",
     "text": [
      "(100, 58, 20)\n",
      "(100, 58, 20)\n",
      "(100, 58, 20)\n",
      "(100, 58, 20)\n",
      "(100, 58, 20)\n",
      "(100, 58, 20)\n",
      "(100, 58, 20)\n",
      "(100, 58, 20)\n",
      "(100, 58, 20)\n",
      "(100, 58, 20)\n",
      "(100, 58, 20)\n",
      "(100, 58, 20)\n",
      "(100, 58, 20)\n",
      "(100, 58, 20)\n",
      "(100, 58, 20)\n",
      "(100, 58, 20)\n",
      "(100, 58, 20)\n",
      "(100, 58, 20)\n",
      "(100, 58, 20)\n",
      "(100, 58, 20)\n",
      "(100, 58, 20)\n"
     ]
    }
   ],
   "source": [
    "for mut_dist in mut_dists:\n",
    "    print(best_samples[mut_dist].shape)"
   ]
  },
  {
   "cell_type": "markdown",
   "metadata": {
    "id": "wLxlh9pa-hKm"
   },
   "source": [
    "## Test on Model-designed Seeds"
   ]
  },
  {
   "cell_type": "code",
   "execution_count": 42,
   "metadata": {
    "id": "4smGj_bi-QSq"
   },
   "outputs": [
    {
     "data": {
      "application/vnd.jupyter.widget-view+json": {
       "model_id": "64a69329792e428d86bf9539cb420edb",
       "version_major": 2,
       "version_minor": 0
      },
      "text/plain": [
       "  0%|          | 0/2 [00:00<?, ?it/s]"
      ]
     },
     "metadata": {},
     "output_type": "display_data"
    },
    {
     "data": {
      "application/vnd.jupyter.widget-view+json": {
       "model_id": "ec2822c7960443cdbae24cdd09426082",
       "version_major": 2,
       "version_minor": 0
      },
      "text/plain": [
       "  0%|          | 0/2 [00:00<?, ?it/s]"
      ]
     },
     "metadata": {},
     "output_type": "display_data"
    },
    {
     "data": {
      "image/png": "[encoded data removed]",
      "text/plain": [
       "<Figure size 432x288 with 1 Axes>"
      ]
     },
     "metadata": {
      "needs_background": "light"
     },
     "output_type": "display_data"
    }
   ],
   "source": [
    "designed_logistic = iteratively_mutate_normal(models_logistic, samples=samples, paths=None)\n",
    "test_synthetic_model(designed_logistic, model_synthetic, label=\"logistic\")\n",
    "\n",
    "designed_lassonet = iteratively_mutate_normal(models_lassonet, samples=samples, paths=None)\n",
    "test_synthetic_model(designed_lassonet, model_synthetic, label=\"lassonet\")\n",
    "\n",
    "plt.legend()\n",
    "plt.xlabel(\"number of mutations from wildtype\")\n",
    "plt.ylabel(\"% viability\")\n",
    "plt.title(\"Model-selected sequences\")\n",
    "plt.show()"
   ]
  }
 ],
 "metadata": {
  "accelerator": "GPU",
  "colab": {
   "collapsed_sections": [],
   "name": "experimentation.ipynb",
   "provenance": []
  },
  "kernelspec": {
   "display_name": "Python 3 (ipykernel)",
   "language": "python",
   "name": "python3"
  },
  "language_info": {
   "codemirror_mode": {
    "name": "ipython",
    "version": 3
   },
   "file_extension": ".py",
   "mimetype": "text/x-python",
   "name": "python",
   "nbconvert_exporter": "python",
   "pygments_lexer": "ipython3",
   "version": "3.7.12"
  },
  "widgets": {
   "application/vnd.jupyter.widget-state+json": {
    "0b3e89fe1e8a4ecbbe3ccb6925f1680b": {
     "model_module": "@jupyter-widgets/controls",
     "model_module_version": "1.5.0",
     "model_name": "HTMLModel",
     "state": {
      "_dom_classes": [],
      "_model_module": "@jupyter-widgets/controls",
      "_model_module_version": "1.5.0",
      "_model_name": "HTMLModel",
      "_view_count": null,
      "_view_module": "@jupyter-widgets/controls",
      "_view_module_version": "1.5.0",
      "_view_name": "HTMLView",
      "description": "",
      "description_tooltip": null,
      "layout": "IPY_MODEL_ea07fd8096cd484d9c5962077f77e13f",
      "placeholder": "​",
      "style": "IPY_MODEL_a825916607134a07abbcf5a4895ef997",
      "value": " 21/21 [00:14&lt;00:00,  1.00s/it]"
     }
    },
    "0ff753a821ae4e72a36c554eb2bb89ac": {
     "model_module": "@jupyter-widgets/controls",
     "model_module_version": "1.5.0",
     "model_name": "DescriptionStyleModel",
     "state": {
      "_model_module": "@jupyter-widgets/controls",
      "_model_module_version": "1.5.0",
      "_model_name": "DescriptionStyleModel",
      "_view_count": null,
      "_view_module": "@jupyter-widgets/base",
      "_view_module_version": "1.2.0",
      "_view_name": "StyleView",
      "description_width": ""
     }
    },
    "172c16ce433f4f40bee2b9e8c8a0fcca": {
     "model_module": "@jupyter-widgets/controls",
     "model_module_version": "1.5.0",
     "model_name": "HBoxModel",
     "state": {
      "_dom_classes": [],
      "_model_module": "@jupyter-widgets/controls",
      "_model_module_version": "1.5.0",
      "_model_name": "HBoxModel",
      "_view_count": null,
      "_view_module": "@jupyter-widgets/controls",
      "_view_module_version": "1.5.0",
      "_view_name": "HBoxView",
      "box_style": "",
      "children": [
       "IPY_MODEL_934d07e2ae6342889f507f44bdc87dd1",
       "IPY_MODEL_e445ca6065dc4fdbbbfb81af14d86823",
       "IPY_MODEL_924aee5763a44fd1a6f0b86d9623158d"
      ],
      "layout": "IPY_MODEL_97ef6b5012f74b109e3565add7232d5d"
     }
    },
    "1d254f34d86a4f2894bf69ab286014a0": {
     "model_module": "@jupyter-widgets/base",
     "model_module_version": "1.2.0",
     "model_name": "LayoutModel",
     "state": {
      "_model_module": "@jupyter-widgets/base",
      "_model_module_version": "1.2.0",
      "_model_name": "LayoutModel",
      "_view_count": null,
      "_view_module": "@jupyter-widgets/base",
      "_view_module_version": "1.2.0",
      "_view_name": "LayoutView",
      "align_content": null,
      "align_items": null,
      "align_self": null,
      "border": null,
      "bottom": null,
      "display": null,
      "flex": null,
      "flex_flow": null,
      "grid_area": null,
      "grid_auto_columns": null,
      "grid_auto_flow": null,
      "grid_auto_rows": null,
      "grid_column": null,
      "grid_gap": null,
      "grid_row": null,
      "grid_template_areas": null,
      "grid_template_columns": null,
      "grid_template_rows": null,
      "height": null,
      "justify_content": null,
      "justify_items": null,
      "left": null,
      "margin": null,
      "max_height": null,
      "max_width": null,
      "min_height": null,
      "min_width": null,
      "object_fit": null,
      "object_position": null,
      "order": null,
      "overflow": null,
      "overflow_x": null,
      "overflow_y": null,
      "padding": null,
      "right": null,
      "top": null,
      "visibility": null,
      "width": null
     }
    },
    "2146841a01a745c58889eb307e4ba6a6": {
     "model_module": "@jupyter-widgets/controls",
     "model_module_version": "1.5.0",
     "model_name": "HTMLModel",
     "state": {
      "_dom_classes": [],
      "_model_module": "@jupyter-widgets/controls",
      "_model_module_version": "1.5.0",
      "_model_name": "HTMLModel",
      "_view_count": null,
      "_view_module": "@jupyter-widgets/controls",
      "_view_module_version": "1.5.0",
      "_view_name": "HTMLView",
      "description": "",
      "description_tooltip": null,
      "layout": "IPY_MODEL_1d254f34d86a4f2894bf69ab286014a0",
      "placeholder": "​",
      "style": "IPY_MODEL_f9a27affbb844d0dad2bb72d65d1ad69",
      "value": " 3/3 [00:01&lt;00:00,  1.67it/s]"
     }
    },
    "279441a485b64e6e915efa0d476f7af6": {
     "model_module": "@jupyter-widgets/controls",
     "model_module_version": "1.5.0",
     "model_name": "HTMLModel",
     "state": {
      "_dom_classes": [],
      "_model_module": "@jupyter-widgets/controls",
      "_model_module_version": "1.5.0",
      "_model_name": "HTMLModel",
      "_view_count": null,
      "_view_module": "@jupyter-widgets/controls",
      "_view_module_version": "1.5.0",
      "_view_name": "HTMLView",
      "description": "",
      "description_tooltip": null,
      "layout": "IPY_MODEL_f5f9a778753c481ba380effdadacb9b4",
      "placeholder": "​",
      "style": "IPY_MODEL_2d84542e925b497498c55568ec6f4ff6",
      "value": "100%"
     }
    },
    "2a2d1ad687f641fc9bac97009dedca98": {
     "model_module": "@jupyter-widgets/base",
     "model_module_version": "1.2.0",
     "model_name": "LayoutModel",
     "state": {
      "_model_module": "@jupyter-widgets/base",
      "_model_module_version": "1.2.0",
      "_model_name": "LayoutModel",
      "_view_count": null,
      "_view_module": "@jupyter-widgets/base",
      "_view_module_version": "1.2.0",
      "_view_name": "LayoutView",
      "align_content": null,
      "align_items": null,
      "align_self": null,
      "border": null,
      "bottom": null,
      "display": null,
      "flex": null,
      "flex_flow": null,
      "grid_area": null,
      "grid_auto_columns": null,
      "grid_auto_flow": null,
      "grid_auto_rows": null,
      "grid_column": null,
      "grid_gap": null,
      "grid_row": null,
      "grid_template_areas": null,
      "grid_template_columns": null,
      "grid_template_rows": null,
      "height": null,
      "justify_content": null,
      "justify_items": null,
      "left": null,
      "margin": null,
      "max_height": null,
      "max_width": null,
      "min_height": null,
      "min_width": null,
      "object_fit": null,
      "object_position": null,
      "order": null,
      "overflow": null,
      "overflow_x": null,
      "overflow_y": null,
      "padding": null,
      "right": null,
      "top": null,
      "visibility": null,
      "width": null
     }
    },
    "2d84542e925b497498c55568ec6f4ff6": {
     "model_module": "@jupyter-widgets/controls",
     "model_module_version": "1.5.0",
     "model_name": "DescriptionStyleModel",
     "state": {
      "_model_module": "@jupyter-widgets/controls",
      "_model_module_version": "1.5.0",
      "_model_name": "DescriptionStyleModel",
      "_view_count": null,
      "_view_module": "@jupyter-widgets/base",
      "_view_module_version": "1.2.0",
      "_view_name": "StyleView",
      "description_width": ""
     }
    },
    "3172196d3ee64b20807ba4c4dc121b4a": {
     "model_module": "@jupyter-widgets/controls",
     "model_module_version": "1.5.0",
     "model_name": "DescriptionStyleModel",
     "state": {
      "_model_module": "@jupyter-widgets/controls",
      "_model_module_version": "1.5.0",
      "_model_name": "DescriptionStyleModel",
      "_view_count": null,
      "_view_module": "@jupyter-widgets/base",
      "_view_module_version": "1.2.0",
      "_view_name": "StyleView",
      "description_width": ""
     }
    },
    "33a8bbd0347a4be4b2e679cf913a79e5": {
     "model_module": "@jupyter-widgets/base",
     "model_module_version": "1.2.0",
     "model_name": "LayoutModel",
     "state": {
      "_model_module": "@jupyter-widgets/base",
      "_model_module_version": "1.2.0",
      "_model_name": "LayoutModel",
      "_view_count": null,
      "_view_module": "@jupyter-widgets/base",
      "_view_module_version": "1.2.0",
      "_view_name": "LayoutView",
      "align_content": null,
      "align_items": null,
      "align_self": null,
      "border": null,
      "bottom": null,
      "display": null,
      "flex": null,
      "flex_flow": null,
      "grid_area": null,
      "grid_auto_columns": null,
      "grid_auto_flow": null,
      "grid_auto_rows": null,
      "grid_column": null,
      "grid_gap": null,
      "grid_row": null,
      "grid_template_areas": null,
      "grid_template_columns": null,
      "grid_template_rows": null,
      "height": null,
      "justify_content": null,
      "justify_items": null,
      "left": null,
      "margin": null,
      "max_height": null,
      "max_width": null,
      "min_height": null,
      "min_width": null,
      "object_fit": null,
      "object_position": null,
      "order": null,
      "overflow": null,
      "overflow_x": null,
      "overflow_y": null,
      "padding": null,
      "right": null,
      "top": null,
      "visibility": null,
      "width": null
     }
    },
    "360e3ecb8e214712b88eae2f61f32d40": {
     "model_module": "@jupyter-widgets/controls",
     "model_module_version": "1.5.0",
     "model_name": "ProgressStyleModel",
     "state": {
      "_model_module": "@jupyter-widgets/controls",
      "_model_module_version": "1.5.0",
      "_model_name": "ProgressStyleModel",
      "_view_count": null,
      "_view_module": "@jupyter-widgets/base",
      "_view_module_version": "1.2.0",
      "_view_name": "StyleView",
      "bar_color": null,
      "description_width": ""
     }
    },
    "37eb1689805146898507d10e8f42fa64": {
     "model_module": "@jupyter-widgets/controls",
     "model_module_version": "1.5.0",
     "model_name": "HTMLModel",
     "state": {
      "_dom_classes": [],
      "_model_module": "@jupyter-widgets/controls",
      "_model_module_version": "1.5.0",
      "_model_name": "HTMLModel",
      "_view_count": null,
      "_view_module": "@jupyter-widgets/controls",
      "_view_module_version": "1.5.0",
      "_view_name": "HTMLView",
      "description": "",
      "description_tooltip": null,
      "layout": "IPY_MODEL_c5fa31cb00754237bbcd7fca376aa9fe",
      "placeholder": "​",
      "style": "IPY_MODEL_b63123ebba7f47d18364af3c45b0f49a",
      "value": "100%"
     }
    },
    "53e6c5b656e84592af0b47248c7449fb": {
     "model_module": "@jupyter-widgets/controls",
     "model_module_version": "1.5.0",
     "model_name": "FloatProgressModel",
     "state": {
      "_dom_classes": [],
      "_model_module": "@jupyter-widgets/controls",
      "_model_module_version": "1.5.0",
      "_model_name": "FloatProgressModel",
      "_view_count": null,
      "_view_module": "@jupyter-widgets/controls",
      "_view_module_version": "1.5.0",
      "_view_name": "ProgressView",
      "bar_style": "success",
      "description": "",
      "description_tooltip": null,
      "layout": "IPY_MODEL_637d81a5c26b4e52a1ab40a6175f87a5",
      "max": 3,
      "min": 0,
      "orientation": "horizontal",
      "style": "IPY_MODEL_fbe138603e5344479ab14d0db60b9193",
      "value": 3
     }
    },
    "5a30de4fb9cb40f39541659ae13ddbbd": {
     "model_module": "@jupyter-widgets/base",
     "model_module_version": "1.2.0",
     "model_name": "LayoutModel",
     "state": {
      "_model_module": "@jupyter-widgets/base",
      "_model_module_version": "1.2.0",
      "_model_name": "LayoutModel",
      "_view_count": null,
      "_view_module": "@jupyter-widgets/base",
      "_view_module_version": "1.2.0",
      "_view_name": "LayoutView",
      "align_content": null,
      "align_items": null,
      "align_self": null,
      "border": null,
      "bottom": null,
      "display": null,
      "flex": null,
      "flex_flow": null,
      "grid_area": null,
      "grid_auto_columns": null,
      "grid_auto_flow": null,
      "grid_auto_rows": null,
      "grid_column": null,
      "grid_gap": null,
      "grid_row": null,
      "grid_template_areas": null,
      "grid_template_columns": null,
      "grid_template_rows": null,
      "height": null,
      "justify_content": null,
      "justify_items": null,
      "left": null,
      "margin": null,
      "max_height": null,
      "max_width": null,
      "min_height": null,
      "min_width": null,
      "object_fit": null,
      "object_position": null,
      "order": null,
      "overflow": null,
      "overflow_x": null,
      "overflow_y": null,
      "padding": null,
      "right": null,
      "top": null,
      "visibility": null,
      "width": null
     }
    },
    "637d81a5c26b4e52a1ab40a6175f87a5": {
     "model_module": "@jupyter-widgets/base",
     "model_module_version": "1.2.0",
     "model_name": "LayoutModel",
     "state": {
      "_model_module": "@jupyter-widgets/base",
      "_model_module_version": "1.2.0",
      "_model_name": "LayoutModel",
      "_view_count": null,
      "_view_module": "@jupyter-widgets/base",
      "_view_module_version": "1.2.0",
      "_view_name": "LayoutView",
      "align_content": null,
      "align_items": null,
      "align_self": null,
      "border": null,
      "bottom": null,
      "display": null,
      "flex": null,
      "flex_flow": null,
      "grid_area": null,
      "grid_auto_columns": null,
      "grid_auto_flow": null,
      "grid_auto_rows": null,
      "grid_column": null,
      "grid_gap": null,
      "grid_row": null,
      "grid_template_areas": null,
      "grid_template_columns": null,
      "grid_template_rows": null,
      "height": null,
      "justify_content": null,
      "justify_items": null,
      "left": null,
      "margin": null,
      "max_height": null,
      "max_width": null,
      "min_height": null,
      "min_width": null,
      "object_fit": null,
      "object_position": null,
      "order": null,
      "overflow": null,
      "overflow_x": null,
      "overflow_y": null,
      "padding": null,
      "right": null,
      "top": null,
      "visibility": null,
      "width": null
     }
    },
    "69d34e9b7c7340f69efab4dd8d3c312a": {
     "model_module": "@jupyter-widgets/base",
     "model_module_version": "1.2.0",
     "model_name": "LayoutModel",
     "state": {
      "_model_module": "@jupyter-widgets/base",
      "_model_module_version": "1.2.0",
      "_model_name": "LayoutModel",
      "_view_count": null,
      "_view_module": "@jupyter-widgets/base",
      "_view_module_version": "1.2.0",
      "_view_name": "LayoutView",
      "align_content": null,
      "align_items": null,
      "align_self": null,
      "border": null,
      "bottom": null,
      "display": null,
      "flex": null,
      "flex_flow": null,
      "grid_area": null,
      "grid_auto_columns": null,
      "grid_auto_flow": null,
      "grid_auto_rows": null,
      "grid_column": null,
      "grid_gap": null,
      "grid_row": null,
      "grid_template_areas": null,
      "grid_template_columns": null,
      "grid_template_rows": null,
      "height": null,
      "justify_content": null,
      "justify_items": null,
      "left": null,
      "margin": null,
      "max_height": null,
      "max_width": null,
      "min_height": null,
      "min_width": null,
      "object_fit": null,
      "object_position": null,
      "order": null,
      "overflow": null,
      "overflow_x": null,
      "overflow_y": null,
      "padding": null,
      "right": null,
      "top": null,
      "visibility": null,
      "width": null
     }
    },
    "6e1b3d0d036141a19ebf36b571461a25": {
     "model_module": "@jupyter-widgets/controls",
     "model_module_version": "1.5.0",
     "model_name": "ProgressStyleModel",
     "state": {
      "_model_module": "@jupyter-widgets/controls",
      "_model_module_version": "1.5.0",
      "_model_name": "ProgressStyleModel",
      "_view_count": null,
      "_view_module": "@jupyter-widgets/base",
      "_view_module_version": "1.2.0",
      "_view_name": "StyleView",
      "bar_color": null,
      "description_width": ""
     }
    },
    "6e55d6f800fc4120b0f57aba516d73c2": {
     "model_module": "@jupyter-widgets/controls",
     "model_module_version": "1.5.0",
     "model_name": "ProgressStyleModel",
     "state": {
      "_model_module": "@jupyter-widgets/controls",
      "_model_module_version": "1.5.0",
      "_model_name": "ProgressStyleModel",
      "_view_count": null,
      "_view_module": "@jupyter-widgets/base",
      "_view_module_version": "1.2.0",
      "_view_name": "StyleView",
      "bar_color": null,
      "description_width": ""
     }
    },
    "6f199fc1fea7491c92ea78b572f67860": {
     "model_module": "@jupyter-widgets/base",
     "model_module_version": "1.2.0",
     "model_name": "LayoutModel",
     "state": {
      "_model_module": "@jupyter-widgets/base",
      "_model_module_version": "1.2.0",
      "_model_name": "LayoutModel",
      "_view_count": null,
      "_view_module": "@jupyter-widgets/base",
      "_view_module_version": "1.2.0",
      "_view_name": "LayoutView",
      "align_content": null,
      "align_items": null,
      "align_self": null,
      "border": null,
      "bottom": null,
      "display": null,
      "flex": null,
      "flex_flow": null,
      "grid_area": null,
      "grid_auto_columns": null,
      "grid_auto_flow": null,
      "grid_auto_rows": null,
      "grid_column": null,
      "grid_gap": null,
      "grid_row": null,
      "grid_template_areas": null,
      "grid_template_columns": null,
      "grid_template_rows": null,
      "height": null,
      "justify_content": null,
      "justify_items": null,
      "left": null,
      "margin": null,
      "max_height": null,
      "max_width": null,
      "min_height": null,
      "min_width": null,
      "object_fit": null,
      "object_position": null,
      "order": null,
      "overflow": null,
      "overflow_x": null,
      "overflow_y": null,
      "padding": null,
      "right": null,
      "top": null,
      "visibility": null,
      "width": null
     }
    },
    "8ca8b194806041c5a13897f99c3e536b": {
     "model_module": "@jupyter-widgets/base",
     "model_module_version": "1.2.0",
     "model_name": "LayoutModel",
     "state": {
      "_model_module": "@jupyter-widgets/base",
      "_model_module_version": "1.2.0",
      "_model_name": "LayoutModel",
      "_view_count": null,
      "_view_module": "@jupyter-widgets/base",
      "_view_module_version": "1.2.0",
      "_view_name": "LayoutView",
      "align_content": null,
      "align_items": null,
      "align_self": null,
      "border": null,
      "bottom": null,
      "display": null,
      "flex": null,
      "flex_flow": null,
      "grid_area": null,
      "grid_auto_columns": null,
      "grid_auto_flow": null,
      "grid_auto_rows": null,
      "grid_column": null,
      "grid_gap": null,
      "grid_row": null,
      "grid_template_areas": null,
      "grid_template_columns": null,
      "grid_template_rows": null,
      "height": null,
      "justify_content": null,
      "justify_items": null,
      "left": null,
      "margin": null,
      "max_height": null,
      "max_width": null,
      "min_height": null,
      "min_width": null,
      "object_fit": null,
      "object_position": null,
      "order": null,
      "overflow": null,
      "overflow_x": null,
      "overflow_y": null,
      "padding": null,
      "right": null,
      "top": null,
      "visibility": null,
      "width": null
     }
    },
    "924aee5763a44fd1a6f0b86d9623158d": {
     "model_module": "@jupyter-widgets/controls",
     "model_module_version": "1.5.0",
     "model_name": "HTMLModel",
     "state": {
      "_dom_classes": [],
      "_model_module": "@jupyter-widgets/controls",
      "_model_module_version": "1.5.0",
      "_model_name": "HTMLModel",
      "_view_count": null,
      "_view_module": "@jupyter-widgets/controls",
      "_view_module_version": "1.5.0",
      "_view_name": "HTMLView",
      "description": "",
      "description_tooltip": null,
      "layout": "IPY_MODEL_5a30de4fb9cb40f39541659ae13ddbbd",
      "placeholder": "​",
      "style": "IPY_MODEL_0ff753a821ae4e72a36c554eb2bb89ac",
      "value": " 3/3 [03:26&lt;00:00, 67.98s/it]"
     }
    },
    "934d07e2ae6342889f507f44bdc87dd1": {
     "model_module": "@jupyter-widgets/controls",
     "model_module_version": "1.5.0",
     "model_name": "HTMLModel",
     "state": {
      "_dom_classes": [],
      "_model_module": "@jupyter-widgets/controls",
      "_model_module_version": "1.5.0",
      "_model_name": "HTMLModel",
      "_view_count": null,
      "_view_module": "@jupyter-widgets/controls",
      "_view_module_version": "1.5.0",
      "_view_name": "HTMLView",
      "description": "",
      "description_tooltip": null,
      "layout": "IPY_MODEL_8ca8b194806041c5a13897f99c3e536b",
      "placeholder": "​",
      "style": "IPY_MODEL_a7730f526e71401dab03da601e297c55",
      "value": "100%"
     }
    },
    "97ef6b5012f74b109e3565add7232d5d": {
     "model_module": "@jupyter-widgets/base",
     "model_module_version": "1.2.0",
     "model_name": "LayoutModel",
     "state": {
      "_model_module": "@jupyter-widgets/base",
      "_model_module_version": "1.2.0",
      "_model_name": "LayoutModel",
      "_view_count": null,
      "_view_module": "@jupyter-widgets/base",
      "_view_module_version": "1.2.0",
      "_view_name": "LayoutView",
      "align_content": null,
      "align_items": null,
      "align_self": null,
      "border": null,
      "bottom": null,
      "display": null,
      "flex": null,
      "flex_flow": null,
      "grid_area": null,
      "grid_auto_columns": null,
      "grid_auto_flow": null,
      "grid_auto_rows": null,
      "grid_column": null,
      "grid_gap": null,
      "grid_row": null,
      "grid_template_areas": null,
      "grid_template_columns": null,
      "grid_template_rows": null,
      "height": null,
      "justify_content": null,
      "justify_items": null,
      "left": null,
      "margin": null,
      "max_height": null,
      "max_width": null,
      "min_height": null,
      "min_width": null,
      "object_fit": null,
      "object_position": null,
      "order": null,
      "overflow": null,
      "overflow_x": null,
      "overflow_y": null,
      "padding": null,
      "right": null,
      "top": null,
      "visibility": null,
      "width": null
     }
    },
    "a71395020e4f417cab0dd8d5a4e20628": {
     "model_module": "@jupyter-widgets/base",
     "model_module_version": "1.2.0",
     "model_name": "LayoutModel",
     "state": {
      "_model_module": "@jupyter-widgets/base",
      "_model_module_version": "1.2.0",
      "_model_name": "LayoutModel",
      "_view_count": null,
      "_view_module": "@jupyter-widgets/base",
      "_view_module_version": "1.2.0",
      "_view_name": "LayoutView",
      "align_content": null,
      "align_items": null,
      "align_self": null,
      "border": null,
      "bottom": null,
      "display": null,
      "flex": null,
      "flex_flow": null,
      "grid_area": null,
      "grid_auto_columns": null,
      "grid_auto_flow": null,
      "grid_auto_rows": null,
      "grid_column": null,
      "grid_gap": null,
      "grid_row": null,
      "grid_template_areas": null,
      "grid_template_columns": null,
      "grid_template_rows": null,
      "height": null,
      "justify_content": null,
      "justify_items": null,
      "left": null,
      "margin": null,
      "max_height": null,
      "max_width": null,
      "min_height": null,
      "min_width": null,
      "object_fit": null,
      "object_position": null,
      "order": null,
      "overflow": null,
      "overflow_x": null,
      "overflow_y": null,
      "padding": null,
      "right": null,
      "top": null,
      "visibility": null,
      "width": null
     }
    },
    "a7730f526e71401dab03da601e297c55": {
     "model_module": "@jupyter-widgets/controls",
     "model_module_version": "1.5.0",
     "model_name": "DescriptionStyleModel",
     "state": {
      "_model_module": "@jupyter-widgets/controls",
      "_model_module_version": "1.5.0",
      "_model_name": "DescriptionStyleModel",
      "_view_count": null,
      "_view_module": "@jupyter-widgets/base",
      "_view_module_version": "1.2.0",
      "_view_name": "StyleView",
      "description_width": ""
     }
    },
    "a825916607134a07abbcf5a4895ef997": {
     "model_module": "@jupyter-widgets/controls",
     "model_module_version": "1.5.0",
     "model_name": "DescriptionStyleModel",
     "state": {
      "_model_module": "@jupyter-widgets/controls",
      "_model_module_version": "1.5.0",
      "_model_name": "DescriptionStyleModel",
      "_view_count": null,
      "_view_module": "@jupyter-widgets/base",
      "_view_module_version": "1.2.0",
      "_view_name": "StyleView",
      "description_width": ""
     }
    },
    "ac90b586d2884ef7834e0fdd3d9b70ba": {
     "model_module": "@jupyter-widgets/base",
     "model_module_version": "1.2.0",
     "model_name": "LayoutModel",
     "state": {
      "_model_module": "@jupyter-widgets/base",
      "_model_module_version": "1.2.0",
      "_model_name": "LayoutModel",
      "_view_count": null,
      "_view_module": "@jupyter-widgets/base",
      "_view_module_version": "1.2.0",
      "_view_name": "LayoutView",
      "align_content": null,
      "align_items": null,
      "align_self": null,
      "border": null,
      "bottom": null,
      "display": null,
      "flex": null,
      "flex_flow": null,
      "grid_area": null,
      "grid_auto_columns": null,
      "grid_auto_flow": null,
      "grid_auto_rows": null,
      "grid_column": null,
      "grid_gap": null,
      "grid_row": null,
      "grid_template_areas": null,
      "grid_template_columns": null,
      "grid_template_rows": null,
      "height": null,
      "justify_content": null,
      "justify_items": null,
      "left": null,
      "margin": null,
      "max_height": null,
      "max_width": null,
      "min_height": null,
      "min_width": null,
      "object_fit": null,
      "object_position": null,
      "order": null,
      "overflow": null,
      "overflow_x": null,
      "overflow_y": null,
      "padding": null,
      "right": null,
      "top": null,
      "visibility": null,
      "width": null
     }
    },
    "ad6a151f4b5145b5b86df9a32092be32": {
     "model_module": "@jupyter-widgets/controls",
     "model_module_version": "1.5.0",
     "model_name": "HBoxModel",
     "state": {
      "_dom_classes": [],
      "_model_module": "@jupyter-widgets/controls",
      "_model_module_version": "1.5.0",
      "_model_name": "HBoxModel",
      "_view_count": null,
      "_view_module": "@jupyter-widgets/controls",
      "_view_module_version": "1.5.0",
      "_view_name": "HBoxView",
      "box_style": "",
      "children": [
       "IPY_MODEL_279441a485b64e6e915efa0d476f7af6",
       "IPY_MODEL_53e6c5b656e84592af0b47248c7449fb",
       "IPY_MODEL_2146841a01a745c58889eb307e4ba6a6"
      ],
      "layout": "IPY_MODEL_e0f9ae2f81ad4de29c931e091b0d4d37"
     }
    },
    "b1cd9d3807e14547bef99f188bffe85b": {
     "model_module": "@jupyter-widgets/controls",
     "model_module_version": "1.5.0",
     "model_name": "HBoxModel",
     "state": {
      "_dom_classes": [],
      "_model_module": "@jupyter-widgets/controls",
      "_model_module_version": "1.5.0",
      "_model_name": "HBoxModel",
      "_view_count": null,
      "_view_module": "@jupyter-widgets/controls",
      "_view_module_version": "1.5.0",
      "_view_name": "HBoxView",
      "box_style": "",
      "children": [
       "IPY_MODEL_b722daae0a6a45ba88de1890fa0ba292",
       "IPY_MODEL_e7c76eada452412aacfbe6a8a2f651a7",
       "IPY_MODEL_e500c2f227f843a4966ffcb022993c44"
      ],
      "layout": "IPY_MODEL_c5b2eade9f164b8a9293eff455810574"
     }
    },
    "b63123ebba7f47d18364af3c45b0f49a": {
     "model_module": "@jupyter-widgets/controls",
     "model_module_version": "1.5.0",
     "model_name": "DescriptionStyleModel",
     "state": {
      "_model_module": "@jupyter-widgets/controls",
      "_model_module_version": "1.5.0",
      "_model_name": "DescriptionStyleModel",
      "_view_count": null,
      "_view_module": "@jupyter-widgets/base",
      "_view_module_version": "1.2.0",
      "_view_name": "StyleView",
      "description_width": ""
     }
    },
    "b722daae0a6a45ba88de1890fa0ba292": {
     "model_module": "@jupyter-widgets/controls",
     "model_module_version": "1.5.0",
     "model_name": "HTMLModel",
     "state": {
      "_dom_classes": [],
      "_model_module": "@jupyter-widgets/controls",
      "_model_module_version": "1.5.0",
      "_model_name": "HTMLModel",
      "_view_count": null,
      "_view_module": "@jupyter-widgets/controls",
      "_view_module_version": "1.5.0",
      "_view_name": "HTMLView",
      "description": "",
      "description_tooltip": null,
      "layout": "IPY_MODEL_a71395020e4f417cab0dd8d5a4e20628",
      "placeholder": "​",
      "style": "IPY_MODEL_ddba94158574422bbc8152483e099207",
      "value": "100%"
     }
    },
    "c5b2eade9f164b8a9293eff455810574": {
     "model_module": "@jupyter-widgets/base",
     "model_module_version": "1.2.0",
     "model_name": "LayoutModel",
     "state": {
      "_model_module": "@jupyter-widgets/base",
      "_model_module_version": "1.2.0",
      "_model_name": "LayoutModel",
      "_view_count": null,
      "_view_module": "@jupyter-widgets/base",
      "_view_module_version": "1.2.0",
      "_view_name": "LayoutView",
      "align_content": null,
      "align_items": null,
      "align_self": null,
      "border": null,
      "bottom": null,
      "display": null,
      "flex": null,
      "flex_flow": null,
      "grid_area": null,
      "grid_auto_columns": null,
      "grid_auto_flow": null,
      "grid_auto_rows": null,
      "grid_column": null,
      "grid_gap": null,
      "grid_row": null,
      "grid_template_areas": null,
      "grid_template_columns": null,
      "grid_template_rows": null,
      "height": null,
      "justify_content": null,
      "justify_items": null,
      "left": null,
      "margin": null,
      "max_height": null,
      "max_width": null,
      "min_height": null,
      "min_width": null,
      "object_fit": null,
      "object_position": null,
      "order": null,
      "overflow": null,
      "overflow_x": null,
      "overflow_y": null,
      "padding": null,
      "right": null,
      "top": null,
      "visibility": null,
      "width": null
     }
    },
    "c5fa31cb00754237bbcd7fca376aa9fe": {
     "model_module": "@jupyter-widgets/base",
     "model_module_version": "1.2.0",
     "model_name": "LayoutModel",
     "state": {
      "_model_module": "@jupyter-widgets/base",
      "_model_module_version": "1.2.0",
      "_model_name": "LayoutModel",
      "_view_count": null,
      "_view_module": "@jupyter-widgets/base",
      "_view_module_version": "1.2.0",
      "_view_name": "LayoutView",
      "align_content": null,
      "align_items": null,
      "align_self": null,
      "border": null,
      "bottom": null,
      "display": null,
      "flex": null,
      "flex_flow": null,
      "grid_area": null,
      "grid_auto_columns": null,
      "grid_auto_flow": null,
      "grid_auto_rows": null,
      "grid_column": null,
      "grid_gap": null,
      "grid_row": null,
      "grid_template_areas": null,
      "grid_template_columns": null,
      "grid_template_rows": null,
      "height": null,
      "justify_content": null,
      "justify_items": null,
      "left": null,
      "margin": null,
      "max_height": null,
      "max_width": null,
      "min_height": null,
      "min_width": null,
      "object_fit": null,
      "object_position": null,
      "order": null,
      "overflow": null,
      "overflow_x": null,
      "overflow_y": null,
      "padding": null,
      "right": null,
      "top": null,
      "visibility": null,
      "width": null
     }
    },
    "ddba94158574422bbc8152483e099207": {
     "model_module": "@jupyter-widgets/controls",
     "model_module_version": "1.5.0",
     "model_name": "DescriptionStyleModel",
     "state": {
      "_model_module": "@jupyter-widgets/controls",
      "_model_module_version": "1.5.0",
      "_model_name": "DescriptionStyleModel",
      "_view_count": null,
      "_view_module": "@jupyter-widgets/base",
      "_view_module_version": "1.2.0",
      "_view_name": "StyleView",
      "description_width": ""
     }
    },
    "e0f9ae2f81ad4de29c931e091b0d4d37": {
     "model_module": "@jupyter-widgets/base",
     "model_module_version": "1.2.0",
     "model_name": "LayoutModel",
     "state": {
      "_model_module": "@jupyter-widgets/base",
      "_model_module_version": "1.2.0",
      "_model_name": "LayoutModel",
      "_view_count": null,
      "_view_module": "@jupyter-widgets/base",
      "_view_module_version": "1.2.0",
      "_view_name": "LayoutView",
      "align_content": null,
      "align_items": null,
      "align_self": null,
      "border": null,
      "bottom": null,
      "display": null,
      "flex": null,
      "flex_flow": null,
      "grid_area": null,
      "grid_auto_columns": null,
      "grid_auto_flow": null,
      "grid_auto_rows": null,
      "grid_column": null,
      "grid_gap": null,
      "grid_row": null,
      "grid_template_areas": null,
      "grid_template_columns": null,
      "grid_template_rows": null,
      "height": null,
      "justify_content": null,
      "justify_items": null,
      "left": null,
      "margin": null,
      "max_height": null,
      "max_width": null,
      "min_height": null,
      "min_width": null,
      "object_fit": null,
      "object_position": null,
      "order": null,
      "overflow": null,
      "overflow_x": null,
      "overflow_y": null,
      "padding": null,
      "right": null,
      "top": null,
      "visibility": null,
      "width": null
     }
    },
    "e445ca6065dc4fdbbbfb81af14d86823": {
     "model_module": "@jupyter-widgets/controls",
     "model_module_version": "1.5.0",
     "model_name": "FloatProgressModel",
     "state": {
      "_dom_classes": [],
      "_model_module": "@jupyter-widgets/controls",
      "_model_module_version": "1.5.0",
      "_model_name": "FloatProgressModel",
      "_view_count": null,
      "_view_module": "@jupyter-widgets/controls",
      "_view_module_version": "1.5.0",
      "_view_name": "ProgressView",
      "bar_style": "success",
      "description": "",
      "description_tooltip": null,
      "layout": "IPY_MODEL_69d34e9b7c7340f69efab4dd8d3c312a",
      "max": 3,
      "min": 0,
      "orientation": "horizontal",
      "style": "IPY_MODEL_6e55d6f800fc4120b0f57aba516d73c2",
      "value": 3
     }
    },
    "e500c2f227f843a4966ffcb022993c44": {
     "model_module": "@jupyter-widgets/controls",
     "model_module_version": "1.5.0",
     "model_name": "HTMLModel",
     "state": {
      "_dom_classes": [],
      "_model_module": "@jupyter-widgets/controls",
      "_model_module_version": "1.5.0",
      "_model_name": "HTMLModel",
      "_view_count": null,
      "_view_module": "@jupyter-widgets/controls",
      "_view_module_version": "1.5.0",
      "_view_name": "HTMLView",
      "description": "",
      "description_tooltip": null,
      "layout": "IPY_MODEL_6f199fc1fea7491c92ea78b572f67860",
      "placeholder": "​",
      "style": "IPY_MODEL_3172196d3ee64b20807ba4c4dc121b4a",
      "value": " 2/2 [00:17&lt;00:00,  8.80s/it]"
     }
    },
    "e7c76eada452412aacfbe6a8a2f651a7": {
     "model_module": "@jupyter-widgets/controls",
     "model_module_version": "1.5.0",
     "model_name": "FloatProgressModel",
     "state": {
      "_dom_classes": [],
      "_model_module": "@jupyter-widgets/controls",
      "_model_module_version": "1.5.0",
      "_model_name": "FloatProgressModel",
      "_view_count": null,
      "_view_module": "@jupyter-widgets/controls",
      "_view_module_version": "1.5.0",
      "_view_name": "ProgressView",
      "bar_style": "success",
      "description": "",
      "description_tooltip": null,
      "layout": "IPY_MODEL_33a8bbd0347a4be4b2e679cf913a79e5",
      "max": 2,
      "min": 0,
      "orientation": "horizontal",
      "style": "IPY_MODEL_360e3ecb8e214712b88eae2f61f32d40",
      "value": 2
     }
    },
    "e9659d171e804b5b80218c581fcb8452": {
     "model_module": "@jupyter-widgets/controls",
     "model_module_version": "1.5.0",
     "model_name": "FloatProgressModel",
     "state": {
      "_dom_classes": [],
      "_model_module": "@jupyter-widgets/controls",
      "_model_module_version": "1.5.0",
      "_model_name": "FloatProgressModel",
      "_view_count": null,
      "_view_module": "@jupyter-widgets/controls",
      "_view_module_version": "1.5.0",
      "_view_name": "ProgressView",
      "bar_style": "success",
      "description": "",
      "description_tooltip": null,
      "layout": "IPY_MODEL_ac90b586d2884ef7834e0fdd3d9b70ba",
      "max": 21,
      "min": 0,
      "orientation": "horizontal",
      "style": "IPY_MODEL_6e1b3d0d036141a19ebf36b571461a25",
      "value": 21
     }
    },
    "ea07fd8096cd484d9c5962077f77e13f": {
     "model_module": "@jupyter-widgets/base",
     "model_module_version": "1.2.0",
     "model_name": "LayoutModel",
     "state": {
      "_model_module": "@jupyter-widgets/base",
      "_model_module_version": "1.2.0",
      "_model_name": "LayoutModel",
      "_view_count": null,
      "_view_module": "@jupyter-widgets/base",
      "_view_module_version": "1.2.0",
      "_view_name": "LayoutView",
      "align_content": null,
      "align_items": null,
      "align_self": null,
      "border": null,
      "bottom": null,
      "display": null,
      "flex": null,
      "flex_flow": null,
      "grid_area": null,
      "grid_auto_columns": null,
      "grid_auto_flow": null,
      "grid_auto_rows": null,
      "grid_column": null,
      "grid_gap": null,
      "grid_row": null,
      "grid_template_areas": null,
      "grid_template_columns": null,
      "grid_template_rows": null,
      "height": null,
      "justify_content": null,
      "justify_items": null,
      "left": null,
      "margin": null,
      "max_height": null,
      "max_width": null,
      "min_height": null,
      "min_width": null,
      "object_fit": null,
      "object_position": null,
      "order": null,
      "overflow": null,
      "overflow_x": null,
      "overflow_y": null,
      "padding": null,
      "right": null,
      "top": null,
      "visibility": null,
      "width": null
     }
    },
    "ed2a422332a04cd7b1f744c853afd596": {
     "model_module": "@jupyter-widgets/controls",
     "model_module_version": "1.5.0",
     "model_name": "HBoxModel",
     "state": {
      "_dom_classes": [],
      "_model_module": "@jupyter-widgets/controls",
      "_model_module_version": "1.5.0",
      "_model_name": "HBoxModel",
      "_view_count": null,
      "_view_module": "@jupyter-widgets/controls",
      "_view_module_version": "1.5.0",
      "_view_name": "HBoxView",
      "box_style": "",
      "children": [
       "IPY_MODEL_37eb1689805146898507d10e8f42fa64",
       "IPY_MODEL_e9659d171e804b5b80218c581fcb8452",
       "IPY_MODEL_0b3e89fe1e8a4ecbbe3ccb6925f1680b"
      ],
      "layout": "IPY_MODEL_2a2d1ad687f641fc9bac97009dedca98"
     }
    },
    "f5f9a778753c481ba380effdadacb9b4": {
     "model_module": "@jupyter-widgets/base",
     "model_module_version": "1.2.0",
     "model_name": "LayoutModel",
     "state": {
      "_model_module": "@jupyter-widgets/base",
      "_model_module_version": "1.2.0",
      "_model_name": "LayoutModel",
      "_view_count": null,
      "_view_module": "@jupyter-widgets/base",
      "_view_module_version": "1.2.0",
      "_view_name": "LayoutView",
      "align_content": null,
      "align_items": null,
      "align_self": null,
      "border": null,
      "bottom": null,
      "display": null,
      "flex": null,
      "flex_flow": null,
      "grid_area": null,
      "grid_auto_columns": null,
      "grid_auto_flow": null,
      "grid_auto_rows": null,
      "grid_column": null,
      "grid_gap": null,
      "grid_row": null,
      "grid_template_areas": null,
      "grid_template_columns": null,
      "grid_template_rows": null,
      "height": null,
      "justify_content": null,
      "justify_items": null,
      "left": null,
      "margin": null,
      "max_height": null,
      "max_width": null,
      "min_height": null,
      "min_width": null,
      "object_fit": null,
      "object_position": null,
      "order": null,
      "overflow": null,
      "overflow_x": null,
      "overflow_y": null,
      "padding": null,
      "right": null,
      "top": null,
      "visibility": null,
      "width": null
     }
    },
    "f9a27affbb844d0dad2bb72d65d1ad69": {
     "model_module": "@jupyter-widgets/controls",
     "model_module_version": "1.5.0",
     "model_name": "DescriptionStyleModel",
     "state": {
      "_model_module": "@jupyter-widgets/controls",
      "_model_module_version": "1.5.0",
      "_model_name": "DescriptionStyleModel",
      "_view_count": null,
      "_view_module": "@jupyter-widgets/base",
      "_view_module_version": "1.2.0",
      "_view_name": "StyleView",
      "description_width": ""
     }
    },
    "fbe138603e5344479ab14d0db60b9193": {
     "model_module": "@jupyter-widgets/controls",
     "model_module_version": "1.5.0",
     "model_name": "ProgressStyleModel",
     "state": {
      "_model_module": "@jupyter-widgets/controls",
      "_model_module_version": "1.5.0",
      "_model_name": "ProgressStyleModel",
      "_view_count": null,
      "_view_module": "@jupyter-widgets/base",
      "_view_module_version": "1.2.0",
      "_view_name": "StyleView",
      "bar_color": null,
      "description_width": ""
     }
    }
   }
  }
 },
 "nbformat": 4,
 "nbformat_minor": 4
}
