{
 "cells": [
  {
   "cell_type": "code",
   "execution_count": 1,
   "metadata": {
    "colab": {
     "base_uri": "https://localhost:8080/"
    },
    "id": "r2fBipelTEPP",
    "outputId": "a9067adf-077f-4b54-c275-414cbac818ba"
   },
   "outputs": [],
   "source": [
    "# from google.colab import drive\n",
    "# import os\n",
    "# drive.mount('/content/drive')\n",
    "# os.chdir('/content/drive/My Drive/2022/classes/stat195/stat195project')\n",
    "# print(os.getcwd())"
   ]
  },
  {
   "cell_type": "code",
   "execution_count": 2,
   "metadata": {
    "id": "nE1yKZ-ITWyQ"
   },
   "outputs": [],
   "source": [
    "# %%capture\n",
    "# !pip install lassonet\n",
    "# !pip install einops"
   ]
  },
  {
   "cell_type": "code",
   "execution_count": 3,
   "metadata": {
    "id": "D93zr3CVTNZB"
   },
   "outputs": [],
   "source": [
    "import numpy as np\n",
    "import seaborn as sns\n",
    "import matplotlib.pyplot as plt\n",
    "import pandas as pd\n",
    "import sys\n",
    "import torch\n",
    "import matplotlib.pyplot as plt\n",
    "\n",
    "sys.path.append(\"aav/util\")\n",
    "sys.path.append(\"aav/stat195_pytorch_work\")\n",
    "\n",
    "from lassonet import LassoNetClassifier\n",
    "\n",
    "from residue_encoding import ResidueIdentityEncoder\n",
    "from mutation_encoding import MutationSequenceEncoder\n",
    "from torch_cnn_lassonet import *\n",
    "from train import *\n",
    "\n",
    "from sklearn.metrics import accuracy_score\n",
    "from sklearn.linear_model import LogisticRegression\n",
    "from sklearn.model_selection import train_test_split\n",
    "\n",
    "from tqdm.auto import tqdm\n",
    "import pickle"
   ]
  },
  {
   "cell_type": "markdown",
   "metadata": {
    "id": "YKGYShcnVZA7"
   },
   "source": [
    "# Data"
   ]
  },
  {
   "cell_type": "markdown",
   "metadata": {
    "id": "4gqMtLqxZWTC"
   },
   "source": [
    "## Examine Dataset"
   ]
  },
  {
   "cell_type": "code",
   "execution_count": 4,
   "metadata": {
    "colab": {
     "base_uri": "https://localhost:8080/",
     "height": 206
    },
    "id": "feetga7vVYuu",
    "outputId": "2c782e18-f171-47a0-edba-1cbd1a0d79e9"
   },
   "outputs": [
    {
     "data": {
      "text/html": [
       "<div>\n",
       "<style scoped>\n",
       "    .dataframe tbody tr th:only-of-type {\n",
       "        vertical-align: middle;\n",
       "    }\n",
       "\n",
       "    .dataframe tbody tr th {\n",
       "        vertical-align: top;\n",
       "    }\n",
       "\n",
       "    .dataframe thead th {\n",
       "        text-align: right;\n",
       "    }\n",
       "</style>\n",
       "<table border=\"1\" class=\"dataframe\">\n",
       "  <thead>\n",
       "    <tr style=\"text-align: right;\">\n",
       "      <th></th>\n",
       "      <th>sequence</th>\n",
       "      <th>partition</th>\n",
       "      <th>mutation_sequence</th>\n",
       "      <th>num_mutations</th>\n",
       "      <th>num_edits</th>\n",
       "      <th>viral_selection</th>\n",
       "      <th>is_viable</th>\n",
       "    </tr>\n",
       "  </thead>\n",
       "  <tbody>\n",
       "    <tr>\n",
       "      <th>0</th>\n",
       "      <td>ADEEIRATNPIATEMYGSVSTNLQLGNR</td>\n",
       "      <td>designed</td>\n",
       "      <td>AD____A___I___M_________L___</td>\n",
       "      <td>6</td>\n",
       "      <td>6</td>\n",
       "      <td>-2.027259</td>\n",
       "      <td>False</td>\n",
       "    </tr>\n",
       "    <tr>\n",
       "      <th>1</th>\n",
       "      <td>ADEEIRATNPVATEQYGSVSTNQQRQNR</td>\n",
       "      <td>designed</td>\n",
       "      <td>AD____A_______________Q__Q__</td>\n",
       "      <td>5</td>\n",
       "      <td>5</td>\n",
       "      <td>-0.429554</td>\n",
       "      <td>True</td>\n",
       "    </tr>\n",
       "    <tr>\n",
       "      <th>2</th>\n",
       "      <td>ADEEIRTTNPVATEQWGGVSTNLQIGNY</td>\n",
       "      <td>designed</td>\n",
       "      <td>AD_____________W_G______I__Y</td>\n",
       "      <td>6</td>\n",
       "      <td>6</td>\n",
       "      <td>-0.527843</td>\n",
       "      <td>True</td>\n",
       "    </tr>\n",
       "    <tr>\n",
       "      <th>3</th>\n",
       "      <td>ADEEIRTTNPVATEQYGEVSTNLQRGNR</td>\n",
       "      <td>designed</td>\n",
       "      <td>AD_______________E__________</td>\n",
       "      <td>3</td>\n",
       "      <td>3</td>\n",
       "      <td>2.887908</td>\n",
       "      <td>True</td>\n",
       "    </tr>\n",
       "    <tr>\n",
       "      <th>4</th>\n",
       "      <td>ADEEIRTTNPVATEQYGSVSTNLQRGNR</td>\n",
       "      <td>designed</td>\n",
       "      <td>AD__________________________</td>\n",
       "      <td>2</td>\n",
       "      <td>2</td>\n",
       "      <td>0.575730</td>\n",
       "      <td>True</td>\n",
       "    </tr>\n",
       "  </tbody>\n",
       "</table>\n",
       "</div>"
      ],
      "text/plain": [
       "                       sequence partition             mutation_sequence  \\\n",
       "0  ADEEIRATNPIATEMYGSVSTNLQLGNR  designed  AD____A___I___M_________L___   \n",
       "1  ADEEIRATNPVATEQYGSVSTNQQRQNR  designed  AD____A_______________Q__Q__   \n",
       "2  ADEEIRTTNPVATEQWGGVSTNLQIGNY  designed  AD_____________W_G______I__Y   \n",
       "3  ADEEIRTTNPVATEQYGEVSTNLQRGNR  designed  AD_______________E__________   \n",
       "4  ADEEIRTTNPVATEQYGSVSTNLQRGNR  designed  AD__________________________   \n",
       "\n",
       "   num_mutations  num_edits  viral_selection  is_viable  \n",
       "0              6          6        -2.027259      False  \n",
       "1              5          5        -0.429554       True  \n",
       "2              6          6        -0.527843       True  \n",
       "3              3          3         2.887908       True  \n",
       "4              2          2         0.575730       True  "
      ]
     },
     "execution_count": 4,
     "metadata": {},
     "output_type": "execute_result"
    }
   ],
   "source": [
    "df = pd.read_csv(\"stat_195_project_data.csv\")\n",
    "df.head()"
   ]
  },
  {
   "cell_type": "code",
   "execution_count": 5,
   "metadata": {
    "colab": {
     "base_uri": "https://localhost:8080/"
    },
    "id": "aT8UFR5mVcsn",
    "outputId": "3cc68a0d-0510-4cba-bc6b-d55a8b958491"
   },
   "outputs": [
    {
     "data": {
      "text/plain": [
       "['cnn_designed_plus_rand_train_seed',\n",
       " 'cnn_designed_plus_rand_train_walked',\n",
       " 'cnn_rand_doubles_plus_single_seed',\n",
       " 'cnn_rand_doubles_plus_single_walked',\n",
       " 'cnn_standard_seed',\n",
       " 'cnn_standard_walked',\n",
       " 'designed',\n",
       " 'lr_designed_plus_rand_train_seed',\n",
       " 'lr_designed_plus_rand_train_walked',\n",
       " 'lr_rand_doubles_plus_single_seed',\n",
       " 'lr_rand_doubles_plus_single_walked',\n",
       " 'lr_standard_seed',\n",
       " 'lr_standard_walked',\n",
       " 'previous_chip_nonviable',\n",
       " 'previous_chip_viable',\n",
       " 'rand',\n",
       " 'random_doubles',\n",
       " 'rnn_designed_plus_rand_train_seed',\n",
       " 'rnn_designed_plus_rand_train_walked',\n",
       " 'rnn_rand_doubles_plus_singles_seed',\n",
       " 'rnn_rand_doubles_plus_singles_walked',\n",
       " 'rnn_standard_seed',\n",
       " 'rnn_standard_walked',\n",
       " 'single',\n",
       " 'singles',\n",
       " 'stop',\n",
       " 'wild_type']"
      ]
     },
     "execution_count": 5,
     "metadata": {},
     "output_type": "execute_result"
    }
   ],
   "source": [
    "# print unique partitions\n",
    "sorted(df[\"partition\"].unique())"
   ]
  },
  {
   "cell_type": "code",
   "execution_count": 6,
   "metadata": {
    "colab": {
     "base_uri": "https://localhost:8080/"
    },
    "id": "Kp-02iO0VjbR",
    "outputId": "1e47ab60-84ba-4661-97a9-b60785cdc178"
   },
   "outputs": [
    {
     "data": {
      "text/plain": [
       "56372"
      ]
     },
     "execution_count": 6,
     "metadata": {},
     "output_type": "execute_result"
    }
   ],
   "source": [
    "len(df[df[\"partition\"] == \"designed\"]) # additive model A_39 (complete)"
   ]
  },
  {
   "cell_type": "code",
   "execution_count": 7,
   "metadata": {
    "colab": {
     "base_uri": "https://localhost:8080/"
    },
    "id": "HBXn3a5JVqd4",
    "outputId": "30a7077d-1913-4e01-d9db-64aac286b729"
   },
   "outputs": [
    {
     "data": {
      "text/plain": [
       "1112"
      ]
     },
     "execution_count": 7,
     "metadata": {},
     "output_type": "execute_result"
    }
   ],
   "source": [
    "len(df[df[\"partition\"] == \"single\"]) # complete singles C_1 (complete)"
   ]
  },
  {
   "cell_type": "code",
   "execution_count": 8,
   "metadata": {
    "colab": {
     "base_uri": "https://localhost:8080/"
    },
    "id": "JPSWYqS5ZAZM",
    "outputId": "ad29f1a9-3f7f-47c6-fb6d-6a00d71c5efa"
   },
   "outputs": [
    {
     "data": {
      "text/plain": [
       "25040"
      ]
     },
     "execution_count": 8,
     "metadata": {},
     "output_type": "execute_result"
    }
   ],
   "source": [
    "len(df[df[\"partition\"] == \"random_doubles\"]) # superset of R_2, which has n=1756 data points"
   ]
  },
  {
   "cell_type": "code",
   "execution_count": 9,
   "metadata": {
    "colab": {
     "base_uri": "https://localhost:8080/"
    },
    "id": "oIG--OBXV2ac",
    "outputId": "2419a4f9-355f-4b60-9b01-6b1331799289"
   },
   "outputs": [
    {
     "data": {
      "text/plain": [
       "9885"
      ]
     },
     "execution_count": 9,
     "metadata": {},
     "output_type": "execute_result"
    }
   ],
   "source": [
    "len(df[df[\"partition\"] == \"rand\"]) # R_10 + validation dataset \n",
    "# R_10 has 7908 randomly generated mutants (2-10 mutations)\n",
    "# validation dataset has 1977 mutants"
   ]
  },
  {
   "cell_type": "code",
   "execution_count": 10,
   "metadata": {
    "colab": {
     "base_uri": "https://localhost:8080/"
    },
    "id": "Aw7D63NiXhz0",
    "outputId": "99408852-0043-4d96-893c-f2de096ff0c6"
   },
   "outputs": [
    {
     "name": "stdout",
     "output_type": "stream",
     "text": [
      "number of mutations: 2\n",
      "1756\n",
      "number of mutations: 3\n",
      "1751\n",
      "number of mutations: 4\n",
      "1745\n",
      "number of mutations: 5\n",
      "1745\n",
      "number of mutations: 6\n",
      "1732\n",
      "number of mutations: 7\n",
      "288\n",
      "number of mutations: 8\n",
      "289\n",
      "number of mutations: 9\n",
      "290\n",
      "number of mutations: 10\n",
      "289\n"
     ]
    }
   ],
   "source": [
    "for num_mutations in range(2, 11):\n",
    "    print(\"number of mutations:\", num_mutations)\n",
    "    print(len(df[(df[\"partition\"] == \"rand\") & (df[\"num_mutations\"] == num_mutations)]))"
   ]
  },
  {
   "cell_type": "markdown",
   "metadata": {
    "id": "hkAIY2AHTiyH"
   },
   "source": [
    "## Define datasets\n",
    "- $C_1 + R_2$ dataset\n",
    "- $C_1 + R_{10}$ dataset\n",
    "- $R_{10} + A_{39}$ dataset\n",
    "- holdout 1977 random multiples"
   ]
  },
  {
   "cell_type": "code",
   "execution_count": 11,
   "metadata": {
    "colab": {
     "base_uri": "https://localhost:8080/"
    },
    "id": "qS1rUD4_Zpeu",
    "outputId": "6fb47d14-592a-4981-acfa-e2a94e814974"
   },
   "outputs": [
    {
     "name": "stdout",
     "output_type": "stream",
     "text": [
      "number of mutations: 2\n",
      "323\n",
      "number of mutations: 3\n",
      "319\n",
      "number of mutations: 4\n",
      "359\n",
      "number of mutations: 5\n",
      "373\n",
      "number of mutations: 6\n",
      "366\n",
      "number of mutations: 7\n",
      "54\n",
      "number of mutations: 8\n",
      "59\n",
      "number of mutations: 9\n",
      "57\n",
      "number of mutations: 10\n",
      "67\n"
     ]
    }
   ],
   "source": [
    "# create validation dataset and r10 dataset\n",
    "r10_plus_val = df[df[\"partition\"] == \"rand\"]\n",
    "val_df = r10_plus_val.sample(n=1977, replace=False, random_state=195)\n",
    "r10 = r10_plus_val.drop(val_df.index)\n",
    "\n",
    "for num_mutations in range(2, 11):\n",
    "    print(\"number of mutations:\", num_mutations)\n",
    "    print(len(val_df[val_df[\"num_mutations\"] == num_mutations]))"
   ]
  },
  {
   "cell_type": "code",
   "execution_count": 12,
   "metadata": {
    "id": "SMA2BJxwbHIH"
   },
   "outputs": [],
   "source": [
    "# create r2 dataset\n",
    "r2 = df[df[\"partition\"] == \"rand\"].sample(n=1756, replace=False, random_state=195)"
   ]
  },
  {
   "cell_type": "code",
   "execution_count": 13,
   "metadata": {
    "id": "HE1RAGeKbZTI"
   },
   "outputs": [],
   "source": [
    "c1 = df[df[\"partition\"] == \"single\"]"
   ]
  },
  {
   "cell_type": "code",
   "execution_count": 14,
   "metadata": {
    "id": "Div5kvLCbdt8"
   },
   "outputs": [],
   "source": [
    "a39 = df[df[\"partition\"] == \"designed\"]"
   ]
  },
  {
   "cell_type": "code",
   "execution_count": 15,
   "metadata": {
    "colab": {
     "base_uri": "https://localhost:8080/"
    },
    "id": "5QgsvbdJbOX7",
    "outputId": "9866f629-e2fe-465e-bc41-269c9628df1f"
   },
   "outputs": [
    {
     "name": "stdout",
     "output_type": "stream",
     "text": [
      "C1+R2 size: 2868\n",
      "C1+R10 size: 9020\n",
      "R10+A39 size: 64280\n"
     ]
    }
   ],
   "source": [
    "# create train datasets\n",
    "c1_r2 = pd.concat([c1, r2]).reset_index()\n",
    "print(f\"C1+R2 size: {len(c1_r2)}\")\n",
    "\n",
    "c1_r10 = pd.concat([c1, r10]).reset_index()\n",
    "print(f\"C1+R10 size: {len(c1_r10)}\")\n",
    "\n",
    "r10_a39 = pd.concat([r10, a39]).reset_index()\n",
    "print(f\"R10+A39 size: {len(r10_a39)}\")"
   ]
  },
  {
   "cell_type": "code",
   "execution_count": 16,
   "metadata": {
    "id": "MwkbGAi0Ksfg"
   },
   "outputs": [],
   "source": [
    "# 3 different training datasets (to ensure no overlap)\n",
    "df_c1_r2 = df[df['partition'] != 'stop'].drop(c1.index).drop(r2.index).reset_index()\n",
    "df_c1_r10 = df[df['partition'] != 'stop'].drop(c1.index).drop(r10.index).reset_index()\n",
    "df_r10_a39 = df[df['partition'] != 'stop'].drop(r10.index).drop(a39.index).reset_index()"
   ]
  },
  {
   "cell_type": "code",
   "execution_count": 17,
   "metadata": {
    "colab": {
     "base_uri": "https://localhost:8080/"
    },
    "id": "H-OJ_e2rLXrC",
    "outputId": "c3d97c38-b972-40ea-e822-9a6969b58eef"
   },
   "outputs": [
    {
     "name": "stdout",
     "output_type": "stream",
     "text": [
      "Validation size: 1977\n"
     ]
    }
   ],
   "source": [
    "val_df.reset_index(inplace=True)\n",
    "print(f\"Validation size: {len(val_df)}\")"
   ]
  },
  {
   "cell_type": "code",
   "execution_count": 18,
   "metadata": {
    "colab": {
     "base_uri": "https://localhost:8080/"
    },
    "id": "DpZ5wU2mcXRw",
    "outputId": "125a8553-b827-4ea6-a1da-3e66a9a95866"
   },
   "outputs": [
    {
     "name": "stdout",
     "output_type": "stream",
     "text": [
      "(58, 20)\n"
     ]
    }
   ],
   "source": [
    "# The canonical single-letter code residue alphabet.\n",
    "RESIDUES = tuple('ACDEFGHIKLMNPQRSTVWY')\n",
    "\n",
    "# The AAV serotype 2 wild type subsequence corresponding to positions 561 to 588\n",
    "R1_TILE21_WT_SEQ = 'DEEEIRTTNPVATEQYGSVSTNLQRGNR'\n",
    "\n",
    "res_encoder = ResidueIdentityEncoder(alphabet=RESIDUES)\n",
    "mut_encoder = MutationSequenceEncoder(res_encoder, R1_TILE21_WT_SEQ)\n",
    "\n",
    "WT_ENCODED = mut_encoder.encode(R1_TILE21_WT_SEQ).reshape(-1, 20)\n",
    "print(WT_ENCODED.shape)"
   ]
  },
  {
   "cell_type": "markdown",
   "metadata": {
    "id": "CeCnk5lLUGNQ"
   },
   "source": [
    "# Train LassoNet Model"
   ]
  },
  {
   "cell_type": "code",
   "execution_count": 19,
   "metadata": {
    "id": "RGE0HQ38jbV8"
   },
   "outputs": [],
   "source": [
    "NUM_MODELS = 3 # number of models per ensemble"
   ]
  },
  {
   "cell_type": "code",
   "execution_count": 20,
   "metadata": {
    "id": "b1Dkri6bM6xH"
   },
   "outputs": [],
   "source": [
    "# define validation data\n",
    "X_val = []\n",
    "for i in range(len(val_df)):\n",
    "    X_val.append(mut_encoder.encode(val_df[\"sequence\"][i]))\n",
    "X_val = np.array(X_val)\n",
    "X_val = X_val.reshape(len(X_val), -1)\n",
    "y_val = val_df[\"is_viable\"].to_numpy().astype(int)"
   ]
  },
  {
   "cell_type": "code",
   "execution_count": 21,
   "metadata": {
    "id": "skpAoazUc-ad"
   },
   "outputs": [],
   "source": [
    "def plot_metrics(models, paths):\n",
    "    \"\"\"\n",
    "    models - ensemble of LassoNet models\n",
    "    paths - list of path objects, each of which contains model parameters for a single LassoNet model\n",
    "    \"\"\"\n",
    "    n = len(models)\n",
    "\n",
    "    all_n_selected = [[] for _ in range(n)]\n",
    "    all_accuracy = [[] for _ in range(n)]\n",
    "    all_lambda_ = [[] for _ in range(n)]\n",
    "\n",
    "    for i in range(n):\n",
    "        n_selected = []\n",
    "        accuracy = []\n",
    "        lambda_ = []\n",
    "\n",
    "        for save in paths[i]:\n",
    "            models[i].load(save.state_dict)\n",
    "            y_pred = models[i].predict(X_val)\n",
    "            n_selected.append(save.selected.sum())\n",
    "            accuracy.append(accuracy_score(y_val, y_pred))\n",
    "            lambda_.append(save.lambda_)    \n",
    "\n",
    "        all_n_selected[i] = n_selected\n",
    "        all_accuracy[i] = accuracy\n",
    "        all_lambda_[i] = lambda_\n",
    "\n",
    "    fig = plt.figure(figsize=(12, 12))\n",
    "\n",
    "    plt.subplot(311)\n",
    "    plt.grid(True)\n",
    "    for i in range(n):\n",
    "        plt.scatter(all_n_selected[i], all_accuracy[i])\n",
    "    plt.xlabel(\"number of selected features\")\n",
    "    plt.ylabel(\"classification accuracy\")\n",
    "\n",
    "    plt.subplot(312)\n",
    "    plt.grid(True)\n",
    "    for i in range(n):\n",
    "        plt.plot(all_lambda_[i], all_accuracy[i], \".-\")\n",
    "    plt.xlabel(\"lambda\")\n",
    "    plt.xscale(\"log\")\n",
    "    plt.ylabel(\"classification accuracy\")\n",
    "\n",
    "    plt.subplot(313)\n",
    "    plt.grid(True)\n",
    "    for i in range(n):\n",
    "        plt.plot(all_lambda_[i], all_n_selected[i], \".-\")\n",
    "    plt.xlabel(\"lambda\")\n",
    "    plt.xscale(\"log\")\n",
    "    plt.ylabel(\"number of selected features\")\n",
    "\n",
    "    plt.savefig(\"c1_r2_cnn_lassonet.png\")\n",
    "    \n",
    "    plt.show()\n",
    "\n",
    "    return all_n_selected, all_accuracy, all_lambda_\n",
    "\n",
    "\n",
    "def train_cnn_lassonet(data, name, load_models=True):\n",
    "    from aav.stat195_pytorch_work.torch_cnn_lassonet import CNNLassoNetClassifier\n",
    "    X_train = []\n",
    "    for i in range(len(data)):\n",
    "        X_train.append(mut_encoder.encode(data[\"sequence\"][i]))\n",
    "    y_train = data[\"is_viable\"].to_numpy().astype(int)\n",
    "    X_train = np.array(X_train)\n",
    "\n",
    "    X_train = X_train.reshape(len(X_train), -1)\n",
    "\n",
    "    # define ensemble of models\n",
    "    models = [None]*NUM_MODELS\n",
    "\n",
    "    # attempt to load first, skip training if we already have the weights\n",
    "    if load_models:\n",
    "        with open(f\"{name}_paths.pkl\", \"rb\") as file:\n",
    "            paths = pickle.load(file)\n",
    "    else:\n",
    "        paths = [None]*NUM_MODELS\n",
    "\n",
    "    # train models\n",
    "    for i in tqdm(range(NUM_MODELS)):\n",
    "        models[i] = CNNLassoNetClassifier(\n",
    "            M=1,\n",
    "            batch_size=512,\n",
    "            n_iters=(30, 10),\n",
    "            lambda_start=1,\n",
    "            path_multiplier=1.1\n",
    "        )\n",
    "        if not load_models:\n",
    "            paths[i] = models[i].path(X_train, y_train, X_val=X_val, y_val=y_val)\n",
    "\n",
    "    with open(f\"{name}_paths.pkl\", \"wb\") as file:\n",
    "        pickle.dump(paths, file)\n",
    "\n",
    "    return models, paths"
   ]
  },
  {
   "cell_type": "code",
   "execution_count": 22,
   "metadata": {
    "colab": {
     "base_uri": "https://localhost:8080/",
     "height": 1000,
     "referenced_widgets": [
      "172c16ce433f4f40bee2b9e8c8a0fcca",
      "934d07e2ae6342889f507f44bdc87dd1",
      "e445ca6065dc4fdbbbfb81af14d86823",
      "924aee5763a44fd1a6f0b86d9623158d",
      "97ef6b5012f74b109e3565add7232d5d",
      "8ca8b194806041c5a13897f99c3e536b",
      "a7730f526e71401dab03da601e297c55",
      "69d34e9b7c7340f69efab4dd8d3c312a",
      "6e55d6f800fc4120b0f57aba516d73c2",
      "5a30de4fb9cb40f39541659ae13ddbbd",
      "0ff753a821ae4e72a36c554eb2bb89ac"
     ]
    },
    "id": "RY9CjS-3NVii",
    "outputId": "413df30a-460f-4ba8-a221-eca54970e78e"
   },
   "outputs": [
    {
     "data": {
      "application/vnd.jupyter.widget-view+json": {
       "model_id": "de0e8ed9da0d4ba8a8c083cc7d755d81",
       "version_major": 2,
       "version_minor": 0
      },
      "text/plain": [
       "  0%|          | 0/3 [00:00<?, ?it/s]"
      ]
     },
     "metadata": {},
     "output_type": "display_data"
    },
    {
     "name": "stderr",
     "output_type": "stream",
     "text": [
      "\n",
      "0it [00:00, ?it/s]\u001b[A\n",
      "Iteration 0 - Lambda: 1, selected_count: 58: : 0it [00:00, ?it/s]\u001b[A\n",
      "Iteration 0 - Lambda: 1, selected_count: 58: : 1it [00:00,  1.98it/s]\u001b[A\n",
      "Iteration 1 - Lambda: 1.1, selected_count: 58: : 1it [00:00,  1.98it/s]\u001b[A\n",
      "Iteration 1 - Lambda: 1.1, selected_count: 58: : 2it [00:00,  2.04it/s]\u001b[A\n",
      "Iteration 2 - Lambda: 1.2100000000000002, selected_count: 58: : 2it [00:00,  2.04it/s]\u001b[A\n",
      "Iteration 2 - Lambda: 1.2100000000000002, selected_count: 58: : 3it [00:01,  2.04it/s]\u001b[A\n",
      "Iteration 3 - Lambda: 1.3310000000000004, selected_count: 58: : 3it [00:01,  2.04it/s]\u001b[A\n",
      "Iteration 3 - Lambda: 1.3310000000000004, selected_count: 58: : 4it [00:01,  2.06it/s]\u001b[A\n",
      "Iteration 4 - Lambda: 1.4641000000000006, selected_count: 58: : 4it [00:01,  2.06it/s]\u001b[A\n",
      "Iteration 4 - Lambda: 1.4641000000000006, selected_count: 58: : 5it [00:02,  2.04it/s]\u001b[A\n",
      "Iteration 5 - Lambda: 1.6105100000000008, selected_count: 58: : 5it [00:02,  2.04it/s]\u001b[A\n",
      "Iteration 5 - Lambda: 1.6105100000000008, selected_count: 58: : 6it [00:02,  2.06it/s]\u001b[A\n",
      "Iteration 6 - Lambda: 1.771561000000001, selected_count: 58: : 6it [00:02,  2.06it/s] \u001b[A\n",
      "Iteration 6 - Lambda: 1.771561000000001, selected_count: 58: : 7it [00:03,  2.06it/s]\u001b[A\n",
      "Iteration 7 - Lambda: 1.9487171000000014, selected_count: 58: : 7it [00:03,  2.06it/s]\u001b[A\n",
      "Iteration 7 - Lambda: 1.9487171000000014, selected_count: 58: : 8it [00:03,  2.06it/s]\u001b[A\n",
      "Iteration 8 - Lambda: 2.1435888100000016, selected_count: 58: : 8it [00:03,  2.06it/s]\u001b[A\n",
      "Iteration 8 - Lambda: 2.1435888100000016, selected_count: 58: : 9it [00:04,  2.07it/s]\u001b[A\n",
      "Iteration 9 - Lambda: 2.357947691000002, selected_count: 58: : 9it [00:04,  2.07it/s] \u001b[A\n",
      "Iteration 9 - Lambda: 2.357947691000002, selected_count: 58: : 10it [00:04,  2.08it/s]\u001b[A\n",
      "Iteration 10 - Lambda: 2.5937424601000023, selected_count: 58: : 10it [00:04,  2.08it/s]\u001b[A\n",
      "Iteration 10 - Lambda: 2.5937424601000023, selected_count: 58: : 11it [00:05,  2.08it/s]\u001b[A\n",
      "Iteration 11 - Lambda: 2.853116706110003, selected_count: 58: : 11it [00:05,  2.08it/s] \u001b[A\n",
      "Iteration 11 - Lambda: 2.853116706110003, selected_count: 58: : 12it [00:05,  2.09it/s]\u001b[A\n",
      "Iteration 12 - Lambda: 3.1384283767210035, selected_count: 58: : 12it [00:05,  2.09it/s]\u001b[A\n",
      "Iteration 12 - Lambda: 3.1384283767210035, selected_count: 58: : 13it [00:06,  2.08it/s]\u001b[A\n",
      "Iteration 13 - Lambda: 3.4522712143931042, selected_count: 58: : 13it [00:06,  2.08it/s]\u001b[A\n",
      "Iteration 13 - Lambda: 3.4522712143931042, selected_count: 58: : 14it [00:06,  2.09it/s]\u001b[A\n",
      "Iteration 14 - Lambda: 3.797498335832415, selected_count: 58: : 14it [00:06,  2.09it/s] \u001b[A\n",
      "Iteration 14 - Lambda: 3.797498335832415, selected_count: 58: : 15it [00:07,  2.10it/s]\u001b[A\n",
      "Iteration 15 - Lambda: 4.177248169415656, selected_count: 58: : 15it [00:07,  2.10it/s]\u001b[A\n",
      "Iteration 15 - Lambda: 4.177248169415656, selected_count: 58: : 16it [00:07,  2.10it/s]\u001b[A\n",
      "Iteration 16 - Lambda: 4.594972986357222, selected_count: 58: : 16it [00:07,  2.10it/s]\u001b[A\n",
      "Iteration 16 - Lambda: 4.594972986357222, selected_count: 58: : 17it [00:08,  2.12it/s]\u001b[A\n",
      "Iteration 17 - Lambda: 5.054470284992944, selected_count: 58: : 17it [00:08,  2.12it/s]\u001b[A\n",
      "Iteration 17 - Lambda: 5.054470284992944, selected_count: 58: : 18it [00:08,  2.12it/s]\u001b[A\n",
      "Iteration 18 - Lambda: 5.559917313492239, selected_count: 58: : 18it [00:08,  2.12it/s]\u001b[A\n",
      "Iteration 18 - Lambda: 5.559917313492239, selected_count: 58: : 19it [00:09,  2.10it/s]\u001b[A\n",
      "Iteration 19 - Lambda: 6.115909044841463, selected_count: 58: : 19it [00:09,  2.10it/s]\u001b[A\n",
      "Iteration 19 - Lambda: 6.115909044841463, selected_count: 58: : 20it [00:09,  2.11it/s]\u001b[A\n",
      "Iteration 20 - Lambda: 6.72749994932561, selected_count: 58: : 20it [00:09,  2.11it/s] \u001b[A\n",
      "Iteration 20 - Lambda: 6.72749994932561, selected_count: 58: : 21it [00:10,  2.10it/s]\u001b[A\n",
      "Iteration 21 - Lambda: 7.400249944258172, selected_count: 58: : 21it [00:10,  2.10it/s]\u001b[A\n",
      "Iteration 21 - Lambda: 7.400249944258172, selected_count: 58: : 22it [00:10,  2.12it/s]\u001b[A\n",
      "Iteration 22 - Lambda: 8.140274938683989, selected_count: 58: : 22it [00:10,  2.12it/s]\u001b[A\n",
      "Iteration 22 - Lambda: 8.140274938683989, selected_count: 58: : 23it [00:11,  2.12it/s]\u001b[A\n",
      "Iteration 23 - Lambda: 8.954302432552389, selected_count: 58: : 23it [00:11,  2.12it/s]\u001b[A\n",
      "Iteration 23 - Lambda: 8.954302432552389, selected_count: 58: : 24it [00:11,  2.14it/s]\u001b[A\n",
      "Iteration 24 - Lambda: 9.849732675807628, selected_count: 48: : 24it [00:11,  2.14it/s]\u001b[A\n",
      "Iteration 24 - Lambda: 9.849732675807628, selected_count: 48: : 25it [00:11,  2.14it/s]\u001b[A\n",
      "Iteration 25 - Lambda: 10.834705943388391, selected_count: 40: : 25it [00:11,  2.14it/s]\u001b[A\n",
      "Iteration 25 - Lambda: 10.834705943388391, selected_count: 40: : 26it [00:12,  2.14it/s]\u001b[A\n",
      "Iteration 26 - Lambda: 11.91817653772723, selected_count: 34: : 26it [00:12,  2.14it/s] \u001b[A\n",
      "Iteration 26 - Lambda: 11.91817653772723, selected_count: 34: : 27it [00:12,  2.10it/s]\u001b[A\n",
      "Iteration 27 - Lambda: 13.109994191499954, selected_count: 27: : 27it [00:12,  2.10it/s]\u001b[A\n",
      "Iteration 27 - Lambda: 13.109994191499954, selected_count: 27: : 28it [00:13,  2.11it/s]\u001b[A\n",
      "Iteration 28 - Lambda: 14.420993610649951, selected_count: 18: : 28it [00:13,  2.11it/s]\u001b[A\n",
      "Iteration 28 - Lambda: 14.420993610649951, selected_count: 18: : 29it [00:13,  2.12it/s]\u001b[A\n",
      "Iteration 29 - Lambda: 15.863092971714948, selected_count: 15: : 29it [00:13,  2.12it/s]\u001b[A\n",
      "Iteration 29 - Lambda: 15.863092971714948, selected_count: 15: : 30it [00:14,  2.13it/s]\u001b[A\n",
      "Iteration 30 - Lambda: 17.449402268886445, selected_count: 12: : 30it [00:14,  2.13it/s]\u001b[A\n",
      "Iteration 30 - Lambda: 17.449402268886445, selected_count: 12: : 31it [00:14,  2.14it/s]\u001b[A\n",
      "Iteration 31 - Lambda: 19.19434249577509, selected_count: 8: : 31it [00:14,  2.14it/s]  \u001b[A\n",
      "Iteration 31 - Lambda: 19.19434249577509, selected_count: 8: : 32it [00:15,  2.14it/s]\u001b[A\n",
      "Iteration 32 - Lambda: 21.1137767453526, selected_count: 10: : 32it [00:15,  2.14it/s]\u001b[A\n",
      "Iteration 32 - Lambda: 21.1137767453526, selected_count: 10: : 33it [00:15,  2.15it/s]\u001b[A\n",
      "Iteration 33 - Lambda: 23.22515441988786, selected_count: 8: : 33it [00:15,  2.15it/s]\u001b[A\n",
      "Iteration 33 - Lambda: 23.22515441988786, selected_count: 8: : 34it [00:16,  2.13it/s]\u001b[A\n",
      "Iteration 34 - Lambda: 25.54766986187665, selected_count: 6: : 34it [00:16,  2.13it/s]\u001b[A\n",
      "Iteration 34 - Lambda: 25.54766986187665, selected_count: 6: : 35it [00:16,  2.13it/s]\u001b[A\n",
      "Iteration 35 - Lambda: 28.102436848064315, selected_count: 5: : 35it [00:16,  2.13it/s]\u001b[A\n",
      "Iteration 35 - Lambda: 28.102436848064315, selected_count: 5: : 36it [00:17,  2.13it/s]\u001b[A\n",
      "Iteration 36 - Lambda: 30.91268053287075, selected_count: 2: : 36it [00:17,  2.13it/s] \u001b[A\n",
      "Iteration 36 - Lambda: 30.91268053287075, selected_count: 2: : 37it [00:17,  2.11it/s]\u001b[A\n",
      "Iteration 37 - Lambda: 34.003948586157826, selected_count: 6: : 37it [00:17,  2.11it/s]\u001b[A\n",
      "Iteration 37 - Lambda: 34.003948586157826, selected_count: 6: : 38it [00:18,  2.11it/s]\u001b[A\n",
      "Iteration 38 - Lambda: 37.40434344477361, selected_count: 2: : 38it [00:18,  2.11it/s] \u001b[A\n",
      "Iteration 38 - Lambda: 37.40434344477361, selected_count: 2: : 39it [00:18,  2.13it/s]\u001b[A\n",
      "Iteration 39 - Lambda: 41.14477778925097, selected_count: 8: : 39it [00:18,  2.13it/s]\u001b[A\n",
      "Iteration 39 - Lambda: 41.14477778925097, selected_count: 8: : 40it [00:19,  2.12it/s]\u001b[A\n",
      "Iteration 40 - Lambda: 45.25925556817607, selected_count: 2: : 40it [00:19,  2.12it/s]\u001b[A\n",
      "Iteration 40 - Lambda: 45.25925556817607, selected_count: 2: : 41it [00:19,  2.13it/s]\u001b[A\n",
      "Iteration 41 - Lambda: 49.785181124993684, selected_count: 3: : 41it [00:19,  2.13it/s]\u001b[A\n",
      "Iteration 41 - Lambda: 49.785181124993684, selected_count: 3: : 42it [00:19,  2.13it/s]\u001b[A\n",
      "Iteration 42 - Lambda: 54.76369923749306, selected_count: 7: : 42it [00:19,  2.13it/s] \u001b[A\n",
      "Iteration 42 - Lambda: 54.76369923749306, selected_count: 7: : 43it [00:20,  2.14it/s]\u001b[A\n",
      "Iteration 43 - Lambda: 60.24006916124237, selected_count: 3: : 43it [00:20,  2.14it/s]\u001b[A\n",
      "Iteration 43 - Lambda: 60.24006916124237, selected_count: 3: : 44it [00:20,  2.14it/s]\u001b[A\n",
      "Iteration 44 - Lambda: 66.26407607736661, selected_count: 5: : 44it [00:20,  2.14it/s]\u001b[A\n",
      "Iteration 44 - Lambda: 66.26407607736661, selected_count: 5: : 45it [00:21,  2.12it/s]\u001b[A\n",
      "Iteration 45 - Lambda: 72.89048368510328, selected_count: 1: : 45it [00:21,  2.11it/s]\u001b[A\n",
      "\n",
      "0it [00:00, ?it/s]\u001b[A\n",
      "Iteration 0 - Lambda: 1, selected_count: 58: : 0it [00:00, ?it/s]\u001b[A\n",
      "Iteration 0 - Lambda: 1, selected_count: 58: : 1it [00:00,  2.03it/s]\u001b[A\n",
      "Iteration 1 - Lambda: 1.1, selected_count: 58: : 1it [00:00,  2.03it/s]\u001b[A\n",
      "Iteration 1 - Lambda: 1.1, selected_count: 58: : 2it [00:00,  2.00it/s]\u001b[A\n",
      "Iteration 2 - Lambda: 1.2100000000000002, selected_count: 58: : 2it [00:01,  2.00it/s]\u001b[A\n",
      "Iteration 2 - Lambda: 1.2100000000000002, selected_count: 58: : 3it [00:01,  2.00it/s]\u001b[A\n",
      "Iteration 3 - Lambda: 1.3310000000000004, selected_count: 58: : 3it [00:01,  2.00it/s]\u001b[A\n",
      "Iteration 3 - Lambda: 1.3310000000000004, selected_count: 58: : 4it [00:01,  2.01it/s]\u001b[A\n",
      "Iteration 4 - Lambda: 1.4641000000000006, selected_count: 58: : 4it [00:01,  2.01it/s]\u001b[A\n",
      "Iteration 4 - Lambda: 1.4641000000000006, selected_count: 58: : 5it [00:02,  2.01it/s]\u001b[A\n",
      "Iteration 5 - Lambda: 1.6105100000000008, selected_count: 58: : 5it [00:02,  2.01it/s]\u001b[A\n",
      "Iteration 5 - Lambda: 1.6105100000000008, selected_count: 58: : 6it [00:02,  2.02it/s]\u001b[A\n",
      "Iteration 6 - Lambda: 1.771561000000001, selected_count: 58: : 6it [00:02,  2.02it/s] \u001b[A\n",
      "Iteration 6 - Lambda: 1.771561000000001, selected_count: 58: : 7it [00:03,  1.99it/s]\u001b[A\n",
      "Iteration 7 - Lambda: 1.9487171000000014, selected_count: 58: : 7it [00:03,  1.99it/s]\u001b[A\n",
      "Iteration 7 - Lambda: 1.9487171000000014, selected_count: 58: : 8it [00:03,  2.01it/s]\u001b[A\n",
      "Iteration 8 - Lambda: 2.1435888100000016, selected_count: 58: : 8it [00:03,  2.01it/s]\u001b[A\n",
      "Iteration 8 - Lambda: 2.1435888100000016, selected_count: 58: : 9it [00:04,  2.02it/s]\u001b[A\n",
      "Iteration 9 - Lambda: 2.357947691000002, selected_count: 58: : 9it [00:04,  2.02it/s] \u001b[A\n",
      "Iteration 9 - Lambda: 2.357947691000002, selected_count: 58: : 10it [00:05,  1.98it/s]\u001b[A\n",
      "Iteration 10 - Lambda: 2.5937424601000023, selected_count: 58: : 10it [00:05,  1.98it/s]\u001b[A\n",
      "Iteration 10 - Lambda: 2.5937424601000023, selected_count: 58: : 11it [00:05,  1.99it/s]\u001b[A\n",
      "Iteration 11 - Lambda: 2.853116706110003, selected_count: 58: : 11it [00:05,  1.99it/s] \u001b[A\n",
      "Iteration 11 - Lambda: 2.853116706110003, selected_count: 58: : 12it [00:05,  2.01it/s]\u001b[A\n",
      "Iteration 12 - Lambda: 3.1384283767210035, selected_count: 58: : 12it [00:05,  2.01it/s]\u001b[A\n",
      "Iteration 12 - Lambda: 3.1384283767210035, selected_count: 58: : 13it [00:06,  2.02it/s]\u001b[A\n",
      "Iteration 13 - Lambda: 3.4522712143931042, selected_count: 58: : 13it [00:06,  2.02it/s]\u001b[A\n",
      "Iteration 13 - Lambda: 3.4522712143931042, selected_count: 58: : 14it [00:06,  2.04it/s]\u001b[A\n",
      "Iteration 14 - Lambda: 3.797498335832415, selected_count: 58: : 14it [00:06,  2.04it/s] \u001b[A\n",
      "Iteration 14 - Lambda: 3.797498335832415, selected_count: 58: : 15it [00:07,  2.05it/s]\u001b[A\n",
      "Iteration 15 - Lambda: 4.177248169415656, selected_count: 58: : 15it [00:07,  2.05it/s]\u001b[A\n",
      "Iteration 15 - Lambda: 4.177248169415656, selected_count: 58: : 16it [00:07,  2.06it/s]\u001b[A\n",
      "Iteration 16 - Lambda: 4.594972986357222, selected_count: 58: : 16it [00:07,  2.06it/s]\u001b[A\n",
      "Iteration 16 - Lambda: 4.594972986357222, selected_count: 58: : 17it [00:08,  2.04it/s]\u001b[A\n",
      "Iteration 17 - Lambda: 5.054470284992944, selected_count: 58: : 17it [00:08,  2.04it/s]\u001b[A\n",
      "Iteration 17 - Lambda: 5.054470284992944, selected_count: 58: : 18it [00:08,  2.05it/s]\u001b[A\n",
      "Iteration 18 - Lambda: 5.559917313492239, selected_count: 58: : 18it [00:08,  2.05it/s]\u001b[A\n",
      "Iteration 18 - Lambda: 5.559917313492239, selected_count: 58: : 19it [00:09,  2.04it/s]\u001b[A\n",
      "Iteration 19 - Lambda: 6.115909044841463, selected_count: 58: : 19it [00:09,  2.04it/s]\u001b[A\n",
      "Iteration 19 - Lambda: 6.115909044841463, selected_count: 58: : 20it [00:09,  2.03it/s]\u001b[A\n",
      "Iteration 20 - Lambda: 6.72749994932561, selected_count: 58: : 20it [00:09,  2.03it/s] \u001b[A\n",
      "Iteration 20 - Lambda: 6.72749994932561, selected_count: 58: : 21it [00:10,  2.03it/s]\u001b[A\n",
      "Iteration 21 - Lambda: 7.400249944258172, selected_count: 58: : 21it [00:10,  2.03it/s]\u001b[A\n",
      "Iteration 21 - Lambda: 7.400249944258172, selected_count: 58: : 22it [00:10,  2.05it/s]\u001b[A\n",
      "Iteration 22 - Lambda: 8.140274938683989, selected_count: 58: : 22it [00:10,  2.05it/s]\u001b[A\n",
      "Iteration 22 - Lambda: 8.140274938683989, selected_count: 58: : 23it [00:11,  2.05it/s]\u001b[A\n",
      "Iteration 23 - Lambda: 8.954302432552389, selected_count: 57: : 23it [00:11,  2.05it/s]\u001b[A\n",
      "Iteration 23 - Lambda: 8.954302432552389, selected_count: 57: : 24it [00:11,  2.06it/s]\u001b[A\n",
      "Iteration 24 - Lambda: 9.849732675807628, selected_count: 44: : 24it [00:11,  2.06it/s]\u001b[A\n",
      "Iteration 24 - Lambda: 9.849732675807628, selected_count: 44: : 25it [00:12,  2.06it/s]\u001b[A\n",
      "Iteration 25 - Lambda: 10.834705943388391, selected_count: 29: : 25it [00:12,  2.06it/s]\u001b[A\n",
      "Iteration 25 - Lambda: 10.834705943388391, selected_count: 29: : 26it [00:12,  2.08it/s]\u001b[A\n",
      "Iteration 26 - Lambda: 11.91817653772723, selected_count: 24: : 26it [00:12,  2.08it/s] \u001b[A\n",
      "Iteration 26 - Lambda: 11.91817653772723, selected_count: 24: : 27it [00:13,  2.07it/s]\u001b[A\n",
      "Iteration 27 - Lambda: 13.109994191499954, selected_count: 16: : 27it [00:13,  2.07it/s]\u001b[A\n",
      "Iteration 27 - Lambda: 13.109994191499954, selected_count: 16: : 28it [00:13,  2.08it/s]\u001b[A\n",
      "Iteration 28 - Lambda: 14.420993610649951, selected_count: 11: : 28it [00:13,  2.08it/s]\u001b[A\n",
      "Iteration 28 - Lambda: 14.420993610649951, selected_count: 11: : 29it [00:14,  2.06it/s]\u001b[A\n",
      "Iteration 29 - Lambda: 15.863092971714948, selected_count: 10: : 29it [00:14,  2.06it/s]\u001b[A\n",
      "Iteration 29 - Lambda: 15.863092971714948, selected_count: 10: : 30it [00:14,  2.07it/s]\u001b[A\n",
      "Iteration 30 - Lambda: 17.449402268886445, selected_count: 8: : 30it [00:14,  2.07it/s] \u001b[A\n",
      "Iteration 30 - Lambda: 17.449402268886445, selected_count: 8: : 31it [00:15,  2.08it/s]\u001b[A\n",
      "Iteration 31 - Lambda: 19.19434249577509, selected_count: 4: : 31it [00:15,  2.08it/s] \u001b[A\n",
      "Iteration 31 - Lambda: 19.19434249577509, selected_count: 4: : 32it [00:15,  2.08it/s]\u001b[A\n",
      "Iteration 32 - Lambda: 21.1137767453526, selected_count: 6: : 32it [00:15,  2.08it/s] \u001b[A\n",
      "Iteration 32 - Lambda: 21.1137767453526, selected_count: 6: : 33it [00:16,  2.09it/s]\u001b[A\n",
      "Iteration 33 - Lambda: 23.22515441988786, selected_count: 5: : 33it [00:16,  2.09it/s]\u001b[A\n",
      "Iteration 33 - Lambda: 23.22515441988786, selected_count: 5: : 34it [00:16,  2.10it/s]\u001b[A\n",
      "Iteration 34 - Lambda: 25.54766986187665, selected_count: 4: : 34it [00:16,  2.10it/s]\u001b[A\n",
      "Iteration 34 - Lambda: 25.54766986187665, selected_count: 4: : 35it [00:17,  2.10it/s]\u001b[A\n",
      "Iteration 35 - Lambda: 28.102436848064315, selected_count: 8: : 35it [00:17,  2.10it/s]\u001b[A\n",
      "Iteration 35 - Lambda: 28.102436848064315, selected_count: 8: : 36it [00:17,  2.10it/s]\u001b[A\n",
      "Iteration 36 - Lambda: 30.91268053287075, selected_count: 3: : 36it [00:17,  2.10it/s] \u001b[A\n",
      "Iteration 36 - Lambda: 30.91268053287075, selected_count: 3: : 37it [00:18,  2.07it/s]\u001b[A\n",
      "Iteration 37 - Lambda: 34.003948586157826, selected_count: 3: : 37it [00:18,  2.07it/s]\u001b[A\n",
      "Iteration 37 - Lambda: 34.003948586157826, selected_count: 3: : 38it [00:18,  2.08it/s]\u001b[A\n",
      "Iteration 38 - Lambda: 37.40434344477361, selected_count: 5: : 38it [00:18,  2.08it/s] \u001b[A\n",
      "Iteration 38 - Lambda: 37.40434344477361, selected_count: 5: : 39it [00:19,  2.07it/s]\u001b[A\n",
      "Iteration 39 - Lambda: 41.14477778925097, selected_count: 1: : 39it [00:19,  2.05it/s]\u001b[A\n",
      "\n",
      "0it [00:00, ?it/s]\u001b[A\n",
      "Iteration 0 - Lambda: 1, selected_count: 58: : 0it [00:00, ?it/s]\u001b[A\n",
      "Iteration 0 - Lambda: 1, selected_count: 58: : 1it [00:00,  2.13it/s]\u001b[A\n",
      "Iteration 1 - Lambda: 1.1, selected_count: 58: : 1it [00:00,  2.13it/s]\u001b[A\n",
      "Iteration 1 - Lambda: 1.1, selected_count: 58: : 2it [00:00,  2.12it/s]\u001b[A\n",
      "Iteration 2 - Lambda: 1.2100000000000002, selected_count: 58: : 2it [00:00,  2.12it/s]\u001b[A\n",
      "Iteration 2 - Lambda: 1.2100000000000002, selected_count: 58: : 3it [00:01,  2.13it/s]\u001b[A\n",
      "Iteration 3 - Lambda: 1.3310000000000004, selected_count: 58: : 3it [00:01,  2.13it/s]\u001b[A\n",
      "Iteration 3 - Lambda: 1.3310000000000004, selected_count: 58: : 4it [00:01,  2.12it/s]\u001b[A\n",
      "Iteration 4 - Lambda: 1.4641000000000006, selected_count: 58: : 4it [00:01,  2.12it/s]\u001b[A\n",
      "Iteration 4 - Lambda: 1.4641000000000006, selected_count: 58: : 5it [00:02,  2.12it/s]\u001b[A\n",
      "Iteration 5 - Lambda: 1.6105100000000008, selected_count: 58: : 5it [00:02,  2.12it/s]\u001b[A\n",
      "Iteration 5 - Lambda: 1.6105100000000008, selected_count: 58: : 6it [00:02,  2.11it/s]\u001b[A\n",
      "Iteration 6 - Lambda: 1.771561000000001, selected_count: 58: : 6it [00:02,  2.11it/s] \u001b[A\n",
      "Iteration 6 - Lambda: 1.771561000000001, selected_count: 58: : 7it [00:03,  2.11it/s]\u001b[A\n",
      "Iteration 7 - Lambda: 1.9487171000000014, selected_count: 58: : 7it [00:03,  2.11it/s]\u001b[A\n",
      "Iteration 7 - Lambda: 1.9487171000000014, selected_count: 58: : 8it [00:03,  2.12it/s]\u001b[A\n",
      "Iteration 8 - Lambda: 2.1435888100000016, selected_count: 58: : 8it [00:03,  2.12it/s]\u001b[A\n",
      "Iteration 8 - Lambda: 2.1435888100000016, selected_count: 58: : 9it [00:04,  2.11it/s]\u001b[A\n",
      "Iteration 9 - Lambda: 2.357947691000002, selected_count: 58: : 9it [00:04,  2.11it/s] \u001b[A\n",
      "Iteration 9 - Lambda: 2.357947691000002, selected_count: 58: : 10it [00:04,  2.11it/s]\u001b[A\n",
      "Iteration 10 - Lambda: 2.5937424601000023, selected_count: 58: : 10it [00:04,  2.11it/s]\u001b[A\n",
      "Iteration 10 - Lambda: 2.5937424601000023, selected_count: 58: : 11it [00:05,  2.10it/s]\u001b[A\n",
      "Iteration 11 - Lambda: 2.853116706110003, selected_count: 58: : 11it [00:05,  2.10it/s] \u001b[A\n",
      "Iteration 11 - Lambda: 2.853116706110003, selected_count: 58: : 12it [00:05,  2.09it/s]\u001b[A\n",
      "Iteration 12 - Lambda: 3.1384283767210035, selected_count: 58: : 12it [00:05,  2.09it/s]\u001b[A\n",
      "Iteration 12 - Lambda: 3.1384283767210035, selected_count: 58: : 13it [00:06,  2.09it/s]\u001b[A\n",
      "Iteration 13 - Lambda: 3.4522712143931042, selected_count: 58: : 13it [00:06,  2.09it/s]\u001b[A\n",
      "Iteration 13 - Lambda: 3.4522712143931042, selected_count: 58: : 14it [00:06,  2.09it/s]\u001b[A\n",
      "Iteration 14 - Lambda: 3.797498335832415, selected_count: 58: : 14it [00:06,  2.09it/s] \u001b[A\n",
      "Iteration 14 - Lambda: 3.797498335832415, selected_count: 58: : 15it [00:07,  2.06it/s]\u001b[A\n",
      "Iteration 15 - Lambda: 4.177248169415656, selected_count: 58: : 15it [00:07,  2.06it/s]\u001b[A\n",
      "Iteration 15 - Lambda: 4.177248169415656, selected_count: 58: : 16it [00:07,  2.05it/s]\u001b[A\n",
      "Iteration 16 - Lambda: 4.594972986357222, selected_count: 58: : 16it [00:07,  2.05it/s]\u001b[A\n",
      "Iteration 16 - Lambda: 4.594972986357222, selected_count: 58: : 17it [00:08,  2.04it/s]\u001b[A\n",
      "Iteration 17 - Lambda: 5.054470284992944, selected_count: 58: : 17it [00:08,  2.04it/s]\u001b[A\n",
      "Iteration 17 - Lambda: 5.054470284992944, selected_count: 58: : 18it [00:08,  2.02it/s]\u001b[A\n",
      "Iteration 18 - Lambda: 5.559917313492239, selected_count: 58: : 18it [00:08,  2.02it/s]\u001b[A\n",
      "Iteration 18 - Lambda: 5.559917313492239, selected_count: 58: : 19it [00:09,  2.02it/s]\u001b[A\n",
      "Iteration 19 - Lambda: 6.115909044841463, selected_count: 58: : 19it [00:09,  2.02it/s]\u001b[A\n",
      "Iteration 19 - Lambda: 6.115909044841463, selected_count: 58: : 20it [00:09,  2.00it/s]\u001b[A\n",
      "Iteration 20 - Lambda: 6.72749994932561, selected_count: 58: : 20it [00:09,  2.00it/s] \u001b[A\n",
      "Iteration 20 - Lambda: 6.72749994932561, selected_count: 58: : 21it [00:10,  2.01it/s]\u001b[A\n",
      "Iteration 21 - Lambda: 7.400249944258172, selected_count: 58: : 21it [00:10,  2.01it/s]\u001b[A\n",
      "Iteration 21 - Lambda: 7.400249944258172, selected_count: 58: : 22it [00:10,  2.02it/s]\u001b[A\n",
      "Iteration 22 - Lambda: 8.140274938683989, selected_count: 58: : 22it [00:10,  2.02it/s]\u001b[A\n",
      "Iteration 22 - Lambda: 8.140274938683989, selected_count: 58: : 23it [00:11,  2.02it/s]\u001b[A\n",
      "Iteration 23 - Lambda: 8.954302432552389, selected_count: 58: : 23it [00:11,  2.02it/s]\u001b[A\n",
      "Iteration 23 - Lambda: 8.954302432552389, selected_count: 58: : 24it [00:11,  2.01it/s]\u001b[A\n",
      "Iteration 24 - Lambda: 9.849732675807628, selected_count: 49: : 24it [00:11,  2.01it/s]\u001b[A\n",
      "Iteration 24 - Lambda: 9.849732675807628, selected_count: 49: : 25it [00:12,  1.96it/s]\u001b[A\n",
      "Iteration 25 - Lambda: 10.834705943388391, selected_count: 38: : 25it [00:12,  1.96it/s]\u001b[A\n",
      "Iteration 25 - Lambda: 10.834705943388391, selected_count: 38: : 26it [00:12,  1.92it/s]\u001b[A\n",
      "Iteration 26 - Lambda: 11.91817653772723, selected_count: 22: : 26it [00:12,  1.92it/s] \u001b[A\n",
      "Iteration 26 - Lambda: 11.91817653772723, selected_count: 22: : 27it [00:13,  1.94it/s]\u001b[A\n",
      "Iteration 27 - Lambda: 13.109994191499954, selected_count: 10: : 27it [00:13,  1.94it/s]\u001b[A\n",
      "Iteration 27 - Lambda: 13.109994191499954, selected_count: 10: : 28it [00:13,  1.95it/s]\u001b[A\n",
      "Iteration 28 - Lambda: 14.420993610649951, selected_count: 8: : 28it [00:13,  1.95it/s] \u001b[A\n",
      "Iteration 28 - Lambda: 14.420993610649951, selected_count: 8: : 29it [00:14,  1.96it/s]\u001b[A\n",
      "Iteration 29 - Lambda: 15.863092971714948, selected_count: 10: : 29it [00:14,  1.96it/s]\u001b[A\n",
      "Iteration 29 - Lambda: 15.863092971714948, selected_count: 10: : 30it [00:14,  1.97it/s]\u001b[A\n",
      "Iteration 30 - Lambda: 17.449402268886445, selected_count: 18: : 30it [00:14,  1.97it/s]\u001b[A\n",
      "Iteration 30 - Lambda: 17.449402268886445, selected_count: 18: : 31it [00:15,  1.99it/s]\u001b[A\n",
      "Iteration 31 - Lambda: 19.19434249577509, selected_count: 4: : 31it [00:15,  1.99it/s]  \u001b[A\n",
      "Iteration 31 - Lambda: 19.19434249577509, selected_count: 4: : 32it [00:15,  2.01it/s]\u001b[A\n",
      "Iteration 32 - Lambda: 21.1137767453526, selected_count: 6: : 32it [00:15,  2.01it/s] \u001b[A\n",
      "Iteration 32 - Lambda: 21.1137767453526, selected_count: 6: : 33it [00:16,  2.02it/s]\u001b[A\n",
      "Iteration 33 - Lambda: 23.22515441988786, selected_count: 6: : 33it [00:16,  2.02it/s]\u001b[A\n",
      "Iteration 33 - Lambda: 23.22515441988786, selected_count: 6: : 34it [00:16,  2.03it/s]\u001b[A\n",
      "Iteration 34 - Lambda: 25.54766986187665, selected_count: 6: : 34it [00:16,  2.03it/s]\u001b[A\n",
      "Iteration 34 - Lambda: 25.54766986187665, selected_count: 6: : 35it [00:17,  2.05it/s]\u001b[A\n",
      "Iteration 35 - Lambda: 28.102436848064315, selected_count: 5: : 35it [00:17,  2.05it/s]\u001b[A\n",
      "Iteration 35 - Lambda: 28.102436848064315, selected_count: 5: : 36it [00:17,  2.06it/s]\u001b[A\n",
      "Iteration 36 - Lambda: 30.91268053287075, selected_count: 6: : 36it [00:17,  2.06it/s] \u001b[A\n",
      "Iteration 36 - Lambda: 30.91268053287075, selected_count: 6: : 37it [00:18,  2.06it/s]\u001b[A\n",
      "Iteration 37 - Lambda: 34.003948586157826, selected_count: 6: : 37it [00:18,  2.06it/s]\u001b[A\n",
      "Iteration 37 - Lambda: 34.003948586157826, selected_count: 6: : 38it [00:18,  2.07it/s]\u001b[A\n",
      "Iteration 38 - Lambda: 37.40434344477361, selected_count: 2: : 38it [00:18,  2.07it/s] \u001b[A\n",
      "Iteration 38 - Lambda: 37.40434344477361, selected_count: 2: : 39it [00:19,  2.07it/s]\u001b[A\n",
      "Iteration 39 - Lambda: 41.14477778925097, selected_count: 3: : 39it [00:19,  2.07it/s]\u001b[A\n",
      "Iteration 39 - Lambda: 41.14477778925097, selected_count: 3: : 40it [00:19,  2.07it/s]\u001b[A\n",
      "Iteration 40 - Lambda: 45.25925556817607, selected_count: 3: : 40it [00:19,  2.07it/s]\u001b[A\n",
      "Iteration 40 - Lambda: 45.25925556817607, selected_count: 3: : 41it [00:20,  2.06it/s]\u001b[A\n",
      "Iteration 41 - Lambda: 49.785181124993684, selected_count: 6: : 41it [00:20,  2.06it/s]\u001b[A\n",
      "Iteration 41 - Lambda: 49.785181124993684, selected_count: 6: : 42it [00:20,  2.07it/s]\u001b[A\n",
      "Iteration 42 - Lambda: 54.76369923749306, selected_count: 3: : 42it [00:20,  2.07it/s] \u001b[A\n",
      "Iteration 42 - Lambda: 54.76369923749306, selected_count: 3: : 43it [00:21,  2.06it/s]\u001b[A\n",
      "Iteration 43 - Lambda: 60.24006916124237, selected_count: 2: : 43it [00:21,  2.06it/s]\u001b[A\n",
      "Iteration 43 - Lambda: 60.24006916124237, selected_count: 2: : 44it [00:21,  2.07it/s]\u001b[A\n",
      "Iteration 44 - Lambda: 66.26407607736661, selected_count: 8: : 44it [00:21,  2.07it/s]\u001b[A\n",
      "Iteration 44 - Lambda: 66.26407607736661, selected_count: 8: : 45it [00:21,  2.07it/s]\u001b[A\n",
      "Iteration 45 - Lambda: 72.89048368510328, selected_count: 1: : 45it [00:21,  2.05it/s]\u001b[A\n"
     ]
    },
    {
     "data": {
      "image/png": "[encoded data removed]",
      "text/plain": [
       "<Figure size 864x864 with 3 Axes>"
      ]
     },
     "metadata": {
      "needs_background": "light"
     },
     "output_type": "display_data"
    }
   ],
   "source": [
    "models_cnn_lassonet, paths_cnn_lassonet = train_cnn_lassonet(c1_r2, \"c1_r2\", load_models=False)\n",
    "all_n_selected, all_accuracy, all_lambda_ = plot_metrics(models_cnn_lassonet, paths_cnn_lassonet)"
   ]
  },
  {
   "cell_type": "markdown",
   "metadata": {
    "id": "dOTDeTn-aGfx"
   },
   "source": [
    "## Examine Sparsity"
   ]
  },
  {
   "cell_type": "code",
   "execution_count": 23,
   "metadata": {
    "colab": {
     "base_uri": "https://localhost:8080/",
     "height": 795
    },
    "id": "Z1UqKn7voJuw",
    "outputId": "43408399-6f03-48ad-c1bf-9466c2cdd809"
   },
   "outputs": [
    {
     "name": "stdout",
     "output_type": "stream",
     "text": [
      "Model number: 26\n"
     ]
    },
    {
     "name": "stderr",
     "output_type": "stream",
     "text": [
      "C:\\Users\\William\\anaconda3\\envs\\stat195project\\lib\\site-packages\\ipykernel_launcher.py:5: VisibleDeprecationWarning: Creating an ndarray from ragged nested sequences (which is a list-or-tuple of lists-or-tuples-or ndarrays with different lengths or shapes) is deprecated. If you meant to do this, you must specify 'dtype=object' when creating the ndarray.\n",
      "  \"\"\"\n"
     ]
    },
    {
     "data": {
      "image/png": "[encoded data removed]",
      "text/plain": [
       "<Figure size 720x360 with 1 Axes>"
      ]
     },
     "metadata": {
      "needs_background": "light"
     },
     "output_type": "display_data"
    },
    {
     "name": "stdout",
     "output_type": "stream",
     "text": [
      "Model number: 25\n"
     ]
    },
    {
     "data": {
      "image/png": "[encoded data removed]",
      "text/plain": [
       "<Figure size 720x360 with 1 Axes>"
      ]
     },
     "metadata": {
      "needs_background": "light"
     },
     "output_type": "display_data"
    },
    {
     "name": "stdout",
     "output_type": "stream",
     "text": [
      "Model number: 26\n"
     ]
    },
    {
     "data": {
      "image/png": "[encoded data removed]",
      "text/plain": [
       "<Figure size 720x360 with 1 Axes>"
      ]
     },
     "metadata": {
      "needs_background": "light"
     },
     "output_type": "display_data"
    }
   ],
   "source": [
    "# view sparse locations on example model\n",
    "\n",
    "N_FEATURES = 35 # determine by inspection\n",
    "\n",
    "all_n_selected = np.array(all_n_selected) # default sorted from greatest to least\n",
    "indices = [] # indices of particular model to choose from path of models, one index for each model in ensemble\n",
    "\n",
    "# examine 3 example\n",
    "for i in range(NUM_MODELS):\n",
    "    n_selected = all_n_selected[i]\n",
    "    idx = list(n_features < N_FEATURES for n_features in n_selected).index(True) # find first index with number of features < N_FEATURES\n",
    "    paths_cnn_lassonet[i][idx].selected.numpy()\n",
    "    indices.append(idx)\n",
    "\n",
    "    print(\"Model number:\", idx)\n",
    "    plt.figure(figsize=(10, 5))\n",
    "    plt.imshow(paths_cnn_lassonet[i][idx].selected.numpy().reshape(1, 58), cmap='hot', interpolation='nearest')\n",
    "    \n",
    "    plt.savefig(\"c1_r2_cnn_sparsity.png\")\n",
    "    plt.show()\n",
    "\n",
    "    # white pixels are 1 and black pixels are 0\n",
    "    # left: substitution, right: insertion\n",
    "    # looks like insertions have so much effect"
   ]
  },
  {
   "cell_type": "markdown",
   "metadata": {
    "id": "EAclExs4aJuV"
   },
   "source": [
    "# Model-selected Seeds"
   ]
  },
  {
   "cell_type": "code",
   "execution_count": 24,
   "metadata": {
    "id": "rE6p0MXwLxE1"
   },
   "outputs": [],
   "source": [
    "NUM_SAMPLES_PER_MUTATION = int(1000)\n",
    "N_LARGEST_VIABILITIES_SEED = 50\n",
    "mut_dists = np.arange(5, 26)\n",
    "load_samples = False\n",
    "\n",
    "WT_ENCODED = mut_encoder.encode(R1_TILE21_WT_SEQ).reshape(-1, 20)\n",
    "\n",
    "# let's store everything as a (58, 20) object"
   ]
  },
  {
   "cell_type": "markdown",
   "metadata": {
    "id": "U24I-LLmztrX"
   },
   "source": [
    "## Create Samples"
   ]
  },
  {
   "cell_type": "code",
   "execution_count": 25,
   "metadata": {
    "colab": {
     "base_uri": "https://localhost:8080/",
     "height": 49,
     "referenced_widgets": [
      "ed2a422332a04cd7b1f744c853afd596",
      "37eb1689805146898507d10e8f42fa64",
      "e9659d171e804b5b80218c581fcb8452",
      "0b3e89fe1e8a4ecbbe3ccb6925f1680b",
      "2a2d1ad687f641fc9bac97009dedca98",
      "c5fa31cb00754237bbcd7fca376aa9fe",
      "b63123ebba7f47d18364af3c45b0f49a",
      "ac90b586d2884ef7834e0fdd3d9b70ba",
      "6e1b3d0d036141a19ebf36b571461a25",
      "ea07fd8096cd484d9c5962077f77e13f",
      "a825916607134a07abbcf5a4895ef997"
     ]
    },
    "id": "5JA6ARoraMaS",
    "outputId": "ffaa6791-599f-4a04-9223-66c3d9b00589"
   },
   "outputs": [
    {
     "data": {
      "application/vnd.jupyter.widget-view+json": {
       "model_id": "410a912717b646ddb1a6d63ecca4311a",
       "version_major": 2,
       "version_minor": 0
      },
      "text/plain": [
       "  0%|          | 0/21 [00:00<?, ?it/s]"
      ]
     },
     "metadata": {},
     "output_type": "display_data"
    }
   ],
   "source": [
    "# create initial samples at every level of mutation\n",
    "\n",
    "if load_samples:\n",
    "    with open(\"samples.pkl\", \"rb\") as file:\n",
    "        samples = pickle.load(file)\n",
    "else:\n",
    "    samples = {mut_dist: [] for mut_dist in mut_dists}\n",
    "\n",
    "    for mut_dist in tqdm(mut_dists):\n",
    "        for i in range(NUM_SAMPLES_PER_MUTATION):\n",
    "            sample_indices = np.random.choice(np.arange(1, 58), size=mut_dist, replace=False) # don't sample prefix substitution\n",
    "            sample = np.copy(WT_ENCODED)\n",
    "            for mut in sample_indices:\n",
    "                if mut % 2 == 0: # if it is a substitution / part of the original sequence\n",
    "                    idx = np.argmax(res_encoder.encode(R1_TILE21_WT_SEQ[(mut-1)//2]))\n",
    "                    residues_excluding_wt = np.setdiff1d(np.arange(20),np.array(idx)) # exclude wildtype from possible choices\n",
    "                    residue_idx = np.random.choice(residues_excluding_wt)\n",
    "                else:\n",
    "                    residue_idx = np.random.choice(np.arange(20))\n",
    "                sample[mut] = np.zeros(20)\n",
    "                sample[mut][residue_idx] = 1\n",
    "            samples[mut_dist].append(sample)\n",
    "\n",
    "if not load_samples:\n",
    "    with open(\"samples.pkl\", \"wb\") as file:\n",
    "        pickle.dump(samples, file)"
   ]
  },
  {
   "cell_type": "code",
   "execution_count": 26,
   "metadata": {
    "id": "Ki2aW3zpgqTI"
   },
   "outputs": [],
   "source": [
    "def calculate_mut_dist(sample):\n",
    "    ans = 0\n",
    "    for mut1, mut2 in zip(sample.reshape(-1, 20), WT_ENCODED.reshape(-1, 20)):\n",
    "        if np.any(mut1 != mut2):\n",
    "            ans += 1\n",
    "    return ans"
   ]
  },
  {
   "cell_type": "code",
   "execution_count": 27,
   "metadata": {
    "id": "su9Y7QQIzacf"
   },
   "outputs": [],
   "source": [
    "# model selected seeds\n",
    "\n",
    "def generate_best_muts(models, paths=None, samples=samples, topk=N_LARGEST_VIABILITIES_SEED):\n",
    "    \"\"\"\n",
    "    Given ensemble of models and samples, generate the top k viable samples for each mutation distance\n",
    "    If paths=None, can be used for logistic regression, etc.\n",
    "    \"\"\"\n",
    "    seeds = {mut_dist: [] for mut_dist in mut_dists}\n",
    "\n",
    "    for mut_dist in mut_dists:\n",
    "        # print(f\"Mutation distance: {mut_dist}\")\n",
    "        ensemble_y_pred_proba = np.zeros((NUM_MODELS, len(samples[mut_dist]), 2))\n",
    "        for i in range(NUM_MODELS):\n",
    "            if paths != None:\n",
    "                save = paths[i][indices[i]] # choose model from path of models\n",
    "                models[i].load(save.state_dict)\n",
    "            ensemble_y_pred_proba[i] = models[i].predict_proba(np.array(samples[mut_dist]).reshape(-1, 1160))\n",
    "        viable_proba = np.mean(ensemble_y_pred_proba, axis=0)[:,1] # probabilities of viabile\n",
    "        top_viable_indices = np.argpartition(viable_proba, -topk)[-topk:]\n",
    "\n",
    "        seeds[mut_dist] = np.array(samples[mut_dist])[top_viable_indices]\n",
    "\n",
    "    return seeds"
   ]
  },
  {
   "cell_type": "markdown",
   "metadata": {
    "id": "ej_aHNLRYrOx"
   },
   "source": [
    "## Train Logistic Regression as Benchmark"
   ]
  },
  {
   "cell_type": "code",
   "execution_count": 28,
   "metadata": {
    "id": "LVMH31u1Yu5z"
   },
   "outputs": [],
   "source": [
    "def train_logistic_regression(data, name):\n",
    "    X_train = []\n",
    "    for i in range(len(data)):\n",
    "        X_train.append(mut_encoder.encode(data[\"sequence\"][i]))\n",
    "    y_train = data[\"is_viable\"].to_numpy().astype(int)\n",
    "    X_train = np.array(X_train)\n",
    "\n",
    "    X_train = X_train.reshape(len(X_train), -1)\n",
    "\n",
    "    # define ensemble of models\n",
    "    models = [None]*NUM_MODELS\n",
    "    paths = [None]*NUM_MODELS\n",
    "\n",
    "    # train models\n",
    "    for i in tqdm(range(NUM_MODELS)):\n",
    "        models[i] = LogisticRegression(random_state=i)\n",
    "        models[i].fit(X_train, y_train)\n",
    "\n",
    "    return models, paths"
   ]
  },
  {
   "cell_type": "code",
   "execution_count": 29,
   "metadata": {
    "colab": {
     "base_uri": "https://localhost:8080/",
     "height": 477,
     "referenced_widgets": [
      "ad6a151f4b5145b5b86df9a32092be32",
      "279441a485b64e6e915efa0d476f7af6",
      "53e6c5b656e84592af0b47248c7449fb",
      "2146841a01a745c58889eb307e4ba6a6",
      "e0f9ae2f81ad4de29c931e091b0d4d37",
      "f5f9a778753c481ba380effdadacb9b4",
      "2d84542e925b497498c55568ec6f4ff6",
      "637d81a5c26b4e52a1ab40a6175f87a5",
      "fbe138603e5344479ab14d0db60b9193",
      "1d254f34d86a4f2894bf69ab286014a0",
      "f9a27affbb844d0dad2bb72d65d1ad69"
     ]
    },
    "id": "kWFY_a8jZg0j",
    "outputId": "29114c9d-c1d3-47bc-b6f4-cfc83456a7e7"
   },
   "outputs": [
    {
     "data": {
      "application/vnd.jupyter.widget-view+json": {
       "model_id": "6a8c48de9f5b4cce93e6e56af6725253",
       "version_major": 2,
       "version_minor": 0
      },
      "text/plain": [
       "  0%|          | 0/3 [00:00<?, ?it/s]"
      ]
     },
     "metadata": {},
     "output_type": "display_data"
    },
    {
     "name": "stderr",
     "output_type": "stream",
     "text": [
      "C:\\Users\\William\\anaconda3\\envs\\stat195project\\lib\\site-packages\\sklearn\\linear_model\\_logistic.py:818: ConvergenceWarning: lbfgs failed to converge (status=1):\n",
      "STOP: TOTAL NO. of ITERATIONS REACHED LIMIT.\n",
      "\n",
      "Increase the number of iterations (max_iter) or scale the data as shown in:\n",
      "    https://scikit-learn.org/stable/modules/preprocessing.html\n",
      "Please also refer to the documentation for alternative solver options:\n",
      "    https://scikit-learn.org/stable/modules/linear_model.html#logistic-regression\n",
      "  extra_warning_msg=_LOGISTIC_SOLVER_CONVERGENCE_MSG,\n",
      "C:\\Users\\William\\anaconda3\\envs\\stat195project\\lib\\site-packages\\sklearn\\linear_model\\_logistic.py:818: ConvergenceWarning: lbfgs failed to converge (status=1):\n",
      "STOP: TOTAL NO. of ITERATIONS REACHED LIMIT.\n",
      "\n",
      "Increase the number of iterations (max_iter) or scale the data as shown in:\n",
      "    https://scikit-learn.org/stable/modules/preprocessing.html\n",
      "Please also refer to the documentation for alternative solver options:\n",
      "    https://scikit-learn.org/stable/modules/linear_model.html#logistic-regression\n",
      "  extra_warning_msg=_LOGISTIC_SOLVER_CONVERGENCE_MSG,\n",
      "C:\\Users\\William\\anaconda3\\envs\\stat195project\\lib\\site-packages\\sklearn\\linear_model\\_logistic.py:818: ConvergenceWarning: lbfgs failed to converge (status=1):\n",
      "STOP: TOTAL NO. of ITERATIONS REACHED LIMIT.\n",
      "\n",
      "Increase the number of iterations (max_iter) or scale the data as shown in:\n",
      "    https://scikit-learn.org/stable/modules/preprocessing.html\n",
      "Please also refer to the documentation for alternative solver options:\n",
      "    https://scikit-learn.org/stable/modules/linear_model.html#logistic-regression\n",
      "  extra_warning_msg=_LOGISTIC_SOLVER_CONVERGENCE_MSG,\n"
     ]
    }
   ],
   "source": [
    "models_logistic, paths_logistic = train_logistic_regression(c1_r2, \"c1_r2\")"
   ]
  },
  {
   "cell_type": "markdown",
   "metadata": {
    "id": "o4UnV7so7tAF"
   },
   "source": [
    "## Train Synthetic Model as Ground-Truth"
   ]
  },
  {
   "cell_type": "code",
   "execution_count": 30,
   "metadata": {
    "id": "fJvo680k8kbZ"
   },
   "outputs": [],
   "source": [
    "# train cnn model as ground truth\n",
    "\n",
    "def train_synthetic_model(data, name, load_model=True):\n",
    "\n",
    "    # prepare dataset\n",
    "    sequences = []\n",
    "    for i, row in data.iterrows():\n",
    "        seq = row['sequence']\n",
    "        np_seq = mut_encoder.encode(seq).astype(np.float32)\n",
    "        sequences.append(np_seq.reshape(1, -1, np_seq.shape[-1]))\n",
    "    sequences = np.concatenate(sequences, axis=0)\n",
    "\n",
    "    # split dataset\n",
    "    train_set, test_set = train_test_split(data, test_size=0.2)\n",
    "\n",
    "    # train model\n",
    "    device = torch.device('cuda' if torch.cuda.is_available() else 'cpu')\n",
    "    if load_model:\n",
    "        with open(f\"synthetic_{name}\", \"rb\") as file:\n",
    "            model = torch.load(file)\n",
    "    else:\n",
    "        model = CNNModel()\n",
    "        model.path(sequences[train_set.index.values], train_set['is_viable'].values)\n",
    "        \n",
    "        with open(f\"synthetic_{name}\", \"wb\") as file:\n",
    "            torch.save(model, file)\n",
    "\n",
    "    y_pred = model.predict(sequences[test_set.index.values])\n",
    "    print(f\"Accuracy of Synthetic Model on Test Set is {sum(y_pred == test_set['is_viable']) / len(y_pred)}\")\n",
    "\n",
    "    return model\n",
    "\n",
    "def test_synthetic_model(seeds, model, label=\"LassoNet\"):\n",
    "    accuracies = []\n",
    "    for mut_dist in mut_dists:\n",
    "        seeds_mut_dist = np.array(seeds[mut_dist]).reshape(-1, 58, 20)\n",
    "        synthetic_model_pred = model.predict(seeds_mut_dist.astype(np.float32))\n",
    "        accuracy = np.sum(synthetic_model_pred) / len(seeds[mut_dist])\n",
    "        # print(f\"Mutation distance: {mut_dist}, Accuracy according to Synthetic Model: {accuracy}\")\n",
    "        accuracies.append(accuracy)\n",
    "    \n",
    "    # plot accuracies\n",
    "    plt.plot(mut_dists, accuracies, label=label)\n",
    "    plt.scatter(mut_dists, accuracies)\n"
   ]
  },
  {
   "cell_type": "code",
   "execution_count": 31,
   "metadata": {
    "colab": {
     "base_uri": "https://localhost:8080/",
     "height": 335
    },
    "id": "0WIJO0gdbAlp",
    "outputId": "d7bf6df9-a280-4c71-f538-5a8a3f634d9e"
   },
   "outputs": [
    {
     "data": {
      "application/vnd.jupyter.widget-view+json": {
       "model_id": "ad6d90b26fa04740bae230ca8d6db9a0",
       "version_major": 2,
       "version_minor": 0
      },
      "text/plain": [
       "  0%|          | 0/30 [00:00<?, ?it/s]"
      ]
     },
     "metadata": {},
     "output_type": "display_data"
    },
    {
     "name": "stdout",
     "output_type": "stream",
     "text": [
      "Accuracy of Synthetic Model on Test Set is 0.95221819789488\n"
     ]
    }
   ],
   "source": [
    "model_synthetic = train_synthetic_model(df_c1_r2, \"c1_r2\", load_model=False)"
   ]
  },
  {
   "cell_type": "markdown",
   "metadata": {
    "id": "9ZWPF9ua8-kP"
   },
   "source": [
    "## Test on Model-selected Seeds"
   ]
  },
  {
   "cell_type": "code",
   "execution_count": 32,
   "metadata": {
    "colab": {
     "base_uri": "https://localhost:8080/",
     "height": 407
    },
    "id": "rt2jaTe5ZpcS",
    "outputId": "0a2bcfe2-809c-4613-d72c-e7c2e648939b"
   },
   "outputs": [
    {
     "data": {
      "image/png": "[encoded data removed]",
      "text/plain": [
       "<Figure size 432x288 with 1 Axes>"
      ]
     },
     "metadata": {
      "needs_background": "light"
     },
     "output_type": "display_data"
    }
   ],
   "source": [
    "seeds_logistic = generate_best_muts(models_logistic, paths=None)\n",
    "test_synthetic_model(seeds_logistic, model_synthetic, label=\"logistic\")\n",
    "\n",
    "seeds = generate_best_muts(models_cnn_lassonet, paths_cnn_lassonet)\n",
    "test_synthetic_model(seeds, model_synthetic, label=\"cnn_lassonet\")\n",
    "\n",
    "plt.legend()\n",
    "plt.xlabel(\"number of mutations from wildtype\")\n",
    "plt.ylabel(\"% viability\")\n",
    "plt.title(\"Model-selected sequences, C1+R2\")\n",
    "plt.savefig(\"selected_cnn_c1_r2.png\")\n",
    "plt.show()"
   ]
  },
  {
   "cell_type": "markdown",
   "metadata": {
    "id": "jZY70Fu-55Xw"
   },
   "source": [
    "# Model-designed Sequences"
   ]
  },
  {
   "cell_type": "code",
   "execution_count": 33,
   "metadata": {
    "id": "pEtnEHH-56Ul"
   },
   "outputs": [],
   "source": [
    "# change the black (irrelevant) features, and mutate in the design sequences process\n",
    "# we need two design processes, one for features and one imitating the regular one"
   ]
  },
  {
   "cell_type": "code",
   "execution_count": 34,
   "metadata": {
    "id": "lg9XP5-T2Q8p"
   },
   "outputs": [],
   "source": [
    "def mutate_samples_normal(samples):\n",
    "    new_samples_iterative = {mut_dist: [] for mut_dist in mut_dists}\n",
    "\n",
    "    for mut_dist in mut_dists:\n",
    "        samples_mut_dist = np.array(samples[mut_dist]).squeeze()\n",
    "        for sample in samples_mut_dist:\n",
    "            sample = np.copy(sample).reshape(58, 20)\n",
    "            mut = np.random.choice(np.arange(1, 58))\n",
    "            if mut % 2 == 0: # if it is a substitution / part of the original sequence\n",
    "                idx = np.argmax(res_encoder.encode(R1_TILE21_WT_SEQ[(mut-1)//2]))\n",
    "                residues_excluding_wt = np.setdiff1d(np.arange(20),np.array(idx)) # exclude wildtype from possible choices\n",
    "                residue_idx = np.random.choice(residues_excluding_wt)\n",
    "            else:\n",
    "                residue_idx = np.random.choice(np.arange(20))\n",
    "            sample[mut] = np.zeros(20)\n",
    "            sample[mut][residue_idx] = 1\n",
    "\n",
    "            sample_mut_dist = calculate_mut_dist(sample)\n",
    "            if 5 <= sample_mut_dist and sample_mut_dist < 26:\n",
    "                new_samples_iterative[sample_mut_dist].append(sample)\n",
    "    \n",
    "    return new_samples_iterative\n",
    "\n",
    "def mutate_samples_lassonet(samples):\n",
    "    new_samples_iterative = {mut_dist: [] for mut_dist in mut_dists}\n",
    "\n",
    "    for mut_dist in mut_dists:\n",
    "        samples_mut_dist = np.array(samples[mut_dist]).squeeze()\n",
    "        for sample in samples_mut_dist:\n",
    "            sample = np.copy(sample).reshape(58, 20)\n",
    "            mut = np.random.choice(np.arange(30, 58))\n",
    "            if mut % 2 == 0: # if it is a substitution / part of the original sequence\n",
    "                idx = np.argmax(res_encoder.encode(R1_TILE21_WT_SEQ[(mut-1)//2]))\n",
    "                residues_excluding_wt = np.setdiff1d(np.arange(20),np.array(idx)) # exclude wildtype from possible choices\n",
    "                residue_idx = np.random.choice(residues_excluding_wt)\n",
    "            else:\n",
    "                residue_idx = np.random.choice(np.arange(20))\n",
    "            sample[mut] = np.zeros(20)\n",
    "            sample[mut][residue_idx] = 1\n",
    "\n",
    "            sample_mut_dist = calculate_mut_dist(sample)\n",
    "            if 5 <= sample_mut_dist and sample_mut_dist < 26:\n",
    "                new_samples_iterative[sample_mut_dist].append(sample)\n",
    "    \n",
    "    return new_samples_iterative"
   ]
  },
  {
   "cell_type": "code",
   "execution_count": 35,
   "metadata": {
    "id": "2Vr47ZRIXxYa"
   },
   "outputs": [],
   "source": [
    "# random set of 250 single mutations\n",
    "# take the 50 highest scoring candidates, pass forward to next iteration\n",
    "# terminate the process after 20 iterations\n",
    "# aggregate with model-selected seeds, select the top 900 at each distance 5-25, top 500 at distances 26-29\n",
    "\n",
    "import copy\n",
    "NUM_ITERS = 15\n",
    "\n",
    "def iteratively_mutate_normal(models, samples, paths=None, mutate_fn=None):\n",
    "    samples_iterative = copy.deepcopy(samples)\n",
    "    all_candidates = {mut_dist: [] for mut_dist in mut_dists}\n",
    "\n",
    "    for iter in tqdm(range(NUM_ITERS)):\n",
    "        # find best mutants according to model\n",
    "        new_samples_iterative = copy.deepcopy(generate_best_muts(models, paths=paths, samples=samples_iterative, topk=50))\n",
    "        \n",
    "        # append to growing list of total findings mutations\n",
    "        for mut_dist in mut_dists:\n",
    "            all_candidates[mut_dist].append(new_samples_iterative[mut_dist])\n",
    "\n",
    "        # mutate samples\n",
    "        new_samples_iterative = mutate_fn(samples)\n",
    "        \n",
    "        samples_iterative = copy.deepcopy(new_samples_iterative)\n",
    "\n",
    "    # print(all_candidates)\n",
    "\n",
    "    for mut_dist in mut_dists:\n",
    "        # print(f\"MUT DIST: {mut_dist}\")\n",
    "        # for candidate in all_candidates[mut_dist]:\n",
    "            # print(candidate.shape)\n",
    "        all_candidates[mut_dist] = np.concatenate(all_candidates[mut_dist], axis=0)\n",
    "    \n",
    "    best_candidates = generate_best_muts(models, samples=all_candidates, paths=paths, topk=50)\n",
    "    \n",
    "    return best_candidates"
   ]
  },
  {
   "cell_type": "markdown",
   "metadata": {
    "id": "wLxlh9pa-hKm"
   },
   "source": [
    "## Test on Model-designed Seeds"
   ]
  },
  {
   "cell_type": "code",
   "execution_count": 36,
   "metadata": {
    "id": "4smGj_bi-QSq"
   },
   "outputs": [
    {
     "data": {
      "application/vnd.jupyter.widget-view+json": {
       "model_id": "2f713c5f7a6c4de39e62d0ed409476d3",
       "version_major": 2,
       "version_minor": 0
      },
      "text/plain": [
       "  0%|          | 0/15 [00:00<?, ?it/s]"
      ]
     },
     "metadata": {},
     "output_type": "display_data"
    },
    {
     "data": {
      "application/vnd.jupyter.widget-view+json": {
       "model_id": "b6aa018762e84de4b8e4062d68c297a7",
       "version_major": 2,
       "version_minor": 0
      },
      "text/plain": [
       "  0%|          | 0/15 [00:00<?, ?it/s]"
      ]
     },
     "metadata": {},
     "output_type": "display_data"
    },
    {
     "data": {
      "image/png": "[encoded data removed]",
      "text/plain": [
       "<Figure size 432x288 with 1 Axes>"
      ]
     },
     "metadata": {
      "needs_background": "light"
     },
     "output_type": "display_data"
    }
   ],
   "source": [
    "designed_logistic = iteratively_mutate_normal(models_logistic, samples=samples, paths=None, mutate_fn=mutate_samples_normal)\n",
    "test_synthetic_model(designed_logistic, model_synthetic, label=\"logistic\")\n",
    "\n",
    "designed_lassonet = iteratively_mutate_normal(models_cnn_lassonet, samples=samples, paths=None, mutate_fn=mutate_samples_normal)\n",
    "test_synthetic_model(designed_lassonet, model_synthetic, label=\"cnn_lassonet\")\n",
    "\n",
    "plt.legend()\n",
    "plt.xlabel(\"number of mutations from wildtype\")\n",
    "plt.ylabel(\"% viability\")\n",
    "plt.title(\"Model-designed sequences, uninformed search, C1+R2\")\n",
    "plt.savefig(\"designed_uninformed_cnn_c1_r2.png\")\n",
    "plt.show()"
   ]
  },
  {
   "cell_type": "code",
   "execution_count": 37,
   "metadata": {},
   "outputs": [
    {
     "data": {
      "application/vnd.jupyter.widget-view+json": {
       "model_id": "2c47f23826e749449b00e5e8b69a7db4",
       "version_major": 2,
       "version_minor": 0
      },
      "text/plain": [
       "  0%|          | 0/15 [00:00<?, ?it/s]"
      ]
     },
     "metadata": {},
     "output_type": "display_data"
    },
    {
     "data": {
      "application/vnd.jupyter.widget-view+json": {
       "model_id": "c09a20c9d0b1425b95862f53eb3b27a0",
       "version_major": 2,
       "version_minor": 0
      },
      "text/plain": [
       "  0%|          | 0/15 [00:00<?, ?it/s]"
      ]
     },
     "metadata": {},
     "output_type": "display_data"
    },
    {
     "data": {
      "image/png": "[encoded data removed]",
      "text/plain": [
       "<Figure size 432x288 with 1 Axes>"
      ]
     },
     "metadata": {
      "needs_background": "light"
     },
     "output_type": "display_data"
    }
   ],
   "source": [
    "designed_logistic = iteratively_mutate_normal(models_logistic, samples=samples, paths=None, mutate_fn=mutate_samples_lassonet)\n",
    "test_synthetic_model(designed_logistic, model_synthetic, label=\"logistic\")\n",
    "\n",
    "designed_lassonet = iteratively_mutate_normal(models_cnn_lassonet, samples=samples, paths=None, mutate_fn=mutate_samples_lassonet)\n",
    "test_synthetic_model(designed_lassonet, model_synthetic, label=\"cnn_lassonet\")\n",
    "\n",
    "plt.legend()\n",
    "plt.xlabel(\"number of mutations from wildtype\")\n",
    "plt.ylabel(\"% viability\")\n",
    "plt.title(\"Model-designed sequences, informed search, C1+R2\")\n",
    "plt.savefig(\"designed_informed_cnn_c1_r2.png\")\n",
    "plt.show()"
   ]
  }
 ],
 "metadata": {
  "accelerator": "GPU",
  "colab": {
   "collapsed_sections": [],
   "name": "experimentation.ipynb",
   "provenance": []
  },
  "kernelspec": {
   "display_name": "Python 3 (ipykernel)",
   "language": "python",
   "name": "python3"
  },
  "language_info": {
   "codemirror_mode": {
    "name": "ipython",
    "version": 3
   },
   "file_extension": ".py",
   "mimetype": "text/x-python",
   "name": "python",
   "nbconvert_exporter": "python",
   "pygments_lexer": "ipython3",
   "version": "3.7.12"
  },
  "widgets": {
   "application/vnd.jupyter.widget-state+json": {
    "0b3e89fe1e8a4ecbbe3ccb6925f1680b": {
     "model_module": "@jupyter-widgets/controls",
     "model_module_version": "1.5.0",
     "model_name": "HTMLModel",
     "state": {
      "_dom_classes": [],
      "_model_module": "@jupyter-widgets/controls",
      "_model_module_version": "1.5.0",
      "_model_name": "HTMLModel",
      "_view_count": null,
      "_view_module": "@jupyter-widgets/controls",
      "_view_module_version": "1.5.0",
      "_view_name": "HTMLView",
      "description": "",
      "description_tooltip": null,
      "layout": "IPY_MODEL_ea07fd8096cd484d9c5962077f77e13f",
      "placeholder": "​",
      "style": "IPY_MODEL_a825916607134a07abbcf5a4895ef997",
      "value": " 21/21 [00:14&lt;00:00,  1.00s/it]"
     }
    },
    "0ff753a821ae4e72a36c554eb2bb89ac": {
     "model_module": "@jupyter-widgets/controls",
     "model_module_version": "1.5.0",
     "model_name": "DescriptionStyleModel",
     "state": {
      "_model_module": "@jupyter-widgets/controls",
      "_model_module_version": "1.5.0",
      "_model_name": "DescriptionStyleModel",
      "_view_count": null,
      "_view_module": "@jupyter-widgets/base",
      "_view_module_version": "1.2.0",
      "_view_name": "StyleView",
      "description_width": ""
     }
    },
    "172c16ce433f4f40bee2b9e8c8a0fcca": {
     "model_module": "@jupyter-widgets/controls",
     "model_module_version": "1.5.0",
     "model_name": "HBoxModel",
     "state": {
      "_dom_classes": [],
      "_model_module": "@jupyter-widgets/controls",
      "_model_module_version": "1.5.0",
      "_model_name": "HBoxModel",
      "_view_count": null,
      "_view_module": "@jupyter-widgets/controls",
      "_view_module_version": "1.5.0",
      "_view_name": "HBoxView",
      "box_style": "",
      "children": [
       "IPY_MODEL_934d07e2ae6342889f507f44bdc87dd1",
       "IPY_MODEL_e445ca6065dc4fdbbbfb81af14d86823",
       "IPY_MODEL_924aee5763a44fd1a6f0b86d9623158d"
      ],
      "layout": "IPY_MODEL_97ef6b5012f74b109e3565add7232d5d"
     }
    },
    "1d254f34d86a4f2894bf69ab286014a0": {
     "model_module": "@jupyter-widgets/base",
     "model_module_version": "1.2.0",
     "model_name": "LayoutModel",
     "state": {
      "_model_module": "@jupyter-widgets/base",
      "_model_module_version": "1.2.0",
      "_model_name": "LayoutModel",
      "_view_count": null,
      "_view_module": "@jupyter-widgets/base",
      "_view_module_version": "1.2.0",
      "_view_name": "LayoutView",
      "align_content": null,
      "align_items": null,
      "align_self": null,
      "border": null,
      "bottom": null,
      "display": null,
      "flex": null,
      "flex_flow": null,
      "grid_area": null,
      "grid_auto_columns": null,
      "grid_auto_flow": null,
      "grid_auto_rows": null,
      "grid_column": null,
      "grid_gap": null,
      "grid_row": null,
      "grid_template_areas": null,
      "grid_template_columns": null,
      "grid_template_rows": null,
      "height": null,
      "justify_content": null,
      "justify_items": null,
      "left": null,
      "margin": null,
      "max_height": null,
      "max_width": null,
      "min_height": null,
      "min_width": null,
      "object_fit": null,
      "object_position": null,
      "order": null,
      "overflow": null,
      "overflow_x": null,
      "overflow_y": null,
      "padding": null,
      "right": null,
      "top": null,
      "visibility": null,
      "width": null
     }
    },
    "2146841a01a745c58889eb307e4ba6a6": {
     "model_module": "@jupyter-widgets/controls",
     "model_module_version": "1.5.0",
     "model_name": "HTMLModel",
     "state": {
      "_dom_classes": [],
      "_model_module": "@jupyter-widgets/controls",
      "_model_module_version": "1.5.0",
      "_model_name": "HTMLModel",
      "_view_count": null,
      "_view_module": "@jupyter-widgets/controls",
      "_view_module_version": "1.5.0",
      "_view_name": "HTMLView",
      "description": "",
      "description_tooltip": null,
      "layout": "IPY_MODEL_1d254f34d86a4f2894bf69ab286014a0",
      "placeholder": "​",
      "style": "IPY_MODEL_f9a27affbb844d0dad2bb72d65d1ad69",
      "value": " 3/3 [00:01&lt;00:00,  1.67it/s]"
     }
    },
    "279441a485b64e6e915efa0d476f7af6": {
     "model_module": "@jupyter-widgets/controls",
     "model_module_version": "1.5.0",
     "model_name": "HTMLModel",
     "state": {
      "_dom_classes": [],
      "_model_module": "@jupyter-widgets/controls",
      "_model_module_version": "1.5.0",
      "_model_name": "HTMLModel",
      "_view_count": null,
      "_view_module": "@jupyter-widgets/controls",
      "_view_module_version": "1.5.0",
      "_view_name": "HTMLView",
      "description": "",
      "description_tooltip": null,
      "layout": "IPY_MODEL_f5f9a778753c481ba380effdadacb9b4",
      "placeholder": "​",
      "style": "IPY_MODEL_2d84542e925b497498c55568ec6f4ff6",
      "value": "100%"
     }
    },
    "2a2d1ad687f641fc9bac97009dedca98": {
     "model_module": "@jupyter-widgets/base",
     "model_module_version": "1.2.0",
     "model_name": "LayoutModel",
     "state": {
      "_model_module": "@jupyter-widgets/base",
      "_model_module_version": "1.2.0",
      "_model_name": "LayoutModel",
      "_view_count": null,
      "_view_module": "@jupyter-widgets/base",
      "_view_module_version": "1.2.0",
      "_view_name": "LayoutView",
      "align_content": null,
      "align_items": null,
      "align_self": null,
      "border": null,
      "bottom": null,
      "display": null,
      "flex": null,
      "flex_flow": null,
      "grid_area": null,
      "grid_auto_columns": null,
      "grid_auto_flow": null,
      "grid_auto_rows": null,
      "grid_column": null,
      "grid_gap": null,
      "grid_row": null,
      "grid_template_areas": null,
      "grid_template_columns": null,
      "grid_template_rows": null,
      "height": null,
      "justify_content": null,
      "justify_items": null,
      "left": null,
      "margin": null,
      "max_height": null,
      "max_width": null,
      "min_height": null,
      "min_width": null,
      "object_fit": null,
      "object_position": null,
      "order": null,
      "overflow": null,
      "overflow_x": null,
      "overflow_y": null,
      "padding": null,
      "right": null,
      "top": null,
      "visibility": null,
      "width": null
     }
    },
    "2d84542e925b497498c55568ec6f4ff6": {
     "model_module": "@jupyter-widgets/controls",
     "model_module_version": "1.5.0",
     "model_name": "DescriptionStyleModel",
     "state": {
      "_model_module": "@jupyter-widgets/controls",
      "_model_module_version": "1.5.0",
      "_model_name": "DescriptionStyleModel",
      "_view_count": null,
      "_view_module": "@jupyter-widgets/base",
      "_view_module_version": "1.2.0",
      "_view_name": "StyleView",
      "description_width": ""
     }
    },
    "3172196d3ee64b20807ba4c4dc121b4a": {
     "model_module": "@jupyter-widgets/controls",
     "model_module_version": "1.5.0",
     "model_name": "DescriptionStyleModel",
     "state": {
      "_model_module": "@jupyter-widgets/controls",
      "_model_module_version": "1.5.0",
      "_model_name": "DescriptionStyleModel",
      "_view_count": null,
      "_view_module": "@jupyter-widgets/base",
      "_view_module_version": "1.2.0",
      "_view_name": "StyleView",
      "description_width": ""
     }
    },
    "33a8bbd0347a4be4b2e679cf913a79e5": {
     "model_module": "@jupyter-widgets/base",
     "model_module_version": "1.2.0",
     "model_name": "LayoutModel",
     "state": {
      "_model_module": "@jupyter-widgets/base",
      "_model_module_version": "1.2.0",
      "_model_name": "LayoutModel",
      "_view_count": null,
      "_view_module": "@jupyter-widgets/base",
      "_view_module_version": "1.2.0",
      "_view_name": "LayoutView",
      "align_content": null,
      "align_items": null,
      "align_self": null,
      "border": null,
      "bottom": null,
      "display": null,
      "flex": null,
      "flex_flow": null,
      "grid_area": null,
      "grid_auto_columns": null,
      "grid_auto_flow": null,
      "grid_auto_rows": null,
      "grid_column": null,
      "grid_gap": null,
      "grid_row": null,
      "grid_template_areas": null,
      "grid_template_columns": null,
      "grid_template_rows": null,
      "height": null,
      "justify_content": null,
      "justify_items": null,
      "left": null,
      "margin": null,
      "max_height": null,
      "max_width": null,
      "min_height": null,
      "min_width": null,
      "object_fit": null,
      "object_position": null,
      "order": null,
      "overflow": null,
      "overflow_x": null,
      "overflow_y": null,
      "padding": null,
      "right": null,
      "top": null,
      "visibility": null,
      "width": null
     }
    },
    "360e3ecb8e214712b88eae2f61f32d40": {
     "model_module": "@jupyter-widgets/controls",
     "model_module_version": "1.5.0",
     "model_name": "ProgressStyleModel",
     "state": {
      "_model_module": "@jupyter-widgets/controls",
      "_model_module_version": "1.5.0",
      "_model_name": "ProgressStyleModel",
      "_view_count": null,
      "_view_module": "@jupyter-widgets/base",
      "_view_module_version": "1.2.0",
      "_view_name": "StyleView",
      "bar_color": null,
      "description_width": ""
     }
    },
    "37eb1689805146898507d10e8f42fa64": {
     "model_module": "@jupyter-widgets/controls",
     "model_module_version": "1.5.0",
     "model_name": "HTMLModel",
     "state": {
      "_dom_classes": [],
      "_model_module": "@jupyter-widgets/controls",
      "_model_module_version": "1.5.0",
      "_model_name": "HTMLModel",
      "_view_count": null,
      "_view_module": "@jupyter-widgets/controls",
      "_view_module_version": "1.5.0",
      "_view_name": "HTMLView",
      "description": "",
      "description_tooltip": null,
      "layout": "IPY_MODEL_c5fa31cb00754237bbcd7fca376aa9fe",
      "placeholder": "​",
      "style": "IPY_MODEL_b63123ebba7f47d18364af3c45b0f49a",
      "value": "100%"
     }
    },
    "53e6c5b656e84592af0b47248c7449fb": {
     "model_module": "@jupyter-widgets/controls",
     "model_module_version": "1.5.0",
     "model_name": "FloatProgressModel",
     "state": {
      "_dom_classes": [],
      "_model_module": "@jupyter-widgets/controls",
      "_model_module_version": "1.5.0",
      "_model_name": "FloatProgressModel",
      "_view_count": null,
      "_view_module": "@jupyter-widgets/controls",
      "_view_module_version": "1.5.0",
      "_view_name": "ProgressView",
      "bar_style": "success",
      "description": "",
      "description_tooltip": null,
      "layout": "IPY_MODEL_637d81a5c26b4e52a1ab40a6175f87a5",
      "max": 3,
      "min": 0,
      "orientation": "horizontal",
      "style": "IPY_MODEL_fbe138603e5344479ab14d0db60b9193",
      "value": 3
     }
    },
    "5a30de4fb9cb40f39541659ae13ddbbd": {
     "model_module": "@jupyter-widgets/base",
     "model_module_version": "1.2.0",
     "model_name": "LayoutModel",
     "state": {
      "_model_module": "@jupyter-widgets/base",
      "_model_module_version": "1.2.0",
      "_model_name": "LayoutModel",
      "_view_count": null,
      "_view_module": "@jupyter-widgets/base",
      "_view_module_version": "1.2.0",
      "_view_name": "LayoutView",
      "align_content": null,
      "align_items": null,
      "align_self": null,
      "border": null,
      "bottom": null,
      "display": null,
      "flex": null,
      "flex_flow": null,
      "grid_area": null,
      "grid_auto_columns": null,
      "grid_auto_flow": null,
      "grid_auto_rows": null,
      "grid_column": null,
      "grid_gap": null,
      "grid_row": null,
      "grid_template_areas": null,
      "grid_template_columns": null,
      "grid_template_rows": null,
      "height": null,
      "justify_content": null,
      "justify_items": null,
      "left": null,
      "margin": null,
      "max_height": null,
      "max_width": null,
      "min_height": null,
      "min_width": null,
      "object_fit": null,
      "object_position": null,
      "order": null,
      "overflow": null,
      "overflow_x": null,
      "overflow_y": null,
      "padding": null,
      "right": null,
      "top": null,
      "visibility": null,
      "width": null
     }
    },
    "637d81a5c26b4e52a1ab40a6175f87a5": {
     "model_module": "@jupyter-widgets/base",
     "model_module_version": "1.2.0",
     "model_name": "LayoutModel",
     "state": {
      "_model_module": "@jupyter-widgets/base",
      "_model_module_version": "1.2.0",
      "_model_name": "LayoutModel",
      "_view_count": null,
      "_view_module": "@jupyter-widgets/base",
      "_view_module_version": "1.2.0",
      "_view_name": "LayoutView",
      "align_content": null,
      "align_items": null,
      "align_self": null,
      "border": null,
      "bottom": null,
      "display": null,
      "flex": null,
      "flex_flow": null,
      "grid_area": null,
      "grid_auto_columns": null,
      "grid_auto_flow": null,
      "grid_auto_rows": null,
      "grid_column": null,
      "grid_gap": null,
      "grid_row": null,
      "grid_template_areas": null,
      "grid_template_columns": null,
      "grid_template_rows": null,
      "height": null,
      "justify_content": null,
      "justify_items": null,
      "left": null,
      "margin": null,
      "max_height": null,
      "max_width": null,
      "min_height": null,
      "min_width": null,
      "object_fit": null,
      "object_position": null,
      "order": null,
      "overflow": null,
      "overflow_x": null,
      "overflow_y": null,
      "padding": null,
      "right": null,
      "top": null,
      "visibility": null,
      "width": null
     }
    },
    "69d34e9b7c7340f69efab4dd8d3c312a": {
     "model_module": "@jupyter-widgets/base",
     "model_module_version": "1.2.0",
     "model_name": "LayoutModel",
     "state": {
      "_model_module": "@jupyter-widgets/base",
      "_model_module_version": "1.2.0",
      "_model_name": "LayoutModel",
      "_view_count": null,
      "_view_module": "@jupyter-widgets/base",
      "_view_module_version": "1.2.0",
      "_view_name": "LayoutView",
      "align_content": null,
      "align_items": null,
      "align_self": null,
      "border": null,
      "bottom": null,
      "display": null,
      "flex": null,
      "flex_flow": null,
      "grid_area": null,
      "grid_auto_columns": null,
      "grid_auto_flow": null,
      "grid_auto_rows": null,
      "grid_column": null,
      "grid_gap": null,
      "grid_row": null,
      "grid_template_areas": null,
      "grid_template_columns": null,
      "grid_template_rows": null,
      "height": null,
      "justify_content": null,
      "justify_items": null,
      "left": null,
      "margin": null,
      "max_height": null,
      "max_width": null,
      "min_height": null,
      "min_width": null,
      "object_fit": null,
      "object_position": null,
      "order": null,
      "overflow": null,
      "overflow_x": null,
      "overflow_y": null,
      "padding": null,
      "right": null,
      "top": null,
      "visibility": null,
      "width": null
     }
    },
    "6e1b3d0d036141a19ebf36b571461a25": {
     "model_module": "@jupyter-widgets/controls",
     "model_module_version": "1.5.0",
     "model_name": "ProgressStyleModel",
     "state": {
      "_model_module": "@jupyter-widgets/controls",
      "_model_module_version": "1.5.0",
      "_model_name": "ProgressStyleModel",
      "_view_count": null,
      "_view_module": "@jupyter-widgets/base",
      "_view_module_version": "1.2.0",
      "_view_name": "StyleView",
      "bar_color": null,
      "description_width": ""
     }
    },
    "6e55d6f800fc4120b0f57aba516d73c2": {
     "model_module": "@jupyter-widgets/controls",
     "model_module_version": "1.5.0",
     "model_name": "ProgressStyleModel",
     "state": {
      "_model_module": "@jupyter-widgets/controls",
      "_model_module_version": "1.5.0",
      "_model_name": "ProgressStyleModel",
      "_view_count": null,
      "_view_module": "@jupyter-widgets/base",
      "_view_module_version": "1.2.0",
      "_view_name": "StyleView",
      "bar_color": null,
      "description_width": ""
     }
    },
    "6f199fc1fea7491c92ea78b572f67860": {
     "model_module": "@jupyter-widgets/base",
     "model_module_version": "1.2.0",
     "model_name": "LayoutModel",
     "state": {
      "_model_module": "@jupyter-widgets/base",
      "_model_module_version": "1.2.0",
      "_model_name": "LayoutModel",
      "_view_count": null,
      "_view_module": "@jupyter-widgets/base",
      "_view_module_version": "1.2.0",
      "_view_name": "LayoutView",
      "align_content": null,
      "align_items": null,
      "align_self": null,
      "border": null,
      "bottom": null,
      "display": null,
      "flex": null,
      "flex_flow": null,
      "grid_area": null,
      "grid_auto_columns": null,
      "grid_auto_flow": null,
      "grid_auto_rows": null,
      "grid_column": null,
      "grid_gap": null,
      "grid_row": null,
      "grid_template_areas": null,
      "grid_template_columns": null,
      "grid_template_rows": null,
      "height": null,
      "justify_content": null,
      "justify_items": null,
      "left": null,
      "margin": null,
      "max_height": null,
      "max_width": null,
      "min_height": null,
      "min_width": null,
      "object_fit": null,
      "object_position": null,
      "order": null,
      "overflow": null,
      "overflow_x": null,
      "overflow_y": null,
      "padding": null,
      "right": null,
      "top": null,
      "visibility": null,
      "width": null
     }
    },
    "8ca8b194806041c5a13897f99c3e536b": {
     "model_module": "@jupyter-widgets/base",
     "model_module_version": "1.2.0",
     "model_name": "LayoutModel",
     "state": {
      "_model_module": "@jupyter-widgets/base",
      "_model_module_version": "1.2.0",
      "_model_name": "LayoutModel",
      "_view_count": null,
      "_view_module": "@jupyter-widgets/base",
      "_view_module_version": "1.2.0",
      "_view_name": "LayoutView",
      "align_content": null,
      "align_items": null,
      "align_self": null,
      "border": null,
      "bottom": null,
      "display": null,
      "flex": null,
      "flex_flow": null,
      "grid_area": null,
      "grid_auto_columns": null,
      "grid_auto_flow": null,
      "grid_auto_rows": null,
      "grid_column": null,
      "grid_gap": null,
      "grid_row": null,
      "grid_template_areas": null,
      "grid_template_columns": null,
      "grid_template_rows": null,
      "height": null,
      "justify_content": null,
      "justify_items": null,
      "left": null,
      "margin": null,
      "max_height": null,
      "max_width": null,
      "min_height": null,
      "min_width": null,
      "object_fit": null,
      "object_position": null,
      "order": null,
      "overflow": null,
      "overflow_x": null,
      "overflow_y": null,
      "padding": null,
      "right": null,
      "top": null,
      "visibility": null,
      "width": null
     }
    },
    "924aee5763a44fd1a6f0b86d9623158d": {
     "model_module": "@jupyter-widgets/controls",
     "model_module_version": "1.5.0",
     "model_name": "HTMLModel",
     "state": {
      "_dom_classes": [],
      "_model_module": "@jupyter-widgets/controls",
      "_model_module_version": "1.5.0",
      "_model_name": "HTMLModel",
      "_view_count": null,
      "_view_module": "@jupyter-widgets/controls",
      "_view_module_version": "1.5.0",
      "_view_name": "HTMLView",
      "description": "",
      "description_tooltip": null,
      "layout": "IPY_MODEL_5a30de4fb9cb40f39541659ae13ddbbd",
      "placeholder": "​",
      "style": "IPY_MODEL_0ff753a821ae4e72a36c554eb2bb89ac",
      "value": " 3/3 [03:26&lt;00:00, 67.98s/it]"
     }
    },
    "934d07e2ae6342889f507f44bdc87dd1": {
     "model_module": "@jupyter-widgets/controls",
     "model_module_version": "1.5.0",
     "model_name": "HTMLModel",
     "state": {
      "_dom_classes": [],
      "_model_module": "@jupyter-widgets/controls",
      "_model_module_version": "1.5.0",
      "_model_name": "HTMLModel",
      "_view_count": null,
      "_view_module": "@jupyter-widgets/controls",
      "_view_module_version": "1.5.0",
      "_view_name": "HTMLView",
      "description": "",
      "description_tooltip": null,
      "layout": "IPY_MODEL_8ca8b194806041c5a13897f99c3e536b",
      "placeholder": "​",
      "style": "IPY_MODEL_a7730f526e71401dab03da601e297c55",
      "value": "100%"
     }
    },
    "97ef6b5012f74b109e3565add7232d5d": {
     "model_module": "@jupyter-widgets/base",
     "model_module_version": "1.2.0",
     "model_name": "LayoutModel",
     "state": {
      "_model_module": "@jupyter-widgets/base",
      "_model_module_version": "1.2.0",
      "_model_name": "LayoutModel",
      "_view_count": null,
      "_view_module": "@jupyter-widgets/base",
      "_view_module_version": "1.2.0",
      "_view_name": "LayoutView",
      "align_content": null,
      "align_items": null,
      "align_self": null,
      "border": null,
      "bottom": null,
      "display": null,
      "flex": null,
      "flex_flow": null,
      "grid_area": null,
      "grid_auto_columns": null,
      "grid_auto_flow": null,
      "grid_auto_rows": null,
      "grid_column": null,
      "grid_gap": null,
      "grid_row": null,
      "grid_template_areas": null,
      "grid_template_columns": null,
      "grid_template_rows": null,
      "height": null,
      "justify_content": null,
      "justify_items": null,
      "left": null,
      "margin": null,
      "max_height": null,
      "max_width": null,
      "min_height": null,
      "min_width": null,
      "object_fit": null,
      "object_position": null,
      "order": null,
      "overflow": null,
      "overflow_x": null,
      "overflow_y": null,
      "padding": null,
      "right": null,
      "top": null,
      "visibility": null,
      "width": null
     }
    },
    "a71395020e4f417cab0dd8d5a4e20628": {
     "model_module": "@jupyter-widgets/base",
     "model_module_version": "1.2.0",
     "model_name": "LayoutModel",
     "state": {
      "_model_module": "@jupyter-widgets/base",
      "_model_module_version": "1.2.0",
      "_model_name": "LayoutModel",
      "_view_count": null,
      "_view_module": "@jupyter-widgets/base",
      "_view_module_version": "1.2.0",
      "_view_name": "LayoutView",
      "align_content": null,
      "align_items": null,
      "align_self": null,
      "border": null,
      "bottom": null,
      "display": null,
      "flex": null,
      "flex_flow": null,
      "grid_area": null,
      "grid_auto_columns": null,
      "grid_auto_flow": null,
      "grid_auto_rows": null,
      "grid_column": null,
      "grid_gap": null,
      "grid_row": null,
      "grid_template_areas": null,
      "grid_template_columns": null,
      "grid_template_rows": null,
      "height": null,
      "justify_content": null,
      "justify_items": null,
      "left": null,
      "margin": null,
      "max_height": null,
      "max_width": null,
      "min_height": null,
      "min_width": null,
      "object_fit": null,
      "object_position": null,
      "order": null,
      "overflow": null,
      "overflow_x": null,
      "overflow_y": null,
      "padding": null,
      "right": null,
      "top": null,
      "visibility": null,
      "width": null
     }
    },
    "a7730f526e71401dab03da601e297c55": {
     "model_module": "@jupyter-widgets/controls",
     "model_module_version": "1.5.0",
     "model_name": "DescriptionStyleModel",
     "state": {
      "_model_module": "@jupyter-widgets/controls",
      "_model_module_version": "1.5.0",
      "_model_name": "DescriptionStyleModel",
      "_view_count": null,
      "_view_module": "@jupyter-widgets/base",
      "_view_module_version": "1.2.0",
      "_view_name": "StyleView",
      "description_width": ""
     }
    },
    "a825916607134a07abbcf5a4895ef997": {
     "model_module": "@jupyter-widgets/controls",
     "model_module_version": "1.5.0",
     "model_name": "DescriptionStyleModel",
     "state": {
      "_model_module": "@jupyter-widgets/controls",
      "_model_module_version": "1.5.0",
      "_model_name": "DescriptionStyleModel",
      "_view_count": null,
      "_view_module": "@jupyter-widgets/base",
      "_view_module_version": "1.2.0",
      "_view_name": "StyleView",
      "description_width": ""
     }
    },
    "ac90b586d2884ef7834e0fdd3d9b70ba": {
     "model_module": "@jupyter-widgets/base",
     "model_module_version": "1.2.0",
     "model_name": "LayoutModel",
     "state": {
      "_model_module": "@jupyter-widgets/base",
      "_model_module_version": "1.2.0",
      "_model_name": "LayoutModel",
      "_view_count": null,
      "_view_module": "@jupyter-widgets/base",
      "_view_module_version": "1.2.0",
      "_view_name": "LayoutView",
      "align_content": null,
      "align_items": null,
      "align_self": null,
      "border": null,
      "bottom": null,
      "display": null,
      "flex": null,
      "flex_flow": null,
      "grid_area": null,
      "grid_auto_columns": null,
      "grid_auto_flow": null,
      "grid_auto_rows": null,
      "grid_column": null,
      "grid_gap": null,
      "grid_row": null,
      "grid_template_areas": null,
      "grid_template_columns": null,
      "grid_template_rows": null,
      "height": null,
      "justify_content": null,
      "justify_items": null,
      "left": null,
      "margin": null,
      "max_height": null,
      "max_width": null,
      "min_height": null,
      "min_width": null,
      "object_fit": null,
      "object_position": null,
      "order": null,
      "overflow": null,
      "overflow_x": null,
      "overflow_y": null,
      "padding": null,
      "right": null,
      "top": null,
      "visibility": null,
      "width": null
     }
    },
    "ad6a151f4b5145b5b86df9a32092be32": {
     "model_module": "@jupyter-widgets/controls",
     "model_module_version": "1.5.0",
     "model_name": "HBoxModel",
     "state": {
      "_dom_classes": [],
      "_model_module": "@jupyter-widgets/controls",
      "_model_module_version": "1.5.0",
      "_model_name": "HBoxModel",
      "_view_count": null,
      "_view_module": "@jupyter-widgets/controls",
      "_view_module_version": "1.5.0",
      "_view_name": "HBoxView",
      "box_style": "",
      "children": [
       "IPY_MODEL_279441a485b64e6e915efa0d476f7af6",
       "IPY_MODEL_53e6c5b656e84592af0b47248c7449fb",
       "IPY_MODEL_2146841a01a745c58889eb307e4ba6a6"
      ],
      "layout": "IPY_MODEL_e0f9ae2f81ad4de29c931e091b0d4d37"
     }
    },
    "b1cd9d3807e14547bef99f188bffe85b": {
     "model_module": "@jupyter-widgets/controls",
     "model_module_version": "1.5.0",
     "model_name": "HBoxModel",
     "state": {
      "_dom_classes": [],
      "_model_module": "@jupyter-widgets/controls",
      "_model_module_version": "1.5.0",
      "_model_name": "HBoxModel",
      "_view_count": null,
      "_view_module": "@jupyter-widgets/controls",
      "_view_module_version": "1.5.0",
      "_view_name": "HBoxView",
      "box_style": "",
      "children": [
       "IPY_MODEL_b722daae0a6a45ba88de1890fa0ba292",
       "IPY_MODEL_e7c76eada452412aacfbe6a8a2f651a7",
       "IPY_MODEL_e500c2f227f843a4966ffcb022993c44"
      ],
      "layout": "IPY_MODEL_c5b2eade9f164b8a9293eff455810574"
     }
    },
    "b63123ebba7f47d18364af3c45b0f49a": {
     "model_module": "@jupyter-widgets/controls",
     "model_module_version": "1.5.0",
     "model_name": "DescriptionStyleModel",
     "state": {
      "_model_module": "@jupyter-widgets/controls",
      "_model_module_version": "1.5.0",
      "_model_name": "DescriptionStyleModel",
      "_view_count": null,
      "_view_module": "@jupyter-widgets/base",
      "_view_module_version": "1.2.0",
      "_view_name": "StyleView",
      "description_width": ""
     }
    },
    "b722daae0a6a45ba88de1890fa0ba292": {
     "model_module": "@jupyter-widgets/controls",
     "model_module_version": "1.5.0",
     "model_name": "HTMLModel",
     "state": {
      "_dom_classes": [],
      "_model_module": "@jupyter-widgets/controls",
      "_model_module_version": "1.5.0",
      "_model_name": "HTMLModel",
      "_view_count": null,
      "_view_module": "@jupyter-widgets/controls",
      "_view_module_version": "1.5.0",
      "_view_name": "HTMLView",
      "description": "",
      "description_tooltip": null,
      "layout": "IPY_MODEL_a71395020e4f417cab0dd8d5a4e20628",
      "placeholder": "​",
      "style": "IPY_MODEL_ddba94158574422bbc8152483e099207",
      "value": "100%"
     }
    },
    "c5b2eade9f164b8a9293eff455810574": {
     "model_module": "@jupyter-widgets/base",
     "model_module_version": "1.2.0",
     "model_name": "LayoutModel",
     "state": {
      "_model_module": "@jupyter-widgets/base",
      "_model_module_version": "1.2.0",
      "_model_name": "LayoutModel",
      "_view_count": null,
      "_view_module": "@jupyter-widgets/base",
      "_view_module_version": "1.2.0",
      "_view_name": "LayoutView",
      "align_content": null,
      "align_items": null,
      "align_self": null,
      "border": null,
      "bottom": null,
      "display": null,
      "flex": null,
      "flex_flow": null,
      "grid_area": null,
      "grid_auto_columns": null,
      "grid_auto_flow": null,
      "grid_auto_rows": null,
      "grid_column": null,
      "grid_gap": null,
      "grid_row": null,
      "grid_template_areas": null,
      "grid_template_columns": null,
      "grid_template_rows": null,
      "height": null,
      "justify_content": null,
      "justify_items": null,
      "left": null,
      "margin": null,
      "max_height": null,
      "max_width": null,
      "min_height": null,
      "min_width": null,
      "object_fit": null,
      "object_position": null,
      "order": null,
      "overflow": null,
      "overflow_x": null,
      "overflow_y": null,
      "padding": null,
      "right": null,
      "top": null,
      "visibility": null,
      "width": null
     }
    },
    "c5fa31cb00754237bbcd7fca376aa9fe": {
     "model_module": "@jupyter-widgets/base",
     "model_module_version": "1.2.0",
     "model_name": "LayoutModel",
     "state": {
      "_model_module": "@jupyter-widgets/base",
      "_model_module_version": "1.2.0",
      "_model_name": "LayoutModel",
      "_view_count": null,
      "_view_module": "@jupyter-widgets/base",
      "_view_module_version": "1.2.0",
      "_view_name": "LayoutView",
      "align_content": null,
      "align_items": null,
      "align_self": null,
      "border": null,
      "bottom": null,
      "display": null,
      "flex": null,
      "flex_flow": null,
      "grid_area": null,
      "grid_auto_columns": null,
      "grid_auto_flow": null,
      "grid_auto_rows": null,
      "grid_column": null,
      "grid_gap": null,
      "grid_row": null,
      "grid_template_areas": null,
      "grid_template_columns": null,
      "grid_template_rows": null,
      "height": null,
      "justify_content": null,
      "justify_items": null,
      "left": null,
      "margin": null,
      "max_height": null,
      "max_width": null,
      "min_height": null,
      "min_width": null,
      "object_fit": null,
      "object_position": null,
      "order": null,
      "overflow": null,
      "overflow_x": null,
      "overflow_y": null,
      "padding": null,
      "right": null,
      "top": null,
      "visibility": null,
      "width": null
     }
    },
    "ddba94158574422bbc8152483e099207": {
     "model_module": "@jupyter-widgets/controls",
     "model_module_version": "1.5.0",
     "model_name": "DescriptionStyleModel",
     "state": {
      "_model_module": "@jupyter-widgets/controls",
      "_model_module_version": "1.5.0",
      "_model_name": "DescriptionStyleModel",
      "_view_count": null,
      "_view_module": "@jupyter-widgets/base",
      "_view_module_version": "1.2.0",
      "_view_name": "StyleView",
      "description_width": ""
     }
    },
    "e0f9ae2f81ad4de29c931e091b0d4d37": {
     "model_module": "@jupyter-widgets/base",
     "model_module_version": "1.2.0",
     "model_name": "LayoutModel",
     "state": {
      "_model_module": "@jupyter-widgets/base",
      "_model_module_version": "1.2.0",
      "_model_name": "LayoutModel",
      "_view_count": null,
      "_view_module": "@jupyter-widgets/base",
      "_view_module_version": "1.2.0",
      "_view_name": "LayoutView",
      "align_content": null,
      "align_items": null,
      "align_self": null,
      "border": null,
      "bottom": null,
      "display": null,
      "flex": null,
      "flex_flow": null,
      "grid_area": null,
      "grid_auto_columns": null,
      "grid_auto_flow": null,
      "grid_auto_rows": null,
      "grid_column": null,
      "grid_gap": null,
      "grid_row": null,
      "grid_template_areas": null,
      "grid_template_columns": null,
      "grid_template_rows": null,
      "height": null,
      "justify_content": null,
      "justify_items": null,
      "left": null,
      "margin": null,
      "max_height": null,
      "max_width": null,
      "min_height": null,
      "min_width": null,
      "object_fit": null,
      "object_position": null,
      "order": null,
      "overflow": null,
      "overflow_x": null,
      "overflow_y": null,
      "padding": null,
      "right": null,
      "top": null,
      "visibility": null,
      "width": null
     }
    },
    "e445ca6065dc4fdbbbfb81af14d86823": {
     "model_module": "@jupyter-widgets/controls",
     "model_module_version": "1.5.0",
     "model_name": "FloatProgressModel",
     "state": {
      "_dom_classes": [],
      "_model_module": "@jupyter-widgets/controls",
      "_model_module_version": "1.5.0",
      "_model_name": "FloatProgressModel",
      "_view_count": null,
      "_view_module": "@jupyter-widgets/controls",
      "_view_module_version": "1.5.0",
      "_view_name": "ProgressView",
      "bar_style": "success",
      "description": "",
      "description_tooltip": null,
      "layout": "IPY_MODEL_69d34e9b7c7340f69efab4dd8d3c312a",
      "max": 3,
      "min": 0,
      "orientation": "horizontal",
      "style": "IPY_MODEL_6e55d6f800fc4120b0f57aba516d73c2",
      "value": 3
     }
    },
    "e500c2f227f843a4966ffcb022993c44": {
     "model_module": "@jupyter-widgets/controls",
     "model_module_version": "1.5.0",
     "model_name": "HTMLModel",
     "state": {
      "_dom_classes": [],
      "_model_module": "@jupyter-widgets/controls",
      "_model_module_version": "1.5.0",
      "_model_name": "HTMLModel",
      "_view_count": null,
      "_view_module": "@jupyter-widgets/controls",
      "_view_module_version": "1.5.0",
      "_view_name": "HTMLView",
      "description": "",
      "description_tooltip": null,
      "layout": "IPY_MODEL_6f199fc1fea7491c92ea78b572f67860",
      "placeholder": "​",
      "style": "IPY_MODEL_3172196d3ee64b20807ba4c4dc121b4a",
      "value": " 2/2 [00:17&lt;00:00,  8.80s/it]"
     }
    },
    "e7c76eada452412aacfbe6a8a2f651a7": {
     "model_module": "@jupyter-widgets/controls",
     "model_module_version": "1.5.0",
     "model_name": "FloatProgressModel",
     "state": {
      "_dom_classes": [],
      "_model_module": "@jupyter-widgets/controls",
      "_model_module_version": "1.5.0",
      "_model_name": "FloatProgressModel",
      "_view_count": null,
      "_view_module": "@jupyter-widgets/controls",
      "_view_module_version": "1.5.0",
      "_view_name": "ProgressView",
      "bar_style": "success",
      "description": "",
      "description_tooltip": null,
      "layout": "IPY_MODEL_33a8bbd0347a4be4b2e679cf913a79e5",
      "max": 2,
      "min": 0,
      "orientation": "horizontal",
      "style": "IPY_MODEL_360e3ecb8e214712b88eae2f61f32d40",
      "value": 2
     }
    },
    "e9659d171e804b5b80218c581fcb8452": {
     "model_module": "@jupyter-widgets/controls",
     "model_module_version": "1.5.0",
     "model_name": "FloatProgressModel",
     "state": {
      "_dom_classes": [],
      "_model_module": "@jupyter-widgets/controls",
      "_model_module_version": "1.5.0",
      "_model_name": "FloatProgressModel",
      "_view_count": null,
      "_view_module": "@jupyter-widgets/controls",
      "_view_module_version": "1.5.0",
      "_view_name": "ProgressView",
      "bar_style": "success",
      "description": "",
      "description_tooltip": null,
      "layout": "IPY_MODEL_ac90b586d2884ef7834e0fdd3d9b70ba",
      "max": 21,
      "min": 0,
      "orientation": "horizontal",
      "style": "IPY_MODEL_6e1b3d0d036141a19ebf36b571461a25",
      "value": 21
     }
    },
    "ea07fd8096cd484d9c5962077f77e13f": {
     "model_module": "@jupyter-widgets/base",
     "model_module_version": "1.2.0",
     "model_name": "LayoutModel",
     "state": {
      "_model_module": "@jupyter-widgets/base",
      "_model_module_version": "1.2.0",
      "_model_name": "LayoutModel",
      "_view_count": null,
      "_view_module": "@jupyter-widgets/base",
      "_view_module_version": "1.2.0",
      "_view_name": "LayoutView",
      "align_content": null,
      "align_items": null,
      "align_self": null,
      "border": null,
      "bottom": null,
      "display": null,
      "flex": null,
      "flex_flow": null,
      "grid_area": null,
      "grid_auto_columns": null,
      "grid_auto_flow": null,
      "grid_auto_rows": null,
      "grid_column": null,
      "grid_gap": null,
      "grid_row": null,
      "grid_template_areas": null,
      "grid_template_columns": null,
      "grid_template_rows": null,
      "height": null,
      "justify_content": null,
      "justify_items": null,
      "left": null,
      "margin": null,
      "max_height": null,
      "max_width": null,
      "min_height": null,
      "min_width": null,
      "object_fit": null,
      "object_position": null,
      "order": null,
      "overflow": null,
      "overflow_x": null,
      "overflow_y": null,
      "padding": null,
      "right": null,
      "top": null,
      "visibility": null,
      "width": null
     }
    },
    "ed2a422332a04cd7b1f744c853afd596": {
     "model_module": "@jupyter-widgets/controls",
     "model_module_version": "1.5.0",
     "model_name": "HBoxModel",
     "state": {
      "_dom_classes": [],
      "_model_module": "@jupyter-widgets/controls",
      "_model_module_version": "1.5.0",
      "_model_name": "HBoxModel",
      "_view_count": null,
      "_view_module": "@jupyter-widgets/controls",
      "_view_module_version": "1.5.0",
      "_view_name": "HBoxView",
      "box_style": "",
      "children": [
       "IPY_MODEL_37eb1689805146898507d10e8f42fa64",
       "IPY_MODEL_e9659d171e804b5b80218c581fcb8452",
       "IPY_MODEL_0b3e89fe1e8a4ecbbe3ccb6925f1680b"
      ],
      "layout": "IPY_MODEL_2a2d1ad687f641fc9bac97009dedca98"
     }
    },
    "f5f9a778753c481ba380effdadacb9b4": {
     "model_module": "@jupyter-widgets/base",
     "model_module_version": "1.2.0",
     "model_name": "LayoutModel",
     "state": {
      "_model_module": "@jupyter-widgets/base",
      "_model_module_version": "1.2.0",
      "_model_name": "LayoutModel",
      "_view_count": null,
      "_view_module": "@jupyter-widgets/base",
      "_view_module_version": "1.2.0",
      "_view_name": "LayoutView",
      "align_content": null,
      "align_items": null,
      "align_self": null,
      "border": null,
      "bottom": null,
      "display": null,
      "flex": null,
      "flex_flow": null,
      "grid_area": null,
      "grid_auto_columns": null,
      "grid_auto_flow": null,
      "grid_auto_rows": null,
      "grid_column": null,
      "grid_gap": null,
      "grid_row": null,
      "grid_template_areas": null,
      "grid_template_columns": null,
      "grid_template_rows": null,
      "height": null,
      "justify_content": null,
      "justify_items": null,
      "left": null,
      "margin": null,
      "max_height": null,
      "max_width": null,
      "min_height": null,
      "min_width": null,
      "object_fit": null,
      "object_position": null,
      "order": null,
      "overflow": null,
      "overflow_x": null,
      "overflow_y": null,
      "padding": null,
      "right": null,
      "top": null,
      "visibility": null,
      "width": null
     }
    },
    "f9a27affbb844d0dad2bb72d65d1ad69": {
     "model_module": "@jupyter-widgets/controls",
     "model_module_version": "1.5.0",
     "model_name": "DescriptionStyleModel",
     "state": {
      "_model_module": "@jupyter-widgets/controls",
      "_model_module_version": "1.5.0",
      "_model_name": "DescriptionStyleModel",
      "_view_count": null,
      "_view_module": "@jupyter-widgets/base",
      "_view_module_version": "1.2.0",
      "_view_name": "StyleView",
      "description_width": ""
     }
    },
    "fbe138603e5344479ab14d0db60b9193": {
     "model_module": "@jupyter-widgets/controls",
     "model_module_version": "1.5.0",
     "model_name": "ProgressStyleModel",
     "state": {
      "_model_module": "@jupyter-widgets/controls",
      "_model_module_version": "1.5.0",
      "_model_name": "ProgressStyleModel",
      "_view_count": null,
      "_view_module": "@jupyter-widgets/base",
      "_view_module_version": "1.2.0",
      "_view_name": "StyleView",
      "bar_color": null,
      "description_width": ""
     }
    }
   }
  }
 },
 "nbformat": 4,
 "nbformat_minor": 4
}
